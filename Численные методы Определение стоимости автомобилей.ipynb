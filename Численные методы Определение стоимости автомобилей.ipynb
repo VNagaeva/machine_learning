{
 "cells": [
  {
   "cell_type": "markdown",
   "metadata": {},
   "source": [
    "# Определение стоимости автомобилей"
   ]
  },
  {
   "cell_type": "markdown",
   "metadata": {},
   "source": [
    "Сервис по продаже автомобилей с пробегом «Не бит, не крашен» разрабатывает приложение для привлечения новых клиентов. В нём можно быстро узнать рыночную стоимость своего автомобиля. В вашем распоряжении исторические данные: технические характеристики, комплектации и цены автомобилей. Вам нужно построить модель для определения стоимости. \n",
    "\n",
    "Заказчику важны:\n",
    "\n",
    "- качество предсказания;\n",
    "- скорость предсказания;\n",
    "- время обучения."
   ]
  },
  {
   "cell_type": "code",
   "execution_count": 1,
   "metadata": {},
   "outputs": [],
   "source": [
    "!pip install phik -q\n",
    "!pip install -Uq scikit-learn"
   ]
  },
  {
   "cell_type": "code",
   "execution_count": 2,
   "metadata": {},
   "outputs": [],
   "source": [
    "import os\n",
    "import time\n",
    "import pandas as pd\n",
    "import numpy as np\n",
    "import seaborn as sns\n",
    "import matplotlib.pyplot as plt\n",
    "\n",
    "from phik.report import plot_correlation_matrix\n",
    "from phik import report\n",
    "\n",
    "from sklearn.model_selection import train_test_split\n",
    "\n",
    "from sklearn.dummy import DummyRegressor\n",
    "from sklearn.linear_model import LinearRegression\n",
    "from sklearn.tree import DecisionTreeRegressor\n",
    "from lightgbm import LGBMRegressor\n",
    "\n",
    "from sklearn.pipeline import Pipeline\n",
    "from sklearn.preprocessing import OneHotEncoder, StandardScaler, MinMaxScaler, LabelEncoder\n",
    "from sklearn.impute import SimpleImputer\n",
    "from sklearn.compose import ColumnTransformer\n",
    "from sklearn.model_selection import GridSearchCV\n",
    "from sklearn.metrics import mean_squared_error\n",
    "\n",
    "RANDOM_STATE=42"
   ]
  },
  {
   "cell_type": "markdown",
   "metadata": {},
   "source": [
    "## Описание данных"
   ]
  },
  {
   "cell_type": "code",
   "execution_count": 3,
   "metadata": {},
   "outputs": [],
   "source": [
    "pth1 = 'autos.csv'\n",
    "pth2 = '/datasets/autos.csv'\n",
    "\n",
    "if os.path.exists(pth1):\n",
    "    df = pd.read_csv(pth1)\n",
    "elif os.path.exists(pth2):\n",
    "    df = pd.read_csv(pth2)\n",
    "else:\n",
    "    print('Something is wrong')"
   ]
  },
  {
   "cell_type": "code",
   "execution_count": 4,
   "metadata": {},
   "outputs": [
    {
     "data": {
      "text/html": [
       "<div>\n",
       "<style scoped>\n",
       "    .dataframe tbody tr th:only-of-type {\n",
       "        vertical-align: middle;\n",
       "    }\n",
       "\n",
       "    .dataframe tbody tr th {\n",
       "        vertical-align: top;\n",
       "    }\n",
       "\n",
       "    .dataframe thead th {\n",
       "        text-align: right;\n",
       "    }\n",
       "</style>\n",
       "<table border=\"1\" class=\"dataframe\">\n",
       "  <thead>\n",
       "    <tr style=\"text-align: right;\">\n",
       "      <th></th>\n",
       "      <th>DateCrawled</th>\n",
       "      <th>Price</th>\n",
       "      <th>VehicleType</th>\n",
       "      <th>RegistrationYear</th>\n",
       "      <th>Gearbox</th>\n",
       "      <th>Power</th>\n",
       "      <th>Model</th>\n",
       "      <th>Kilometer</th>\n",
       "      <th>RegistrationMonth</th>\n",
       "      <th>FuelType</th>\n",
       "      <th>Brand</th>\n",
       "      <th>Repaired</th>\n",
       "      <th>DateCreated</th>\n",
       "      <th>NumberOfPictures</th>\n",
       "      <th>PostalCode</th>\n",
       "      <th>LastSeen</th>\n",
       "    </tr>\n",
       "  </thead>\n",
       "  <tbody>\n",
       "    <tr>\n",
       "      <th>0</th>\n",
       "      <td>2016-03-24 11:52:17</td>\n",
       "      <td>480</td>\n",
       "      <td>NaN</td>\n",
       "      <td>1993</td>\n",
       "      <td>manual</td>\n",
       "      <td>0</td>\n",
       "      <td>golf</td>\n",
       "      <td>150000</td>\n",
       "      <td>0</td>\n",
       "      <td>petrol</td>\n",
       "      <td>volkswagen</td>\n",
       "      <td>NaN</td>\n",
       "      <td>2016-03-24 00:00:00</td>\n",
       "      <td>0</td>\n",
       "      <td>70435</td>\n",
       "      <td>2016-04-07 03:16:57</td>\n",
       "    </tr>\n",
       "    <tr>\n",
       "      <th>1</th>\n",
       "      <td>2016-03-24 10:58:45</td>\n",
       "      <td>18300</td>\n",
       "      <td>coupe</td>\n",
       "      <td>2011</td>\n",
       "      <td>manual</td>\n",
       "      <td>190</td>\n",
       "      <td>NaN</td>\n",
       "      <td>125000</td>\n",
       "      <td>5</td>\n",
       "      <td>gasoline</td>\n",
       "      <td>audi</td>\n",
       "      <td>yes</td>\n",
       "      <td>2016-03-24 00:00:00</td>\n",
       "      <td>0</td>\n",
       "      <td>66954</td>\n",
       "      <td>2016-04-07 01:46:50</td>\n",
       "    </tr>\n",
       "    <tr>\n",
       "      <th>2</th>\n",
       "      <td>2016-03-14 12:52:21</td>\n",
       "      <td>9800</td>\n",
       "      <td>suv</td>\n",
       "      <td>2004</td>\n",
       "      <td>auto</td>\n",
       "      <td>163</td>\n",
       "      <td>grand</td>\n",
       "      <td>125000</td>\n",
       "      <td>8</td>\n",
       "      <td>gasoline</td>\n",
       "      <td>jeep</td>\n",
       "      <td>NaN</td>\n",
       "      <td>2016-03-14 00:00:00</td>\n",
       "      <td>0</td>\n",
       "      <td>90480</td>\n",
       "      <td>2016-04-05 12:47:46</td>\n",
       "    </tr>\n",
       "    <tr>\n",
       "      <th>3</th>\n",
       "      <td>2016-03-17 16:54:04</td>\n",
       "      <td>1500</td>\n",
       "      <td>small</td>\n",
       "      <td>2001</td>\n",
       "      <td>manual</td>\n",
       "      <td>75</td>\n",
       "      <td>golf</td>\n",
       "      <td>150000</td>\n",
       "      <td>6</td>\n",
       "      <td>petrol</td>\n",
       "      <td>volkswagen</td>\n",
       "      <td>no</td>\n",
       "      <td>2016-03-17 00:00:00</td>\n",
       "      <td>0</td>\n",
       "      <td>91074</td>\n",
       "      <td>2016-03-17 17:40:17</td>\n",
       "    </tr>\n",
       "    <tr>\n",
       "      <th>4</th>\n",
       "      <td>2016-03-31 17:25:20</td>\n",
       "      <td>3600</td>\n",
       "      <td>small</td>\n",
       "      <td>2008</td>\n",
       "      <td>manual</td>\n",
       "      <td>69</td>\n",
       "      <td>fabia</td>\n",
       "      <td>90000</td>\n",
       "      <td>7</td>\n",
       "      <td>gasoline</td>\n",
       "      <td>skoda</td>\n",
       "      <td>no</td>\n",
       "      <td>2016-03-31 00:00:00</td>\n",
       "      <td>0</td>\n",
       "      <td>60437</td>\n",
       "      <td>2016-04-06 10:17:21</td>\n",
       "    </tr>\n",
       "  </tbody>\n",
       "</table>\n",
       "</div>"
      ],
      "text/plain": [
       "           DateCrawled  Price VehicleType  RegistrationYear Gearbox  Power  \\\n",
       "0  2016-03-24 11:52:17    480         NaN              1993  manual      0   \n",
       "1  2016-03-24 10:58:45  18300       coupe              2011  manual    190   \n",
       "2  2016-03-14 12:52:21   9800         suv              2004    auto    163   \n",
       "3  2016-03-17 16:54:04   1500       small              2001  manual     75   \n",
       "4  2016-03-31 17:25:20   3600       small              2008  manual     69   \n",
       "\n",
       "   Model  Kilometer  RegistrationMonth  FuelType       Brand Repaired  \\\n",
       "0   golf     150000                  0    petrol  volkswagen      NaN   \n",
       "1    NaN     125000                  5  gasoline        audi      yes   \n",
       "2  grand     125000                  8  gasoline        jeep      NaN   \n",
       "3   golf     150000                  6    petrol  volkswagen       no   \n",
       "4  fabia      90000                  7  gasoline       skoda       no   \n",
       "\n",
       "           DateCreated  NumberOfPictures  PostalCode             LastSeen  \n",
       "0  2016-03-24 00:00:00                 0       70435  2016-04-07 03:16:57  \n",
       "1  2016-03-24 00:00:00                 0       66954  2016-04-07 01:46:50  \n",
       "2  2016-03-14 00:00:00                 0       90480  2016-04-05 12:47:46  \n",
       "3  2016-03-17 00:00:00                 0       91074  2016-03-17 17:40:17  \n",
       "4  2016-03-31 00:00:00                 0       60437  2016-04-06 10:17:21  "
      ]
     },
     "execution_count": 4,
     "metadata": {},
     "output_type": "execute_result"
    }
   ],
   "source": [
    "df.head()"
   ]
  },
  {
   "cell_type": "markdown",
   "metadata": {},
   "source": [
    "Данные находятся в файле /datasets/autos.csv\n",
    "- Признаки:\n",
    "    - DateCrawled — дата скачивания анкеты из базы\n",
    "    - VehicleType — тип автомобильного кузова\n",
    "    - RegistrationYear — год регистрации автомобиля\n",
    "    - Gearbox — тип коробки передач\n",
    "    - Power — мощность (л. с.)\n",
    "    - Model — модель автомобиля\n",
    "    - Kilometer — пробег (км)\n",
    "    - RegistrationMonth — месяц регистрации автомобиля\n",
    "    - FuelType — тип топлива\n",
    "    - Brand — марка автомобиля\n",
    "    - Repaired — была машина в ремонте или нет\n",
    "    - DateCreated — дата создания анкеты\n",
    "    - NumberOfPictures — количество фотографий автомобиля\n",
    "    - PostalCode — почтовый индекс владельца анкеты (пользователя)\n",
    "    - LastSeen — дата последней активности пользователя\n",
    "- Целевой признак:\n",
    "    - Price — цена (евро)"
   ]
  },
  {
   "cell_type": "markdown",
   "metadata": {},
   "source": [
    "### Вывод:\n",
    "- Значимые признаки:\n",
    "    - VehicleType, тип автомобильного кузова опрееляет функционал машины, следовательно, влияет на стоимость автомобиля\n",
    "    - RegistrationYear, с каждым годом стоимость машины падает, чем старее авто, тем оно дешевле\n",
    "    - Gearbox, автоматическая коробка передач дороже механической\n",
    "    - Power, чем больше лошидинных сил, тем дороже машина\n",
    "    - Model, некоторые модели более популярны среди покупателей, чем другие, это влияет на стоимость\n",
    "    - Kilometer, чем больше машина использовалась, тем больше она изношена, тем меньше её стоимость\n",
    "    - FuelType, влияет на цену, напрмер, дизельные машины устроенны сложнее, поэтому стоят дороже\n",
    "    - Brand, компания производитель отвечает не только за качество машины, но и социальный стутус водителя, поэтому цена варьируется\n",
    "    - Repaired, любое ДТП снижает стоимость автомобиля\n",
    "- Оставшиеся признаки не несут смысловой нагрузки в рамках выполняемой задачи"
   ]
  },
  {
   "cell_type": "markdown",
   "metadata": {},
   "source": [
    "## Подготовка данных"
   ]
  },
  {
   "cell_type": "code",
   "execution_count": 5,
   "metadata": {},
   "outputs": [
    {
     "name": "stdout",
     "output_type": "stream",
     "text": [
      "<class 'pandas.core.frame.DataFrame'>\n",
      "RangeIndex: 354369 entries, 0 to 354368\n",
      "Data columns (total 16 columns):\n",
      " #   Column             Non-Null Count   Dtype \n",
      "---  ------             --------------   ----- \n",
      " 0   DateCrawled        354369 non-null  object\n",
      " 1   Price              354369 non-null  int64 \n",
      " 2   VehicleType        316879 non-null  object\n",
      " 3   RegistrationYear   354369 non-null  int64 \n",
      " 4   Gearbox            334536 non-null  object\n",
      " 5   Power              354369 non-null  int64 \n",
      " 6   Model              334664 non-null  object\n",
      " 7   Kilometer          354369 non-null  int64 \n",
      " 8   RegistrationMonth  354369 non-null  int64 \n",
      " 9   FuelType           321474 non-null  object\n",
      " 10  Brand              354369 non-null  object\n",
      " 11  Repaired           283215 non-null  object\n",
      " 12  DateCreated        354369 non-null  object\n",
      " 13  NumberOfPictures   354369 non-null  int64 \n",
      " 14  PostalCode         354369 non-null  int64 \n",
      " 15  LastSeen           354369 non-null  object\n",
      "dtypes: int64(7), object(9)\n",
      "memory usage: 43.3+ MB\n"
     ]
    }
   ],
   "source": [
    "df.info()"
   ]
  },
  {
   "cell_type": "code",
   "execution_count": 6,
   "metadata": {},
   "outputs": [
    {
     "data": {
      "text/plain": [
       "4"
      ]
     },
     "execution_count": 6,
     "metadata": {},
     "output_type": "execute_result"
    }
   ],
   "source": [
    "df.duplicated().sum()"
   ]
  },
  {
   "cell_type": "code",
   "execution_count": 7,
   "metadata": {},
   "outputs": [
    {
     "data": {
      "text/plain": [
       "0"
      ]
     },
     "execution_count": 7,
     "metadata": {},
     "output_type": "execute_result"
    }
   ],
   "source": [
    "df = df.drop_duplicates()\n",
    "df.duplicated().sum()"
   ]
  },
  {
   "cell_type": "code",
   "execution_count": 8,
   "metadata": {},
   "outputs": [
    {
     "data": {
      "text/plain": [
       "DateCrawled              0\n",
       "Price                    0\n",
       "VehicleType          37490\n",
       "RegistrationYear         0\n",
       "Gearbox              19833\n",
       "Power                    0\n",
       "Model                19705\n",
       "Kilometer                0\n",
       "RegistrationMonth        0\n",
       "FuelType             32895\n",
       "Brand                    0\n",
       "Repaired             71154\n",
       "DateCreated              0\n",
       "NumberOfPictures         0\n",
       "PostalCode               0\n",
       "LastSeen                 0\n",
       "dtype: int64"
      ]
     },
     "execution_count": 8,
     "metadata": {},
     "output_type": "execute_result"
    }
   ],
   "source": [
    "df.isna().sum()"
   ]
  },
  {
   "cell_type": "code",
   "execution_count": 9,
   "metadata": {},
   "outputs": [],
   "source": [
    "def plot_col(df, column):\n",
    "    plt.figure(figsize=(15, 3))\n",
    "    plt.subplot(1, 2, 1)\n",
    "    plt.ylabel('Частота')\n",
    "    plt.title(f'{column}')\n",
    "    sns.histplot(df[column])\n",
    "    plt.subplot(1, 2, 2)\n",
    "    plt.title(f'{column}')\n",
    "    sns.boxplot(x=df[column])\n",
    "    \n",
    "def plot_cat(df, column):\n",
    "    plt.figure(figsize=(15, 3))\n",
    "    plt.ylabel('Частота')\n",
    "    plt.title(f'{column}')\n",
    "    inf = df[column].value_counts()\n",
    "    sns.barplot(x=inf.index, y=inf)"
   ]
  },
  {
   "cell_type": "code",
   "execution_count": 10,
   "metadata": {
    "scrolled": true
   },
   "outputs": [
    {
     "data": {
      "image/png": "[encoded data removed]",
      "text/plain": [
       "<Figure size 1080x216 with 2 Axes>"
      ]
     },
     "metadata": {
      "needs_background": "light"
     },
     "output_type": "display_data"
    }
   ],
   "source": [
    "plot_col(df, 'Price')"
   ]
  },
  {
   "cell_type": "markdown",
   "metadata": {},
   "source": [
    "На современном рынке покупка машины стоимостью дешевле 1000 евро является крайне редкой удачей, поэтому ограничим значения снизу"
   ]
  },
  {
   "cell_type": "code",
   "execution_count": 11,
   "metadata": {},
   "outputs": [],
   "source": [
    "df = df.query('Price > 1000')"
   ]
  },
  {
   "cell_type": "markdown",
   "metadata": {},
   "source": [
    "Пропуски в VehicleType выделим в отдельную категорию 'unknown'"
   ]
  },
  {
   "cell_type": "code",
   "execution_count": 12,
   "metadata": {},
   "outputs": [
    {
     "data": {
      "image/png": "[encoded data removed]",
      "text/plain": [
       "<Figure size 1080x216 with 1 Axes>"
      ]
     },
     "metadata": {
      "needs_background": "light"
     },
     "output_type": "display_data"
    }
   ],
   "source": [
    "df['VehicleType'].fillna('unknown', inplace=True)\n",
    "plot_cat(df, 'VehicleType')"
   ]
  },
  {
   "cell_type": "code",
   "execution_count": 13,
   "metadata": {},
   "outputs": [
    {
     "data": {
      "text/plain": [
       "'2016-04-07 14:36:58'"
      ]
     },
     "execution_count": 13,
     "metadata": {},
     "output_type": "execute_result"
    }
   ],
   "source": [
    "df['DateCrawled'].max()"
   ]
  },
  {
   "cell_type": "markdown",
   "metadata": {},
   "source": [
    "В столбце RegistrationYear имеются выбросы. По верхней границе - автомобиль не мог быть зарегистрирован позже самой поздней даты выгрузки данных, иначе это данные из будущего. По нижней границе - первый прототип современного автомобиля был создан в 1885 году, следовательно, все автомобили, которые были якобы зарегистрированы ранее, являются выбросами. Удалим некорректные данные"
   ]
  },
  {
   "cell_type": "code",
   "execution_count": 14,
   "metadata": {
    "scrolled": false
   },
   "outputs": [
    {
     "data": {
      "image/png": "[encoded data removed]",
      "text/plain": [
       "<Figure size 1080x216 with 2 Axes>"
      ]
     },
     "metadata": {
      "needs_background": "light"
     },
     "output_type": "display_data"
    }
   ],
   "source": [
    "df_1885 = df.query('RegistrationYear >= 1885 & RegistrationYear < 2016')\n",
    "df_2016 = df.query('RegistrationYear == 2016 & RegistrationMonth <= 4')\\\n",
    "                .drop(['DateCrawled', 'RegistrationMonth', 'DateCreated', 'NumberOfPictures', 'PostalCode', 'LastSeen'], axis=1)\n",
    "df = pd.concat([df_1885, df_2016]).reset_index(drop=True)\n",
    "plot_col(df, 'RegistrationYear')"
   ]
  },
  {
   "cell_type": "markdown",
   "metadata": {},
   "source": [
    "Воспользовавшись данными из малозначимых признаков, мы можем их удалить."
   ]
  },
  {
   "cell_type": "code",
   "execution_count": 15,
   "metadata": {},
   "outputs": [],
   "source": [
    "df = df.drop(['DateCrawled', 'RegistrationMonth', 'DateCreated', 'NumberOfPictures', 'PostalCode', 'LastSeen'], axis=1)"
   ]
  },
  {
   "cell_type": "markdown",
   "metadata": {},
   "source": [
    "Большинство современных машин, имеющие автоматическую коробку передач, оснащены возможностью механического переключения передач, поэтому будем считать, что автомат это дополнение, и если его не указали в данных, значит, в машине стоит механика. Заполним пропуски в Gearbox"
   ]
  },
  {
   "cell_type": "code",
   "execution_count": 16,
   "metadata": {
    "scrolled": true
   },
   "outputs": [
    {
     "data": {
      "image/png": "[encoded data removed]",
      "text/plain": [
       "<Figure size 1080x216 with 1 Axes>"
      ]
     },
     "metadata": {
      "needs_background": "light"
     },
     "output_type": "display_data"
    }
   ],
   "source": [
    "df['Gearbox'].fillna('manual', inplace=True)\n",
    "plot_cat(df, 'Gearbox')"
   ]
  },
  {
   "cell_type": "code",
   "execution_count": 17,
   "metadata": {},
   "outputs": [
    {
     "data": {
      "image/png": "[encoded data removed]",
      "text/plain": [
       "<Figure size 1080x216 with 2 Axes>"
      ]
     },
     "metadata": {
      "needs_background": "light"
     },
     "output_type": "display_data"
    }
   ],
   "source": [
    "plot_col(df, 'Power')"
   ]
  },
  {
   "cell_type": "markdown",
   "metadata": {},
   "source": [
    "Из графика видно наличие большого количества выбросов. В современном мире самой мощной машиной является Devel Sixteen — 5 007 л. с. Попробуем ограничить данные этим значением"
   ]
  },
  {
   "cell_type": "code",
   "execution_count": 18,
   "metadata": {},
   "outputs": [],
   "source": [
    "df = df.query('Power < 5007')"
   ]
  },
  {
   "cell_type": "code",
   "execution_count": 19,
   "metadata": {},
   "outputs": [
    {
     "data": {
      "image/png": "[encoded data removed]",
      "text/plain": [
       "<Figure size 1080x216 with 2 Axes>"
      ]
     },
     "metadata": {
      "needs_background": "light"
     },
     "output_type": "display_data"
    }
   ],
   "source": [
    "plot_col(df, 'Power')"
   ]
  },
  {
   "cell_type": "markdown",
   "metadata": {},
   "source": [
    "По-прежнему наблюдаем выбросы. Удалим аномальные данные, а также и те, что не соответствуют логике, например, мощность, равная 0 л.с."
   ]
  },
  {
   "cell_type": "code",
   "execution_count": 20,
   "metadata": {},
   "outputs": [],
   "source": [
    "df = df.query('20 < Power < 400')"
   ]
  },
  {
   "cell_type": "code",
   "execution_count": 21,
   "metadata": {
    "scrolled": true
   },
   "outputs": [
    {
     "data": {
      "image/png": "[encoded data removed]",
      "text/plain": [
       "<Figure size 1080x216 with 2 Axes>"
      ]
     },
     "metadata": {
      "needs_background": "light"
     },
     "output_type": "display_data"
    }
   ],
   "source": [
    "plot_col(df, 'Power')"
   ]
  },
  {
   "cell_type": "markdown",
   "metadata": {},
   "source": [
    "Аналогично VehicleType заполним пропуски в столбце Model"
   ]
  },
  {
   "cell_type": "code",
   "execution_count": 22,
   "metadata": {},
   "outputs": [],
   "source": [
    "df['Model'].fillna('unknown', inplace=True)"
   ]
  },
  {
   "cell_type": "code",
   "execution_count": 23,
   "metadata": {},
   "outputs": [
    {
     "data": {
      "image/png": "[encoded data removed]",
      "text/plain": [
       "<Figure size 1080x216 with 2 Axes>"
      ]
     },
     "metadata": {
      "needs_background": "light"
     },
     "output_type": "display_data"
    }
   ],
   "source": [
    "plot_col(df, 'Kilometer')"
   ]
  },
  {
   "cell_type": "markdown",
   "metadata": {},
   "source": [
    "В столбце Kilometer всё хорошо, так как у машин может быть разный пробег"
   ]
  },
  {
   "cell_type": "markdown",
   "metadata": {},
   "source": [
    "Пропуски в FuelType заменим на самое распространенный тип среди машин данной модели"
   ]
  },
  {
   "cell_type": "code",
   "execution_count": 24,
   "metadata": {},
   "outputs": [],
   "source": [
    "df['FuelType'] = df['FuelType'].fillna(df.groupby('Model')['FuelType'].transform(lambda x: x.value_counts().idxmax()))"
   ]
  },
  {
   "cell_type": "code",
   "execution_count": 25,
   "metadata": {},
   "outputs": [
    {
     "name": "stdout",
     "output_type": "stream",
     "text": [
      "petrol      145680\n",
      "gasoline     84855\n",
      "lpg           4030\n",
      "cng            436\n",
      "hybrid         189\n",
      "other           51\n",
      "electric        33\n",
      "Name: FuelType, dtype: int64\n"
     ]
    },
    {
     "data": {
      "image/png": "[encoded data removed]",
      "text/plain": [
       "<Figure size 1080x216 with 1 Axes>"
      ]
     },
     "metadata": {
      "needs_background": "light"
     },
     "output_type": "display_data"
    }
   ],
   "source": [
    "print(df['FuelType'].value_counts())\n",
    "plot_cat(df, 'FuelType')"
   ]
  },
  {
   "cell_type": "code",
   "execution_count": 26,
   "metadata": {},
   "outputs": [
    {
     "name": "stdout",
     "output_type": "stream",
     "text": [
      "volkswagen        50821\n",
      "bmw               29011\n",
      "mercedes_benz     24809\n",
      "audi              22478\n",
      "opel              21566\n",
      "ford              14113\n",
      "renault            8918\n",
      "peugeot            7201\n",
      "fiat               5021\n",
      "skoda              4624\n",
      "seat               4503\n",
      "smart              4112\n",
      "toyota             3644\n",
      "mazda              3608\n",
      "citroen            3353\n",
      "mini               2927\n",
      "nissan             2884\n",
      "hyundai            2721\n",
      "volvo              2142\n",
      "honda              1807\n",
      "kia                1803\n",
      "mitsubishi         1601\n",
      "suzuki             1544\n",
      "alfa_romeo         1541\n",
      "sonstige_autos     1489\n",
      "chevrolet          1348\n",
      "chrysler            894\n",
      "dacia               777\n",
      "porsche             571\n",
      "jeep                565\n",
      "land_rover          459\n",
      "subaru              425\n",
      "jaguar              423\n",
      "saab                365\n",
      "daihatsu            330\n",
      "lancia              209\n",
      "daewoo              193\n",
      "trabant             172\n",
      "rover               167\n",
      "lada                135\n",
      "Name: Brand, dtype: int64\n"
     ]
    }
   ],
   "source": [
    "print(df['Brand'].value_counts())"
   ]
  },
  {
   "cell_type": "markdown",
   "metadata": {},
   "source": [
    "В столбце Brand всё хорошо, так как у машин может быть разный бренд-производитель"
   ]
  },
  {
   "cell_type": "markdown",
   "metadata": {},
   "source": [
    "Пропуски в Repaired возникли скорее всего из-за того, что если автомобиль не был поврежден, то этот параметр просто не заполнялся, поэтому заменим пропуски на 'no'"
   ]
  },
  {
   "cell_type": "code",
   "execution_count": 27,
   "metadata": {},
   "outputs": [
    {
     "data": {
      "image/png": "[encoded data removed]",
      "text/plain": [
       "<Figure size 1080x216 with 1 Axes>"
      ]
     },
     "metadata": {
      "needs_background": "light"
     },
     "output_type": "display_data"
    }
   ],
   "source": [
    "df['Repaired'].fillna('no', inplace=True)\n",
    "plot_cat(df, 'Repaired')"
   ]
  },
  {
   "cell_type": "code",
   "execution_count": 28,
   "metadata": {
    "scrolled": true
   },
   "outputs": [
    {
     "data": {
      "text/plain": [
       "Price               0\n",
       "VehicleType         0\n",
       "RegistrationYear    0\n",
       "Gearbox             0\n",
       "Power               0\n",
       "Model               0\n",
       "Kilometer           0\n",
       "FuelType            0\n",
       "Brand               0\n",
       "Repaired            0\n",
       "dtype: int64"
      ]
     },
     "execution_count": 28,
     "metadata": {},
     "output_type": "execute_result"
    }
   ],
   "source": [
    "df.isna().sum()"
   ]
  },
  {
   "cell_type": "code",
   "execution_count": 29,
   "metadata": {},
   "outputs": [],
   "source": [
    "phik_overview = df.phik_matrix(interval_cols=['Price', 'Power'])"
   ]
  },
  {
   "cell_type": "code",
   "execution_count": 30,
   "metadata": {},
   "outputs": [
    {
     "data": {
      "image/png": "[encoded data removed]",
      "text/plain": [
       "<Figure size 1080x576 with 2 Axes>"
      ]
     },
     "metadata": {
      "needs_background": "light"
     },
     "output_type": "display_data"
    }
   ],
   "source": [
    "plot_correlation_matrix(\n",
    "    phik_overview.values,\n",
    "    x_labels=phik_overview.columns,\n",
    "    y_labels=phik_overview.index,\n",
    "    title=r\"correlation $\\phi_K$\",\n",
    "    fontsize_factor=1.5,\n",
    "    figsize=(15, 8)\n",
    ")"
   ]
  },
  {
   "cell_type": "markdown",
   "metadata": {},
   "source": [
    "Из таблицы видно, что признак 'Model' сильно коррелирует с 'Brand' (1.00), 'VehicleType' (0.90), 'Power' (0.81). Это можно привести к неустойчивости обучаемой модели, поэтому исключим признак 'Model' из данных."
   ]
  },
  {
   "cell_type": "code",
   "execution_count": 31,
   "metadata": {},
   "outputs": [],
   "source": [
    "df = df.drop('Model', axis=1)"
   ]
  },
  {
   "cell_type": "markdown",
   "metadata": {},
   "source": [
    "### Вывод:\n",
    "- Было выделено 9 главных признаков: 'VehicleType', 'RegistrationYear', 'Gearbox', 'Power', 'Model', 'Kilometer', 'FuelType', 'Brand', 'Repaired'\n",
    "- Явные дубликаты были удалены\n",
    "- Пропуски в каждом столбце были заполнены согласно здравому смыслу\n",
    "- Выбросы в данных были выявлены, прокомментированы и устранены\n",
    "- Признак 'Model' сильно коррелирует с 'Brand' (1.00), 'VehicleType' (0.90), 'Power' (0.81). Это можно привести к неустойчивости обучаемой модели, поэтому исключим признак 'Model' из данных"
   ]
  },
  {
   "cell_type": "markdown",
   "metadata": {},
   "source": [
    "## Обучение моделей"
   ]
  },
  {
   "cell_type": "code",
   "execution_count": 32,
   "metadata": {},
   "outputs": [],
   "source": [
    "X = df.drop('Price', axis=1)\n",
    "y = df['Price']\n",
    "\n",
    "X_train, X_test, y_train, y_test = train_test_split(X, y, test_size=0.2, random_state=RANDOM_STATE)\n",
    "\n",
    "ohe_columns = ['VehicleType', 'Gearbox', 'FuelType', 'Brand', 'Repaired']\n",
    "num_columns = ['RegistrationYear', 'Power', 'Kilometer']"
   ]
  },
  {
   "cell_type": "code",
   "execution_count": 33,
   "metadata": {},
   "outputs": [],
   "source": [
    "ohe_pipe = Pipeline(\n",
    "    [\n",
    "        ('simpleImputer_ohe', SimpleImputer(missing_values=np.nan, strategy='most_frequent')),\n",
    "        ('ohe', OneHotEncoder(drop='first', handle_unknown='ignore', sparse_output=False))\n",
    "    ]\n",
    ")"
   ]
  },
  {
   "cell_type": "code",
   "execution_count": 34,
   "metadata": {},
   "outputs": [],
   "source": [
    "data_preprocessor = ColumnTransformer(\n",
    "    [\n",
    "        ('ohe', ohe_pipe, ohe_columns),\n",
    "        ('num', StandardScaler(), num_columns)\n",
    "    ],\n",
    "    remainder='passthrough'\n",
    ")"
   ]
  },
  {
   "cell_type": "code",
   "execution_count": 35,
   "metadata": {},
   "outputs": [],
   "source": [
    "pipe_final = Pipeline(\n",
    "    [\n",
    "        ('preprocessor', data_preprocessor),\n",
    "        ('models', LinearRegression())\n",
    "    ]\n",
    ")"
   ]
  },
  {
   "cell_type": "code",
   "execution_count": 36,
   "metadata": {},
   "outputs": [],
   "source": [
    "param_grid_1 = [\n",
    "    {\n",
    "        'models': [DummyRegressor()],\n",
    "        'models__strategy': ['mean', 'median'],\n",
    "        'preprocessor__num': [StandardScaler(), MinMaxScaler(), 'passthrough']\n",
    "    }\n",
    "]\n",
    "\n",
    "param_grid_2 = [\n",
    "    {\n",
    "        'models': [LinearRegression()],\n",
    "        'preprocessor__num': [StandardScaler(), MinMaxScaler(), 'passthrough']   \n",
    "    }\n",
    "]\n",
    "\n",
    "param_grid_3 = [\n",
    "    {\n",
    "        'models': [DecisionTreeRegressor(random_state=RANDOM_STATE)],\n",
    "        'models__max_depth': range(5, 7),\n",
    "        'models__max_features': range(5, 7),\n",
    "        'preprocessor__num': [StandardScaler(), MinMaxScaler(), 'passthrough']\n",
    "    }\n",
    "]\n",
    "\n",
    "param_grid_4 = [\n",
    "    {\n",
    "        'models': [LGBMRegressor(random_state=RANDOM_STATE)],\n",
    "        'models__learning_rate': [0.1, 0.15, 0.2],\n",
    "        'models__num_leaves': [50, 100, 150],\n",
    "        'preprocessor__num': [StandardScaler(), MinMaxScaler(), 'passthrough']\n",
    "    }\n",
    "]"
   ]
  },
  {
   "cell_type": "code",
   "execution_count": 37,
   "metadata": {},
   "outputs": [],
   "source": [
    "grid_1 = GridSearchCV(pipe_final,\n",
    "                   param_grid_1,\n",
    "                   cv=5,\n",
    "                   scoring='neg_mean_squared_error',\n",
    "                   n_jobs=-1)\n",
    "\n",
    "grid_2 = GridSearchCV(pipe_final,\n",
    "                   param_grid_2,\n",
    "                   cv=5,\n",
    "                   scoring='neg_mean_squared_error',\n",
    "                   n_jobs=-1)\n",
    "\n",
    "grid_3 = GridSearchCV(pipe_final,\n",
    "                   param_grid_3,\n",
    "                   cv=5,\n",
    "                   scoring='neg_mean_squared_error',\n",
    "                   n_jobs=-1)\n",
    "\n",
    "grid_4 = GridSearchCV(pipe_final,\n",
    "                   param_grid_4,\n",
    "                   cv=5,\n",
    "                   scoring='neg_mean_squared_error',\n",
    "                   n_jobs=-1)"
   ]
  },
  {
   "cell_type": "code",
   "execution_count": 38,
   "metadata": {},
   "outputs": [
    {
     "data": {
      "text/html": [
       "<style>#sk-container-id-1 {\n",
       "  /* Definition of color scheme common for light and dark mode */\n",
       "  --sklearn-color-text: black;\n",
       "  --sklearn-color-line: gray;\n",
       "  /* Definition of color scheme for unfitted estimators */\n",
       "  --sklearn-color-unfitted-level-0: #fff5e6;\n",
       "  --sklearn-color-unfitted-level-1: #f6e4d2;\n",
       "  --sklearn-color-unfitted-level-2: #ffe0b3;\n",
       "  --sklearn-color-unfitted-level-3: chocolate;\n",
       "  /* Definition of color scheme for fitted estimators */\n",
       "  --sklearn-color-fitted-level-0: #f0f8ff;\n",
       "  --sklearn-color-fitted-level-1: #d4ebff;\n",
       "  --sklearn-color-fitted-level-2: #b3dbfd;\n",
       "  --sklearn-color-fitted-level-3: cornflowerblue;\n",
       "\n",
       "  /* Specific color for light theme */\n",
       "  --sklearn-color-text-on-default-background: var(--sg-text-color, var(--theme-code-foreground, var(--jp-content-font-color1, black)));\n",
       "  --sklearn-color-background: var(--sg-background-color, var(--theme-background, var(--jp-layout-color0, white)));\n",
       "  --sklearn-color-border-box: var(--sg-text-color, var(--theme-code-foreground, var(--jp-content-font-color1, black)));\n",
       "  --sklearn-color-icon: #696969;\n",
       "\n",
       "  @media (prefers-color-scheme: dark) {\n",
       "    /* Redefinition of color scheme for dark theme */\n",
       "    --sklearn-color-text-on-default-background: var(--sg-text-color, var(--theme-code-foreground, var(--jp-content-font-color1, white)));\n",
       "    --sklearn-color-background: var(--sg-background-color, var(--theme-background, var(--jp-layout-color0, #111)));\n",
       "    --sklearn-color-border-box: var(--sg-text-color, var(--theme-code-foreground, var(--jp-content-font-color1, white)));\n",
       "    --sklearn-color-icon: #878787;\n",
       "  }\n",
       "}\n",
       "\n",
       "#sk-container-id-1 {\n",
       "  color: var(--sklearn-color-text);\n",
       "}\n",
       "\n",
       "#sk-container-id-1 pre {\n",
       "  padding: 0;\n",
       "}\n",
       "\n",
       "#sk-container-id-1 input.sk-hidden--visually {\n",
       "  border: 0;\n",
       "  clip: rect(1px 1px 1px 1px);\n",
       "  clip: rect(1px, 1px, 1px, 1px);\n",
       "  height: 1px;\n",
       "  margin: -1px;\n",
       "  overflow: hidden;\n",
       "  padding: 0;\n",
       "  position: absolute;\n",
       "  width: 1px;\n",
       "}\n",
       "\n",
       "#sk-container-id-1 div.sk-dashed-wrapped {\n",
       "  border: 1px dashed var(--sklearn-color-line);\n",
       "  margin: 0 0.4em 0.5em 0.4em;\n",
       "  box-sizing: border-box;\n",
       "  padding-bottom: 0.4em;\n",
       "  background-color: var(--sklearn-color-background);\n",
       "}\n",
       "\n",
       "#sk-container-id-1 div.sk-container {\n",
       "  /* jupyter's `normalize.less` sets `[hidden] { display: none; }`\n",
       "     but bootstrap.min.css set `[hidden] { display: none !important; }`\n",
       "     so we also need the `!important` here to be able to override the\n",
       "     default hidden behavior on the sphinx rendered scikit-learn.org.\n",
       "     See: https://github.com/scikit-learn/scikit-learn/issues/21755 */\n",
       "  display: inline-block !important;\n",
       "  position: relative;\n",
       "}\n",
       "\n",
       "#sk-container-id-1 div.sk-text-repr-fallback {\n",
       "  display: none;\n",
       "}\n",
       "\n",
       "div.sk-parallel-item,\n",
       "div.sk-serial,\n",
       "div.sk-item {\n",
       "  /* draw centered vertical line to link estimators */\n",
       "  background-image: linear-gradient(var(--sklearn-color-text-on-default-background), var(--sklearn-color-text-on-default-background));\n",
       "  background-size: 2px 100%;\n",
       "  background-repeat: no-repeat;\n",
       "  background-position: center center;\n",
       "}\n",
       "\n",
       "/* Parallel-specific style estimator block */\n",
       "\n",
       "#sk-container-id-1 div.sk-parallel-item::after {\n",
       "  content: \"\";\n",
       "  width: 100%;\n",
       "  border-bottom: 2px solid var(--sklearn-color-text-on-default-background);\n",
       "  flex-grow: 1;\n",
       "}\n",
       "\n",
       "#sk-container-id-1 div.sk-parallel {\n",
       "  display: flex;\n",
       "  align-items: stretch;\n",
       "  justify-content: center;\n",
       "  background-color: var(--sklearn-color-background);\n",
       "  position: relative;\n",
       "}\n",
       "\n",
       "#sk-container-id-1 div.sk-parallel-item {\n",
       "  display: flex;\n",
       "  flex-direction: column;\n",
       "}\n",
       "\n",
       "#sk-container-id-1 div.sk-parallel-item:first-child::after {\n",
       "  align-self: flex-end;\n",
       "  width: 50%;\n",
       "}\n",
       "\n",
       "#sk-container-id-1 div.sk-parallel-item:last-child::after {\n",
       "  align-self: flex-start;\n",
       "  width: 50%;\n",
       "}\n",
       "\n",
       "#sk-container-id-1 div.sk-parallel-item:only-child::after {\n",
       "  width: 0;\n",
       "}\n",
       "\n",
       "/* Serial-specific style estimator block */\n",
       "\n",
       "#sk-container-id-1 div.sk-serial {\n",
       "  display: flex;\n",
       "  flex-direction: column;\n",
       "  align-items: center;\n",
       "  background-color: var(--sklearn-color-background);\n",
       "  padding-right: 1em;\n",
       "  padding-left: 1em;\n",
       "}\n",
       "\n",
       "\n",
       "/* Toggleable style: style used for estimator/Pipeline/ColumnTransformer box that is\n",
       "clickable and can be expanded/collapsed.\n",
       "- Pipeline and ColumnTransformer use this feature and define the default style\n",
       "- Estimators will overwrite some part of the style using the `sk-estimator` class\n",
       "*/\n",
       "\n",
       "/* Pipeline and ColumnTransformer style (default) */\n",
       "\n",
       "#sk-container-id-1 div.sk-toggleable {\n",
       "  /* Default theme specific background. It is overwritten whether we have a\n",
       "  specific estimator or a Pipeline/ColumnTransformer */\n",
       "  background-color: var(--sklearn-color-background);\n",
       "}\n",
       "\n",
       "/* Toggleable label */\n",
       "#sk-container-id-1 label.sk-toggleable__label {\n",
       "  cursor: pointer;\n",
       "  display: block;\n",
       "  width: 100%;\n",
       "  margin-bottom: 0;\n",
       "  padding: 0.5em;\n",
       "  box-sizing: border-box;\n",
       "  text-align: center;\n",
       "}\n",
       "\n",
       "#sk-container-id-1 label.sk-toggleable__label-arrow:before {\n",
       "  /* Arrow on the left of the label */\n",
       "  content: \"▸\";\n",
       "  float: left;\n",
       "  margin-right: 0.25em;\n",
       "  color: var(--sklearn-color-icon);\n",
       "}\n",
       "\n",
       "#sk-container-id-1 label.sk-toggleable__label-arrow:hover:before {\n",
       "  color: var(--sklearn-color-text);\n",
       "}\n",
       "\n",
       "/* Toggleable content - dropdown */\n",
       "\n",
       "#sk-container-id-1 div.sk-toggleable__content {\n",
       "  max-height: 0;\n",
       "  max-width: 0;\n",
       "  overflow: hidden;\n",
       "  text-align: left;\n",
       "  /* unfitted */\n",
       "  background-color: var(--sklearn-color-unfitted-level-0);\n",
       "}\n",
       "\n",
       "#sk-container-id-1 div.sk-toggleable__content.fitted {\n",
       "  /* fitted */\n",
       "  background-color: var(--sklearn-color-fitted-level-0);\n",
       "}\n",
       "\n",
       "#sk-container-id-1 div.sk-toggleable__content pre {\n",
       "  margin: 0.2em;\n",
       "  border-radius: 0.25em;\n",
       "  color: var(--sklearn-color-text);\n",
       "  /* unfitted */\n",
       "  background-color: var(--sklearn-color-unfitted-level-0);\n",
       "}\n",
       "\n",
       "#sk-container-id-1 div.sk-toggleable__content.fitted pre {\n",
       "  /* unfitted */\n",
       "  background-color: var(--sklearn-color-fitted-level-0);\n",
       "}\n",
       "\n",
       "#sk-container-id-1 input.sk-toggleable__control:checked~div.sk-toggleable__content {\n",
       "  /* Expand drop-down */\n",
       "  max-height: 200px;\n",
       "  max-width: 100%;\n",
       "  overflow: auto;\n",
       "}\n",
       "\n",
       "#sk-container-id-1 input.sk-toggleable__control:checked~label.sk-toggleable__label-arrow:before {\n",
       "  content: \"▾\";\n",
       "}\n",
       "\n",
       "/* Pipeline/ColumnTransformer-specific style */\n",
       "\n",
       "#sk-container-id-1 div.sk-label input.sk-toggleable__control:checked~label.sk-toggleable__label {\n",
       "  color: var(--sklearn-color-text);\n",
       "  background-color: var(--sklearn-color-unfitted-level-2);\n",
       "}\n",
       "\n",
       "#sk-container-id-1 div.sk-label.fitted input.sk-toggleable__control:checked~label.sk-toggleable__label {\n",
       "  background-color: var(--sklearn-color-fitted-level-2);\n",
       "}\n",
       "\n",
       "/* Estimator-specific style */\n",
       "\n",
       "/* Colorize estimator box */\n",
       "#sk-container-id-1 div.sk-estimator input.sk-toggleable__control:checked~label.sk-toggleable__label {\n",
       "  /* unfitted */\n",
       "  background-color: var(--sklearn-color-unfitted-level-2);\n",
       "}\n",
       "\n",
       "#sk-container-id-1 div.sk-estimator.fitted input.sk-toggleable__control:checked~label.sk-toggleable__label {\n",
       "  /* fitted */\n",
       "  background-color: var(--sklearn-color-fitted-level-2);\n",
       "}\n",
       "\n",
       "#sk-container-id-1 div.sk-label label.sk-toggleable__label,\n",
       "#sk-container-id-1 div.sk-label label {\n",
       "  /* The background is the default theme color */\n",
       "  color: var(--sklearn-color-text-on-default-background);\n",
       "}\n",
       "\n",
       "/* On hover, darken the color of the background */\n",
       "#sk-container-id-1 div.sk-label:hover label.sk-toggleable__label {\n",
       "  color: var(--sklearn-color-text);\n",
       "  background-color: var(--sklearn-color-unfitted-level-2);\n",
       "}\n",
       "\n",
       "/* Label box, darken color on hover, fitted */\n",
       "#sk-container-id-1 div.sk-label.fitted:hover label.sk-toggleable__label.fitted {\n",
       "  color: var(--sklearn-color-text);\n",
       "  background-color: var(--sklearn-color-fitted-level-2);\n",
       "}\n",
       "\n",
       "/* Estimator label */\n",
       "\n",
       "#sk-container-id-1 div.sk-label label {\n",
       "  font-family: monospace;\n",
       "  font-weight: bold;\n",
       "  display: inline-block;\n",
       "  line-height: 1.2em;\n",
       "}\n",
       "\n",
       "#sk-container-id-1 div.sk-label-container {\n",
       "  text-align: center;\n",
       "}\n",
       "\n",
       "/* Estimator-specific */\n",
       "#sk-container-id-1 div.sk-estimator {\n",
       "  font-family: monospace;\n",
       "  border: 1px dotted var(--sklearn-color-border-box);\n",
       "  border-radius: 0.25em;\n",
       "  box-sizing: border-box;\n",
       "  margin-bottom: 0.5em;\n",
       "  /* unfitted */\n",
       "  background-color: var(--sklearn-color-unfitted-level-0);\n",
       "}\n",
       "\n",
       "#sk-container-id-1 div.sk-estimator.fitted {\n",
       "  /* fitted */\n",
       "  background-color: var(--sklearn-color-fitted-level-0);\n",
       "}\n",
       "\n",
       "/* on hover */\n",
       "#sk-container-id-1 div.sk-estimator:hover {\n",
       "  /* unfitted */\n",
       "  background-color: var(--sklearn-color-unfitted-level-2);\n",
       "}\n",
       "\n",
       "#sk-container-id-1 div.sk-estimator.fitted:hover {\n",
       "  /* fitted */\n",
       "  background-color: var(--sklearn-color-fitted-level-2);\n",
       "}\n",
       "\n",
       "/* Specification for estimator info (e.g. \"i\" and \"?\") */\n",
       "\n",
       "/* Common style for \"i\" and \"?\" */\n",
       "\n",
       ".sk-estimator-doc-link,\n",
       "a:link.sk-estimator-doc-link,\n",
       "a:visited.sk-estimator-doc-link {\n",
       "  float: right;\n",
       "  font-size: smaller;\n",
       "  line-height: 1em;\n",
       "  font-family: monospace;\n",
       "  background-color: var(--sklearn-color-background);\n",
       "  border-radius: 1em;\n",
       "  height: 1em;\n",
       "  width: 1em;\n",
       "  text-decoration: none !important;\n",
       "  margin-left: 1ex;\n",
       "  /* unfitted */\n",
       "  border: var(--sklearn-color-unfitted-level-1) 1pt solid;\n",
       "  color: var(--sklearn-color-unfitted-level-1);\n",
       "}\n",
       "\n",
       ".sk-estimator-doc-link.fitted,\n",
       "a:link.sk-estimator-doc-link.fitted,\n",
       "a:visited.sk-estimator-doc-link.fitted {\n",
       "  /* fitted */\n",
       "  border: var(--sklearn-color-fitted-level-1) 1pt solid;\n",
       "  color: var(--sklearn-color-fitted-level-1);\n",
       "}\n",
       "\n",
       "/* On hover */\n",
       "div.sk-estimator:hover .sk-estimator-doc-link:hover,\n",
       ".sk-estimator-doc-link:hover,\n",
       "div.sk-label-container:hover .sk-estimator-doc-link:hover,\n",
       ".sk-estimator-doc-link:hover {\n",
       "  /* unfitted */\n",
       "  background-color: var(--sklearn-color-unfitted-level-3);\n",
       "  color: var(--sklearn-color-background);\n",
       "  text-decoration: none;\n",
       "}\n",
       "\n",
       "div.sk-estimator.fitted:hover .sk-estimator-doc-link.fitted:hover,\n",
       ".sk-estimator-doc-link.fitted:hover,\n",
       "div.sk-label-container:hover .sk-estimator-doc-link.fitted:hover,\n",
       ".sk-estimator-doc-link.fitted:hover {\n",
       "  /* fitted */\n",
       "  background-color: var(--sklearn-color-fitted-level-3);\n",
       "  color: var(--sklearn-color-background);\n",
       "  text-decoration: none;\n",
       "}\n",
       "\n",
       "/* Span, style for the box shown on hovering the info icon */\n",
       ".sk-estimator-doc-link span {\n",
       "  display: none;\n",
       "  z-index: 9999;\n",
       "  position: relative;\n",
       "  font-weight: normal;\n",
       "  right: .2ex;\n",
       "  padding: .5ex;\n",
       "  margin: .5ex;\n",
       "  width: min-content;\n",
       "  min-width: 20ex;\n",
       "  max-width: 50ex;\n",
       "  color: var(--sklearn-color-text);\n",
       "  box-shadow: 2pt 2pt 4pt #999;\n",
       "  /* unfitted */\n",
       "  background: var(--sklearn-color-unfitted-level-0);\n",
       "  border: .5pt solid var(--sklearn-color-unfitted-level-3);\n",
       "}\n",
       "\n",
       ".sk-estimator-doc-link.fitted span {\n",
       "  /* fitted */\n",
       "  background: var(--sklearn-color-fitted-level-0);\n",
       "  border: var(--sklearn-color-fitted-level-3);\n",
       "}\n",
       "\n",
       ".sk-estimator-doc-link:hover span {\n",
       "  display: block;\n",
       "}\n",
       "\n",
       "/* \"?\"-specific style due to the `<a>` HTML tag */\n",
       "\n",
       "#sk-container-id-1 a.estimator_doc_link {\n",
       "  float: right;\n",
       "  font-size: 1rem;\n",
       "  line-height: 1em;\n",
       "  font-family: monospace;\n",
       "  background-color: var(--sklearn-color-background);\n",
       "  border-radius: 1rem;\n",
       "  height: 1rem;\n",
       "  width: 1rem;\n",
       "  text-decoration: none;\n",
       "  /* unfitted */\n",
       "  color: var(--sklearn-color-unfitted-level-1);\n",
       "  border: var(--sklearn-color-unfitted-level-1) 1pt solid;\n",
       "}\n",
       "\n",
       "#sk-container-id-1 a.estimator_doc_link.fitted {\n",
       "  /* fitted */\n",
       "  border: var(--sklearn-color-fitted-level-1) 1pt solid;\n",
       "  color: var(--sklearn-color-fitted-level-1);\n",
       "}\n",
       "\n",
       "/* On hover */\n",
       "#sk-container-id-1 a.estimator_doc_link:hover {\n",
       "  /* unfitted */\n",
       "  background-color: var(--sklearn-color-unfitted-level-3);\n",
       "  color: var(--sklearn-color-background);\n",
       "  text-decoration: none;\n",
       "}\n",
       "\n",
       "#sk-container-id-1 a.estimator_doc_link.fitted:hover {\n",
       "  /* fitted */\n",
       "  background-color: var(--sklearn-color-fitted-level-3);\n",
       "}\n",
       "</style><div id=\"sk-container-id-1\" class=\"sk-top-container\"><div class=\"sk-text-repr-fallback\"><pre>GridSearchCV(cv=5,\n",
       "             estimator=Pipeline(steps=[(&#x27;preprocessor&#x27;,\n",
       "                                        ColumnTransformer(remainder=&#x27;passthrough&#x27;,\n",
       "                                                          transformers=[(&#x27;ohe&#x27;,\n",
       "                                                                         Pipeline(steps=[(&#x27;simpleImputer_ohe&#x27;,\n",
       "                                                                                          SimpleImputer(strategy=&#x27;most_frequent&#x27;)),\n",
       "                                                                                         (&#x27;ohe&#x27;,\n",
       "                                                                                          OneHotEncoder(drop=&#x27;first&#x27;,\n",
       "                                                                                                        handle_unknown=&#x27;ignore&#x27;,\n",
       "                                                                                                        sparse_output=False))]),\n",
       "                                                                         [&#x27;VehicleType&#x27;,\n",
       "                                                                          &#x27;Gearbox&#x27;,\n",
       "                                                                          &#x27;FuelType&#x27;,\n",
       "                                                                          &#x27;Brand&#x27;,\n",
       "                                                                          &#x27;Repaired&#x27;]),\n",
       "                                                                        (&#x27;num&#x27;,\n",
       "                                                                         StandardScaler(),\n",
       "                                                                         [&#x27;RegistrationYear&#x27;,\n",
       "                                                                          &#x27;Power&#x27;,\n",
       "                                                                          &#x27;Kilometer&#x27;])])),\n",
       "                                       (&#x27;models&#x27;, LinearRegression())]),\n",
       "             n_jobs=-1,\n",
       "             param_grid=[{&#x27;models&#x27;: [DummyRegressor()],\n",
       "                          &#x27;models__strategy&#x27;: [&#x27;mean&#x27;, &#x27;median&#x27;],\n",
       "                          &#x27;preprocessor__num&#x27;: [StandardScaler(),\n",
       "                                                MinMaxScaler(),\n",
       "                                                &#x27;passthrough&#x27;]}],\n",
       "             scoring=&#x27;neg_mean_squared_error&#x27;)</pre><b>In a Jupyter environment, please rerun this cell to show the HTML representation or trust the notebook. <br />On GitHub, the HTML representation is unable to render, please try loading this page with nbviewer.org.</b></div><div class=\"sk-container\" hidden><div class=\"sk-item sk-dashed-wrapped\"><div class=\"sk-label-container\"><div class=\"sk-label fitted sk-toggleable\"><input class=\"sk-toggleable__control sk-hidden--visually\" id=\"sk-estimator-id-1\" type=\"checkbox\" ><label for=\"sk-estimator-id-1\" class=\"sk-toggleable__label fitted sk-toggleable__label-arrow fitted\">&nbsp;&nbsp;GridSearchCV<a class=\"sk-estimator-doc-link fitted\" rel=\"noreferrer\" target=\"_blank\" href=\"https://scikit-learn.org/1.5/modules/generated/sklearn.model_selection.GridSearchCV.html\">?<span>Documentation for GridSearchCV</span></a><span class=\"sk-estimator-doc-link fitted\">i<span>Fitted</span></span></label><div class=\"sk-toggleable__content fitted\"><pre>GridSearchCV(cv=5,\n",
       "             estimator=Pipeline(steps=[(&#x27;preprocessor&#x27;,\n",
       "                                        ColumnTransformer(remainder=&#x27;passthrough&#x27;,\n",
       "                                                          transformers=[(&#x27;ohe&#x27;,\n",
       "                                                                         Pipeline(steps=[(&#x27;simpleImputer_ohe&#x27;,\n",
       "                                                                                          SimpleImputer(strategy=&#x27;most_frequent&#x27;)),\n",
       "                                                                                         (&#x27;ohe&#x27;,\n",
       "                                                                                          OneHotEncoder(drop=&#x27;first&#x27;,\n",
       "                                                                                                        handle_unknown=&#x27;ignore&#x27;,\n",
       "                                                                                                        sparse_output=False))]),\n",
       "                                                                         [&#x27;VehicleType&#x27;,\n",
       "                                                                          &#x27;Gearbox&#x27;,\n",
       "                                                                          &#x27;FuelType&#x27;,\n",
       "                                                                          &#x27;Brand&#x27;,\n",
       "                                                                          &#x27;Repaired&#x27;]),\n",
       "                                                                        (&#x27;num&#x27;,\n",
       "                                                                         StandardScaler(),\n",
       "                                                                         [&#x27;RegistrationYear&#x27;,\n",
       "                                                                          &#x27;Power&#x27;,\n",
       "                                                                          &#x27;Kilometer&#x27;])])),\n",
       "                                       (&#x27;models&#x27;, LinearRegression())]),\n",
       "             n_jobs=-1,\n",
       "             param_grid=[{&#x27;models&#x27;: [DummyRegressor()],\n",
       "                          &#x27;models__strategy&#x27;: [&#x27;mean&#x27;, &#x27;median&#x27;],\n",
       "                          &#x27;preprocessor__num&#x27;: [StandardScaler(),\n",
       "                                                MinMaxScaler(),\n",
       "                                                &#x27;passthrough&#x27;]}],\n",
       "             scoring=&#x27;neg_mean_squared_error&#x27;)</pre></div> </div></div><div class=\"sk-parallel\"><div class=\"sk-parallel-item\"><div class=\"sk-item\"><div class=\"sk-label-container\"><div class=\"sk-label fitted sk-toggleable\"><input class=\"sk-toggleable__control sk-hidden--visually\" id=\"sk-estimator-id-2\" type=\"checkbox\" ><label for=\"sk-estimator-id-2\" class=\"sk-toggleable__label fitted sk-toggleable__label-arrow fitted\">best_estimator_: Pipeline</label><div class=\"sk-toggleable__content fitted\"><pre>Pipeline(steps=[(&#x27;preprocessor&#x27;,\n",
       "                 ColumnTransformer(remainder=&#x27;passthrough&#x27;,\n",
       "                                   transformers=[(&#x27;ohe&#x27;,\n",
       "                                                  Pipeline(steps=[(&#x27;simpleImputer_ohe&#x27;,\n",
       "                                                                   SimpleImputer(strategy=&#x27;most_frequent&#x27;)),\n",
       "                                                                  (&#x27;ohe&#x27;,\n",
       "                                                                   OneHotEncoder(drop=&#x27;first&#x27;,\n",
       "                                                                                 handle_unknown=&#x27;ignore&#x27;,\n",
       "                                                                                 sparse_output=False))]),\n",
       "                                                  [&#x27;VehicleType&#x27;, &#x27;Gearbox&#x27;,\n",
       "                                                   &#x27;FuelType&#x27;, &#x27;Brand&#x27;,\n",
       "                                                   &#x27;Repaired&#x27;]),\n",
       "                                                 (&#x27;num&#x27;, StandardScaler(),\n",
       "                                                  [&#x27;RegistrationYear&#x27;, &#x27;Power&#x27;,\n",
       "                                                   &#x27;Kilometer&#x27;])])),\n",
       "                (&#x27;models&#x27;, DummyRegressor())])</pre></div> </div></div><div class=\"sk-serial\"><div class=\"sk-item\"><div class=\"sk-serial\"><div class=\"sk-item sk-dashed-wrapped\"><div class=\"sk-label-container\"><div class=\"sk-label fitted sk-toggleable\"><input class=\"sk-toggleable__control sk-hidden--visually\" id=\"sk-estimator-id-3\" type=\"checkbox\" ><label for=\"sk-estimator-id-3\" class=\"sk-toggleable__label fitted sk-toggleable__label-arrow fitted\">&nbsp;preprocessor: ColumnTransformer<a class=\"sk-estimator-doc-link fitted\" rel=\"noreferrer\" target=\"_blank\" href=\"https://scikit-learn.org/1.5/modules/generated/sklearn.compose.ColumnTransformer.html\">?<span>Documentation for preprocessor: ColumnTransformer</span></a></label><div class=\"sk-toggleable__content fitted\"><pre>ColumnTransformer(remainder=&#x27;passthrough&#x27;,\n",
       "                  transformers=[(&#x27;ohe&#x27;,\n",
       "                                 Pipeline(steps=[(&#x27;simpleImputer_ohe&#x27;,\n",
       "                                                  SimpleImputer(strategy=&#x27;most_frequent&#x27;)),\n",
       "                                                 (&#x27;ohe&#x27;,\n",
       "                                                  OneHotEncoder(drop=&#x27;first&#x27;,\n",
       "                                                                handle_unknown=&#x27;ignore&#x27;,\n",
       "                                                                sparse_output=False))]),\n",
       "                                 [&#x27;VehicleType&#x27;, &#x27;Gearbox&#x27;, &#x27;FuelType&#x27;, &#x27;Brand&#x27;,\n",
       "                                  &#x27;Repaired&#x27;]),\n",
       "                                (&#x27;num&#x27;, StandardScaler(),\n",
       "                                 [&#x27;RegistrationYear&#x27;, &#x27;Power&#x27;, &#x27;Kilometer&#x27;])])</pre></div> </div></div><div class=\"sk-parallel\"><div class=\"sk-parallel-item\"><div class=\"sk-item\"><div class=\"sk-label-container\"><div class=\"sk-label fitted sk-toggleable\"><input class=\"sk-toggleable__control sk-hidden--visually\" id=\"sk-estimator-id-4\" type=\"checkbox\" ><label for=\"sk-estimator-id-4\" class=\"sk-toggleable__label fitted sk-toggleable__label-arrow fitted\">ohe</label><div class=\"sk-toggleable__content fitted\"><pre>[&#x27;VehicleType&#x27;, &#x27;Gearbox&#x27;, &#x27;FuelType&#x27;, &#x27;Brand&#x27;, &#x27;Repaired&#x27;]</pre></div> </div></div><div class=\"sk-serial\"><div class=\"sk-item\"><div class=\"sk-serial\"><div class=\"sk-item\"><div class=\"sk-estimator fitted sk-toggleable\"><input class=\"sk-toggleable__control sk-hidden--visually\" id=\"sk-estimator-id-5\" type=\"checkbox\" ><label for=\"sk-estimator-id-5\" class=\"sk-toggleable__label fitted sk-toggleable__label-arrow fitted\">&nbsp;SimpleImputer<a class=\"sk-estimator-doc-link fitted\" rel=\"noreferrer\" target=\"_blank\" href=\"https://scikit-learn.org/1.5/modules/generated/sklearn.impute.SimpleImputer.html\">?<span>Documentation for SimpleImputer</span></a></label><div class=\"sk-toggleable__content fitted\"><pre>SimpleImputer(strategy=&#x27;most_frequent&#x27;)</pre></div> </div></div><div class=\"sk-item\"><div class=\"sk-estimator fitted sk-toggleable\"><input class=\"sk-toggleable__control sk-hidden--visually\" id=\"sk-estimator-id-6\" type=\"checkbox\" ><label for=\"sk-estimator-id-6\" class=\"sk-toggleable__label fitted sk-toggleable__label-arrow fitted\">&nbsp;OneHotEncoder<a class=\"sk-estimator-doc-link fitted\" rel=\"noreferrer\" target=\"_blank\" href=\"https://scikit-learn.org/1.5/modules/generated/sklearn.preprocessing.OneHotEncoder.html\">?<span>Documentation for OneHotEncoder</span></a></label><div class=\"sk-toggleable__content fitted\"><pre>OneHotEncoder(drop=&#x27;first&#x27;, handle_unknown=&#x27;ignore&#x27;, sparse_output=False)</pre></div> </div></div></div></div></div></div></div><div class=\"sk-parallel-item\"><div class=\"sk-item\"><div class=\"sk-label-container\"><div class=\"sk-label fitted sk-toggleable\"><input class=\"sk-toggleable__control sk-hidden--visually\" id=\"sk-estimator-id-7\" type=\"checkbox\" ><label for=\"sk-estimator-id-7\" class=\"sk-toggleable__label fitted sk-toggleable__label-arrow fitted\">num</label><div class=\"sk-toggleable__content fitted\"><pre>[&#x27;RegistrationYear&#x27;, &#x27;Power&#x27;, &#x27;Kilometer&#x27;]</pre></div> </div></div><div class=\"sk-serial\"><div class=\"sk-item\"><div class=\"sk-estimator fitted sk-toggleable\"><input class=\"sk-toggleable__control sk-hidden--visually\" id=\"sk-estimator-id-8\" type=\"checkbox\" ><label for=\"sk-estimator-id-8\" class=\"sk-toggleable__label fitted sk-toggleable__label-arrow fitted\">&nbsp;StandardScaler<a class=\"sk-estimator-doc-link fitted\" rel=\"noreferrer\" target=\"_blank\" href=\"https://scikit-learn.org/1.5/modules/generated/sklearn.preprocessing.StandardScaler.html\">?<span>Documentation for StandardScaler</span></a></label><div class=\"sk-toggleable__content fitted\"><pre>StandardScaler()</pre></div> </div></div></div></div></div><div class=\"sk-parallel-item\"><div class=\"sk-item\"><div class=\"sk-label-container\"><div class=\"sk-label fitted sk-toggleable\"><input class=\"sk-toggleable__control sk-hidden--visually\" id=\"sk-estimator-id-9\" type=\"checkbox\" ><label for=\"sk-estimator-id-9\" class=\"sk-toggleable__label fitted sk-toggleable__label-arrow fitted\">remainder</label><div class=\"sk-toggleable__content fitted\"><pre>[]</pre></div> </div></div><div class=\"sk-serial\"><div class=\"sk-item\"><div class=\"sk-estimator fitted sk-toggleable\"><input class=\"sk-toggleable__control sk-hidden--visually\" id=\"sk-estimator-id-10\" type=\"checkbox\" ><label for=\"sk-estimator-id-10\" class=\"sk-toggleable__label fitted sk-toggleable__label-arrow fitted\">passthrough</label><div class=\"sk-toggleable__content fitted\"><pre>passthrough</pre></div> </div></div></div></div></div></div></div><div class=\"sk-item\"><div class=\"sk-estimator fitted sk-toggleable\"><input class=\"sk-toggleable__control sk-hidden--visually\" id=\"sk-estimator-id-11\" type=\"checkbox\" ><label for=\"sk-estimator-id-11\" class=\"sk-toggleable__label fitted sk-toggleable__label-arrow fitted\">&nbsp;DummyRegressor<a class=\"sk-estimator-doc-link fitted\" rel=\"noreferrer\" target=\"_blank\" href=\"https://scikit-learn.org/1.5/modules/generated/sklearn.dummy.DummyRegressor.html\">?<span>Documentation for DummyRegressor</span></a></label><div class=\"sk-toggleable__content fitted\"><pre>DummyRegressor()</pre></div> </div></div></div></div></div></div></div></div></div></div></div>"
      ],
      "text/plain": [
       "GridSearchCV(cv=5,\n",
       "             estimator=Pipeline(steps=[('preprocessor',\n",
       "                                        ColumnTransformer(remainder='passthrough',\n",
       "                                                          transformers=[('ohe',\n",
       "                                                                         Pipeline(steps=[('simpleImputer_ohe',\n",
       "                                                                                          SimpleImputer(strategy='most_frequent')),\n",
       "                                                                                         ('ohe',\n",
       "                                                                                          OneHotEncoder(drop='first',\n",
       "                                                                                                        handle_unknown='ignore',\n",
       "                                                                                                        sparse_output=False))]),\n",
       "                                                                         ['VehicleType',\n",
       "                                                                          'Gearbox',\n",
       "                                                                          'FuelType',\n",
       "                                                                          'Brand',\n",
       "                                                                          'Repaired']),\n",
       "                                                                        ('num',\n",
       "                                                                         StandardScaler(),\n",
       "                                                                         ['RegistrationYear',\n",
       "                                                                          'Power',\n",
       "                                                                          'Kilometer'])])),\n",
       "                                       ('models', LinearRegression())]),\n",
       "             n_jobs=-1,\n",
       "             param_grid=[{'models': [DummyRegressor()],\n",
       "                          'models__strategy': ['mean', 'median'],\n",
       "                          'preprocessor__num': [StandardScaler(),\n",
       "                                                MinMaxScaler(),\n",
       "                                                'passthrough']}],\n",
       "             scoring='neg_mean_squared_error')"
      ]
     },
     "execution_count": 38,
     "metadata": {},
     "output_type": "execute_result"
    }
   ],
   "source": [
    "grid_1.fit(X_train, y_train)"
   ]
  },
  {
   "cell_type": "code",
   "execution_count": 39,
   "metadata": {},
   "outputs": [
    {
     "data": {
      "text/html": [
       "<style>#sk-container-id-2 {\n",
       "  /* Definition of color scheme common for light and dark mode */\n",
       "  --sklearn-color-text: black;\n",
       "  --sklearn-color-line: gray;\n",
       "  /* Definition of color scheme for unfitted estimators */\n",
       "  --sklearn-color-unfitted-level-0: #fff5e6;\n",
       "  --sklearn-color-unfitted-level-1: #f6e4d2;\n",
       "  --sklearn-color-unfitted-level-2: #ffe0b3;\n",
       "  --sklearn-color-unfitted-level-3: chocolate;\n",
       "  /* Definition of color scheme for fitted estimators */\n",
       "  --sklearn-color-fitted-level-0: #f0f8ff;\n",
       "  --sklearn-color-fitted-level-1: #d4ebff;\n",
       "  --sklearn-color-fitted-level-2: #b3dbfd;\n",
       "  --sklearn-color-fitted-level-3: cornflowerblue;\n",
       "\n",
       "  /* Specific color for light theme */\n",
       "  --sklearn-color-text-on-default-background: var(--sg-text-color, var(--theme-code-foreground, var(--jp-content-font-color1, black)));\n",
       "  --sklearn-color-background: var(--sg-background-color, var(--theme-background, var(--jp-layout-color0, white)));\n",
       "  --sklearn-color-border-box: var(--sg-text-color, var(--theme-code-foreground, var(--jp-content-font-color1, black)));\n",
       "  --sklearn-color-icon: #696969;\n",
       "\n",
       "  @media (prefers-color-scheme: dark) {\n",
       "    /* Redefinition of color scheme for dark theme */\n",
       "    --sklearn-color-text-on-default-background: var(--sg-text-color, var(--theme-code-foreground, var(--jp-content-font-color1, white)));\n",
       "    --sklearn-color-background: var(--sg-background-color, var(--theme-background, var(--jp-layout-color0, #111)));\n",
       "    --sklearn-color-border-box: var(--sg-text-color, var(--theme-code-foreground, var(--jp-content-font-color1, white)));\n",
       "    --sklearn-color-icon: #878787;\n",
       "  }\n",
       "}\n",
       "\n",
       "#sk-container-id-2 {\n",
       "  color: var(--sklearn-color-text);\n",
       "}\n",
       "\n",
       "#sk-container-id-2 pre {\n",
       "  padding: 0;\n",
       "}\n",
       "\n",
       "#sk-container-id-2 input.sk-hidden--visually {\n",
       "  border: 0;\n",
       "  clip: rect(1px 1px 1px 1px);\n",
       "  clip: rect(1px, 1px, 1px, 1px);\n",
       "  height: 1px;\n",
       "  margin: -1px;\n",
       "  overflow: hidden;\n",
       "  padding: 0;\n",
       "  position: absolute;\n",
       "  width: 1px;\n",
       "}\n",
       "\n",
       "#sk-container-id-2 div.sk-dashed-wrapped {\n",
       "  border: 1px dashed var(--sklearn-color-line);\n",
       "  margin: 0 0.4em 0.5em 0.4em;\n",
       "  box-sizing: border-box;\n",
       "  padding-bottom: 0.4em;\n",
       "  background-color: var(--sklearn-color-background);\n",
       "}\n",
       "\n",
       "#sk-container-id-2 div.sk-container {\n",
       "  /* jupyter's `normalize.less` sets `[hidden] { display: none; }`\n",
       "     but bootstrap.min.css set `[hidden] { display: none !important; }`\n",
       "     so we also need the `!important` here to be able to override the\n",
       "     default hidden behavior on the sphinx rendered scikit-learn.org.\n",
       "     See: https://github.com/scikit-learn/scikit-learn/issues/21755 */\n",
       "  display: inline-block !important;\n",
       "  position: relative;\n",
       "}\n",
       "\n",
       "#sk-container-id-2 div.sk-text-repr-fallback {\n",
       "  display: none;\n",
       "}\n",
       "\n",
       "div.sk-parallel-item,\n",
       "div.sk-serial,\n",
       "div.sk-item {\n",
       "  /* draw centered vertical line to link estimators */\n",
       "  background-image: linear-gradient(var(--sklearn-color-text-on-default-background), var(--sklearn-color-text-on-default-background));\n",
       "  background-size: 2px 100%;\n",
       "  background-repeat: no-repeat;\n",
       "  background-position: center center;\n",
       "}\n",
       "\n",
       "/* Parallel-specific style estimator block */\n",
       "\n",
       "#sk-container-id-2 div.sk-parallel-item::after {\n",
       "  content: \"\";\n",
       "  width: 100%;\n",
       "  border-bottom: 2px solid var(--sklearn-color-text-on-default-background);\n",
       "  flex-grow: 1;\n",
       "}\n",
       "\n",
       "#sk-container-id-2 div.sk-parallel {\n",
       "  display: flex;\n",
       "  align-items: stretch;\n",
       "  justify-content: center;\n",
       "  background-color: var(--sklearn-color-background);\n",
       "  position: relative;\n",
       "}\n",
       "\n",
       "#sk-container-id-2 div.sk-parallel-item {\n",
       "  display: flex;\n",
       "  flex-direction: column;\n",
       "}\n",
       "\n",
       "#sk-container-id-2 div.sk-parallel-item:first-child::after {\n",
       "  align-self: flex-end;\n",
       "  width: 50%;\n",
       "}\n",
       "\n",
       "#sk-container-id-2 div.sk-parallel-item:last-child::after {\n",
       "  align-self: flex-start;\n",
       "  width: 50%;\n",
       "}\n",
       "\n",
       "#sk-container-id-2 div.sk-parallel-item:only-child::after {\n",
       "  width: 0;\n",
       "}\n",
       "\n",
       "/* Serial-specific style estimator block */\n",
       "\n",
       "#sk-container-id-2 div.sk-serial {\n",
       "  display: flex;\n",
       "  flex-direction: column;\n",
       "  align-items: center;\n",
       "  background-color: var(--sklearn-color-background);\n",
       "  padding-right: 1em;\n",
       "  padding-left: 1em;\n",
       "}\n",
       "\n",
       "\n",
       "/* Toggleable style: style used for estimator/Pipeline/ColumnTransformer box that is\n",
       "clickable and can be expanded/collapsed.\n",
       "- Pipeline and ColumnTransformer use this feature and define the default style\n",
       "- Estimators will overwrite some part of the style using the `sk-estimator` class\n",
       "*/\n",
       "\n",
       "/* Pipeline and ColumnTransformer style (default) */\n",
       "\n",
       "#sk-container-id-2 div.sk-toggleable {\n",
       "  /* Default theme specific background. It is overwritten whether we have a\n",
       "  specific estimator or a Pipeline/ColumnTransformer */\n",
       "  background-color: var(--sklearn-color-background);\n",
       "}\n",
       "\n",
       "/* Toggleable label */\n",
       "#sk-container-id-2 label.sk-toggleable__label {\n",
       "  cursor: pointer;\n",
       "  display: block;\n",
       "  width: 100%;\n",
       "  margin-bottom: 0;\n",
       "  padding: 0.5em;\n",
       "  box-sizing: border-box;\n",
       "  text-align: center;\n",
       "}\n",
       "\n",
       "#sk-container-id-2 label.sk-toggleable__label-arrow:before {\n",
       "  /* Arrow on the left of the label */\n",
       "  content: \"▸\";\n",
       "  float: left;\n",
       "  margin-right: 0.25em;\n",
       "  color: var(--sklearn-color-icon);\n",
       "}\n",
       "\n",
       "#sk-container-id-2 label.sk-toggleable__label-arrow:hover:before {\n",
       "  color: var(--sklearn-color-text);\n",
       "}\n",
       "\n",
       "/* Toggleable content - dropdown */\n",
       "\n",
       "#sk-container-id-2 div.sk-toggleable__content {\n",
       "  max-height: 0;\n",
       "  max-width: 0;\n",
       "  overflow: hidden;\n",
       "  text-align: left;\n",
       "  /* unfitted */\n",
       "  background-color: var(--sklearn-color-unfitted-level-0);\n",
       "}\n",
       "\n",
       "#sk-container-id-2 div.sk-toggleable__content.fitted {\n",
       "  /* fitted */\n",
       "  background-color: var(--sklearn-color-fitted-level-0);\n",
       "}\n",
       "\n",
       "#sk-container-id-2 div.sk-toggleable__content pre {\n",
       "  margin: 0.2em;\n",
       "  border-radius: 0.25em;\n",
       "  color: var(--sklearn-color-text);\n",
       "  /* unfitted */\n",
       "  background-color: var(--sklearn-color-unfitted-level-0);\n",
       "}\n",
       "\n",
       "#sk-container-id-2 div.sk-toggleable__content.fitted pre {\n",
       "  /* unfitted */\n",
       "  background-color: var(--sklearn-color-fitted-level-0);\n",
       "}\n",
       "\n",
       "#sk-container-id-2 input.sk-toggleable__control:checked~div.sk-toggleable__content {\n",
       "  /* Expand drop-down */\n",
       "  max-height: 200px;\n",
       "  max-width: 100%;\n",
       "  overflow: auto;\n",
       "}\n",
       "\n",
       "#sk-container-id-2 input.sk-toggleable__control:checked~label.sk-toggleable__label-arrow:before {\n",
       "  content: \"▾\";\n",
       "}\n",
       "\n",
       "/* Pipeline/ColumnTransformer-specific style */\n",
       "\n",
       "#sk-container-id-2 div.sk-label input.sk-toggleable__control:checked~label.sk-toggleable__label {\n",
       "  color: var(--sklearn-color-text);\n",
       "  background-color: var(--sklearn-color-unfitted-level-2);\n",
       "}\n",
       "\n",
       "#sk-container-id-2 div.sk-label.fitted input.sk-toggleable__control:checked~label.sk-toggleable__label {\n",
       "  background-color: var(--sklearn-color-fitted-level-2);\n",
       "}\n",
       "\n",
       "/* Estimator-specific style */\n",
       "\n",
       "/* Colorize estimator box */\n",
       "#sk-container-id-2 div.sk-estimator input.sk-toggleable__control:checked~label.sk-toggleable__label {\n",
       "  /* unfitted */\n",
       "  background-color: var(--sklearn-color-unfitted-level-2);\n",
       "}\n",
       "\n",
       "#sk-container-id-2 div.sk-estimator.fitted input.sk-toggleable__control:checked~label.sk-toggleable__label {\n",
       "  /* fitted */\n",
       "  background-color: var(--sklearn-color-fitted-level-2);\n",
       "}\n",
       "\n",
       "#sk-container-id-2 div.sk-label label.sk-toggleable__label,\n",
       "#sk-container-id-2 div.sk-label label {\n",
       "  /* The background is the default theme color */\n",
       "  color: var(--sklearn-color-text-on-default-background);\n",
       "}\n",
       "\n",
       "/* On hover, darken the color of the background */\n",
       "#sk-container-id-2 div.sk-label:hover label.sk-toggleable__label {\n",
       "  color: var(--sklearn-color-text);\n",
       "  background-color: var(--sklearn-color-unfitted-level-2);\n",
       "}\n",
       "\n",
       "/* Label box, darken color on hover, fitted */\n",
       "#sk-container-id-2 div.sk-label.fitted:hover label.sk-toggleable__label.fitted {\n",
       "  color: var(--sklearn-color-text);\n",
       "  background-color: var(--sklearn-color-fitted-level-2);\n",
       "}\n",
       "\n",
       "/* Estimator label */\n",
       "\n",
       "#sk-container-id-2 div.sk-label label {\n",
       "  font-family: monospace;\n",
       "  font-weight: bold;\n",
       "  display: inline-block;\n",
       "  line-height: 1.2em;\n",
       "}\n",
       "\n",
       "#sk-container-id-2 div.sk-label-container {\n",
       "  text-align: center;\n",
       "}\n",
       "\n",
       "/* Estimator-specific */\n",
       "#sk-container-id-2 div.sk-estimator {\n",
       "  font-family: monospace;\n",
       "  border: 1px dotted var(--sklearn-color-border-box);\n",
       "  border-radius: 0.25em;\n",
       "  box-sizing: border-box;\n",
       "  margin-bottom: 0.5em;\n",
       "  /* unfitted */\n",
       "  background-color: var(--sklearn-color-unfitted-level-0);\n",
       "}\n",
       "\n",
       "#sk-container-id-2 div.sk-estimator.fitted {\n",
       "  /* fitted */\n",
       "  background-color: var(--sklearn-color-fitted-level-0);\n",
       "}\n",
       "\n",
       "/* on hover */\n",
       "#sk-container-id-2 div.sk-estimator:hover {\n",
       "  /* unfitted */\n",
       "  background-color: var(--sklearn-color-unfitted-level-2);\n",
       "}\n",
       "\n",
       "#sk-container-id-2 div.sk-estimator.fitted:hover {\n",
       "  /* fitted */\n",
       "  background-color: var(--sklearn-color-fitted-level-2);\n",
       "}\n",
       "\n",
       "/* Specification for estimator info (e.g. \"i\" and \"?\") */\n",
       "\n",
       "/* Common style for \"i\" and \"?\" */\n",
       "\n",
       ".sk-estimator-doc-link,\n",
       "a:link.sk-estimator-doc-link,\n",
       "a:visited.sk-estimator-doc-link {\n",
       "  float: right;\n",
       "  font-size: smaller;\n",
       "  line-height: 1em;\n",
       "  font-family: monospace;\n",
       "  background-color: var(--sklearn-color-background);\n",
       "  border-radius: 1em;\n",
       "  height: 1em;\n",
       "  width: 1em;\n",
       "  text-decoration: none !important;\n",
       "  margin-left: 1ex;\n",
       "  /* unfitted */\n",
       "  border: var(--sklearn-color-unfitted-level-1) 1pt solid;\n",
       "  color: var(--sklearn-color-unfitted-level-1);\n",
       "}\n",
       "\n",
       ".sk-estimator-doc-link.fitted,\n",
       "a:link.sk-estimator-doc-link.fitted,\n",
       "a:visited.sk-estimator-doc-link.fitted {\n",
       "  /* fitted */\n",
       "  border: var(--sklearn-color-fitted-level-1) 1pt solid;\n",
       "  color: var(--sklearn-color-fitted-level-1);\n",
       "}\n",
       "\n",
       "/* On hover */\n",
       "div.sk-estimator:hover .sk-estimator-doc-link:hover,\n",
       ".sk-estimator-doc-link:hover,\n",
       "div.sk-label-container:hover .sk-estimator-doc-link:hover,\n",
       ".sk-estimator-doc-link:hover {\n",
       "  /* unfitted */\n",
       "  background-color: var(--sklearn-color-unfitted-level-3);\n",
       "  color: var(--sklearn-color-background);\n",
       "  text-decoration: none;\n",
       "}\n",
       "\n",
       "div.sk-estimator.fitted:hover .sk-estimator-doc-link.fitted:hover,\n",
       ".sk-estimator-doc-link.fitted:hover,\n",
       "div.sk-label-container:hover .sk-estimator-doc-link.fitted:hover,\n",
       ".sk-estimator-doc-link.fitted:hover {\n",
       "  /* fitted */\n",
       "  background-color: var(--sklearn-color-fitted-level-3);\n",
       "  color: var(--sklearn-color-background);\n",
       "  text-decoration: none;\n",
       "}\n",
       "\n",
       "/* Span, style for the box shown on hovering the info icon */\n",
       ".sk-estimator-doc-link span {\n",
       "  display: none;\n",
       "  z-index: 9999;\n",
       "  position: relative;\n",
       "  font-weight: normal;\n",
       "  right: .2ex;\n",
       "  padding: .5ex;\n",
       "  margin: .5ex;\n",
       "  width: min-content;\n",
       "  min-width: 20ex;\n",
       "  max-width: 50ex;\n",
       "  color: var(--sklearn-color-text);\n",
       "  box-shadow: 2pt 2pt 4pt #999;\n",
       "  /* unfitted */\n",
       "  background: var(--sklearn-color-unfitted-level-0);\n",
       "  border: .5pt solid var(--sklearn-color-unfitted-level-3);\n",
       "}\n",
       "\n",
       ".sk-estimator-doc-link.fitted span {\n",
       "  /* fitted */\n",
       "  background: var(--sklearn-color-fitted-level-0);\n",
       "  border: var(--sklearn-color-fitted-level-3);\n",
       "}\n",
       "\n",
       ".sk-estimator-doc-link:hover span {\n",
       "  display: block;\n",
       "}\n",
       "\n",
       "/* \"?\"-specific style due to the `<a>` HTML tag */\n",
       "\n",
       "#sk-container-id-2 a.estimator_doc_link {\n",
       "  float: right;\n",
       "  font-size: 1rem;\n",
       "  line-height: 1em;\n",
       "  font-family: monospace;\n",
       "  background-color: var(--sklearn-color-background);\n",
       "  border-radius: 1rem;\n",
       "  height: 1rem;\n",
       "  width: 1rem;\n",
       "  text-decoration: none;\n",
       "  /* unfitted */\n",
       "  color: var(--sklearn-color-unfitted-level-1);\n",
       "  border: var(--sklearn-color-unfitted-level-1) 1pt solid;\n",
       "}\n",
       "\n",
       "#sk-container-id-2 a.estimator_doc_link.fitted {\n",
       "  /* fitted */\n",
       "  border: var(--sklearn-color-fitted-level-1) 1pt solid;\n",
       "  color: var(--sklearn-color-fitted-level-1);\n",
       "}\n",
       "\n",
       "/* On hover */\n",
       "#sk-container-id-2 a.estimator_doc_link:hover {\n",
       "  /* unfitted */\n",
       "  background-color: var(--sklearn-color-unfitted-level-3);\n",
       "  color: var(--sklearn-color-background);\n",
       "  text-decoration: none;\n",
       "}\n",
       "\n",
       "#sk-container-id-2 a.estimator_doc_link.fitted:hover {\n",
       "  /* fitted */\n",
       "  background-color: var(--sklearn-color-fitted-level-3);\n",
       "}\n",
       "</style><div id=\"sk-container-id-2\" class=\"sk-top-container\"><div class=\"sk-text-repr-fallback\"><pre>GridSearchCV(cv=5,\n",
       "             estimator=Pipeline(steps=[(&#x27;preprocessor&#x27;,\n",
       "                                        ColumnTransformer(remainder=&#x27;passthrough&#x27;,\n",
       "                                                          transformers=[(&#x27;ohe&#x27;,\n",
       "                                                                         Pipeline(steps=[(&#x27;simpleImputer_ohe&#x27;,\n",
       "                                                                                          SimpleImputer(strategy=&#x27;most_frequent&#x27;)),\n",
       "                                                                                         (&#x27;ohe&#x27;,\n",
       "                                                                                          OneHotEncoder(drop=&#x27;first&#x27;,\n",
       "                                                                                                        handle_unknown=&#x27;ignore&#x27;,\n",
       "                                                                                                        sparse_output=False))]),\n",
       "                                                                         [&#x27;VehicleType&#x27;,\n",
       "                                                                          &#x27;Gearbox&#x27;,\n",
       "                                                                          &#x27;FuelType&#x27;,\n",
       "                                                                          &#x27;Brand&#x27;,\n",
       "                                                                          &#x27;Repaired&#x27;]),\n",
       "                                                                        (&#x27;num&#x27;,\n",
       "                                                                         StandardScaler(),\n",
       "                                                                         [&#x27;RegistrationYear&#x27;,\n",
       "                                                                          &#x27;Power&#x27;,\n",
       "                                                                          &#x27;Kilometer&#x27;])])),\n",
       "                                       (&#x27;models&#x27;, LinearRegression())]),\n",
       "             n_jobs=-1,\n",
       "             param_grid=[{&#x27;models&#x27;: [LinearRegression()],\n",
       "                          &#x27;preprocessor__num&#x27;: [StandardScaler(),\n",
       "                                                MinMaxScaler(),\n",
       "                                                &#x27;passthrough&#x27;]}],\n",
       "             scoring=&#x27;neg_mean_squared_error&#x27;)</pre><b>In a Jupyter environment, please rerun this cell to show the HTML representation or trust the notebook. <br />On GitHub, the HTML representation is unable to render, please try loading this page with nbviewer.org.</b></div><div class=\"sk-container\" hidden><div class=\"sk-item sk-dashed-wrapped\"><div class=\"sk-label-container\"><div class=\"sk-label fitted sk-toggleable\"><input class=\"sk-toggleable__control sk-hidden--visually\" id=\"sk-estimator-id-12\" type=\"checkbox\" ><label for=\"sk-estimator-id-12\" class=\"sk-toggleable__label fitted sk-toggleable__label-arrow fitted\">&nbsp;&nbsp;GridSearchCV<a class=\"sk-estimator-doc-link fitted\" rel=\"noreferrer\" target=\"_blank\" href=\"https://scikit-learn.org/1.5/modules/generated/sklearn.model_selection.GridSearchCV.html\">?<span>Documentation for GridSearchCV</span></a><span class=\"sk-estimator-doc-link fitted\">i<span>Fitted</span></span></label><div class=\"sk-toggleable__content fitted\"><pre>GridSearchCV(cv=5,\n",
       "             estimator=Pipeline(steps=[(&#x27;preprocessor&#x27;,\n",
       "                                        ColumnTransformer(remainder=&#x27;passthrough&#x27;,\n",
       "                                                          transformers=[(&#x27;ohe&#x27;,\n",
       "                                                                         Pipeline(steps=[(&#x27;simpleImputer_ohe&#x27;,\n",
       "                                                                                          SimpleImputer(strategy=&#x27;most_frequent&#x27;)),\n",
       "                                                                                         (&#x27;ohe&#x27;,\n",
       "                                                                                          OneHotEncoder(drop=&#x27;first&#x27;,\n",
       "                                                                                                        handle_unknown=&#x27;ignore&#x27;,\n",
       "                                                                                                        sparse_output=False))]),\n",
       "                                                                         [&#x27;VehicleType&#x27;,\n",
       "                                                                          &#x27;Gearbox&#x27;,\n",
       "                                                                          &#x27;FuelType&#x27;,\n",
       "                                                                          &#x27;Brand&#x27;,\n",
       "                                                                          &#x27;Repaired&#x27;]),\n",
       "                                                                        (&#x27;num&#x27;,\n",
       "                                                                         StandardScaler(),\n",
       "                                                                         [&#x27;RegistrationYear&#x27;,\n",
       "                                                                          &#x27;Power&#x27;,\n",
       "                                                                          &#x27;Kilometer&#x27;])])),\n",
       "                                       (&#x27;models&#x27;, LinearRegression())]),\n",
       "             n_jobs=-1,\n",
       "             param_grid=[{&#x27;models&#x27;: [LinearRegression()],\n",
       "                          &#x27;preprocessor__num&#x27;: [StandardScaler(),\n",
       "                                                MinMaxScaler(),\n",
       "                                                &#x27;passthrough&#x27;]}],\n",
       "             scoring=&#x27;neg_mean_squared_error&#x27;)</pre></div> </div></div><div class=\"sk-parallel\"><div class=\"sk-parallel-item\"><div class=\"sk-item\"><div class=\"sk-label-container\"><div class=\"sk-label fitted sk-toggleable\"><input class=\"sk-toggleable__control sk-hidden--visually\" id=\"sk-estimator-id-13\" type=\"checkbox\" ><label for=\"sk-estimator-id-13\" class=\"sk-toggleable__label fitted sk-toggleable__label-arrow fitted\">best_estimator_: Pipeline</label><div class=\"sk-toggleable__content fitted\"><pre>Pipeline(steps=[(&#x27;preprocessor&#x27;,\n",
       "                 ColumnTransformer(remainder=&#x27;passthrough&#x27;,\n",
       "                                   transformers=[(&#x27;ohe&#x27;,\n",
       "                                                  Pipeline(steps=[(&#x27;simpleImputer_ohe&#x27;,\n",
       "                                                                   SimpleImputer(strategy=&#x27;most_frequent&#x27;)),\n",
       "                                                                  (&#x27;ohe&#x27;,\n",
       "                                                                   OneHotEncoder(drop=&#x27;first&#x27;,\n",
       "                                                                                 handle_unknown=&#x27;ignore&#x27;,\n",
       "                                                                                 sparse_output=False))]),\n",
       "                                                  [&#x27;VehicleType&#x27;, &#x27;Gearbox&#x27;,\n",
       "                                                   &#x27;FuelType&#x27;, &#x27;Brand&#x27;,\n",
       "                                                   &#x27;Repaired&#x27;]),\n",
       "                                                 (&#x27;num&#x27;, &#x27;passthrough&#x27;,\n",
       "                                                  [&#x27;RegistrationYear&#x27;, &#x27;Power&#x27;,\n",
       "                                                   &#x27;Kilometer&#x27;])])),\n",
       "                (&#x27;models&#x27;, LinearRegression())])</pre></div> </div></div><div class=\"sk-serial\"><div class=\"sk-item\"><div class=\"sk-serial\"><div class=\"sk-item sk-dashed-wrapped\"><div class=\"sk-label-container\"><div class=\"sk-label fitted sk-toggleable\"><input class=\"sk-toggleable__control sk-hidden--visually\" id=\"sk-estimator-id-14\" type=\"checkbox\" ><label for=\"sk-estimator-id-14\" class=\"sk-toggleable__label fitted sk-toggleable__label-arrow fitted\">&nbsp;preprocessor: ColumnTransformer<a class=\"sk-estimator-doc-link fitted\" rel=\"noreferrer\" target=\"_blank\" href=\"https://scikit-learn.org/1.5/modules/generated/sklearn.compose.ColumnTransformer.html\">?<span>Documentation for preprocessor: ColumnTransformer</span></a></label><div class=\"sk-toggleable__content fitted\"><pre>ColumnTransformer(remainder=&#x27;passthrough&#x27;,\n",
       "                  transformers=[(&#x27;ohe&#x27;,\n",
       "                                 Pipeline(steps=[(&#x27;simpleImputer_ohe&#x27;,\n",
       "                                                  SimpleImputer(strategy=&#x27;most_frequent&#x27;)),\n",
       "                                                 (&#x27;ohe&#x27;,\n",
       "                                                  OneHotEncoder(drop=&#x27;first&#x27;,\n",
       "                                                                handle_unknown=&#x27;ignore&#x27;,\n",
       "                                                                sparse_output=False))]),\n",
       "                                 [&#x27;VehicleType&#x27;, &#x27;Gearbox&#x27;, &#x27;FuelType&#x27;, &#x27;Brand&#x27;,\n",
       "                                  &#x27;Repaired&#x27;]),\n",
       "                                (&#x27;num&#x27;, &#x27;passthrough&#x27;,\n",
       "                                 [&#x27;RegistrationYear&#x27;, &#x27;Power&#x27;, &#x27;Kilometer&#x27;])])</pre></div> </div></div><div class=\"sk-parallel\"><div class=\"sk-parallel-item\"><div class=\"sk-item\"><div class=\"sk-label-container\"><div class=\"sk-label fitted sk-toggleable\"><input class=\"sk-toggleable__control sk-hidden--visually\" id=\"sk-estimator-id-15\" type=\"checkbox\" ><label for=\"sk-estimator-id-15\" class=\"sk-toggleable__label fitted sk-toggleable__label-arrow fitted\">ohe</label><div class=\"sk-toggleable__content fitted\"><pre>[&#x27;VehicleType&#x27;, &#x27;Gearbox&#x27;, &#x27;FuelType&#x27;, &#x27;Brand&#x27;, &#x27;Repaired&#x27;]</pre></div> </div></div><div class=\"sk-serial\"><div class=\"sk-item\"><div class=\"sk-serial\"><div class=\"sk-item\"><div class=\"sk-estimator fitted sk-toggleable\"><input class=\"sk-toggleable__control sk-hidden--visually\" id=\"sk-estimator-id-16\" type=\"checkbox\" ><label for=\"sk-estimator-id-16\" class=\"sk-toggleable__label fitted sk-toggleable__label-arrow fitted\">&nbsp;SimpleImputer<a class=\"sk-estimator-doc-link fitted\" rel=\"noreferrer\" target=\"_blank\" href=\"https://scikit-learn.org/1.5/modules/generated/sklearn.impute.SimpleImputer.html\">?<span>Documentation for SimpleImputer</span></a></label><div class=\"sk-toggleable__content fitted\"><pre>SimpleImputer(strategy=&#x27;most_frequent&#x27;)</pre></div> </div></div><div class=\"sk-item\"><div class=\"sk-estimator fitted sk-toggleable\"><input class=\"sk-toggleable__control sk-hidden--visually\" id=\"sk-estimator-id-17\" type=\"checkbox\" ><label for=\"sk-estimator-id-17\" class=\"sk-toggleable__label fitted sk-toggleable__label-arrow fitted\">&nbsp;OneHotEncoder<a class=\"sk-estimator-doc-link fitted\" rel=\"noreferrer\" target=\"_blank\" href=\"https://scikit-learn.org/1.5/modules/generated/sklearn.preprocessing.OneHotEncoder.html\">?<span>Documentation for OneHotEncoder</span></a></label><div class=\"sk-toggleable__content fitted\"><pre>OneHotEncoder(drop=&#x27;first&#x27;, handle_unknown=&#x27;ignore&#x27;, sparse_output=False)</pre></div> </div></div></div></div></div></div></div><div class=\"sk-parallel-item\"><div class=\"sk-item\"><div class=\"sk-label-container\"><div class=\"sk-label fitted sk-toggleable\"><input class=\"sk-toggleable__control sk-hidden--visually\" id=\"sk-estimator-id-18\" type=\"checkbox\" ><label for=\"sk-estimator-id-18\" class=\"sk-toggleable__label fitted sk-toggleable__label-arrow fitted\">num</label><div class=\"sk-toggleable__content fitted\"><pre>[&#x27;RegistrationYear&#x27;, &#x27;Power&#x27;, &#x27;Kilometer&#x27;]</pre></div> </div></div><div class=\"sk-serial\"><div class=\"sk-item\"><div class=\"sk-estimator fitted sk-toggleable\"><input class=\"sk-toggleable__control sk-hidden--visually\" id=\"sk-estimator-id-19\" type=\"checkbox\" ><label for=\"sk-estimator-id-19\" class=\"sk-toggleable__label fitted sk-toggleable__label-arrow fitted\">passthrough</label><div class=\"sk-toggleable__content fitted\"><pre>passthrough</pre></div> </div></div></div></div></div><div class=\"sk-parallel-item\"><div class=\"sk-item\"><div class=\"sk-label-container\"><div class=\"sk-label fitted sk-toggleable\"><input class=\"sk-toggleable__control sk-hidden--visually\" id=\"sk-estimator-id-20\" type=\"checkbox\" ><label for=\"sk-estimator-id-20\" class=\"sk-toggleable__label fitted sk-toggleable__label-arrow fitted\">remainder</label><div class=\"sk-toggleable__content fitted\"><pre>[]</pre></div> </div></div><div class=\"sk-serial\"><div class=\"sk-item\"><div class=\"sk-estimator fitted sk-toggleable\"><input class=\"sk-toggleable__control sk-hidden--visually\" id=\"sk-estimator-id-21\" type=\"checkbox\" ><label for=\"sk-estimator-id-21\" class=\"sk-toggleable__label fitted sk-toggleable__label-arrow fitted\">passthrough</label><div class=\"sk-toggleable__content fitted\"><pre>passthrough</pre></div> </div></div></div></div></div></div></div><div class=\"sk-item\"><div class=\"sk-estimator fitted sk-toggleable\"><input class=\"sk-toggleable__control sk-hidden--visually\" id=\"sk-estimator-id-22\" type=\"checkbox\" ><label for=\"sk-estimator-id-22\" class=\"sk-toggleable__label fitted sk-toggleable__label-arrow fitted\">&nbsp;LinearRegression<a class=\"sk-estimator-doc-link fitted\" rel=\"noreferrer\" target=\"_blank\" href=\"https://scikit-learn.org/1.5/modules/generated/sklearn.linear_model.LinearRegression.html\">?<span>Documentation for LinearRegression</span></a></label><div class=\"sk-toggleable__content fitted\"><pre>LinearRegression()</pre></div> </div></div></div></div></div></div></div></div></div></div></div>"
      ],
      "text/plain": [
       "GridSearchCV(cv=5,\n",
       "             estimator=Pipeline(steps=[('preprocessor',\n",
       "                                        ColumnTransformer(remainder='passthrough',\n",
       "                                                          transformers=[('ohe',\n",
       "                                                                         Pipeline(steps=[('simpleImputer_ohe',\n",
       "                                                                                          SimpleImputer(strategy='most_frequent')),\n",
       "                                                                                         ('ohe',\n",
       "                                                                                          OneHotEncoder(drop='first',\n",
       "                                                                                                        handle_unknown='ignore',\n",
       "                                                                                                        sparse_output=False))]),\n",
       "                                                                         ['VehicleType',\n",
       "                                                                          'Gearbox',\n",
       "                                                                          'FuelType',\n",
       "                                                                          'Brand',\n",
       "                                                                          'Repaired']),\n",
       "                                                                        ('num',\n",
       "                                                                         StandardScaler(),\n",
       "                                                                         ['RegistrationYear',\n",
       "                                                                          'Power',\n",
       "                                                                          'Kilometer'])])),\n",
       "                                       ('models', LinearRegression())]),\n",
       "             n_jobs=-1,\n",
       "             param_grid=[{'models': [LinearRegression()],\n",
       "                          'preprocessor__num': [StandardScaler(),\n",
       "                                                MinMaxScaler(),\n",
       "                                                'passthrough']}],\n",
       "             scoring='neg_mean_squared_error')"
      ]
     },
     "execution_count": 39,
     "metadata": {},
     "output_type": "execute_result"
    }
   ],
   "source": [
    "grid_2.fit(X_train, y_train)"
   ]
  },
  {
   "cell_type": "code",
   "execution_count": 40,
   "metadata": {},
   "outputs": [
    {
     "data": {
      "text/html": [
       "<style>#sk-container-id-3 {\n",
       "  /* Definition of color scheme common for light and dark mode */\n",
       "  --sklearn-color-text: black;\n",
       "  --sklearn-color-line: gray;\n",
       "  /* Definition of color scheme for unfitted estimators */\n",
       "  --sklearn-color-unfitted-level-0: #fff5e6;\n",
       "  --sklearn-color-unfitted-level-1: #f6e4d2;\n",
       "  --sklearn-color-unfitted-level-2: #ffe0b3;\n",
       "  --sklearn-color-unfitted-level-3: chocolate;\n",
       "  /* Definition of color scheme for fitted estimators */\n",
       "  --sklearn-color-fitted-level-0: #f0f8ff;\n",
       "  --sklearn-color-fitted-level-1: #d4ebff;\n",
       "  --sklearn-color-fitted-level-2: #b3dbfd;\n",
       "  --sklearn-color-fitted-level-3: cornflowerblue;\n",
       "\n",
       "  /* Specific color for light theme */\n",
       "  --sklearn-color-text-on-default-background: var(--sg-text-color, var(--theme-code-foreground, var(--jp-content-font-color1, black)));\n",
       "  --sklearn-color-background: var(--sg-background-color, var(--theme-background, var(--jp-layout-color0, white)));\n",
       "  --sklearn-color-border-box: var(--sg-text-color, var(--theme-code-foreground, var(--jp-content-font-color1, black)));\n",
       "  --sklearn-color-icon: #696969;\n",
       "\n",
       "  @media (prefers-color-scheme: dark) {\n",
       "    /* Redefinition of color scheme for dark theme */\n",
       "    --sklearn-color-text-on-default-background: var(--sg-text-color, var(--theme-code-foreground, var(--jp-content-font-color1, white)));\n",
       "    --sklearn-color-background: var(--sg-background-color, var(--theme-background, var(--jp-layout-color0, #111)));\n",
       "    --sklearn-color-border-box: var(--sg-text-color, var(--theme-code-foreground, var(--jp-content-font-color1, white)));\n",
       "    --sklearn-color-icon: #878787;\n",
       "  }\n",
       "}\n",
       "\n",
       "#sk-container-id-3 {\n",
       "  color: var(--sklearn-color-text);\n",
       "}\n",
       "\n",
       "#sk-container-id-3 pre {\n",
       "  padding: 0;\n",
       "}\n",
       "\n",
       "#sk-container-id-3 input.sk-hidden--visually {\n",
       "  border: 0;\n",
       "  clip: rect(1px 1px 1px 1px);\n",
       "  clip: rect(1px, 1px, 1px, 1px);\n",
       "  height: 1px;\n",
       "  margin: -1px;\n",
       "  overflow: hidden;\n",
       "  padding: 0;\n",
       "  position: absolute;\n",
       "  width: 1px;\n",
       "}\n",
       "\n",
       "#sk-container-id-3 div.sk-dashed-wrapped {\n",
       "  border: 1px dashed var(--sklearn-color-line);\n",
       "  margin: 0 0.4em 0.5em 0.4em;\n",
       "  box-sizing: border-box;\n",
       "  padding-bottom: 0.4em;\n",
       "  background-color: var(--sklearn-color-background);\n",
       "}\n",
       "\n",
       "#sk-container-id-3 div.sk-container {\n",
       "  /* jupyter's `normalize.less` sets `[hidden] { display: none; }`\n",
       "     but bootstrap.min.css set `[hidden] { display: none !important; }`\n",
       "     so we also need the `!important` here to be able to override the\n",
       "     default hidden behavior on the sphinx rendered scikit-learn.org.\n",
       "     See: https://github.com/scikit-learn/scikit-learn/issues/21755 */\n",
       "  display: inline-block !important;\n",
       "  position: relative;\n",
       "}\n",
       "\n",
       "#sk-container-id-3 div.sk-text-repr-fallback {\n",
       "  display: none;\n",
       "}\n",
       "\n",
       "div.sk-parallel-item,\n",
       "div.sk-serial,\n",
       "div.sk-item {\n",
       "  /* draw centered vertical line to link estimators */\n",
       "  background-image: linear-gradient(var(--sklearn-color-text-on-default-background), var(--sklearn-color-text-on-default-background));\n",
       "  background-size: 2px 100%;\n",
       "  background-repeat: no-repeat;\n",
       "  background-position: center center;\n",
       "}\n",
       "\n",
       "/* Parallel-specific style estimator block */\n",
       "\n",
       "#sk-container-id-3 div.sk-parallel-item::after {\n",
       "  content: \"\";\n",
       "  width: 100%;\n",
       "  border-bottom: 2px solid var(--sklearn-color-text-on-default-background);\n",
       "  flex-grow: 1;\n",
       "}\n",
       "\n",
       "#sk-container-id-3 div.sk-parallel {\n",
       "  display: flex;\n",
       "  align-items: stretch;\n",
       "  justify-content: center;\n",
       "  background-color: var(--sklearn-color-background);\n",
       "  position: relative;\n",
       "}\n",
       "\n",
       "#sk-container-id-3 div.sk-parallel-item {\n",
       "  display: flex;\n",
       "  flex-direction: column;\n",
       "}\n",
       "\n",
       "#sk-container-id-3 div.sk-parallel-item:first-child::after {\n",
       "  align-self: flex-end;\n",
       "  width: 50%;\n",
       "}\n",
       "\n",
       "#sk-container-id-3 div.sk-parallel-item:last-child::after {\n",
       "  align-self: flex-start;\n",
       "  width: 50%;\n",
       "}\n",
       "\n",
       "#sk-container-id-3 div.sk-parallel-item:only-child::after {\n",
       "  width: 0;\n",
       "}\n",
       "\n",
       "/* Serial-specific style estimator block */\n",
       "\n",
       "#sk-container-id-3 div.sk-serial {\n",
       "  display: flex;\n",
       "  flex-direction: column;\n",
       "  align-items: center;\n",
       "  background-color: var(--sklearn-color-background);\n",
       "  padding-right: 1em;\n",
       "  padding-left: 1em;\n",
       "}\n",
       "\n",
       "\n",
       "/* Toggleable style: style used for estimator/Pipeline/ColumnTransformer box that is\n",
       "clickable and can be expanded/collapsed.\n",
       "- Pipeline and ColumnTransformer use this feature and define the default style\n",
       "- Estimators will overwrite some part of the style using the `sk-estimator` class\n",
       "*/\n",
       "\n",
       "/* Pipeline and ColumnTransformer style (default) */\n",
       "\n",
       "#sk-container-id-3 div.sk-toggleable {\n",
       "  /* Default theme specific background. It is overwritten whether we have a\n",
       "  specific estimator or a Pipeline/ColumnTransformer */\n",
       "  background-color: var(--sklearn-color-background);\n",
       "}\n",
       "\n",
       "/* Toggleable label */\n",
       "#sk-container-id-3 label.sk-toggleable__label {\n",
       "  cursor: pointer;\n",
       "  display: block;\n",
       "  width: 100%;\n",
       "  margin-bottom: 0;\n",
       "  padding: 0.5em;\n",
       "  box-sizing: border-box;\n",
       "  text-align: center;\n",
       "}\n",
       "\n",
       "#sk-container-id-3 label.sk-toggleable__label-arrow:before {\n",
       "  /* Arrow on the left of the label */\n",
       "  content: \"▸\";\n",
       "  float: left;\n",
       "  margin-right: 0.25em;\n",
       "  color: var(--sklearn-color-icon);\n",
       "}\n",
       "\n",
       "#sk-container-id-3 label.sk-toggleable__label-arrow:hover:before {\n",
       "  color: var(--sklearn-color-text);\n",
       "}\n",
       "\n",
       "/* Toggleable content - dropdown */\n",
       "\n",
       "#sk-container-id-3 div.sk-toggleable__content {\n",
       "  max-height: 0;\n",
       "  max-width: 0;\n",
       "  overflow: hidden;\n",
       "  text-align: left;\n",
       "  /* unfitted */\n",
       "  background-color: var(--sklearn-color-unfitted-level-0);\n",
       "}\n",
       "\n",
       "#sk-container-id-3 div.sk-toggleable__content.fitted {\n",
       "  /* fitted */\n",
       "  background-color: var(--sklearn-color-fitted-level-0);\n",
       "}\n",
       "\n",
       "#sk-container-id-3 div.sk-toggleable__content pre {\n",
       "  margin: 0.2em;\n",
       "  border-radius: 0.25em;\n",
       "  color: var(--sklearn-color-text);\n",
       "  /* unfitted */\n",
       "  background-color: var(--sklearn-color-unfitted-level-0);\n",
       "}\n",
       "\n",
       "#sk-container-id-3 div.sk-toggleable__content.fitted pre {\n",
       "  /* unfitted */\n",
       "  background-color: var(--sklearn-color-fitted-level-0);\n",
       "}\n",
       "\n",
       "#sk-container-id-3 input.sk-toggleable__control:checked~div.sk-toggleable__content {\n",
       "  /* Expand drop-down */\n",
       "  max-height: 200px;\n",
       "  max-width: 100%;\n",
       "  overflow: auto;\n",
       "}\n",
       "\n",
       "#sk-container-id-3 input.sk-toggleable__control:checked~label.sk-toggleable__label-arrow:before {\n",
       "  content: \"▾\";\n",
       "}\n",
       "\n",
       "/* Pipeline/ColumnTransformer-specific style */\n",
       "\n",
       "#sk-container-id-3 div.sk-label input.sk-toggleable__control:checked~label.sk-toggleable__label {\n",
       "  color: var(--sklearn-color-text);\n",
       "  background-color: var(--sklearn-color-unfitted-level-2);\n",
       "}\n",
       "\n",
       "#sk-container-id-3 div.sk-label.fitted input.sk-toggleable__control:checked~label.sk-toggleable__label {\n",
       "  background-color: var(--sklearn-color-fitted-level-2);\n",
       "}\n",
       "\n",
       "/* Estimator-specific style */\n",
       "\n",
       "/* Colorize estimator box */\n",
       "#sk-container-id-3 div.sk-estimator input.sk-toggleable__control:checked~label.sk-toggleable__label {\n",
       "  /* unfitted */\n",
       "  background-color: var(--sklearn-color-unfitted-level-2);\n",
       "}\n",
       "\n",
       "#sk-container-id-3 div.sk-estimator.fitted input.sk-toggleable__control:checked~label.sk-toggleable__label {\n",
       "  /* fitted */\n",
       "  background-color: var(--sklearn-color-fitted-level-2);\n",
       "}\n",
       "\n",
       "#sk-container-id-3 div.sk-label label.sk-toggleable__label,\n",
       "#sk-container-id-3 div.sk-label label {\n",
       "  /* The background is the default theme color */\n",
       "  color: var(--sklearn-color-text-on-default-background);\n",
       "}\n",
       "\n",
       "/* On hover, darken the color of the background */\n",
       "#sk-container-id-3 div.sk-label:hover label.sk-toggleable__label {\n",
       "  color: var(--sklearn-color-text);\n",
       "  background-color: var(--sklearn-color-unfitted-level-2);\n",
       "}\n",
       "\n",
       "/* Label box, darken color on hover, fitted */\n",
       "#sk-container-id-3 div.sk-label.fitted:hover label.sk-toggleable__label.fitted {\n",
       "  color: var(--sklearn-color-text);\n",
       "  background-color: var(--sklearn-color-fitted-level-2);\n",
       "}\n",
       "\n",
       "/* Estimator label */\n",
       "\n",
       "#sk-container-id-3 div.sk-label label {\n",
       "  font-family: monospace;\n",
       "  font-weight: bold;\n",
       "  display: inline-block;\n",
       "  line-height: 1.2em;\n",
       "}\n",
       "\n",
       "#sk-container-id-3 div.sk-label-container {\n",
       "  text-align: center;\n",
       "}\n",
       "\n",
       "/* Estimator-specific */\n",
       "#sk-container-id-3 div.sk-estimator {\n",
       "  font-family: monospace;\n",
       "  border: 1px dotted var(--sklearn-color-border-box);\n",
       "  border-radius: 0.25em;\n",
       "  box-sizing: border-box;\n",
       "  margin-bottom: 0.5em;\n",
       "  /* unfitted */\n",
       "  background-color: var(--sklearn-color-unfitted-level-0);\n",
       "}\n",
       "\n",
       "#sk-container-id-3 div.sk-estimator.fitted {\n",
       "  /* fitted */\n",
       "  background-color: var(--sklearn-color-fitted-level-0);\n",
       "}\n",
       "\n",
       "/* on hover */\n",
       "#sk-container-id-3 div.sk-estimator:hover {\n",
       "  /* unfitted */\n",
       "  background-color: var(--sklearn-color-unfitted-level-2);\n",
       "}\n",
       "\n",
       "#sk-container-id-3 div.sk-estimator.fitted:hover {\n",
       "  /* fitted */\n",
       "  background-color: var(--sklearn-color-fitted-level-2);\n",
       "}\n",
       "\n",
       "/* Specification for estimator info (e.g. \"i\" and \"?\") */\n",
       "\n",
       "/* Common style for \"i\" and \"?\" */\n",
       "\n",
       ".sk-estimator-doc-link,\n",
       "a:link.sk-estimator-doc-link,\n",
       "a:visited.sk-estimator-doc-link {\n",
       "  float: right;\n",
       "  font-size: smaller;\n",
       "  line-height: 1em;\n",
       "  font-family: monospace;\n",
       "  background-color: var(--sklearn-color-background);\n",
       "  border-radius: 1em;\n",
       "  height: 1em;\n",
       "  width: 1em;\n",
       "  text-decoration: none !important;\n",
       "  margin-left: 1ex;\n",
       "  /* unfitted */\n",
       "  border: var(--sklearn-color-unfitted-level-1) 1pt solid;\n",
       "  color: var(--sklearn-color-unfitted-level-1);\n",
       "}\n",
       "\n",
       ".sk-estimator-doc-link.fitted,\n",
       "a:link.sk-estimator-doc-link.fitted,\n",
       "a:visited.sk-estimator-doc-link.fitted {\n",
       "  /* fitted */\n",
       "  border: var(--sklearn-color-fitted-level-1) 1pt solid;\n",
       "  color: var(--sklearn-color-fitted-level-1);\n",
       "}\n",
       "\n",
       "/* On hover */\n",
       "div.sk-estimator:hover .sk-estimator-doc-link:hover,\n",
       ".sk-estimator-doc-link:hover,\n",
       "div.sk-label-container:hover .sk-estimator-doc-link:hover,\n",
       ".sk-estimator-doc-link:hover {\n",
       "  /* unfitted */\n",
       "  background-color: var(--sklearn-color-unfitted-level-3);\n",
       "  color: var(--sklearn-color-background);\n",
       "  text-decoration: none;\n",
       "}\n",
       "\n",
       "div.sk-estimator.fitted:hover .sk-estimator-doc-link.fitted:hover,\n",
       ".sk-estimator-doc-link.fitted:hover,\n",
       "div.sk-label-container:hover .sk-estimator-doc-link.fitted:hover,\n",
       ".sk-estimator-doc-link.fitted:hover {\n",
       "  /* fitted */\n",
       "  background-color: var(--sklearn-color-fitted-level-3);\n",
       "  color: var(--sklearn-color-background);\n",
       "  text-decoration: none;\n",
       "}\n",
       "\n",
       "/* Span, style for the box shown on hovering the info icon */\n",
       ".sk-estimator-doc-link span {\n",
       "  display: none;\n",
       "  z-index: 9999;\n",
       "  position: relative;\n",
       "  font-weight: normal;\n",
       "  right: .2ex;\n",
       "  padding: .5ex;\n",
       "  margin: .5ex;\n",
       "  width: min-content;\n",
       "  min-width: 20ex;\n",
       "  max-width: 50ex;\n",
       "  color: var(--sklearn-color-text);\n",
       "  box-shadow: 2pt 2pt 4pt #999;\n",
       "  /* unfitted */\n",
       "  background: var(--sklearn-color-unfitted-level-0);\n",
       "  border: .5pt solid var(--sklearn-color-unfitted-level-3);\n",
       "}\n",
       "\n",
       ".sk-estimator-doc-link.fitted span {\n",
       "  /* fitted */\n",
       "  background: var(--sklearn-color-fitted-level-0);\n",
       "  border: var(--sklearn-color-fitted-level-3);\n",
       "}\n",
       "\n",
       ".sk-estimator-doc-link:hover span {\n",
       "  display: block;\n",
       "}\n",
       "\n",
       "/* \"?\"-specific style due to the `<a>` HTML tag */\n",
       "\n",
       "#sk-container-id-3 a.estimator_doc_link {\n",
       "  float: right;\n",
       "  font-size: 1rem;\n",
       "  line-height: 1em;\n",
       "  font-family: monospace;\n",
       "  background-color: var(--sklearn-color-background);\n",
       "  border-radius: 1rem;\n",
       "  height: 1rem;\n",
       "  width: 1rem;\n",
       "  text-decoration: none;\n",
       "  /* unfitted */\n",
       "  color: var(--sklearn-color-unfitted-level-1);\n",
       "  border: var(--sklearn-color-unfitted-level-1) 1pt solid;\n",
       "}\n",
       "\n",
       "#sk-container-id-3 a.estimator_doc_link.fitted {\n",
       "  /* fitted */\n",
       "  border: var(--sklearn-color-fitted-level-1) 1pt solid;\n",
       "  color: var(--sklearn-color-fitted-level-1);\n",
       "}\n",
       "\n",
       "/* On hover */\n",
       "#sk-container-id-3 a.estimator_doc_link:hover {\n",
       "  /* unfitted */\n",
       "  background-color: var(--sklearn-color-unfitted-level-3);\n",
       "  color: var(--sklearn-color-background);\n",
       "  text-decoration: none;\n",
       "}\n",
       "\n",
       "#sk-container-id-3 a.estimator_doc_link.fitted:hover {\n",
       "  /* fitted */\n",
       "  background-color: var(--sklearn-color-fitted-level-3);\n",
       "}\n",
       "</style><div id=\"sk-container-id-3\" class=\"sk-top-container\"><div class=\"sk-text-repr-fallback\"><pre>GridSearchCV(cv=5,\n",
       "             estimator=Pipeline(steps=[(&#x27;preprocessor&#x27;,\n",
       "                                        ColumnTransformer(remainder=&#x27;passthrough&#x27;,\n",
       "                                                          transformers=[(&#x27;ohe&#x27;,\n",
       "                                                                         Pipeline(steps=[(&#x27;simpleImputer_ohe&#x27;,\n",
       "                                                                                          SimpleImputer(strategy=&#x27;most_frequent&#x27;)),\n",
       "                                                                                         (&#x27;ohe&#x27;,\n",
       "                                                                                          OneHotEncoder(drop=&#x27;first&#x27;,\n",
       "                                                                                                        handle_unknown=&#x27;ignore&#x27;,\n",
       "                                                                                                        sparse_output=False))]),\n",
       "                                                                         [&#x27;VehicleType&#x27;,\n",
       "                                                                          &#x27;Gearbox&#x27;,\n",
       "                                                                          &#x27;FuelType&#x27;,\n",
       "                                                                          &#x27;Brand&#x27;,\n",
       "                                                                          &#x27;Repaired&#x27;]),\n",
       "                                                                        (&#x27;num&#x27;,\n",
       "                                                                         StandardScaler(),\n",
       "                                                                         [&#x27;RegistrationYear&#x27;,\n",
       "                                                                          &#x27;Power&#x27;,\n",
       "                                                                          &#x27;Kilometer&#x27;])])),\n",
       "                                       (&#x27;models&#x27;, LinearRegression())]),\n",
       "             n_jobs=-1,\n",
       "             param_grid=[{&#x27;models&#x27;: [DecisionTreeRegressor(random_state=42)],\n",
       "                          &#x27;models__max_depth&#x27;: range(5, 7),\n",
       "                          &#x27;models__max_features&#x27;: range(5, 7),\n",
       "                          &#x27;preprocessor__num&#x27;: [StandardScaler(),\n",
       "                                                MinMaxScaler(),\n",
       "                                                &#x27;passthrough&#x27;]}],\n",
       "             scoring=&#x27;neg_mean_squared_error&#x27;)</pre><b>In a Jupyter environment, please rerun this cell to show the HTML representation or trust the notebook. <br />On GitHub, the HTML representation is unable to render, please try loading this page with nbviewer.org.</b></div><div class=\"sk-container\" hidden><div class=\"sk-item sk-dashed-wrapped\"><div class=\"sk-label-container\"><div class=\"sk-label fitted sk-toggleable\"><input class=\"sk-toggleable__control sk-hidden--visually\" id=\"sk-estimator-id-23\" type=\"checkbox\" ><label for=\"sk-estimator-id-23\" class=\"sk-toggleable__label fitted sk-toggleable__label-arrow fitted\">&nbsp;&nbsp;GridSearchCV<a class=\"sk-estimator-doc-link fitted\" rel=\"noreferrer\" target=\"_blank\" href=\"https://scikit-learn.org/1.5/modules/generated/sklearn.model_selection.GridSearchCV.html\">?<span>Documentation for GridSearchCV</span></a><span class=\"sk-estimator-doc-link fitted\">i<span>Fitted</span></span></label><div class=\"sk-toggleable__content fitted\"><pre>GridSearchCV(cv=5,\n",
       "             estimator=Pipeline(steps=[(&#x27;preprocessor&#x27;,\n",
       "                                        ColumnTransformer(remainder=&#x27;passthrough&#x27;,\n",
       "                                                          transformers=[(&#x27;ohe&#x27;,\n",
       "                                                                         Pipeline(steps=[(&#x27;simpleImputer_ohe&#x27;,\n",
       "                                                                                          SimpleImputer(strategy=&#x27;most_frequent&#x27;)),\n",
       "                                                                                         (&#x27;ohe&#x27;,\n",
       "                                                                                          OneHotEncoder(drop=&#x27;first&#x27;,\n",
       "                                                                                                        handle_unknown=&#x27;ignore&#x27;,\n",
       "                                                                                                        sparse_output=False))]),\n",
       "                                                                         [&#x27;VehicleType&#x27;,\n",
       "                                                                          &#x27;Gearbox&#x27;,\n",
       "                                                                          &#x27;FuelType&#x27;,\n",
       "                                                                          &#x27;Brand&#x27;,\n",
       "                                                                          &#x27;Repaired&#x27;]),\n",
       "                                                                        (&#x27;num&#x27;,\n",
       "                                                                         StandardScaler(),\n",
       "                                                                         [&#x27;RegistrationYear&#x27;,\n",
       "                                                                          &#x27;Power&#x27;,\n",
       "                                                                          &#x27;Kilometer&#x27;])])),\n",
       "                                       (&#x27;models&#x27;, LinearRegression())]),\n",
       "             n_jobs=-1,\n",
       "             param_grid=[{&#x27;models&#x27;: [DecisionTreeRegressor(random_state=42)],\n",
       "                          &#x27;models__max_depth&#x27;: range(5, 7),\n",
       "                          &#x27;models__max_features&#x27;: range(5, 7),\n",
       "                          &#x27;preprocessor__num&#x27;: [StandardScaler(),\n",
       "                                                MinMaxScaler(),\n",
       "                                                &#x27;passthrough&#x27;]}],\n",
       "             scoring=&#x27;neg_mean_squared_error&#x27;)</pre></div> </div></div><div class=\"sk-parallel\"><div class=\"sk-parallel-item\"><div class=\"sk-item\"><div class=\"sk-label-container\"><div class=\"sk-label fitted sk-toggleable\"><input class=\"sk-toggleable__control sk-hidden--visually\" id=\"sk-estimator-id-24\" type=\"checkbox\" ><label for=\"sk-estimator-id-24\" class=\"sk-toggleable__label fitted sk-toggleable__label-arrow fitted\">best_estimator_: Pipeline</label><div class=\"sk-toggleable__content fitted\"><pre>Pipeline(steps=[(&#x27;preprocessor&#x27;,\n",
       "                 ColumnTransformer(remainder=&#x27;passthrough&#x27;,\n",
       "                                   transformers=[(&#x27;ohe&#x27;,\n",
       "                                                  Pipeline(steps=[(&#x27;simpleImputer_ohe&#x27;,\n",
       "                                                                   SimpleImputer(strategy=&#x27;most_frequent&#x27;)),\n",
       "                                                                  (&#x27;ohe&#x27;,\n",
       "                                                                   OneHotEncoder(drop=&#x27;first&#x27;,\n",
       "                                                                                 handle_unknown=&#x27;ignore&#x27;,\n",
       "                                                                                 sparse_output=False))]),\n",
       "                                                  [&#x27;VehicleType&#x27;, &#x27;Gearbox&#x27;,\n",
       "                                                   &#x27;FuelType&#x27;, &#x27;Brand&#x27;,\n",
       "                                                   &#x27;Repaired&#x27;]),\n",
       "                                                 (&#x27;num&#x27;, StandardScaler(),\n",
       "                                                  [&#x27;RegistrationYear&#x27;, &#x27;Power&#x27;,\n",
       "                                                   &#x27;Kilometer&#x27;])])),\n",
       "                (&#x27;models&#x27;,\n",
       "                 DecisionTreeRegressor(max_depth=6, max_features=6,\n",
       "                                       random_state=42))])</pre></div> </div></div><div class=\"sk-serial\"><div class=\"sk-item\"><div class=\"sk-serial\"><div class=\"sk-item sk-dashed-wrapped\"><div class=\"sk-label-container\"><div class=\"sk-label fitted sk-toggleable\"><input class=\"sk-toggleable__control sk-hidden--visually\" id=\"sk-estimator-id-25\" type=\"checkbox\" ><label for=\"sk-estimator-id-25\" class=\"sk-toggleable__label fitted sk-toggleable__label-arrow fitted\">&nbsp;preprocessor: ColumnTransformer<a class=\"sk-estimator-doc-link fitted\" rel=\"noreferrer\" target=\"_blank\" href=\"https://scikit-learn.org/1.5/modules/generated/sklearn.compose.ColumnTransformer.html\">?<span>Documentation for preprocessor: ColumnTransformer</span></a></label><div class=\"sk-toggleable__content fitted\"><pre>ColumnTransformer(remainder=&#x27;passthrough&#x27;,\n",
       "                  transformers=[(&#x27;ohe&#x27;,\n",
       "                                 Pipeline(steps=[(&#x27;simpleImputer_ohe&#x27;,\n",
       "                                                  SimpleImputer(strategy=&#x27;most_frequent&#x27;)),\n",
       "                                                 (&#x27;ohe&#x27;,\n",
       "                                                  OneHotEncoder(drop=&#x27;first&#x27;,\n",
       "                                                                handle_unknown=&#x27;ignore&#x27;,\n",
       "                                                                sparse_output=False))]),\n",
       "                                 [&#x27;VehicleType&#x27;, &#x27;Gearbox&#x27;, &#x27;FuelType&#x27;, &#x27;Brand&#x27;,\n",
       "                                  &#x27;Repaired&#x27;]),\n",
       "                                (&#x27;num&#x27;, StandardScaler(),\n",
       "                                 [&#x27;RegistrationYear&#x27;, &#x27;Power&#x27;, &#x27;Kilometer&#x27;])])</pre></div> </div></div><div class=\"sk-parallel\"><div class=\"sk-parallel-item\"><div class=\"sk-item\"><div class=\"sk-label-container\"><div class=\"sk-label fitted sk-toggleable\"><input class=\"sk-toggleable__control sk-hidden--visually\" id=\"sk-estimator-id-26\" type=\"checkbox\" ><label for=\"sk-estimator-id-26\" class=\"sk-toggleable__label fitted sk-toggleable__label-arrow fitted\">ohe</label><div class=\"sk-toggleable__content fitted\"><pre>[&#x27;VehicleType&#x27;, &#x27;Gearbox&#x27;, &#x27;FuelType&#x27;, &#x27;Brand&#x27;, &#x27;Repaired&#x27;]</pre></div> </div></div><div class=\"sk-serial\"><div class=\"sk-item\"><div class=\"sk-serial\"><div class=\"sk-item\"><div class=\"sk-estimator fitted sk-toggleable\"><input class=\"sk-toggleable__control sk-hidden--visually\" id=\"sk-estimator-id-27\" type=\"checkbox\" ><label for=\"sk-estimator-id-27\" class=\"sk-toggleable__label fitted sk-toggleable__label-arrow fitted\">&nbsp;SimpleImputer<a class=\"sk-estimator-doc-link fitted\" rel=\"noreferrer\" target=\"_blank\" href=\"https://scikit-learn.org/1.5/modules/generated/sklearn.impute.SimpleImputer.html\">?<span>Documentation for SimpleImputer</span></a></label><div class=\"sk-toggleable__content fitted\"><pre>SimpleImputer(strategy=&#x27;most_frequent&#x27;)</pre></div> </div></div><div class=\"sk-item\"><div class=\"sk-estimator fitted sk-toggleable\"><input class=\"sk-toggleable__control sk-hidden--visually\" id=\"sk-estimator-id-28\" type=\"checkbox\" ><label for=\"sk-estimator-id-28\" class=\"sk-toggleable__label fitted sk-toggleable__label-arrow fitted\">&nbsp;OneHotEncoder<a class=\"sk-estimator-doc-link fitted\" rel=\"noreferrer\" target=\"_blank\" href=\"https://scikit-learn.org/1.5/modules/generated/sklearn.preprocessing.OneHotEncoder.html\">?<span>Documentation for OneHotEncoder</span></a></label><div class=\"sk-toggleable__content fitted\"><pre>OneHotEncoder(drop=&#x27;first&#x27;, handle_unknown=&#x27;ignore&#x27;, sparse_output=False)</pre></div> </div></div></div></div></div></div></div><div class=\"sk-parallel-item\"><div class=\"sk-item\"><div class=\"sk-label-container\"><div class=\"sk-label fitted sk-toggleable\"><input class=\"sk-toggleable__control sk-hidden--visually\" id=\"sk-estimator-id-29\" type=\"checkbox\" ><label for=\"sk-estimator-id-29\" class=\"sk-toggleable__label fitted sk-toggleable__label-arrow fitted\">num</label><div class=\"sk-toggleable__content fitted\"><pre>[&#x27;RegistrationYear&#x27;, &#x27;Power&#x27;, &#x27;Kilometer&#x27;]</pre></div> </div></div><div class=\"sk-serial\"><div class=\"sk-item\"><div class=\"sk-estimator fitted sk-toggleable\"><input class=\"sk-toggleable__control sk-hidden--visually\" id=\"sk-estimator-id-30\" type=\"checkbox\" ><label for=\"sk-estimator-id-30\" class=\"sk-toggleable__label fitted sk-toggleable__label-arrow fitted\">&nbsp;StandardScaler<a class=\"sk-estimator-doc-link fitted\" rel=\"noreferrer\" target=\"_blank\" href=\"https://scikit-learn.org/1.5/modules/generated/sklearn.preprocessing.StandardScaler.html\">?<span>Documentation for StandardScaler</span></a></label><div class=\"sk-toggleable__content fitted\"><pre>StandardScaler()</pre></div> </div></div></div></div></div><div class=\"sk-parallel-item\"><div class=\"sk-item\"><div class=\"sk-label-container\"><div class=\"sk-label fitted sk-toggleable\"><input class=\"sk-toggleable__control sk-hidden--visually\" id=\"sk-estimator-id-31\" type=\"checkbox\" ><label for=\"sk-estimator-id-31\" class=\"sk-toggleable__label fitted sk-toggleable__label-arrow fitted\">remainder</label><div class=\"sk-toggleable__content fitted\"><pre>[]</pre></div> </div></div><div class=\"sk-serial\"><div class=\"sk-item\"><div class=\"sk-estimator fitted sk-toggleable\"><input class=\"sk-toggleable__control sk-hidden--visually\" id=\"sk-estimator-id-32\" type=\"checkbox\" ><label for=\"sk-estimator-id-32\" class=\"sk-toggleable__label fitted sk-toggleable__label-arrow fitted\">passthrough</label><div class=\"sk-toggleable__content fitted\"><pre>passthrough</pre></div> </div></div></div></div></div></div></div><div class=\"sk-item\"><div class=\"sk-estimator fitted sk-toggleable\"><input class=\"sk-toggleable__control sk-hidden--visually\" id=\"sk-estimator-id-33\" type=\"checkbox\" ><label for=\"sk-estimator-id-33\" class=\"sk-toggleable__label fitted sk-toggleable__label-arrow fitted\">&nbsp;DecisionTreeRegressor<a class=\"sk-estimator-doc-link fitted\" rel=\"noreferrer\" target=\"_blank\" href=\"https://scikit-learn.org/1.5/modules/generated/sklearn.tree.DecisionTreeRegressor.html\">?<span>Documentation for DecisionTreeRegressor</span></a></label><div class=\"sk-toggleable__content fitted\"><pre>DecisionTreeRegressor(max_depth=6, max_features=6, random_state=42)</pre></div> </div></div></div></div></div></div></div></div></div></div></div>"
      ],
      "text/plain": [
       "GridSearchCV(cv=5,\n",
       "             estimator=Pipeline(steps=[('preprocessor',\n",
       "                                        ColumnTransformer(remainder='passthrough',\n",
       "                                                          transformers=[('ohe',\n",
       "                                                                         Pipeline(steps=[('simpleImputer_ohe',\n",
       "                                                                                          SimpleImputer(strategy='most_frequent')),\n",
       "                                                                                         ('ohe',\n",
       "                                                                                          OneHotEncoder(drop='first',\n",
       "                                                                                                        handle_unknown='ignore',\n",
       "                                                                                                        sparse_output=False))]),\n",
       "                                                                         ['VehicleType',\n",
       "                                                                          'Gearbox',\n",
       "                                                                          'FuelType',\n",
       "                                                                          'Brand',\n",
       "                                                                          'Repaired']),\n",
       "                                                                        ('num',\n",
       "                                                                         StandardScaler(),\n",
       "                                                                         ['RegistrationYear',\n",
       "                                                                          'Power',\n",
       "                                                                          'Kilometer'])])),\n",
       "                                       ('models', LinearRegression())]),\n",
       "             n_jobs=-1,\n",
       "             param_grid=[{'models': [DecisionTreeRegressor(random_state=42)],\n",
       "                          'models__max_depth': range(5, 7),\n",
       "                          'models__max_features': range(5, 7),\n",
       "                          'preprocessor__num': [StandardScaler(),\n",
       "                                                MinMaxScaler(),\n",
       "                                                'passthrough']}],\n",
       "             scoring='neg_mean_squared_error')"
      ]
     },
     "execution_count": 40,
     "metadata": {},
     "output_type": "execute_result"
    }
   ],
   "source": [
    "grid_3.fit(X_train, y_train)"
   ]
  },
  {
   "cell_type": "code",
   "execution_count": 41,
   "metadata": {},
   "outputs": [
    {
     "data": {
      "text/html": [
       "<style>#sk-container-id-4 {\n",
       "  /* Definition of color scheme common for light and dark mode */\n",
       "  --sklearn-color-text: black;\n",
       "  --sklearn-color-line: gray;\n",
       "  /* Definition of color scheme for unfitted estimators */\n",
       "  --sklearn-color-unfitted-level-0: #fff5e6;\n",
       "  --sklearn-color-unfitted-level-1: #f6e4d2;\n",
       "  --sklearn-color-unfitted-level-2: #ffe0b3;\n",
       "  --sklearn-color-unfitted-level-3: chocolate;\n",
       "  /* Definition of color scheme for fitted estimators */\n",
       "  --sklearn-color-fitted-level-0: #f0f8ff;\n",
       "  --sklearn-color-fitted-level-1: #d4ebff;\n",
       "  --sklearn-color-fitted-level-2: #b3dbfd;\n",
       "  --sklearn-color-fitted-level-3: cornflowerblue;\n",
       "\n",
       "  /* Specific color for light theme */\n",
       "  --sklearn-color-text-on-default-background: var(--sg-text-color, var(--theme-code-foreground, var(--jp-content-font-color1, black)));\n",
       "  --sklearn-color-background: var(--sg-background-color, var(--theme-background, var(--jp-layout-color0, white)));\n",
       "  --sklearn-color-border-box: var(--sg-text-color, var(--theme-code-foreground, var(--jp-content-font-color1, black)));\n",
       "  --sklearn-color-icon: #696969;\n",
       "\n",
       "  @media (prefers-color-scheme: dark) {\n",
       "    /* Redefinition of color scheme for dark theme */\n",
       "    --sklearn-color-text-on-default-background: var(--sg-text-color, var(--theme-code-foreground, var(--jp-content-font-color1, white)));\n",
       "    --sklearn-color-background: var(--sg-background-color, var(--theme-background, var(--jp-layout-color0, #111)));\n",
       "    --sklearn-color-border-box: var(--sg-text-color, var(--theme-code-foreground, var(--jp-content-font-color1, white)));\n",
       "    --sklearn-color-icon: #878787;\n",
       "  }\n",
       "}\n",
       "\n",
       "#sk-container-id-4 {\n",
       "  color: var(--sklearn-color-text);\n",
       "}\n",
       "\n",
       "#sk-container-id-4 pre {\n",
       "  padding: 0;\n",
       "}\n",
       "\n",
       "#sk-container-id-4 input.sk-hidden--visually {\n",
       "  border: 0;\n",
       "  clip: rect(1px 1px 1px 1px);\n",
       "  clip: rect(1px, 1px, 1px, 1px);\n",
       "  height: 1px;\n",
       "  margin: -1px;\n",
       "  overflow: hidden;\n",
       "  padding: 0;\n",
       "  position: absolute;\n",
       "  width: 1px;\n",
       "}\n",
       "\n",
       "#sk-container-id-4 div.sk-dashed-wrapped {\n",
       "  border: 1px dashed var(--sklearn-color-line);\n",
       "  margin: 0 0.4em 0.5em 0.4em;\n",
       "  box-sizing: border-box;\n",
       "  padding-bottom: 0.4em;\n",
       "  background-color: var(--sklearn-color-background);\n",
       "}\n",
       "\n",
       "#sk-container-id-4 div.sk-container {\n",
       "  /* jupyter's `normalize.less` sets `[hidden] { display: none; }`\n",
       "     but bootstrap.min.css set `[hidden] { display: none !important; }`\n",
       "     so we also need the `!important` here to be able to override the\n",
       "     default hidden behavior on the sphinx rendered scikit-learn.org.\n",
       "     See: https://github.com/scikit-learn/scikit-learn/issues/21755 */\n",
       "  display: inline-block !important;\n",
       "  position: relative;\n",
       "}\n",
       "\n",
       "#sk-container-id-4 div.sk-text-repr-fallback {\n",
       "  display: none;\n",
       "}\n",
       "\n",
       "div.sk-parallel-item,\n",
       "div.sk-serial,\n",
       "div.sk-item {\n",
       "  /* draw centered vertical line to link estimators */\n",
       "  background-image: linear-gradient(var(--sklearn-color-text-on-default-background), var(--sklearn-color-text-on-default-background));\n",
       "  background-size: 2px 100%;\n",
       "  background-repeat: no-repeat;\n",
       "  background-position: center center;\n",
       "}\n",
       "\n",
       "/* Parallel-specific style estimator block */\n",
       "\n",
       "#sk-container-id-4 div.sk-parallel-item::after {\n",
       "  content: \"\";\n",
       "  width: 100%;\n",
       "  border-bottom: 2px solid var(--sklearn-color-text-on-default-background);\n",
       "  flex-grow: 1;\n",
       "}\n",
       "\n",
       "#sk-container-id-4 div.sk-parallel {\n",
       "  display: flex;\n",
       "  align-items: stretch;\n",
       "  justify-content: center;\n",
       "  background-color: var(--sklearn-color-background);\n",
       "  position: relative;\n",
       "}\n",
       "\n",
       "#sk-container-id-4 div.sk-parallel-item {\n",
       "  display: flex;\n",
       "  flex-direction: column;\n",
       "}\n",
       "\n",
       "#sk-container-id-4 div.sk-parallel-item:first-child::after {\n",
       "  align-self: flex-end;\n",
       "  width: 50%;\n",
       "}\n",
       "\n",
       "#sk-container-id-4 div.sk-parallel-item:last-child::after {\n",
       "  align-self: flex-start;\n",
       "  width: 50%;\n",
       "}\n",
       "\n",
       "#sk-container-id-4 div.sk-parallel-item:only-child::after {\n",
       "  width: 0;\n",
       "}\n",
       "\n",
       "/* Serial-specific style estimator block */\n",
       "\n",
       "#sk-container-id-4 div.sk-serial {\n",
       "  display: flex;\n",
       "  flex-direction: column;\n",
       "  align-items: center;\n",
       "  background-color: var(--sklearn-color-background);\n",
       "  padding-right: 1em;\n",
       "  padding-left: 1em;\n",
       "}\n",
       "\n",
       "\n",
       "/* Toggleable style: style used for estimator/Pipeline/ColumnTransformer box that is\n",
       "clickable and can be expanded/collapsed.\n",
       "- Pipeline and ColumnTransformer use this feature and define the default style\n",
       "- Estimators will overwrite some part of the style using the `sk-estimator` class\n",
       "*/\n",
       "\n",
       "/* Pipeline and ColumnTransformer style (default) */\n",
       "\n",
       "#sk-container-id-4 div.sk-toggleable {\n",
       "  /* Default theme specific background. It is overwritten whether we have a\n",
       "  specific estimator or a Pipeline/ColumnTransformer */\n",
       "  background-color: var(--sklearn-color-background);\n",
       "}\n",
       "\n",
       "/* Toggleable label */\n",
       "#sk-container-id-4 label.sk-toggleable__label {\n",
       "  cursor: pointer;\n",
       "  display: block;\n",
       "  width: 100%;\n",
       "  margin-bottom: 0;\n",
       "  padding: 0.5em;\n",
       "  box-sizing: border-box;\n",
       "  text-align: center;\n",
       "}\n",
       "\n",
       "#sk-container-id-4 label.sk-toggleable__label-arrow:before {\n",
       "  /* Arrow on the left of the label */\n",
       "  content: \"▸\";\n",
       "  float: left;\n",
       "  margin-right: 0.25em;\n",
       "  color: var(--sklearn-color-icon);\n",
       "}\n",
       "\n",
       "#sk-container-id-4 label.sk-toggleable__label-arrow:hover:before {\n",
       "  color: var(--sklearn-color-text);\n",
       "}\n",
       "\n",
       "/* Toggleable content - dropdown */\n",
       "\n",
       "#sk-container-id-4 div.sk-toggleable__content {\n",
       "  max-height: 0;\n",
       "  max-width: 0;\n",
       "  overflow: hidden;\n",
       "  text-align: left;\n",
       "  /* unfitted */\n",
       "  background-color: var(--sklearn-color-unfitted-level-0);\n",
       "}\n",
       "\n",
       "#sk-container-id-4 div.sk-toggleable__content.fitted {\n",
       "  /* fitted */\n",
       "  background-color: var(--sklearn-color-fitted-level-0);\n",
       "}\n",
       "\n",
       "#sk-container-id-4 div.sk-toggleable__content pre {\n",
       "  margin: 0.2em;\n",
       "  border-radius: 0.25em;\n",
       "  color: var(--sklearn-color-text);\n",
       "  /* unfitted */\n",
       "  background-color: var(--sklearn-color-unfitted-level-0);\n",
       "}\n",
       "\n",
       "#sk-container-id-4 div.sk-toggleable__content.fitted pre {\n",
       "  /* unfitted */\n",
       "  background-color: var(--sklearn-color-fitted-level-0);\n",
       "}\n",
       "\n",
       "#sk-container-id-4 input.sk-toggleable__control:checked~div.sk-toggleable__content {\n",
       "  /* Expand drop-down */\n",
       "  max-height: 200px;\n",
       "  max-width: 100%;\n",
       "  overflow: auto;\n",
       "}\n",
       "\n",
       "#sk-container-id-4 input.sk-toggleable__control:checked~label.sk-toggleable__label-arrow:before {\n",
       "  content: \"▾\";\n",
       "}\n",
       "\n",
       "/* Pipeline/ColumnTransformer-specific style */\n",
       "\n",
       "#sk-container-id-4 div.sk-label input.sk-toggleable__control:checked~label.sk-toggleable__label {\n",
       "  color: var(--sklearn-color-text);\n",
       "  background-color: var(--sklearn-color-unfitted-level-2);\n",
       "}\n",
       "\n",
       "#sk-container-id-4 div.sk-label.fitted input.sk-toggleable__control:checked~label.sk-toggleable__label {\n",
       "  background-color: var(--sklearn-color-fitted-level-2);\n",
       "}\n",
       "\n",
       "/* Estimator-specific style */\n",
       "\n",
       "/* Colorize estimator box */\n",
       "#sk-container-id-4 div.sk-estimator input.sk-toggleable__control:checked~label.sk-toggleable__label {\n",
       "  /* unfitted */\n",
       "  background-color: var(--sklearn-color-unfitted-level-2);\n",
       "}\n",
       "\n",
       "#sk-container-id-4 div.sk-estimator.fitted input.sk-toggleable__control:checked~label.sk-toggleable__label {\n",
       "  /* fitted */\n",
       "  background-color: var(--sklearn-color-fitted-level-2);\n",
       "}\n",
       "\n",
       "#sk-container-id-4 div.sk-label label.sk-toggleable__label,\n",
       "#sk-container-id-4 div.sk-label label {\n",
       "  /* The background is the default theme color */\n",
       "  color: var(--sklearn-color-text-on-default-background);\n",
       "}\n",
       "\n",
       "/* On hover, darken the color of the background */\n",
       "#sk-container-id-4 div.sk-label:hover label.sk-toggleable__label {\n",
       "  color: var(--sklearn-color-text);\n",
       "  background-color: var(--sklearn-color-unfitted-level-2);\n",
       "}\n",
       "\n",
       "/* Label box, darken color on hover, fitted */\n",
       "#sk-container-id-4 div.sk-label.fitted:hover label.sk-toggleable__label.fitted {\n",
       "  color: var(--sklearn-color-text);\n",
       "  background-color: var(--sklearn-color-fitted-level-2);\n",
       "}\n",
       "\n",
       "/* Estimator label */\n",
       "\n",
       "#sk-container-id-4 div.sk-label label {\n",
       "  font-family: monospace;\n",
       "  font-weight: bold;\n",
       "  display: inline-block;\n",
       "  line-height: 1.2em;\n",
       "}\n",
       "\n",
       "#sk-container-id-4 div.sk-label-container {\n",
       "  text-align: center;\n",
       "}\n",
       "\n",
       "/* Estimator-specific */\n",
       "#sk-container-id-4 div.sk-estimator {\n",
       "  font-family: monospace;\n",
       "  border: 1px dotted var(--sklearn-color-border-box);\n",
       "  border-radius: 0.25em;\n",
       "  box-sizing: border-box;\n",
       "  margin-bottom: 0.5em;\n",
       "  /* unfitted */\n",
       "  background-color: var(--sklearn-color-unfitted-level-0);\n",
       "}\n",
       "\n",
       "#sk-container-id-4 div.sk-estimator.fitted {\n",
       "  /* fitted */\n",
       "  background-color: var(--sklearn-color-fitted-level-0);\n",
       "}\n",
       "\n",
       "/* on hover */\n",
       "#sk-container-id-4 div.sk-estimator:hover {\n",
       "  /* unfitted */\n",
       "  background-color: var(--sklearn-color-unfitted-level-2);\n",
       "}\n",
       "\n",
       "#sk-container-id-4 div.sk-estimator.fitted:hover {\n",
       "  /* fitted */\n",
       "  background-color: var(--sklearn-color-fitted-level-2);\n",
       "}\n",
       "\n",
       "/* Specification for estimator info (e.g. \"i\" and \"?\") */\n",
       "\n",
       "/* Common style for \"i\" and \"?\" */\n",
       "\n",
       ".sk-estimator-doc-link,\n",
       "a:link.sk-estimator-doc-link,\n",
       "a:visited.sk-estimator-doc-link {\n",
       "  float: right;\n",
       "  font-size: smaller;\n",
       "  line-height: 1em;\n",
       "  font-family: monospace;\n",
       "  background-color: var(--sklearn-color-background);\n",
       "  border-radius: 1em;\n",
       "  height: 1em;\n",
       "  width: 1em;\n",
       "  text-decoration: none !important;\n",
       "  margin-left: 1ex;\n",
       "  /* unfitted */\n",
       "  border: var(--sklearn-color-unfitted-level-1) 1pt solid;\n",
       "  color: var(--sklearn-color-unfitted-level-1);\n",
       "}\n",
       "\n",
       ".sk-estimator-doc-link.fitted,\n",
       "a:link.sk-estimator-doc-link.fitted,\n",
       "a:visited.sk-estimator-doc-link.fitted {\n",
       "  /* fitted */\n",
       "  border: var(--sklearn-color-fitted-level-1) 1pt solid;\n",
       "  color: var(--sklearn-color-fitted-level-1);\n",
       "}\n",
       "\n",
       "/* On hover */\n",
       "div.sk-estimator:hover .sk-estimator-doc-link:hover,\n",
       ".sk-estimator-doc-link:hover,\n",
       "div.sk-label-container:hover .sk-estimator-doc-link:hover,\n",
       ".sk-estimator-doc-link:hover {\n",
       "  /* unfitted */\n",
       "  background-color: var(--sklearn-color-unfitted-level-3);\n",
       "  color: var(--sklearn-color-background);\n",
       "  text-decoration: none;\n",
       "}\n",
       "\n",
       "div.sk-estimator.fitted:hover .sk-estimator-doc-link.fitted:hover,\n",
       ".sk-estimator-doc-link.fitted:hover,\n",
       "div.sk-label-container:hover .sk-estimator-doc-link.fitted:hover,\n",
       ".sk-estimator-doc-link.fitted:hover {\n",
       "  /* fitted */\n",
       "  background-color: var(--sklearn-color-fitted-level-3);\n",
       "  color: var(--sklearn-color-background);\n",
       "  text-decoration: none;\n",
       "}\n",
       "\n",
       "/* Span, style for the box shown on hovering the info icon */\n",
       ".sk-estimator-doc-link span {\n",
       "  display: none;\n",
       "  z-index: 9999;\n",
       "  position: relative;\n",
       "  font-weight: normal;\n",
       "  right: .2ex;\n",
       "  padding: .5ex;\n",
       "  margin: .5ex;\n",
       "  width: min-content;\n",
       "  min-width: 20ex;\n",
       "  max-width: 50ex;\n",
       "  color: var(--sklearn-color-text);\n",
       "  box-shadow: 2pt 2pt 4pt #999;\n",
       "  /* unfitted */\n",
       "  background: var(--sklearn-color-unfitted-level-0);\n",
       "  border: .5pt solid var(--sklearn-color-unfitted-level-3);\n",
       "}\n",
       "\n",
       ".sk-estimator-doc-link.fitted span {\n",
       "  /* fitted */\n",
       "  background: var(--sklearn-color-fitted-level-0);\n",
       "  border: var(--sklearn-color-fitted-level-3);\n",
       "}\n",
       "\n",
       ".sk-estimator-doc-link:hover span {\n",
       "  display: block;\n",
       "}\n",
       "\n",
       "/* \"?\"-specific style due to the `<a>` HTML tag */\n",
       "\n",
       "#sk-container-id-4 a.estimator_doc_link {\n",
       "  float: right;\n",
       "  font-size: 1rem;\n",
       "  line-height: 1em;\n",
       "  font-family: monospace;\n",
       "  background-color: var(--sklearn-color-background);\n",
       "  border-radius: 1rem;\n",
       "  height: 1rem;\n",
       "  width: 1rem;\n",
       "  text-decoration: none;\n",
       "  /* unfitted */\n",
       "  color: var(--sklearn-color-unfitted-level-1);\n",
       "  border: var(--sklearn-color-unfitted-level-1) 1pt solid;\n",
       "}\n",
       "\n",
       "#sk-container-id-4 a.estimator_doc_link.fitted {\n",
       "  /* fitted */\n",
       "  border: var(--sklearn-color-fitted-level-1) 1pt solid;\n",
       "  color: var(--sklearn-color-fitted-level-1);\n",
       "}\n",
       "\n",
       "/* On hover */\n",
       "#sk-container-id-4 a.estimator_doc_link:hover {\n",
       "  /* unfitted */\n",
       "  background-color: var(--sklearn-color-unfitted-level-3);\n",
       "  color: var(--sklearn-color-background);\n",
       "  text-decoration: none;\n",
       "}\n",
       "\n",
       "#sk-container-id-4 a.estimator_doc_link.fitted:hover {\n",
       "  /* fitted */\n",
       "  background-color: var(--sklearn-color-fitted-level-3);\n",
       "}\n",
       "</style><div id=\"sk-container-id-4\" class=\"sk-top-container\"><div class=\"sk-text-repr-fallback\"><pre>GridSearchCV(cv=5,\n",
       "             estimator=Pipeline(steps=[(&#x27;preprocessor&#x27;,\n",
       "                                        ColumnTransformer(remainder=&#x27;passthrough&#x27;,\n",
       "                                                          transformers=[(&#x27;ohe&#x27;,\n",
       "                                                                         Pipeline(steps=[(&#x27;simpleImputer_ohe&#x27;,\n",
       "                                                                                          SimpleImputer(strategy=&#x27;most_frequent&#x27;)),\n",
       "                                                                                         (&#x27;ohe&#x27;,\n",
       "                                                                                          OneHotEncoder(drop=&#x27;first&#x27;,\n",
       "                                                                                                        handle_unknown=&#x27;ignore&#x27;,\n",
       "                                                                                                        sparse_output=False))]),\n",
       "                                                                         [&#x27;VehicleType&#x27;,\n",
       "                                                                          &#x27;Gearbox&#x27;,\n",
       "                                                                          &#x27;FuelType&#x27;,\n",
       "                                                                          &#x27;Brand&#x27;,\n",
       "                                                                          &#x27;Repaired&#x27;]),\n",
       "                                                                        (&#x27;num&#x27;,\n",
       "                                                                         StandardScaler(),\n",
       "                                                                         [&#x27;RegistrationYear&#x27;,\n",
       "                                                                          &#x27;Power&#x27;,\n",
       "                                                                          &#x27;Kilometer&#x27;])])),\n",
       "                                       (&#x27;models&#x27;, LinearRegression())]),\n",
       "             n_jobs=-1,\n",
       "             param_grid=[{&#x27;models&#x27;: [LGBMRegressor(random_state=42)],\n",
       "                          &#x27;models__learning_rate&#x27;: [0.1, 0.15, 0.2],\n",
       "                          &#x27;models__num_leaves&#x27;: [50, 100, 150],\n",
       "                          &#x27;preprocessor__num&#x27;: [StandardScaler(),\n",
       "                                                MinMaxScaler(),\n",
       "                                                &#x27;passthrough&#x27;]}],\n",
       "             scoring=&#x27;neg_mean_squared_error&#x27;)</pre><b>In a Jupyter environment, please rerun this cell to show the HTML representation or trust the notebook. <br />On GitHub, the HTML representation is unable to render, please try loading this page with nbviewer.org.</b></div><div class=\"sk-container\" hidden><div class=\"sk-item sk-dashed-wrapped\"><div class=\"sk-label-container\"><div class=\"sk-label fitted sk-toggleable\"><input class=\"sk-toggleable__control sk-hidden--visually\" id=\"sk-estimator-id-34\" type=\"checkbox\" ><label for=\"sk-estimator-id-34\" class=\"sk-toggleable__label fitted sk-toggleable__label-arrow fitted\">&nbsp;&nbsp;GridSearchCV<a class=\"sk-estimator-doc-link fitted\" rel=\"noreferrer\" target=\"_blank\" href=\"https://scikit-learn.org/1.5/modules/generated/sklearn.model_selection.GridSearchCV.html\">?<span>Documentation for GridSearchCV</span></a><span class=\"sk-estimator-doc-link fitted\">i<span>Fitted</span></span></label><div class=\"sk-toggleable__content fitted\"><pre>GridSearchCV(cv=5,\n",
       "             estimator=Pipeline(steps=[(&#x27;preprocessor&#x27;,\n",
       "                                        ColumnTransformer(remainder=&#x27;passthrough&#x27;,\n",
       "                                                          transformers=[(&#x27;ohe&#x27;,\n",
       "                                                                         Pipeline(steps=[(&#x27;simpleImputer_ohe&#x27;,\n",
       "                                                                                          SimpleImputer(strategy=&#x27;most_frequent&#x27;)),\n",
       "                                                                                         (&#x27;ohe&#x27;,\n",
       "                                                                                          OneHotEncoder(drop=&#x27;first&#x27;,\n",
       "                                                                                                        handle_unknown=&#x27;ignore&#x27;,\n",
       "                                                                                                        sparse_output=False))]),\n",
       "                                                                         [&#x27;VehicleType&#x27;,\n",
       "                                                                          &#x27;Gearbox&#x27;,\n",
       "                                                                          &#x27;FuelType&#x27;,\n",
       "                                                                          &#x27;Brand&#x27;,\n",
       "                                                                          &#x27;Repaired&#x27;]),\n",
       "                                                                        (&#x27;num&#x27;,\n",
       "                                                                         StandardScaler(),\n",
       "                                                                         [&#x27;RegistrationYear&#x27;,\n",
       "                                                                          &#x27;Power&#x27;,\n",
       "                                                                          &#x27;Kilometer&#x27;])])),\n",
       "                                       (&#x27;models&#x27;, LinearRegression())]),\n",
       "             n_jobs=-1,\n",
       "             param_grid=[{&#x27;models&#x27;: [LGBMRegressor(random_state=42)],\n",
       "                          &#x27;models__learning_rate&#x27;: [0.1, 0.15, 0.2],\n",
       "                          &#x27;models__num_leaves&#x27;: [50, 100, 150],\n",
       "                          &#x27;preprocessor__num&#x27;: [StandardScaler(),\n",
       "                                                MinMaxScaler(),\n",
       "                                                &#x27;passthrough&#x27;]}],\n",
       "             scoring=&#x27;neg_mean_squared_error&#x27;)</pre></div> </div></div><div class=\"sk-parallel\"><div class=\"sk-parallel-item\"><div class=\"sk-item\"><div class=\"sk-label-container\"><div class=\"sk-label fitted sk-toggleable\"><input class=\"sk-toggleable__control sk-hidden--visually\" id=\"sk-estimator-id-35\" type=\"checkbox\" ><label for=\"sk-estimator-id-35\" class=\"sk-toggleable__label fitted sk-toggleable__label-arrow fitted\">best_estimator_: Pipeline</label><div class=\"sk-toggleable__content fitted\"><pre>Pipeline(steps=[(&#x27;preprocessor&#x27;,\n",
       "                 ColumnTransformer(remainder=&#x27;passthrough&#x27;,\n",
       "                                   transformers=[(&#x27;ohe&#x27;,\n",
       "                                                  Pipeline(steps=[(&#x27;simpleImputer_ohe&#x27;,\n",
       "                                                                   SimpleImputer(strategy=&#x27;most_frequent&#x27;)),\n",
       "                                                                  (&#x27;ohe&#x27;,\n",
       "                                                                   OneHotEncoder(drop=&#x27;first&#x27;,\n",
       "                                                                                 handle_unknown=&#x27;ignore&#x27;,\n",
       "                                                                                 sparse_output=False))]),\n",
       "                                                  [&#x27;VehicleType&#x27;, &#x27;Gearbox&#x27;,\n",
       "                                                   &#x27;FuelType&#x27;, &#x27;Brand&#x27;,\n",
       "                                                   &#x27;Repaired&#x27;]),\n",
       "                                                 (&#x27;num&#x27;, StandardScaler(),\n",
       "                                                  [&#x27;RegistrationYear&#x27;, &#x27;Power&#x27;,\n",
       "                                                   &#x27;Kilometer&#x27;])])),\n",
       "                (&#x27;models&#x27;,\n",
       "                 LGBMRegressor(learning_rate=0.2, num_leaves=150,\n",
       "                               random_state=42))])</pre></div> </div></div><div class=\"sk-serial\"><div class=\"sk-item\"><div class=\"sk-serial\"><div class=\"sk-item sk-dashed-wrapped\"><div class=\"sk-label-container\"><div class=\"sk-label fitted sk-toggleable\"><input class=\"sk-toggleable__control sk-hidden--visually\" id=\"sk-estimator-id-36\" type=\"checkbox\" ><label for=\"sk-estimator-id-36\" class=\"sk-toggleable__label fitted sk-toggleable__label-arrow fitted\">&nbsp;preprocessor: ColumnTransformer<a class=\"sk-estimator-doc-link fitted\" rel=\"noreferrer\" target=\"_blank\" href=\"https://scikit-learn.org/1.5/modules/generated/sklearn.compose.ColumnTransformer.html\">?<span>Documentation for preprocessor: ColumnTransformer</span></a></label><div class=\"sk-toggleable__content fitted\"><pre>ColumnTransformer(remainder=&#x27;passthrough&#x27;,\n",
       "                  transformers=[(&#x27;ohe&#x27;,\n",
       "                                 Pipeline(steps=[(&#x27;simpleImputer_ohe&#x27;,\n",
       "                                                  SimpleImputer(strategy=&#x27;most_frequent&#x27;)),\n",
       "                                                 (&#x27;ohe&#x27;,\n",
       "                                                  OneHotEncoder(drop=&#x27;first&#x27;,\n",
       "                                                                handle_unknown=&#x27;ignore&#x27;,\n",
       "                                                                sparse_output=False))]),\n",
       "                                 [&#x27;VehicleType&#x27;, &#x27;Gearbox&#x27;, &#x27;FuelType&#x27;, &#x27;Brand&#x27;,\n",
       "                                  &#x27;Repaired&#x27;]),\n",
       "                                (&#x27;num&#x27;, StandardScaler(),\n",
       "                                 [&#x27;RegistrationYear&#x27;, &#x27;Power&#x27;, &#x27;Kilometer&#x27;])])</pre></div> </div></div><div class=\"sk-parallel\"><div class=\"sk-parallel-item\"><div class=\"sk-item\"><div class=\"sk-label-container\"><div class=\"sk-label fitted sk-toggleable\"><input class=\"sk-toggleable__control sk-hidden--visually\" id=\"sk-estimator-id-37\" type=\"checkbox\" ><label for=\"sk-estimator-id-37\" class=\"sk-toggleable__label fitted sk-toggleable__label-arrow fitted\">ohe</label><div class=\"sk-toggleable__content fitted\"><pre>[&#x27;VehicleType&#x27;, &#x27;Gearbox&#x27;, &#x27;FuelType&#x27;, &#x27;Brand&#x27;, &#x27;Repaired&#x27;]</pre></div> </div></div><div class=\"sk-serial\"><div class=\"sk-item\"><div class=\"sk-serial\"><div class=\"sk-item\"><div class=\"sk-estimator fitted sk-toggleable\"><input class=\"sk-toggleable__control sk-hidden--visually\" id=\"sk-estimator-id-38\" type=\"checkbox\" ><label for=\"sk-estimator-id-38\" class=\"sk-toggleable__label fitted sk-toggleable__label-arrow fitted\">&nbsp;SimpleImputer<a class=\"sk-estimator-doc-link fitted\" rel=\"noreferrer\" target=\"_blank\" href=\"https://scikit-learn.org/1.5/modules/generated/sklearn.impute.SimpleImputer.html\">?<span>Documentation for SimpleImputer</span></a></label><div class=\"sk-toggleable__content fitted\"><pre>SimpleImputer(strategy=&#x27;most_frequent&#x27;)</pre></div> </div></div><div class=\"sk-item\"><div class=\"sk-estimator fitted sk-toggleable\"><input class=\"sk-toggleable__control sk-hidden--visually\" id=\"sk-estimator-id-39\" type=\"checkbox\" ><label for=\"sk-estimator-id-39\" class=\"sk-toggleable__label fitted sk-toggleable__label-arrow fitted\">&nbsp;OneHotEncoder<a class=\"sk-estimator-doc-link fitted\" rel=\"noreferrer\" target=\"_blank\" href=\"https://scikit-learn.org/1.5/modules/generated/sklearn.preprocessing.OneHotEncoder.html\">?<span>Documentation for OneHotEncoder</span></a></label><div class=\"sk-toggleable__content fitted\"><pre>OneHotEncoder(drop=&#x27;first&#x27;, handle_unknown=&#x27;ignore&#x27;, sparse_output=False)</pre></div> </div></div></div></div></div></div></div><div class=\"sk-parallel-item\"><div class=\"sk-item\"><div class=\"sk-label-container\"><div class=\"sk-label fitted sk-toggleable\"><input class=\"sk-toggleable__control sk-hidden--visually\" id=\"sk-estimator-id-40\" type=\"checkbox\" ><label for=\"sk-estimator-id-40\" class=\"sk-toggleable__label fitted sk-toggleable__label-arrow fitted\">num</label><div class=\"sk-toggleable__content fitted\"><pre>[&#x27;RegistrationYear&#x27;, &#x27;Power&#x27;, &#x27;Kilometer&#x27;]</pre></div> </div></div><div class=\"sk-serial\"><div class=\"sk-item\"><div class=\"sk-estimator fitted sk-toggleable\"><input class=\"sk-toggleable__control sk-hidden--visually\" id=\"sk-estimator-id-41\" type=\"checkbox\" ><label for=\"sk-estimator-id-41\" class=\"sk-toggleable__label fitted sk-toggleable__label-arrow fitted\">&nbsp;StandardScaler<a class=\"sk-estimator-doc-link fitted\" rel=\"noreferrer\" target=\"_blank\" href=\"https://scikit-learn.org/1.5/modules/generated/sklearn.preprocessing.StandardScaler.html\">?<span>Documentation for StandardScaler</span></a></label><div class=\"sk-toggleable__content fitted\"><pre>StandardScaler()</pre></div> </div></div></div></div></div><div class=\"sk-parallel-item\"><div class=\"sk-item\"><div class=\"sk-label-container\"><div class=\"sk-label fitted sk-toggleable\"><input class=\"sk-toggleable__control sk-hidden--visually\" id=\"sk-estimator-id-42\" type=\"checkbox\" ><label for=\"sk-estimator-id-42\" class=\"sk-toggleable__label fitted sk-toggleable__label-arrow fitted\">remainder</label><div class=\"sk-toggleable__content fitted\"><pre>[]</pre></div> </div></div><div class=\"sk-serial\"><div class=\"sk-item\"><div class=\"sk-estimator fitted sk-toggleable\"><input class=\"sk-toggleable__control sk-hidden--visually\" id=\"sk-estimator-id-43\" type=\"checkbox\" ><label for=\"sk-estimator-id-43\" class=\"sk-toggleable__label fitted sk-toggleable__label-arrow fitted\">passthrough</label><div class=\"sk-toggleable__content fitted\"><pre>passthrough</pre></div> </div></div></div></div></div></div></div><div class=\"sk-item\"><div class=\"sk-estimator fitted sk-toggleable\"><input class=\"sk-toggleable__control sk-hidden--visually\" id=\"sk-estimator-id-44\" type=\"checkbox\" ><label for=\"sk-estimator-id-44\" class=\"sk-toggleable__label fitted sk-toggleable__label-arrow fitted\">LGBMRegressor</label><div class=\"sk-toggleable__content fitted\"><pre>LGBMRegressor(learning_rate=0.2, num_leaves=150, random_state=42)</pre></div> </div></div></div></div></div></div></div></div></div></div></div>"
      ],
      "text/plain": [
       "GridSearchCV(cv=5,\n",
       "             estimator=Pipeline(steps=[('preprocessor',\n",
       "                                        ColumnTransformer(remainder='passthrough',\n",
       "                                                          transformers=[('ohe',\n",
       "                                                                         Pipeline(steps=[('simpleImputer_ohe',\n",
       "                                                                                          SimpleImputer(strategy='most_frequent')),\n",
       "                                                                                         ('ohe',\n",
       "                                                                                          OneHotEncoder(drop='first',\n",
       "                                                                                                        handle_unknown='ignore',\n",
       "                                                                                                        sparse_output=False))]),\n",
       "                                                                         ['VehicleType',\n",
       "                                                                          'Gearbox',\n",
       "                                                                          'FuelType',\n",
       "                                                                          'Brand',\n",
       "                                                                          'Repaired']),\n",
       "                                                                        ('num',\n",
       "                                                                         StandardScaler(),\n",
       "                                                                         ['RegistrationYear',\n",
       "                                                                          'Power',\n",
       "                                                                          'Kilometer'])])),\n",
       "                                       ('models', LinearRegression())]),\n",
       "             n_jobs=-1,\n",
       "             param_grid=[{'models': [LGBMRegressor(random_state=42)],\n",
       "                          'models__learning_rate': [0.1, 0.15, 0.2],\n",
       "                          'models__num_leaves': [50, 100, 150],\n",
       "                          'preprocessor__num': [StandardScaler(),\n",
       "                                                MinMaxScaler(),\n",
       "                                                'passthrough']}],\n",
       "             scoring='neg_mean_squared_error')"
      ]
     },
     "execution_count": 41,
     "metadata": {},
     "output_type": "execute_result"
    }
   ],
   "source": [
    "grid_4.fit(X_train, y_train)"
   ]
  },
  {
   "cell_type": "code",
   "execution_count": 56,
   "metadata": {},
   "outputs": [],
   "source": [
    "def time_test(model, X_train, y_train):\n",
    "    rmse = round((model.best_score_ * (-1)) ** 0.5, 2)\n",
    "    \n",
    "    start = time.time()\n",
    "    model.best_estimator_.fit(X_train, y_train)\n",
    "    end = time.time()\n",
    "    train_time = round((end - start) / 60, 3)\n",
    "\n",
    "    start = time.time()\n",
    "    y_pred = model.best_estimator_.predict(X_train)\n",
    "    end = time.time()\n",
    "    pred_time = round((end - start) / 60, 3)\n",
    "\n",
    "    return [train_time, pred_time, rmse]"
   ]
  },
  {
   "cell_type": "code",
   "execution_count": 57,
   "metadata": {},
   "outputs": [],
   "source": [
    "info_1 = time_test(grid_1, X_train, y_train)\n",
    "info_2 = time_test(grid_2, X_train, y_train)\n",
    "info_3 = time_test(grid_3, X_train, y_train)\n",
    "info_4 = time_test(grid_4, X_train, y_train)"
   ]
  },
  {
   "cell_type": "code",
   "execution_count": 58,
   "metadata": {},
   "outputs": [
    {
     "data": {
      "text/plain": [
       "[0.009, 0.007, 4579.97]"
      ]
     },
     "execution_count": 58,
     "metadata": {},
     "output_type": "execute_result"
    }
   ],
   "source": [
    "info_1"
   ]
  },
  {
   "cell_type": "code",
   "execution_count": 59,
   "metadata": {},
   "outputs": [
    {
     "data": {
      "text/plain": [
       "[0.044, 0.01, 2854.04]"
      ]
     },
     "execution_count": 59,
     "metadata": {},
     "output_type": "execute_result"
    }
   ],
   "source": [
    "info_2"
   ]
  },
  {
   "cell_type": "code",
   "execution_count": 60,
   "metadata": {},
   "outputs": [
    {
     "data": {
      "text/plain": [
       "[0.014, 0.008, 3345.8]"
      ]
     },
     "execution_count": 60,
     "metadata": {},
     "output_type": "execute_result"
    }
   ],
   "source": [
    "info_3"
   ]
  },
  {
   "cell_type": "code",
   "execution_count": 61,
   "metadata": {},
   "outputs": [
    {
     "data": {
      "text/plain": [
       "[0.154, 0.042, 1653.7]"
      ]
     },
     "execution_count": 61,
     "metadata": {},
     "output_type": "execute_result"
    }
   ],
   "source": [
    "info_4"
   ]
  },
  {
   "cell_type": "markdown",
   "metadata": {},
   "source": [
    "## Анализ моделей"
   ]
  },
  {
   "cell_type": "code",
   "execution_count": 62,
   "metadata": {},
   "outputs": [
    {
     "data": {
      "text/html": [
       "<div>\n",
       "<style scoped>\n",
       "    .dataframe tbody tr th:only-of-type {\n",
       "        vertical-align: middle;\n",
       "    }\n",
       "\n",
       "    .dataframe tbody tr th {\n",
       "        vertical-align: top;\n",
       "    }\n",
       "\n",
       "    .dataframe thead th {\n",
       "        text-align: right;\n",
       "    }\n",
       "</style>\n",
       "<table border=\"1\" class=\"dataframe\">\n",
       "  <thead>\n",
       "    <tr style=\"text-align: right;\">\n",
       "      <th></th>\n",
       "      <th>fit_time</th>\n",
       "      <th>predict_time</th>\n",
       "      <th>RMSE</th>\n",
       "    </tr>\n",
       "  </thead>\n",
       "  <tbody>\n",
       "    <tr>\n",
       "      <th>LGBMRegressor</th>\n",
       "      <td>0.154</td>\n",
       "      <td>0.042</td>\n",
       "      <td>1653.70</td>\n",
       "    </tr>\n",
       "    <tr>\n",
       "      <th>LinearRegression</th>\n",
       "      <td>0.044</td>\n",
       "      <td>0.010</td>\n",
       "      <td>2854.04</td>\n",
       "    </tr>\n",
       "    <tr>\n",
       "      <th>DecisionTreeRegressor</th>\n",
       "      <td>0.014</td>\n",
       "      <td>0.008</td>\n",
       "      <td>3345.80</td>\n",
       "    </tr>\n",
       "    <tr>\n",
       "      <th>DummyRegressor</th>\n",
       "      <td>0.009</td>\n",
       "      <td>0.007</td>\n",
       "      <td>4579.97</td>\n",
       "    </tr>\n",
       "  </tbody>\n",
       "</table>\n",
       "</div>"
      ],
      "text/plain": [
       "                       fit_time  predict_time     RMSE\n",
       "LGBMRegressor             0.154         0.042  1653.70\n",
       "LinearRegression          0.044         0.010  2854.04\n",
       "DecisionTreeRegressor     0.014         0.008  3345.80\n",
       "DummyRegressor            0.009         0.007  4579.97"
      ]
     },
     "execution_count": 62,
     "metadata": {},
     "output_type": "execute_result"
    }
   ],
   "source": [
    "result = pd.DataFrame(data=[info_1, info_2, info_3, info_4], index=[\"DummyRegressor\", \"LinearRegression\", \n",
    "                                                          \"DecisionTreeRegressor\", \"LGBMRegressor\"], \n",
    "             columns=[\"fit_time\", \"predict_time\", \"RMSE\"])\n",
    "result.sort_values('RMSE', ascending=True)"
   ]
  },
  {
   "cell_type": "markdown",
   "metadata": {},
   "source": [
    "Требования заказчика:\n",
    "- RMSE < 2500\n",
    "- RMSE минимальная\n",
    "- Скорость обучения/предсказания минимальна\n",
    "\n",
    "Следовательно, лучшей моделью будет LGBMRegressor."
   ]
  },
  {
   "cell_type": "code",
   "execution_count": 63,
   "metadata": {},
   "outputs": [
    {
     "name": "stdout",
     "output_type": "stream",
     "text": [
      "RMSE лучшей модели на тестовой выборке: 1647.49\n"
     ]
    }
   ],
   "source": [
    "y_pred = grid_4.best_estimator_.predict(X_test)\n",
    "print('RMSE лучшей модели на тестовой выборке:', round(mean_squared_error(y_test, y_pred) ** 0.5, 2))"
   ]
  },
  {
   "cell_type": "markdown",
   "metadata": {},
   "source": [
    "## Общий вывод"
   ]
  },
  {
   "cell_type": "markdown",
   "metadata": {},
   "source": [
    "- Учитывая предпочтения заказчика, лучшей моделью будет LGBMRegressor. Она показала лучшую метрику RMSE и среднее время обучения/предсказания\n",
    "- В ходе работы были отобраны значимые признаки:\n",
    "    - VehicleType, тип автомобильного кузова опрееляет функционал машины, следовательно, влияет на стоимость автомобиля\n",
    "    - RegistrationYear, с каждым годом стоимость машины падает, чем старее авто, тем оно дешевле\n",
    "    - Gearbox, автоматическая коробка передач дороже механической\n",
    "    - Power, чем больше лошидинных сил, тем дороже машина\n",
    "    - Model, некоторые модели более популярны среди покупателей, чем другие, это влияет на стоимость\n",
    "    - Kilometer, чем больше машина использовалась, тем больше она изношена, тем меньше её стоимость\n",
    "    - FuelType, влияет на цену, напрмер, дизельные машины устроенны сложнее, поэтому стоят дороже\n",
    "    - Brand, компания производитель отвечает не только за качество машины, но и социальный стутус водителя, поэтому цена варьируется\n",
    "    - Repaired, любое ДТП снижает стоимость автомобиля\n",
    "Оставшиеся признаки не несут смысловой нагрузки в рамках выполняемой задачи\n",
    "- Над отобранными признаками была проведена предобработка:\n",
    "    - Явные дубликаты были удалены\n",
    "    - Пропуски в каждом столбце были заполнены согласно здравому смыслу\n",
    "    - Выбросы в данных были выявлены, прокомментированы и устранены\n",
    "    - Признак 'Model' сильно коррелирует с 'Brand' (1.00), 'VehicleType' (0.90), 'Power' (0.81). Это можно привести к неустойчивости обучаемой модели, поэтому исключим признак 'Model' из данных\n",
    "- Признаки были закодированы с помощью OneHotEncoder\n",
    "- Были обучены и протестированы 4 модели: DummyRegressor, LinearRegression, DecisionTreeRegressor, LGBMRegressor\n",
    "- Был проведен анализ времени обучения, предсказания и метрики RMSE"
   ]
  }
 ],
 "metadata": {
  "ExecuteTimeLog": [
   {
    "duration": 360,
    "start_time": "2024-08-01T05:01:16.136Z"
   },
   {
    "duration": 1104,
    "start_time": "2024-08-01T05:01:39.569Z"
   },
   {
    "duration": 18,
    "start_time": "2024-08-01T05:01:54.408Z"
   },
   {
    "duration": 60,
    "start_time": "2024-08-01T05:03:18.460Z"
   },
   {
    "duration": 790,
    "start_time": "2024-08-01T05:07:40.446Z"
   },
   {
    "duration": 12,
    "start_time": "2024-08-01T05:07:49.082Z"
   },
   {
    "duration": 133,
    "start_time": "2024-08-01T05:12:59.003Z"
   },
   {
    "duration": 4,
    "start_time": "2024-08-01T05:35:18.792Z"
   },
   {
    "duration": 379,
    "start_time": "2024-08-01T05:35:48.350Z"
   },
   {
    "duration": 6,
    "start_time": "2024-08-01T05:36:02.950Z"
   },
   {
    "duration": 37,
    "start_time": "2024-08-01T05:36:55.970Z"
   },
   {
    "duration": 23,
    "start_time": "2024-08-01T05:37:07.899Z"
   },
   {
    "duration": 11,
    "start_time": "2024-08-01T05:37:34.906Z"
   },
   {
    "duration": 398,
    "start_time": "2024-08-01T05:37:55.127Z"
   },
   {
    "duration": 807,
    "start_time": "2024-08-01T05:37:55.527Z"
   },
   {
    "duration": 17,
    "start_time": "2024-08-01T05:37:56.335Z"
   },
   {
    "duration": 25,
    "start_time": "2024-08-01T05:37:56.353Z"
   },
   {
    "duration": 99,
    "start_time": "2024-08-01T05:37:56.380Z"
   },
   {
    "duration": 3,
    "start_time": "2024-08-01T05:37:56.481Z"
   },
   {
    "duration": 55,
    "start_time": "2024-08-01T05:42:55.573Z"
   },
   {
    "duration": 371,
    "start_time": "2024-08-01T05:43:12.710Z"
   },
   {
    "duration": 778,
    "start_time": "2024-08-01T05:43:13.082Z"
   },
   {
    "duration": 17,
    "start_time": "2024-08-01T05:43:13.861Z"
   },
   {
    "duration": 32,
    "start_time": "2024-08-01T05:43:13.879Z"
   },
   {
    "duration": 91,
    "start_time": "2024-08-01T05:43:13.913Z"
   },
   {
    "duration": 3,
    "start_time": "2024-08-01T05:43:14.006Z"
   },
   {
    "duration": 60,
    "start_time": "2024-08-01T05:43:14.011Z"
   },
   {
    "duration": 875,
    "start_time": "2024-08-01T05:43:55.124Z"
   },
   {
    "duration": 146,
    "start_time": "2024-08-01T05:43:59.799Z"
   },
   {
    "duration": 6,
    "start_time": "2024-08-01T05:44:14.917Z"
   },
   {
    "duration": 8172,
    "start_time": "2024-08-01T05:44:15.857Z"
   },
   {
    "duration": 189,
    "start_time": "2024-08-01T05:49:48.403Z"
   },
   {
    "duration": 415,
    "start_time": "2024-08-01T05:50:25.166Z"
   },
   {
    "duration": 10,
    "start_time": "2024-08-01T05:51:06.766Z"
   },
   {
    "duration": 7,
    "start_time": "2024-08-01T05:51:18.977Z"
   },
   {
    "duration": 96,
    "start_time": "2024-08-01T05:51:39.946Z"
   },
   {
    "duration": 133,
    "start_time": "2024-08-01T05:51:55.392Z"
   },
   {
    "duration": 19,
    "start_time": "2024-08-01T05:56:38.956Z"
   },
   {
    "duration": 5,
    "start_time": "2024-08-01T05:56:45.095Z"
   },
   {
    "duration": 1146,
    "start_time": "2024-08-01T05:57:04.265Z"
   },
   {
    "duration": 795,
    "start_time": "2024-08-01T05:57:05.412Z"
   },
   {
    "duration": 14,
    "start_time": "2024-08-01T05:57:06.209Z"
   },
   {
    "duration": 23,
    "start_time": "2024-08-01T05:57:06.224Z"
   },
   {
    "duration": 103,
    "start_time": "2024-08-01T05:57:06.248Z"
   },
   {
    "duration": 191,
    "start_time": "2024-08-01T05:57:06.352Z"
   },
   {
    "duration": 366,
    "start_time": "2024-08-01T05:57:06.544Z"
   },
   {
    "duration": 110,
    "start_time": "2024-08-01T05:57:06.912Z"
   },
   {
    "duration": 18,
    "start_time": "2024-08-01T05:57:07.024Z"
   },
   {
    "duration": 13,
    "start_time": "2024-08-01T05:57:07.044Z"
   },
   {
    "duration": 16,
    "start_time": "2024-08-01T05:57:27.351Z"
   },
   {
    "duration": 16,
    "start_time": "2024-08-01T05:57:29.663Z"
   },
   {
    "duration": 4,
    "start_time": "2024-08-01T05:59:57.152Z"
   },
   {
    "duration": 30,
    "start_time": "2024-08-01T06:03:28.955Z"
   },
   {
    "duration": 14,
    "start_time": "2024-08-01T06:03:31.764Z"
   },
   {
    "duration": 5,
    "start_time": "2024-08-01T06:03:49.952Z"
   },
   {
    "duration": 1374,
    "start_time": "2024-08-01T17:08:32.117Z"
   },
   {
    "duration": 3092,
    "start_time": "2024-08-01T17:08:33.493Z"
   },
   {
    "duration": 16,
    "start_time": "2024-08-01T17:08:36.587Z"
   },
   {
    "duration": 101,
    "start_time": "2024-08-01T17:08:36.606Z"
   },
   {
    "duration": 106,
    "start_time": "2024-08-01T17:08:36.709Z"
   },
   {
    "duration": 248,
    "start_time": "2024-08-01T17:08:36.817Z"
   },
   {
    "duration": 434,
    "start_time": "2024-08-01T17:08:37.067Z"
   },
   {
    "duration": 147,
    "start_time": "2024-08-01T17:08:37.503Z"
   },
   {
    "duration": 19,
    "start_time": "2024-08-01T17:08:37.651Z"
   },
   {
    "duration": 36,
    "start_time": "2024-08-01T17:08:37.673Z"
   },
   {
    "duration": 6,
    "start_time": "2024-08-01T17:08:37.711Z"
   },
   {
    "duration": 6,
    "start_time": "2024-08-01T17:40:29.999Z"
   },
   {
    "duration": 730,
    "start_time": "2024-08-01T17:40:48.220Z"
   },
   {
    "duration": 893,
    "start_time": "2024-08-01T17:41:30.201Z"
   },
   {
    "duration": 642,
    "start_time": "2024-08-01T17:44:08.791Z"
   },
   {
    "duration": 16,
    "start_time": "2024-08-01T17:46:09.745Z"
   },
   {
    "duration": 29,
    "start_time": "2024-08-01T17:46:50.717Z"
   },
   {
    "duration": 17,
    "start_time": "2024-08-01T17:46:51.183Z"
   },
   {
    "duration": 15,
    "start_time": "2024-08-01T17:46:58.513Z"
   },
   {
    "duration": 12,
    "start_time": "2024-08-01T17:47:49.252Z"
   },
   {
    "duration": 12,
    "start_time": "2024-08-01T17:47:57.574Z"
   },
   {
    "duration": 12,
    "start_time": "2024-08-01T17:48:03.440Z"
   },
   {
    "duration": 16,
    "start_time": "2024-08-01T17:48:12.999Z"
   },
   {
    "duration": 38,
    "start_time": "2024-08-01T17:50:48.316Z"
   },
   {
    "duration": 5,
    "start_time": "2024-08-01T17:52:15.569Z"
   },
   {
    "duration": 6,
    "start_time": "2024-08-01T17:52:36.666Z"
   },
   {
    "duration": 178,
    "start_time": "2024-08-01T17:52:48.737Z"
   },
   {
    "duration": 5,
    "start_time": "2024-08-01T17:53:11.530Z"
   },
   {
    "duration": 196,
    "start_time": "2024-08-01T17:53:14.380Z"
   },
   {
    "duration": 1210,
    "start_time": "2024-08-01T17:53:58.245Z"
   },
   {
    "duration": 988,
    "start_time": "2024-08-01T17:53:59.457Z"
   },
   {
    "duration": 17,
    "start_time": "2024-08-01T17:54:00.447Z"
   },
   {
    "duration": 82,
    "start_time": "2024-08-01T17:54:00.465Z"
   },
   {
    "duration": 222,
    "start_time": "2024-08-01T17:54:00.549Z"
   },
   {
    "duration": 361,
    "start_time": "2024-08-01T17:54:00.773Z"
   },
   {
    "duration": 628,
    "start_time": "2024-08-01T17:54:01.136Z"
   },
   {
    "duration": 208,
    "start_time": "2024-08-01T17:54:01.766Z"
   },
   {
    "duration": 5,
    "start_time": "2024-08-01T17:54:01.977Z"
   },
   {
    "duration": 828,
    "start_time": "2024-08-01T17:54:01.984Z"
   },
   {
    "duration": 29,
    "start_time": "2024-08-01T17:54:02.814Z"
   },
   {
    "duration": 354,
    "start_time": "2024-08-01T17:54:02.845Z"
   },
   {
    "duration": 16,
    "start_time": "2024-08-01T17:54:03.200Z"
   },
   {
    "duration": 1210,
    "start_time": "2024-08-01T17:54:39.147Z"
   },
   {
    "duration": 934,
    "start_time": "2024-08-01T17:54:40.359Z"
   },
   {
    "duration": 20,
    "start_time": "2024-08-01T17:54:41.295Z"
   },
   {
    "duration": 32,
    "start_time": "2024-08-01T17:54:41.316Z"
   },
   {
    "duration": 120,
    "start_time": "2024-08-01T17:54:41.350Z"
   },
   {
    "duration": 253,
    "start_time": "2024-08-01T17:54:41.472Z"
   },
   {
    "duration": 437,
    "start_time": "2024-08-01T17:54:41.727Z"
   },
   {
    "duration": 124,
    "start_time": "2024-08-01T17:54:42.165Z"
   },
   {
    "duration": 5,
    "start_time": "2024-08-01T17:54:42.291Z"
   },
   {
    "duration": 600,
    "start_time": "2024-08-01T17:54:42.298Z"
   },
   {
    "duration": 29,
    "start_time": "2024-08-01T17:54:42.900Z"
   },
   {
    "duration": 273,
    "start_time": "2024-08-01T17:54:42.930Z"
   },
   {
    "duration": 62210,
    "start_time": "2024-08-01T17:54:43.204Z"
   },
   {
    "duration": 28,
    "start_time": "2024-08-01T17:55:45.416Z"
   },
   {
    "duration": 82,
    "start_time": "2024-08-01T17:55:45.446Z"
   },
   {
    "duration": 1247,
    "start_time": "2024-08-01T17:56:03.919Z"
   },
   {
    "duration": 972,
    "start_time": "2024-08-01T17:56:05.168Z"
   },
   {
    "duration": 20,
    "start_time": "2024-08-01T17:56:06.142Z"
   },
   {
    "duration": 57,
    "start_time": "2024-08-01T17:56:06.164Z"
   },
   {
    "duration": 113,
    "start_time": "2024-08-01T17:56:06.223Z"
   },
   {
    "duration": 225,
    "start_time": "2024-08-01T17:56:06.338Z"
   },
   {
    "duration": 439,
    "start_time": "2024-08-01T17:56:06.565Z"
   },
   {
    "duration": 95,
    "start_time": "2024-08-01T17:56:07.006Z"
   },
   {
    "duration": 146,
    "start_time": "2024-08-01T17:56:07.102Z"
   },
   {
    "duration": 5,
    "start_time": "2024-08-01T17:56:07.249Z"
   },
   {
    "duration": 623,
    "start_time": "2024-08-01T17:56:07.256Z"
   },
   {
    "duration": 28,
    "start_time": "2024-08-01T17:56:07.882Z"
   },
   {
    "duration": 231,
    "start_time": "2024-08-01T17:56:07.912Z"
   },
   {
    "duration": 1047,
    "start_time": "2024-08-01T17:56:08.146Z"
   },
   {
    "duration": 1010,
    "start_time": "2024-08-01T18:04:33.336Z"
   },
   {
    "duration": 839,
    "start_time": "2024-08-01T18:05:12.521Z"
   },
   {
    "duration": 1222,
    "start_time": "2024-08-01T18:05:19.049Z"
   },
   {
    "duration": 1005,
    "start_time": "2024-08-01T18:05:20.273Z"
   },
   {
    "duration": 17,
    "start_time": "2024-08-01T18:05:21.279Z"
   },
   {
    "duration": 55,
    "start_time": "2024-08-01T18:05:21.299Z"
   },
   {
    "duration": 112,
    "start_time": "2024-08-01T18:05:21.355Z"
   },
   {
    "duration": 232,
    "start_time": "2024-08-01T18:05:21.468Z"
   },
   {
    "duration": 462,
    "start_time": "2024-08-01T18:05:21.701Z"
   },
   {
    "duration": 90,
    "start_time": "2024-08-01T18:05:22.165Z"
   },
   {
    "duration": 137,
    "start_time": "2024-08-01T18:05:22.257Z"
   },
   {
    "duration": 7,
    "start_time": "2024-08-01T18:05:22.398Z"
   },
   {
    "duration": 647,
    "start_time": "2024-08-01T18:05:22.410Z"
   },
   {
    "duration": 39,
    "start_time": "2024-08-01T18:05:23.059Z"
   },
   {
    "duration": 213,
    "start_time": "2024-08-01T18:05:23.099Z"
   },
   {
    "duration": 1140,
    "start_time": "2024-08-01T18:05:23.314Z"
   },
   {
    "duration": 191,
    "start_time": "2024-08-01T18:05:24.455Z"
   },
   {
    "duration": 13436,
    "start_time": "2024-08-01T18:07:14.950Z"
   },
   {
    "duration": 27,
    "start_time": "2024-08-01T18:09:25.107Z"
   },
   {
    "duration": 3619,
    "start_time": "2024-08-01T18:09:31.037Z"
   },
   {
    "duration": 19,
    "start_time": "2024-08-01T18:11:45.732Z"
   },
   {
    "duration": 882,
    "start_time": "2024-08-01T18:11:53.506Z"
   },
   {
    "duration": 19,
    "start_time": "2024-08-01T18:12:14.089Z"
   },
   {
    "duration": 534,
    "start_time": "2024-08-01T18:12:14.455Z"
   },
   {
    "duration": 57,
    "start_time": "2024-08-01T18:14:16.990Z"
   },
   {
    "duration": 195,
    "start_time": "2024-08-01T18:14:28.165Z"
   },
   {
    "duration": 4025,
    "start_time": "2024-08-01T18:14:39.230Z"
   },
   {
    "duration": 14,
    "start_time": "2024-08-01T18:14:58.639Z"
   },
   {
    "duration": 191,
    "start_time": "2024-08-01T18:21:43.877Z"
   },
   {
    "duration": 37,
    "start_time": "2024-08-01T18:22:08.244Z"
   },
   {
    "duration": 106,
    "start_time": "2024-08-01T18:22:25.491Z"
   },
   {
    "duration": 28,
    "start_time": "2024-08-01T18:22:31.421Z"
   },
   {
    "duration": 194,
    "start_time": "2024-08-01T18:22:46.753Z"
   },
   {
    "duration": 192,
    "start_time": "2024-08-01T18:22:52.990Z"
   },
   {
    "duration": 260,
    "start_time": "2024-08-01T18:23:43.656Z"
   },
   {
    "duration": 196,
    "start_time": "2024-08-01T18:23:56.454Z"
   },
   {
    "duration": 32,
    "start_time": "2024-08-01T18:25:19.675Z"
   },
   {
    "duration": 192,
    "start_time": "2024-08-01T18:25:25.229Z"
   },
   {
    "duration": 594,
    "start_time": "2024-08-01T18:28:11.690Z"
   },
   {
    "duration": 62,
    "start_time": "2024-08-01T18:28:27.775Z"
   },
   {
    "duration": 193,
    "start_time": "2024-08-01T18:28:48.363Z"
   },
   {
    "duration": 418,
    "start_time": "2024-08-01T18:30:41.270Z"
   },
   {
    "duration": 27,
    "start_time": "2024-08-01T18:31:45.818Z"
   },
   {
    "duration": 70,
    "start_time": "2024-08-01T18:32:12.581Z"
   },
   {
    "duration": 16,
    "start_time": "2024-08-01T18:34:01.681Z"
   },
   {
    "duration": 62,
    "start_time": "2024-08-01T18:34:09.970Z"
   },
   {
    "duration": 134,
    "start_time": "2024-08-01T18:35:01.628Z"
   },
   {
    "duration": 10896,
    "start_time": "2024-08-01T18:37:05.789Z"
   },
   {
    "duration": 1218,
    "start_time": "2024-08-01T18:37:16.688Z"
   },
   {
    "duration": 943,
    "start_time": "2024-08-01T18:37:17.909Z"
   },
   {
    "duration": 17,
    "start_time": "2024-08-01T18:37:18.854Z"
   },
   {
    "duration": 36,
    "start_time": "2024-08-01T18:37:18.873Z"
   },
   {
    "duration": 117,
    "start_time": "2024-08-01T18:37:18.911Z"
   },
   {
    "duration": 225,
    "start_time": "2024-08-01T18:37:19.030Z"
   },
   {
    "duration": 439,
    "start_time": "2024-08-01T18:37:19.257Z"
   },
   {
    "duration": 98,
    "start_time": "2024-08-01T18:37:19.698Z"
   },
   {
    "duration": 6,
    "start_time": "2024-08-01T18:37:19.798Z"
   },
   {
    "duration": 660,
    "start_time": "2024-08-01T18:37:19.805Z"
   },
   {
    "duration": 39,
    "start_time": "2024-08-01T18:37:20.467Z"
   },
   {
    "duration": 209,
    "start_time": "2024-08-01T18:37:20.508Z"
   },
   {
    "duration": 1100,
    "start_time": "2024-08-01T18:37:20.719Z"
   },
   {
    "duration": 180,
    "start_time": "2024-08-01T18:37:21.820Z"
   },
   {
    "duration": 13624,
    "start_time": "2024-08-01T18:37:22.002Z"
   },
   {
    "duration": 22,
    "start_time": "2024-08-01T18:37:35.628Z"
   },
   {
    "duration": 3534,
    "start_time": "2024-08-01T18:37:35.652Z"
   },
   {
    "duration": 22,
    "start_time": "2024-08-01T18:37:39.188Z"
   },
   {
    "duration": 815,
    "start_time": "2024-08-01T18:37:39.212Z"
   },
   {
    "duration": 15,
    "start_time": "2024-08-01T18:37:40.028Z"
   },
   {
    "duration": 496,
    "start_time": "2024-08-01T18:37:40.044Z"
   },
   {
    "duration": 240,
    "start_time": "2024-08-01T18:37:40.542Z"
   },
   {
    "duration": 208,
    "start_time": "2024-08-01T18:37:40.783Z"
   },
   {
    "duration": 28,
    "start_time": "2024-08-01T18:37:40.992Z"
   },
   {
    "duration": 153,
    "start_time": "2024-08-01T18:37:41.022Z"
   },
   {
    "duration": 65,
    "start_time": "2024-08-01T18:37:41.177Z"
   },
   {
    "duration": 346,
    "start_time": "2024-08-01T18:37:41.246Z"
   },
   {
    "duration": 5269,
    "start_time": "2024-08-01T18:38:47.811Z"
   },
   {
    "duration": 5012,
    "start_time": "2024-08-01T18:39:08.438Z"
   },
   {
    "duration": 4,
    "start_time": "2024-08-01T18:43:16.302Z"
   },
   {
    "duration": 4,
    "start_time": "2024-08-01T18:58:07.733Z"
   },
   {
    "duration": 19,
    "start_time": "2024-08-01T19:00:53.357Z"
   },
   {
    "duration": 204,
    "start_time": "2024-08-01T19:01:41.139Z"
   },
   {
    "duration": 29,
    "start_time": "2024-08-01T19:01:46.951Z"
   },
   {
    "duration": 18,
    "start_time": "2024-08-01T19:01:56.982Z"
   },
   {
    "duration": 205,
    "start_time": "2024-08-01T19:06:39.065Z"
   },
   {
    "duration": 49,
    "start_time": "2024-08-01T19:06:46.020Z"
   },
   {
    "duration": 4,
    "start_time": "2024-08-01T19:06:55.237Z"
   },
   {
    "duration": 4,
    "start_time": "2024-08-01T19:06:56.199Z"
   },
   {
    "duration": 3,
    "start_time": "2024-08-01T19:06:57.604Z"
   },
   {
    "duration": 3,
    "start_time": "2024-08-01T19:07:00.563Z"
   },
   {
    "duration": 29,
    "start_time": "2024-08-01T19:11:43.656Z"
   },
   {
    "duration": 17,
    "start_time": "2024-08-01T19:11:52.290Z"
   },
   {
    "duration": 17,
    "start_time": "2024-08-01T19:13:05.805Z"
   },
   {
    "duration": 67,
    "start_time": "2024-08-01T19:14:05.592Z"
   },
   {
    "duration": 54,
    "start_time": "2024-08-01T19:14:22.576Z"
   },
   {
    "duration": 55,
    "start_time": "2024-08-01T19:14:49.203Z"
   },
   {
    "duration": 16,
    "start_time": "2024-08-01T19:14:55.915Z"
   },
   {
    "duration": 12,
    "start_time": "2024-08-01T19:15:16.756Z"
   },
   {
    "duration": 11,
    "start_time": "2024-08-01T19:15:43.390Z"
   },
   {
    "duration": 4,
    "start_time": "2024-08-01T19:16:46.902Z"
   },
   {
    "duration": 5775,
    "start_time": "2024-08-01T19:16:54.075Z"
   },
   {
    "duration": 1489,
    "start_time": "2024-08-01T19:16:59.853Z"
   },
   {
    "duration": 976,
    "start_time": "2024-08-01T19:17:01.344Z"
   },
   {
    "duration": 18,
    "start_time": "2024-08-01T19:17:02.323Z"
   },
   {
    "duration": 50,
    "start_time": "2024-08-01T19:17:02.342Z"
   },
   {
    "duration": 236,
    "start_time": "2024-08-01T19:17:02.394Z"
   },
   {
    "duration": 232,
    "start_time": "2024-08-01T19:17:02.632Z"
   },
   {
    "duration": 436,
    "start_time": "2024-08-01T19:17:02.866Z"
   },
   {
    "duration": 88,
    "start_time": "2024-08-01T19:17:03.304Z"
   },
   {
    "duration": 4,
    "start_time": "2024-08-01T19:17:03.395Z"
   },
   {
    "duration": 647,
    "start_time": "2024-08-01T19:17:03.401Z"
   },
   {
    "duration": 34,
    "start_time": "2024-08-01T19:17:04.050Z"
   },
   {
    "duration": 214,
    "start_time": "2024-08-01T19:17:04.086Z"
   },
   {
    "duration": 1072,
    "start_time": "2024-08-01T19:17:04.302Z"
   },
   {
    "duration": 166,
    "start_time": "2024-08-01T19:17:05.376Z"
   },
   {
    "duration": 13737,
    "start_time": "2024-08-01T19:17:05.544Z"
   },
   {
    "duration": 25,
    "start_time": "2024-08-01T19:17:19.283Z"
   },
   {
    "duration": 3656,
    "start_time": "2024-08-01T19:17:19.310Z"
   },
   {
    "duration": 25,
    "start_time": "2024-08-01T19:17:22.968Z"
   },
   {
    "duration": 777,
    "start_time": "2024-08-01T19:17:22.995Z"
   },
   {
    "duration": 17,
    "start_time": "2024-08-01T19:17:23.773Z"
   },
   {
    "duration": 531,
    "start_time": "2024-08-01T19:17:23.792Z"
   },
   {
    "duration": 247,
    "start_time": "2024-08-01T19:17:24.325Z"
   },
   {
    "duration": 216,
    "start_time": "2024-08-01T19:17:24.573Z"
   },
   {
    "duration": 28,
    "start_time": "2024-08-01T19:17:24.790Z"
   },
   {
    "duration": 160,
    "start_time": "2024-08-01T19:17:24.819Z"
   },
   {
    "duration": 63,
    "start_time": "2024-08-01T19:17:24.982Z"
   },
   {
    "duration": 5256,
    "start_time": "2024-08-01T19:17:25.049Z"
   },
   {
    "duration": 4,
    "start_time": "2024-08-01T19:17:30.306Z"
   },
   {
    "duration": 87,
    "start_time": "2024-08-01T19:17:30.312Z"
   },
   {
    "duration": 85,
    "start_time": "2024-08-01T19:17:30.400Z"
   },
   {
    "duration": 3,
    "start_time": "2024-08-01T19:17:30.487Z"
   },
   {
    "duration": 103,
    "start_time": "2024-08-01T19:17:30.491Z"
   },
   {
    "duration": 3,
    "start_time": "2024-08-01T19:17:30.595Z"
   },
   {
    "duration": 60,
    "start_time": "2024-08-01T19:17:30.600Z"
   },
   {
    "duration": 59,
    "start_time": "2024-08-01T19:17:30.661Z"
   },
   {
    "duration": 126707,
    "start_time": "2024-08-01T19:17:30.722Z"
   },
   {
    "duration": 4,
    "start_time": "2024-08-01T19:19:53.429Z"
   },
   {
    "duration": 45441,
    "start_time": "2024-08-01T19:19:54.209Z"
   },
   {
    "duration": 4,
    "start_time": "2024-08-01T19:21:30.537Z"
   },
   {
    "duration": 4,
    "start_time": "2024-08-01T19:25:34.176Z"
   },
   {
    "duration": 5,
    "start_time": "2024-08-01T19:25:47.942Z"
   },
   {
    "duration": 3,
    "start_time": "2024-08-01T19:26:58.902Z"
   },
   {
    "duration": 11866,
    "start_time": "2024-08-01T19:27:03.331Z"
   },
   {
    "duration": 5,
    "start_time": "2024-08-01T19:27:27.976Z"
   },
   {
    "duration": 5,
    "start_time": "2024-08-01T19:31:10.557Z"
   },
   {
    "duration": 11057,
    "start_time": "2024-08-02T06:54:12.447Z"
   },
   {
    "duration": 1672,
    "start_time": "2024-08-02T06:54:23.508Z"
   },
   {
    "duration": 3035,
    "start_time": "2024-08-02T06:54:25.181Z"
   },
   {
    "duration": 18,
    "start_time": "2024-08-02T06:54:28.218Z"
   },
   {
    "duration": 27,
    "start_time": "2024-08-02T06:54:28.238Z"
   },
   {
    "duration": 117,
    "start_time": "2024-08-02T06:54:28.266Z"
   },
   {
    "duration": 230,
    "start_time": "2024-08-02T06:54:28.384Z"
   },
   {
    "duration": 429,
    "start_time": "2024-08-02T06:54:28.616Z"
   },
   {
    "duration": 101,
    "start_time": "2024-08-02T06:54:29.047Z"
   },
   {
    "duration": 7,
    "start_time": "2024-08-02T06:54:29.150Z"
   },
   {
    "duration": 635,
    "start_time": "2024-08-02T06:54:29.158Z"
   },
   {
    "duration": 25,
    "start_time": "2024-08-02T06:54:29.795Z"
   },
   {
    "duration": 242,
    "start_time": "2024-08-02T06:54:29.821Z"
   },
   {
    "duration": 1108,
    "start_time": "2024-08-02T06:54:30.066Z"
   },
   {
    "duration": 167,
    "start_time": "2024-08-02T06:54:31.175Z"
   },
   {
    "duration": 13564,
    "start_time": "2024-08-02T06:54:31.344Z"
   },
   {
    "duration": 23,
    "start_time": "2024-08-02T06:54:44.910Z"
   },
   {
    "duration": 3548,
    "start_time": "2024-08-02T06:54:44.934Z"
   },
   {
    "duration": 23,
    "start_time": "2024-08-02T06:54:48.484Z"
   },
   {
    "duration": 887,
    "start_time": "2024-08-02T06:54:48.508Z"
   },
   {
    "duration": 15,
    "start_time": "2024-08-02T06:54:49.397Z"
   },
   {
    "duration": 475,
    "start_time": "2024-08-02T06:54:49.414Z"
   },
   {
    "duration": 277,
    "start_time": "2024-08-02T06:54:49.891Z"
   },
   {
    "duration": 212,
    "start_time": "2024-08-02T06:54:50.170Z"
   },
   {
    "duration": 27,
    "start_time": "2024-08-02T06:54:50.383Z"
   },
   {
    "duration": 150,
    "start_time": "2024-08-02T06:54:50.412Z"
   },
   {
    "duration": 68,
    "start_time": "2024-08-02T06:54:50.563Z"
   },
   {
    "duration": 5496,
    "start_time": "2024-08-02T06:54:50.633Z"
   },
   {
    "duration": 5,
    "start_time": "2024-08-02T06:54:56.131Z"
   },
   {
    "duration": 68,
    "start_time": "2024-08-02T06:54:56.138Z"
   },
   {
    "duration": 120,
    "start_time": "2024-08-02T06:54:56.208Z"
   },
   {
    "duration": 0,
    "start_time": "2024-08-02T06:54:56.330Z"
   },
   {
    "duration": 0,
    "start_time": "2024-08-02T06:54:56.331Z"
   },
   {
    "duration": 0,
    "start_time": "2024-08-02T06:54:56.333Z"
   },
   {
    "duration": 0,
    "start_time": "2024-08-02T06:54:56.334Z"
   },
   {
    "duration": 0,
    "start_time": "2024-08-02T06:54:56.336Z"
   },
   {
    "duration": 0,
    "start_time": "2024-08-02T06:54:56.338Z"
   },
   {
    "duration": 0,
    "start_time": "2024-08-02T06:54:56.339Z"
   },
   {
    "duration": 12,
    "start_time": "2024-08-02T06:55:49.996Z"
   },
   {
    "duration": 57,
    "start_time": "2024-08-02T06:56:12.672Z"
   },
   {
    "duration": 53,
    "start_time": "2024-08-02T06:56:14.111Z"
   },
   {
    "duration": 4,
    "start_time": "2024-08-02T06:56:14.614Z"
   },
   {
    "duration": 4,
    "start_time": "2024-08-02T06:56:18.224Z"
   },
   {
    "duration": 4,
    "start_time": "2024-08-02T06:56:19.879Z"
   },
   {
    "duration": 3,
    "start_time": "2024-08-02T06:56:20.881Z"
   },
   {
    "duration": 582,
    "start_time": "2024-08-02T06:56:23.566Z"
   },
   {
    "duration": 5901,
    "start_time": "2024-08-02T07:03:01.043Z"
   },
   {
    "duration": 1346,
    "start_time": "2024-08-02T07:03:06.947Z"
   },
   {
    "duration": 912,
    "start_time": "2024-08-02T07:03:08.295Z"
   },
   {
    "duration": 17,
    "start_time": "2024-08-02T07:03:09.208Z"
   },
   {
    "duration": 26,
    "start_time": "2024-08-02T07:03:09.228Z"
   },
   {
    "duration": 121,
    "start_time": "2024-08-02T07:03:09.255Z"
   },
   {
    "duration": 228,
    "start_time": "2024-08-02T07:03:09.381Z"
   },
   {
    "duration": 459,
    "start_time": "2024-08-02T07:03:09.611Z"
   },
   {
    "duration": 104,
    "start_time": "2024-08-02T07:03:10.072Z"
   },
   {
    "duration": 10,
    "start_time": "2024-08-02T07:03:10.182Z"
   },
   {
    "duration": 589,
    "start_time": "2024-08-02T07:03:10.194Z"
   },
   {
    "duration": 27,
    "start_time": "2024-08-02T07:03:10.785Z"
   },
   {
    "duration": 208,
    "start_time": "2024-08-02T07:03:10.813Z"
   },
   {
    "duration": 1087,
    "start_time": "2024-08-02T07:03:11.024Z"
   },
   {
    "duration": 160,
    "start_time": "2024-08-02T07:03:12.112Z"
   },
   {
    "duration": 13457,
    "start_time": "2024-08-02T07:03:12.274Z"
   },
   {
    "duration": 23,
    "start_time": "2024-08-02T07:03:25.733Z"
   },
   {
    "duration": 3530,
    "start_time": "2024-08-02T07:03:25.757Z"
   },
   {
    "duration": 22,
    "start_time": "2024-08-02T07:03:29.289Z"
   },
   {
    "duration": 799,
    "start_time": "2024-08-02T07:03:29.313Z"
   },
   {
    "duration": 14,
    "start_time": "2024-08-02T07:03:30.114Z"
   },
   {
    "duration": 478,
    "start_time": "2024-08-02T07:03:30.130Z"
   },
   {
    "duration": 242,
    "start_time": "2024-08-02T07:03:30.610Z"
   },
   {
    "duration": 207,
    "start_time": "2024-08-02T07:03:30.854Z"
   },
   {
    "duration": 36,
    "start_time": "2024-08-02T07:03:31.062Z"
   },
   {
    "duration": 351,
    "start_time": "2024-08-02T07:03:31.099Z"
   },
   {
    "duration": 65,
    "start_time": "2024-08-02T07:03:31.452Z"
   },
   {
    "duration": 5483,
    "start_time": "2024-08-02T07:03:31.518Z"
   },
   {
    "duration": 5,
    "start_time": "2024-08-02T07:03:37.002Z"
   },
   {
    "duration": 227,
    "start_time": "2024-08-02T07:03:45.859Z"
   },
   {
    "duration": 225,
    "start_time": "2024-08-02T07:04:16.867Z"
   },
   {
    "duration": 26,
    "start_time": "2024-08-02T07:04:23.947Z"
   },
   {
    "duration": 153,
    "start_time": "2024-08-02T07:05:40.890Z"
   },
   {
    "duration": 5854,
    "start_time": "2024-08-02T07:05:53.478Z"
   },
   {
    "duration": 1361,
    "start_time": "2024-08-02T07:05:59.334Z"
   },
   {
    "duration": 936,
    "start_time": "2024-08-02T07:06:00.697Z"
   },
   {
    "duration": 18,
    "start_time": "2024-08-02T07:06:01.635Z"
   },
   {
    "duration": 80,
    "start_time": "2024-08-02T07:06:01.655Z"
   },
   {
    "duration": 130,
    "start_time": "2024-08-02T07:06:01.736Z"
   },
   {
    "duration": 250,
    "start_time": "2024-08-02T07:06:01.868Z"
   },
   {
    "duration": 450,
    "start_time": "2024-08-02T07:06:02.120Z"
   },
   {
    "duration": 88,
    "start_time": "2024-08-02T07:06:02.572Z"
   },
   {
    "duration": 79,
    "start_time": "2024-08-02T07:06:02.661Z"
   },
   {
    "duration": 627,
    "start_time": "2024-08-02T07:06:02.741Z"
   },
   {
    "duration": 34,
    "start_time": "2024-08-02T07:06:03.370Z"
   },
   {
    "duration": 210,
    "start_time": "2024-08-02T07:06:03.406Z"
   },
   {
    "duration": 1108,
    "start_time": "2024-08-02T07:06:03.620Z"
   },
   {
    "duration": 163,
    "start_time": "2024-08-02T07:06:04.730Z"
   },
   {
    "duration": 13341,
    "start_time": "2024-08-02T07:06:04.895Z"
   },
   {
    "duration": 30,
    "start_time": "2024-08-02T07:06:18.239Z"
   },
   {
    "duration": 3626,
    "start_time": "2024-08-02T07:06:18.271Z"
   },
   {
    "duration": 33,
    "start_time": "2024-08-02T07:06:21.899Z"
   },
   {
    "duration": 804,
    "start_time": "2024-08-02T07:06:21.935Z"
   },
   {
    "duration": 16,
    "start_time": "2024-08-02T07:06:22.741Z"
   },
   {
    "duration": 489,
    "start_time": "2024-08-02T07:06:22.759Z"
   },
   {
    "duration": 259,
    "start_time": "2024-08-02T07:06:23.249Z"
   },
   {
    "duration": 216,
    "start_time": "2024-08-02T07:06:23.509Z"
   },
   {
    "duration": 38,
    "start_time": "2024-08-02T07:06:23.727Z"
   },
   {
    "duration": 181,
    "start_time": "2024-08-02T07:06:23.767Z"
   },
   {
    "duration": 87,
    "start_time": "2024-08-02T07:06:23.950Z"
   },
   {
    "duration": 5582,
    "start_time": "2024-08-02T07:06:24.039Z"
   },
   {
    "duration": 140,
    "start_time": "2024-08-02T07:06:29.623Z"
   },
   {
    "duration": 0,
    "start_time": "2024-08-02T07:06:29.765Z"
   },
   {
    "duration": 0,
    "start_time": "2024-08-02T07:06:29.766Z"
   },
   {
    "duration": 41,
    "start_time": "2024-08-02T07:06:38.750Z"
   },
   {
    "duration": 38,
    "start_time": "2024-08-02T07:07:04.074Z"
   },
   {
    "duration": 482,
    "start_time": "2024-08-02T07:07:14.751Z"
   },
   {
    "duration": 28,
    "start_time": "2024-08-02T07:07:27.744Z"
   },
   {
    "duration": 27,
    "start_time": "2024-08-02T07:07:43.240Z"
   },
   {
    "duration": 108,
    "start_time": "2024-08-02T07:10:28.609Z"
   },
   {
    "duration": 21,
    "start_time": "2024-08-02T07:10:30.601Z"
   },
   {
    "duration": 367,
    "start_time": "2024-08-02T07:11:18.680Z"
   },
   {
    "duration": 26,
    "start_time": "2024-08-02T07:11:19.928Z"
   },
   {
    "duration": 5803,
    "start_time": "2024-08-02T07:13:42.835Z"
   },
   {
    "duration": 1279,
    "start_time": "2024-08-02T07:13:48.640Z"
   },
   {
    "duration": 920,
    "start_time": "2024-08-02T07:13:49.920Z"
   },
   {
    "duration": 18,
    "start_time": "2024-08-02T07:13:50.841Z"
   },
   {
    "duration": 43,
    "start_time": "2024-08-02T07:13:50.861Z"
   },
   {
    "duration": 112,
    "start_time": "2024-08-02T07:13:50.906Z"
   },
   {
    "duration": 226,
    "start_time": "2024-08-02T07:13:51.019Z"
   },
   {
    "duration": 439,
    "start_time": "2024-08-02T07:13:51.247Z"
   },
   {
    "duration": 94,
    "start_time": "2024-08-02T07:13:51.688Z"
   },
   {
    "duration": 5,
    "start_time": "2024-08-02T07:13:51.784Z"
   },
   {
    "duration": 661,
    "start_time": "2024-08-02T07:13:51.791Z"
   },
   {
    "duration": 32,
    "start_time": "2024-08-02T07:13:52.453Z"
   },
   {
    "duration": 206,
    "start_time": "2024-08-02T07:13:52.486Z"
   },
   {
    "duration": 1065,
    "start_time": "2024-08-02T07:13:52.696Z"
   },
   {
    "duration": 181,
    "start_time": "2024-08-02T07:13:53.763Z"
   },
   {
    "duration": 13608,
    "start_time": "2024-08-02T07:13:53.946Z"
   },
   {
    "duration": 35,
    "start_time": "2024-08-02T07:14:07.556Z"
   },
   {
    "duration": 3526,
    "start_time": "2024-08-02T07:14:07.592Z"
   },
   {
    "duration": 24,
    "start_time": "2024-08-02T07:14:11.120Z"
   },
   {
    "duration": 786,
    "start_time": "2024-08-02T07:14:11.146Z"
   },
   {
    "duration": 15,
    "start_time": "2024-08-02T07:14:11.934Z"
   },
   {
    "duration": 458,
    "start_time": "2024-08-02T07:14:11.950Z"
   },
   {
    "duration": 237,
    "start_time": "2024-08-02T07:14:12.409Z"
   },
   {
    "duration": 210,
    "start_time": "2024-08-02T07:14:12.648Z"
   },
   {
    "duration": 33,
    "start_time": "2024-08-02T07:14:12.859Z"
   },
   {
    "duration": 186,
    "start_time": "2024-08-02T07:14:12.894Z"
   },
   {
    "duration": 63,
    "start_time": "2024-08-02T07:14:13.082Z"
   },
   {
    "duration": 5381,
    "start_time": "2024-08-02T07:14:13.147Z"
   },
   {
    "duration": 387,
    "start_time": "2024-08-02T07:14:18.530Z"
   },
   {
    "duration": 19,
    "start_time": "2024-08-02T07:14:18.919Z"
   },
   {
    "duration": 4,
    "start_time": "2024-08-02T07:14:18.940Z"
   },
   {
    "duration": 29,
    "start_time": "2024-08-02T07:16:36.348Z"
   },
   {
    "duration": 117,
    "start_time": "2024-08-02T07:17:36.838Z"
   },
   {
    "duration": 6,
    "start_time": "2024-08-02T07:18:20.924Z"
   },
   {
    "duration": 859,
    "start_time": "2024-08-02T07:18:26.741Z"
   },
   {
    "duration": 921,
    "start_time": "2024-08-02T07:24:43.270Z"
   },
   {
    "duration": 10,
    "start_time": "2024-08-02T07:25:05.221Z"
   },
   {
    "duration": 1051,
    "start_time": "2024-08-02T07:25:27.151Z"
   },
   {
    "duration": 993,
    "start_time": "2024-08-02T07:27:31.878Z"
   },
   {
    "duration": 970,
    "start_time": "2024-08-02T07:28:15.744Z"
   },
   {
    "duration": 14160,
    "start_time": "2024-08-02T07:28:56.682Z"
   },
   {
    "duration": 236,
    "start_time": "2024-08-02T07:34:23.334Z"
   },
   {
    "duration": 246,
    "start_time": "2024-08-02T07:35:43.528Z"
   },
   {
    "duration": 49,
    "start_time": "2024-08-02T07:43:16.229Z"
   },
   {
    "duration": 13,
    "start_time": "2024-08-02T07:43:24.661Z"
   },
   {
    "duration": 13390,
    "start_time": "2024-08-02T07:44:13.638Z"
   },
   {
    "duration": 48,
    "start_time": "2024-08-02T07:44:27.030Z"
   },
   {
    "duration": 13,
    "start_time": "2024-08-02T07:44:53.106Z"
   },
   {
    "duration": 72,
    "start_time": "2024-08-02T07:46:46.894Z"
   },
   {
    "duration": 14,
    "start_time": "2024-08-02T07:47:15.425Z"
   },
   {
    "duration": 1466,
    "start_time": "2024-08-02T07:48:00.192Z"
   },
   {
    "duration": 14,
    "start_time": "2024-08-02T07:49:34.038Z"
   },
   {
    "duration": 310,
    "start_time": "2024-08-02T07:49:56.362Z"
   },
   {
    "duration": 25881,
    "start_time": "2024-08-02T07:57:27.451Z"
   },
   {
    "duration": 52,
    "start_time": "2024-08-02T07:57:53.334Z"
   },
   {
    "duration": 7,
    "start_time": "2024-08-02T07:57:53.391Z"
   },
   {
    "duration": 319,
    "start_time": "2024-08-02T07:58:34.326Z"
   },
   {
    "duration": 10,
    "start_time": "2024-08-02T07:58:34.647Z"
   },
   {
    "duration": 6,
    "start_time": "2024-08-02T07:58:34.988Z"
   },
   {
    "duration": 40,
    "start_time": "2024-08-02T08:01:15.792Z"
   },
   {
    "duration": 7,
    "start_time": "2024-08-02T08:01:16.755Z"
   },
   {
    "duration": 5,
    "start_time": "2024-08-02T08:01:17.207Z"
   },
   {
    "duration": 300,
    "start_time": "2024-08-02T08:02:36.318Z"
   },
   {
    "duration": 79,
    "start_time": "2024-08-02T08:02:36.620Z"
   },
   {
    "duration": 5,
    "start_time": "2024-08-02T08:02:36.738Z"
   },
   {
    "duration": 25883,
    "start_time": "2024-08-02T08:02:49.918Z"
   },
   {
    "duration": 50,
    "start_time": "2024-08-02T08:03:15.802Z"
   },
   {
    "duration": 50,
    "start_time": "2024-08-02T08:03:15.853Z"
   },
   {
    "duration": 77,
    "start_time": "2024-08-02T08:04:40.848Z"
   },
   {
    "duration": 30,
    "start_time": "2024-08-02T08:05:52.092Z"
   },
   {
    "duration": 76,
    "start_time": "2024-08-02T08:05:57.936Z"
   },
   {
    "duration": 93502,
    "start_time": "2024-08-02T08:06:09.000Z"
   },
   {
    "duration": 90,
    "start_time": "2024-08-02T08:07:42.504Z"
   },
   {
    "duration": 5964,
    "start_time": "2024-08-02T08:08:03.578Z"
   },
   {
    "duration": 1563,
    "start_time": "2024-08-02T08:08:09.545Z"
   },
   {
    "duration": 1086,
    "start_time": "2024-08-02T08:08:11.110Z"
   },
   {
    "duration": 18,
    "start_time": "2024-08-02T08:08:12.198Z"
   },
   {
    "duration": 56,
    "start_time": "2024-08-02T08:08:12.219Z"
   },
   {
    "duration": 121,
    "start_time": "2024-08-02T08:08:12.277Z"
   },
   {
    "duration": 300,
    "start_time": "2024-08-02T08:08:12.400Z"
   },
   {
    "duration": 485,
    "start_time": "2024-08-02T08:08:12.702Z"
   },
   {
    "duration": 100,
    "start_time": "2024-08-02T08:08:13.192Z"
   },
   {
    "duration": 9,
    "start_time": "2024-08-02T08:08:13.293Z"
   },
   {
    "duration": 686,
    "start_time": "2024-08-02T08:08:13.303Z"
   },
   {
    "duration": 37,
    "start_time": "2024-08-02T08:08:13.992Z"
   },
   {
    "duration": 258,
    "start_time": "2024-08-02T08:08:14.032Z"
   },
   {
    "duration": 1168,
    "start_time": "2024-08-02T08:08:14.301Z"
   },
   {
    "duration": 163,
    "start_time": "2024-08-02T08:08:15.471Z"
   },
   {
    "duration": 14294,
    "start_time": "2024-08-02T08:08:15.636Z"
   },
   {
    "duration": 29,
    "start_time": "2024-08-02T08:08:29.933Z"
   },
   {
    "duration": 3851,
    "start_time": "2024-08-02T08:08:29.964Z"
   },
   {
    "duration": 19,
    "start_time": "2024-08-02T08:08:33.817Z"
   },
   {
    "duration": 871,
    "start_time": "2024-08-02T08:08:33.837Z"
   },
   {
    "duration": 15,
    "start_time": "2024-08-02T08:08:34.710Z"
   },
   {
    "duration": 477,
    "start_time": "2024-08-02T08:08:34.726Z"
   },
   {
    "duration": 287,
    "start_time": "2024-08-02T08:08:35.205Z"
   },
   {
    "duration": 203,
    "start_time": "2024-08-02T08:08:35.494Z"
   },
   {
    "duration": 27,
    "start_time": "2024-08-02T08:08:35.699Z"
   },
   {
    "duration": 171,
    "start_time": "2024-08-02T08:08:35.727Z"
   },
   {
    "duration": 93,
    "start_time": "2024-08-02T08:08:35.909Z"
   },
   {
    "duration": 5601,
    "start_time": "2024-08-02T08:08:36.004Z"
   },
   {
    "duration": 465,
    "start_time": "2024-08-02T08:08:41.607Z"
   },
   {
    "duration": 44,
    "start_time": "2024-08-02T08:08:42.074Z"
   },
   {
    "duration": 81,
    "start_time": "2024-08-02T08:08:42.119Z"
   },
   {
    "duration": 9,
    "start_time": "2024-08-02T08:08:42.201Z"
   },
   {
    "duration": 92,
    "start_time": "2024-08-02T08:08:42.212Z"
   },
   {
    "duration": 313,
    "start_time": "2024-08-02T08:08:42.382Z"
   },
   {
    "duration": 12,
    "start_time": "2024-08-02T08:08:42.697Z"
   },
   {
    "duration": 13,
    "start_time": "2024-08-02T08:08:42.714Z"
   },
   {
    "duration": 26070,
    "start_time": "2024-08-02T08:08:42.729Z"
   },
   {
    "duration": 63,
    "start_time": "2024-08-02T08:09:08.801Z"
   },
   {
    "duration": 32,
    "start_time": "2024-08-02T08:09:08.866Z"
   },
   {
    "duration": 243894,
    "start_time": "2024-08-02T08:09:08.901Z"
   },
   {
    "duration": 498,
    "start_time": "2024-08-02T08:13:12.800Z"
   },
   {
    "duration": 5,
    "start_time": "2024-08-02T08:13:13.302Z"
   },
   {
    "duration": 16,
    "start_time": "2024-08-02T08:35:15.297Z"
   },
   {
    "duration": 14,
    "start_time": "2024-08-02T08:35:28.053Z"
   },
   {
    "duration": 11,
    "start_time": "2024-08-02T08:35:42.173Z"
   },
   {
    "duration": 6100,
    "start_time": "2024-08-02T08:43:12.886Z"
   },
   {
    "duration": 1441,
    "start_time": "2024-08-02T08:43:18.989Z"
   },
   {
    "duration": 1014,
    "start_time": "2024-08-02T08:43:20.432Z"
   },
   {
    "duration": 18,
    "start_time": "2024-08-02T08:43:21.448Z"
   },
   {
    "duration": 33,
    "start_time": "2024-08-02T08:43:21.469Z"
   },
   {
    "duration": 121,
    "start_time": "2024-08-02T08:43:21.504Z"
   },
   {
    "duration": 259,
    "start_time": "2024-08-02T08:43:21.627Z"
   },
   {
    "duration": 471,
    "start_time": "2024-08-02T08:43:21.888Z"
   },
   {
    "duration": 104,
    "start_time": "2024-08-02T08:43:22.361Z"
   },
   {
    "duration": 16,
    "start_time": "2024-08-02T08:43:22.467Z"
   },
   {
    "duration": 601,
    "start_time": "2024-08-02T08:43:22.485Z"
   },
   {
    "duration": 30,
    "start_time": "2024-08-02T08:43:23.088Z"
   },
   {
    "duration": 213,
    "start_time": "2024-08-02T08:43:23.120Z"
   },
   {
    "duration": 1170,
    "start_time": "2024-08-02T08:43:23.336Z"
   },
   {
    "duration": 161,
    "start_time": "2024-08-02T08:43:24.507Z"
   },
   {
    "duration": 13836,
    "start_time": "2024-08-02T08:43:24.670Z"
   },
   {
    "duration": 26,
    "start_time": "2024-08-02T08:43:38.507Z"
   },
   {
    "duration": 3733,
    "start_time": "2024-08-02T08:43:38.535Z"
   },
   {
    "duration": 31,
    "start_time": "2024-08-02T08:43:42.269Z"
   },
   {
    "duration": 825,
    "start_time": "2024-08-02T08:43:42.302Z"
   },
   {
    "duration": 13,
    "start_time": "2024-08-02T08:43:43.129Z"
   },
   {
    "duration": 462,
    "start_time": "2024-08-02T08:43:43.144Z"
   },
   {
    "duration": 257,
    "start_time": "2024-08-02T08:43:43.608Z"
   },
   {
    "duration": 254,
    "start_time": "2024-08-02T08:43:43.867Z"
   },
   {
    "duration": 29,
    "start_time": "2024-08-02T08:43:44.123Z"
   },
   {
    "duration": 177,
    "start_time": "2024-08-02T08:43:44.155Z"
   },
   {
    "duration": 71,
    "start_time": "2024-08-02T08:43:44.334Z"
   },
   {
    "duration": 5462,
    "start_time": "2024-08-02T08:43:44.406Z"
   },
   {
    "duration": 435,
    "start_time": "2024-08-02T08:43:49.870Z"
   },
   {
    "duration": 37,
    "start_time": "2024-08-02T08:43:50.307Z"
   },
   {
    "duration": 57,
    "start_time": "2024-08-02T08:43:50.346Z"
   },
   {
    "duration": 175,
    "start_time": "2024-08-02T08:43:50.406Z"
   },
   {
    "duration": 6,
    "start_time": "2024-08-02T08:43:50.584Z"
   },
   {
    "duration": 393,
    "start_time": "2024-08-02T08:43:50.593Z"
   },
   {
    "duration": 9,
    "start_time": "2024-08-02T08:43:50.987Z"
   },
   {
    "duration": 32,
    "start_time": "2024-08-02T08:43:50.998Z"
   },
   {
    "duration": 25355,
    "start_time": "2024-08-02T08:43:51.031Z"
   },
   {
    "duration": 51,
    "start_time": "2024-08-02T08:44:16.388Z"
   },
   {
    "duration": 5,
    "start_time": "2024-08-02T08:44:16.441Z"
   },
   {
    "duration": 65035,
    "start_time": "2024-08-02T08:44:16.447Z"
   },
   {
    "duration": 416,
    "start_time": "2024-08-02T08:45:21.486Z"
   },
   {
    "duration": 80,
    "start_time": "2024-08-02T08:45:21.904Z"
   },
   {
    "duration": 23,
    "start_time": "2024-08-02T08:45:21.986Z"
   },
   {
    "duration": 15,
    "start_time": "2024-08-02T08:47:11.256Z"
   },
   {
    "duration": 10595,
    "start_time": "2024-08-03T12:20:28.144Z"
   },
   {
    "duration": 1675,
    "start_time": "2024-08-03T12:20:38.741Z"
   },
   {
    "duration": 3014,
    "start_time": "2024-08-03T12:20:40.420Z"
   },
   {
    "duration": 17,
    "start_time": "2024-08-03T12:20:43.436Z"
   },
   {
    "duration": 27,
    "start_time": "2024-08-03T12:20:59.601Z"
   },
   {
    "duration": 110,
    "start_time": "2024-08-03T12:21:00.317Z"
   },
   {
    "duration": 249,
    "start_time": "2024-08-03T12:21:00.667Z"
   },
   {
    "duration": 445,
    "start_time": "2024-08-03T12:21:00.918Z"
   },
   {
    "duration": 92,
    "start_time": "2024-08-03T12:21:01.365Z"
   },
   {
    "duration": 5,
    "start_time": "2024-08-03T12:21:01.568Z"
   },
   {
    "duration": 601,
    "start_time": "2024-08-03T12:21:01.868Z"
   },
   {
    "duration": 34,
    "start_time": "2024-08-03T12:21:02.471Z"
   },
   {
    "duration": 244,
    "start_time": "2024-08-03T12:21:03.813Z"
   },
   {
    "duration": 1054,
    "start_time": "2024-08-03T12:21:04.294Z"
   },
   {
    "duration": 5746,
    "start_time": "2024-08-03T12:22:05.853Z"
   },
   {
    "duration": 5,
    "start_time": "2024-08-03T12:22:11.602Z"
   },
   {
    "duration": 1007,
    "start_time": "2024-08-03T12:22:11.608Z"
   },
   {
    "duration": 16,
    "start_time": "2024-08-03T12:22:12.617Z"
   },
   {
    "duration": 90,
    "start_time": "2024-08-03T12:22:12.634Z"
   },
   {
    "duration": 110,
    "start_time": "2024-08-03T12:22:12.725Z"
   },
   {
    "duration": 230,
    "start_time": "2024-08-03T12:22:12.837Z"
   },
   {
    "duration": 437,
    "start_time": "2024-08-03T12:22:13.068Z"
   },
   {
    "duration": 90,
    "start_time": "2024-08-03T12:22:13.506Z"
   },
   {
    "duration": 5,
    "start_time": "2024-08-03T12:22:13.598Z"
   },
   {
    "duration": 659,
    "start_time": "2024-08-03T12:22:13.604Z"
   },
   {
    "duration": 26,
    "start_time": "2024-08-03T12:22:14.265Z"
   },
   {
    "duration": 41,
    "start_time": "2024-08-03T12:22:31.655Z"
   },
   {
    "duration": 10174,
    "start_time": "2024-08-03T16:23:05.449Z"
   },
   {
    "duration": 1648,
    "start_time": "2024-08-03T16:23:15.625Z"
   },
   {
    "duration": 2945,
    "start_time": "2024-08-03T16:23:17.275Z"
   },
   {
    "duration": 18,
    "start_time": "2024-08-03T16:23:20.221Z"
   },
   {
    "duration": 89,
    "start_time": "2024-08-03T16:23:20.241Z"
   },
   {
    "duration": 107,
    "start_time": "2024-08-03T16:23:20.332Z"
   },
   {
    "duration": 230,
    "start_time": "2024-08-03T16:23:20.441Z"
   },
   {
    "duration": 440,
    "start_time": "2024-08-03T16:23:20.672Z"
   },
   {
    "duration": 96,
    "start_time": "2024-08-03T16:23:21.114Z"
   },
   {
    "duration": 6,
    "start_time": "2024-08-03T16:23:21.212Z"
   },
   {
    "duration": 592,
    "start_time": "2024-08-03T16:23:21.220Z"
   },
   {
    "duration": 26,
    "start_time": "2024-08-03T16:23:21.814Z"
   },
   {
    "duration": 20,
    "start_time": "2024-08-03T16:23:21.842Z"
   },
   {
    "duration": 211,
    "start_time": "2024-08-03T16:23:21.864Z"
   },
   {
    "duration": 30,
    "start_time": "2024-08-03T16:23:33.145Z"
   },
   {
    "duration": 1026,
    "start_time": "2024-08-03T16:25:50.349Z"
   },
   {
    "duration": 174,
    "start_time": "2024-08-03T16:30:05.677Z"
   },
   {
    "duration": 70,
    "start_time": "2024-08-03T16:30:23.735Z"
   },
   {
    "duration": 22,
    "start_time": "2024-08-03T16:30:46.113Z"
   },
   {
    "duration": 68,
    "start_time": "2024-08-03T16:32:07.034Z"
   },
   {
    "duration": 65,
    "start_time": "2024-08-03T16:32:14.387Z"
   },
   {
    "duration": 18,
    "start_time": "2024-08-03T16:32:30.266Z"
   },
   {
    "duration": 59,
    "start_time": "2024-08-03T16:33:40.248Z"
   },
   {
    "duration": 1096,
    "start_time": "2024-08-03T16:34:12.316Z"
   },
   {
    "duration": 18,
    "start_time": "2024-08-03T16:34:19.957Z"
   },
   {
    "duration": 4,
    "start_time": "2024-08-03T16:34:37.114Z"
   },
   {
    "duration": 1011,
    "start_time": "2024-08-03T16:35:36.529Z"
   },
   {
    "duration": 18,
    "start_time": "2024-08-03T16:35:45.793Z"
   },
   {
    "duration": 4,
    "start_time": "2024-08-03T16:35:54.022Z"
   },
   {
    "duration": 1169,
    "start_time": "2024-08-03T16:36:09.896Z"
   },
   {
    "duration": 56,
    "start_time": "2024-08-03T16:36:48.456Z"
   },
   {
    "duration": 61,
    "start_time": "2024-08-03T16:36:52.085Z"
   },
   {
    "duration": 76,
    "start_time": "2024-08-03T16:37:20.261Z"
   },
   {
    "duration": 5704,
    "start_time": "2024-08-03T16:37:29.506Z"
   },
   {
    "duration": 5,
    "start_time": "2024-08-03T16:37:35.213Z"
   },
   {
    "duration": 992,
    "start_time": "2024-08-03T16:37:35.219Z"
   },
   {
    "duration": 14,
    "start_time": "2024-08-03T16:37:36.213Z"
   },
   {
    "duration": 81,
    "start_time": "2024-08-03T16:37:36.230Z"
   },
   {
    "duration": 105,
    "start_time": "2024-08-03T16:37:36.313Z"
   },
   {
    "duration": 204,
    "start_time": "2024-08-03T16:37:36.420Z"
   },
   {
    "duration": 379,
    "start_time": "2024-08-03T16:37:36.626Z"
   },
   {
    "duration": 100,
    "start_time": "2024-08-03T16:37:37.007Z"
   },
   {
    "duration": 4,
    "start_time": "2024-08-03T16:37:37.109Z"
   },
   {
    "duration": 602,
    "start_time": "2024-08-03T16:37:37.115Z"
   },
   {
    "duration": 21,
    "start_time": "2024-08-03T16:37:37.718Z"
   },
   {
    "duration": 208,
    "start_time": "2024-08-03T16:37:37.741Z"
   },
   {
    "duration": 31,
    "start_time": "2024-08-03T16:37:37.952Z"
   },
   {
    "duration": 1158,
    "start_time": "2024-08-03T16:37:37.985Z"
   },
   {
    "duration": 154,
    "start_time": "2024-08-03T16:37:39.145Z"
   },
   {
    "duration": 12641,
    "start_time": "2024-08-03T16:37:39.301Z"
   },
   {
    "duration": 33,
    "start_time": "2024-08-03T16:37:51.943Z"
   },
   {
    "duration": 3663,
    "start_time": "2024-08-03T16:37:51.978Z"
   },
   {
    "duration": 19,
    "start_time": "2024-08-03T16:37:55.643Z"
   },
   {
    "duration": 786,
    "start_time": "2024-08-03T16:37:55.663Z"
   },
   {
    "duration": 13,
    "start_time": "2024-08-03T16:37:56.450Z"
   },
   {
    "duration": 493,
    "start_time": "2024-08-03T16:37:56.465Z"
   },
   {
    "duration": 249,
    "start_time": "2024-08-03T16:37:56.960Z"
   },
   {
    "duration": 185,
    "start_time": "2024-08-03T16:37:57.211Z"
   },
   {
    "duration": 29,
    "start_time": "2024-08-03T16:37:57.397Z"
   },
   {
    "duration": 143,
    "start_time": "2024-08-03T16:37:57.428Z"
   },
   {
    "duration": 63,
    "start_time": "2024-08-03T16:37:57.572Z"
   },
   {
    "duration": 5570,
    "start_time": "2024-08-03T16:41:19.625Z"
   },
   {
    "duration": 5,
    "start_time": "2024-08-03T16:41:25.198Z"
   },
   {
    "duration": 960,
    "start_time": "2024-08-03T16:41:25.205Z"
   },
   {
    "duration": 16,
    "start_time": "2024-08-03T16:41:26.166Z"
   },
   {
    "duration": 159,
    "start_time": "2024-08-03T16:41:26.184Z"
   },
   {
    "duration": 448,
    "start_time": "2024-08-03T16:41:26.344Z"
   },
   {
    "duration": 954,
    "start_time": "2024-08-03T16:41:26.794Z"
   },
   {
    "duration": 144,
    "start_time": "2024-08-03T16:41:27.750Z"
   },
   {
    "duration": 7,
    "start_time": "2024-08-03T16:41:27.904Z"
   },
   {
    "duration": 643,
    "start_time": "2024-08-03T16:41:27.913Z"
   },
   {
    "duration": 54,
    "start_time": "2024-08-03T16:41:28.558Z"
   },
   {
    "duration": 211,
    "start_time": "2024-08-03T16:41:28.613Z"
   },
   {
    "duration": 31,
    "start_time": "2024-08-03T16:41:28.826Z"
   },
   {
    "duration": 1253,
    "start_time": "2024-08-03T16:41:28.860Z"
   },
   {
    "duration": 118,
    "start_time": "2024-08-03T16:41:30.115Z"
   },
   {
    "duration": 145,
    "start_time": "2024-08-03T16:41:30.235Z"
   },
   {
    "duration": 13691,
    "start_time": "2024-08-03T16:41:30.381Z"
   },
   {
    "duration": 19,
    "start_time": "2024-08-03T16:41:44.074Z"
   },
   {
    "duration": 3657,
    "start_time": "2024-08-03T16:41:44.094Z"
   },
   {
    "duration": 21,
    "start_time": "2024-08-03T16:41:47.752Z"
   },
   {
    "duration": 801,
    "start_time": "2024-08-03T16:41:47.775Z"
   },
   {
    "duration": 15,
    "start_time": "2024-08-03T16:41:48.578Z"
   },
   {
    "duration": 443,
    "start_time": "2024-08-03T16:41:48.604Z"
   },
   {
    "duration": 236,
    "start_time": "2024-08-03T16:41:49.050Z"
   },
   {
    "duration": 209,
    "start_time": "2024-08-03T16:41:49.288Z"
   },
   {
    "duration": 27,
    "start_time": "2024-08-03T16:41:49.504Z"
   },
   {
    "duration": 139,
    "start_time": "2024-08-03T16:41:49.533Z"
   },
   {
    "duration": 67,
    "start_time": "2024-08-03T16:41:49.674Z"
   },
   {
    "duration": 125,
    "start_time": "2024-08-03T16:42:50.652Z"
   },
   {
    "duration": 16,
    "start_time": "2024-08-03T17:46:06.368Z"
   },
   {
    "duration": 2353,
    "start_time": "2024-08-03T17:46:13.381Z"
   },
   {
    "duration": 1179,
    "start_time": "2024-08-03T17:46:15.796Z"
   },
   {
    "duration": 6,
    "start_time": "2024-08-03T19:06:39.389Z"
   },
   {
    "duration": 19,
    "start_time": "2024-08-03T19:07:34.197Z"
   },
   {
    "duration": 52,
    "start_time": "2024-08-03T19:14:28.147Z"
   },
   {
    "duration": 18,
    "start_time": "2024-08-03T19:14:30.268Z"
   },
   {
    "duration": 11,
    "start_time": "2024-08-03T19:25:33.653Z"
   },
   {
    "duration": 5620,
    "start_time": "2024-08-03T19:29:13.655Z"
   },
   {
    "duration": 1417,
    "start_time": "2024-08-03T19:29:19.278Z"
   },
   {
    "duration": 955,
    "start_time": "2024-08-03T19:29:20.697Z"
   },
   {
    "duration": 18,
    "start_time": "2024-08-03T19:29:21.654Z"
   },
   {
    "duration": 226,
    "start_time": "2024-08-03T19:29:21.674Z"
   },
   {
    "duration": 494,
    "start_time": "2024-08-03T19:29:21.901Z"
   },
   {
    "duration": 986,
    "start_time": "2024-08-03T19:29:22.397Z"
   },
   {
    "duration": 197,
    "start_time": "2024-08-03T19:29:23.385Z"
   },
   {
    "duration": 21,
    "start_time": "2024-08-03T19:29:23.584Z"
   },
   {
    "duration": 610,
    "start_time": "2024-08-03T19:29:23.608Z"
   },
   {
    "duration": 53,
    "start_time": "2024-08-03T19:29:24.219Z"
   },
   {
    "duration": 217,
    "start_time": "2024-08-03T19:29:24.273Z"
   },
   {
    "duration": 30,
    "start_time": "2024-08-03T19:29:24.491Z"
   },
   {
    "duration": 1206,
    "start_time": "2024-08-03T19:29:24.523Z"
   },
   {
    "duration": 115,
    "start_time": "2024-08-03T19:29:25.731Z"
   },
   {
    "duration": 146,
    "start_time": "2024-08-03T19:29:25.848Z"
   },
   {
    "duration": 13787,
    "start_time": "2024-08-03T19:29:25.996Z"
   },
   {
    "duration": 38,
    "start_time": "2024-08-03T19:29:39.786Z"
   },
   {
    "duration": 3635,
    "start_time": "2024-08-03T19:29:39.825Z"
   },
   {
    "duration": 25,
    "start_time": "2024-08-03T19:29:43.462Z"
   },
   {
    "duration": 786,
    "start_time": "2024-08-03T19:29:43.489Z"
   },
   {
    "duration": 15,
    "start_time": "2024-08-03T19:29:44.276Z"
   },
   {
    "duration": 451,
    "start_time": "2024-08-03T19:29:44.293Z"
   },
   {
    "duration": 247,
    "start_time": "2024-08-03T19:29:44.746Z"
   },
   {
    "duration": 200,
    "start_time": "2024-08-03T19:29:44.995Z"
   },
   {
    "duration": 32,
    "start_time": "2024-08-03T19:29:45.197Z"
   },
   {
    "duration": 190,
    "start_time": "2024-08-03T19:29:45.231Z"
   },
   {
    "duration": 63,
    "start_time": "2024-08-03T19:29:45.424Z"
   },
   {
    "duration": 4611,
    "start_time": "2024-08-03T19:29:45.489Z"
   },
   {
    "duration": 1275,
    "start_time": "2024-08-03T19:29:50.102Z"
   },
   {
    "duration": 16,
    "start_time": "2024-08-03T19:29:51.379Z"
   },
   {
    "duration": 131,
    "start_time": "2024-08-03T19:29:51.397Z"
   },
   {
    "duration": 3,
    "start_time": "2024-08-03T19:29:51.530Z"
   },
   {
    "duration": 32,
    "start_time": "2024-08-03T19:29:51.535Z"
   },
   {
    "duration": 5,
    "start_time": "2024-08-03T19:29:51.569Z"
   },
   {
    "duration": 120,
    "start_time": "2024-08-03T19:29:51.576Z"
   },
   {
    "duration": 0,
    "start_time": "2024-08-03T19:29:51.697Z"
   },
   {
    "duration": 0,
    "start_time": "2024-08-03T19:29:51.699Z"
   },
   {
    "duration": 0,
    "start_time": "2024-08-03T19:29:51.704Z"
   },
   {
    "duration": 0,
    "start_time": "2024-08-03T19:29:51.705Z"
   },
   {
    "duration": 1,
    "start_time": "2024-08-03T19:29:51.706Z"
   },
   {
    "duration": 5,
    "start_time": "2024-08-03T19:30:22.358Z"
   },
   {
    "duration": 14,
    "start_time": "2024-08-03T19:30:26.024Z"
   },
   {
    "duration": 5,
    "start_time": "2024-08-03T19:30:55.104Z"
   },
   {
    "duration": 4,
    "start_time": "2024-08-03T19:30:56.341Z"
   },
   {
    "duration": 10,
    "start_time": "2024-08-03T19:31:19.835Z"
   },
   {
    "duration": 13,
    "start_time": "2024-08-03T19:31:45.063Z"
   },
   {
    "duration": 19,
    "start_time": "2024-08-03T19:32:24.551Z"
   },
   {
    "duration": 4,
    "start_time": "2024-08-03T19:33:05.656Z"
   },
   {
    "duration": 2717490,
    "start_time": "2024-08-03T19:33:06.337Z"
   },
   {
    "duration": 38,
    "start_time": "2024-08-03T20:30:34.981Z"
   },
   {
    "duration": 33,
    "start_time": "2024-08-03T20:30:41.933Z"
   },
   {
    "duration": 39,
    "start_time": "2024-08-03T20:30:51.293Z"
   },
   {
    "duration": 4,
    "start_time": "2024-08-03T20:31:21.020Z"
   },
   {
    "duration": 5,
    "start_time": "2024-08-03T20:31:26.263Z"
   },
   {
    "duration": 5,
    "start_time": "2024-08-03T20:31:37.070Z"
   },
   {
    "duration": 5,
    "start_time": "2024-08-03T20:31:42.797Z"
   },
   {
    "duration": 3,
    "start_time": "2024-08-03T20:34:44.444Z"
   },
   {
    "duration": 4,
    "start_time": "2024-08-03T20:35:39.184Z"
   },
   {
    "duration": 4,
    "start_time": "2024-08-03T20:35:43.473Z"
   },
   {
    "duration": 5,
    "start_time": "2024-08-03T20:35:53.140Z"
   },
   {
    "duration": 5,
    "start_time": "2024-08-03T20:36:08.851Z"
   },
   {
    "duration": 5,
    "start_time": "2024-08-03T20:36:17.775Z"
   },
   {
    "duration": 5,
    "start_time": "2024-08-03T20:36:23.353Z"
   },
   {
    "duration": 4,
    "start_time": "2024-08-03T20:36:39.908Z"
   },
   {
    "duration": 4,
    "start_time": "2024-08-03T20:36:46.163Z"
   },
   {
    "duration": 4,
    "start_time": "2024-08-03T20:36:50.143Z"
   },
   {
    "duration": 5,
    "start_time": "2024-08-03T20:36:53.154Z"
   },
   {
    "duration": 17,
    "start_time": "2024-08-03T20:36:57.601Z"
   },
   {
    "duration": 5,
    "start_time": "2024-08-03T20:37:00.076Z"
   },
   {
    "duration": 3,
    "start_time": "2024-08-03T20:38:36.235Z"
   },
   {
    "duration": 5,
    "start_time": "2024-08-03T20:51:19.043Z"
   },
   {
    "duration": 19,
    "start_time": "2024-08-03T20:52:56.475Z"
   },
   {
    "duration": 3,
    "start_time": "2024-08-03T20:53:15.799Z"
   },
   {
    "duration": 4,
    "start_time": "2024-08-03T20:53:18.023Z"
   },
   {
    "duration": 1015,
    "start_time": "2024-08-03T20:53:18.507Z"
   },
   {
    "duration": 11,
    "start_time": "2024-08-03T20:53:36.105Z"
   },
   {
    "duration": 10504,
    "start_time": "2024-08-04T06:13:44.573Z"
   },
   {
    "duration": 1815,
    "start_time": "2024-08-04T06:13:55.079Z"
   },
   {
    "duration": 3153,
    "start_time": "2024-08-04T06:13:56.896Z"
   },
   {
    "duration": 18,
    "start_time": "2024-08-04T06:14:00.050Z"
   },
   {
    "duration": 207,
    "start_time": "2024-08-04T06:14:00.070Z"
   },
   {
    "duration": 495,
    "start_time": "2024-08-04T06:14:00.278Z"
   },
   {
    "duration": 1078,
    "start_time": "2024-08-04T06:14:00.775Z"
   },
   {
    "duration": 143,
    "start_time": "2024-08-04T06:14:01.855Z"
   },
   {
    "duration": 106,
    "start_time": "2024-08-04T06:14:02.000Z"
   },
   {
    "duration": 593,
    "start_time": "2024-08-04T06:14:02.108Z"
   },
   {
    "duration": 59,
    "start_time": "2024-08-04T06:14:02.702Z"
   },
   {
    "duration": 198,
    "start_time": "2024-08-04T06:14:02.763Z"
   },
   {
    "duration": 24,
    "start_time": "2024-08-04T06:14:02.963Z"
   },
   {
    "duration": 1185,
    "start_time": "2024-08-04T06:14:02.990Z"
   },
   {
    "duration": 120,
    "start_time": "2024-08-04T06:14:04.177Z"
   },
   {
    "duration": 141,
    "start_time": "2024-08-04T06:14:04.299Z"
   },
   {
    "duration": 12713,
    "start_time": "2024-08-04T06:14:04.442Z"
   },
   {
    "duration": 24,
    "start_time": "2024-08-04T06:14:17.157Z"
   },
   {
    "duration": 3462,
    "start_time": "2024-08-04T06:14:17.183Z"
   },
   {
    "duration": 22,
    "start_time": "2024-08-04T06:14:20.647Z"
   },
   {
    "duration": 827,
    "start_time": "2024-08-04T06:14:20.670Z"
   },
   {
    "duration": 16,
    "start_time": "2024-08-04T06:14:21.498Z"
   },
   {
    "duration": 439,
    "start_time": "2024-08-04T06:14:21.515Z"
   },
   {
    "duration": 222,
    "start_time": "2024-08-04T06:14:21.955Z"
   },
   {
    "duration": 195,
    "start_time": "2024-08-04T06:14:22.179Z"
   },
   {
    "duration": 33,
    "start_time": "2024-08-04T06:14:22.376Z"
   },
   {
    "duration": 141,
    "start_time": "2024-08-04T06:14:22.411Z"
   },
   {
    "duration": 60,
    "start_time": "2024-08-04T06:14:22.554Z"
   },
   {
    "duration": 4382,
    "start_time": "2024-08-04T06:14:22.616Z"
   },
   {
    "duration": 1223,
    "start_time": "2024-08-04T06:14:27.000Z"
   },
   {
    "duration": 12,
    "start_time": "2024-08-04T06:14:28.225Z"
   },
   {
    "duration": 57,
    "start_time": "2024-08-04T06:14:28.238Z"
   },
   {
    "duration": 3,
    "start_time": "2024-08-04T06:14:28.297Z"
   },
   {
    "duration": 5,
    "start_time": "2024-08-04T06:14:28.302Z"
   },
   {
    "duration": 6,
    "start_time": "2024-08-04T06:14:28.308Z"
   },
   {
    "duration": 23,
    "start_time": "2024-08-04T06:14:28.315Z"
   },
   {
    "duration": 5,
    "start_time": "2024-08-04T06:14:28.339Z"
   },
   {
    "duration": 16759,
    "start_time": "2024-08-04T06:14:28.346Z"
   },
   {
    "duration": 38398,
    "start_time": "2024-08-04T06:14:45.107Z"
   },
   {
    "duration": 39932,
    "start_time": "2024-08-04T06:15:23.507Z"
   },
   {
    "duration": 1489562,
    "start_time": "2024-08-04T06:16:03.444Z"
   },
   {
    "duration": 3,
    "start_time": "2024-08-04T06:40:53.007Z"
   },
   {
    "duration": 1064,
    "start_time": "2024-08-04T06:40:53.012Z"
   },
   {
    "duration": 9,
    "start_time": "2024-08-04T06:40:54.078Z"
   },
   {
    "duration": 3,
    "start_time": "2024-08-04T06:42:23.399Z"
   },
   {
    "duration": 37,
    "start_time": "2024-08-04T06:42:42.526Z"
   },
   {
    "duration": 5,
    "start_time": "2024-08-04T06:43:00.347Z"
   },
   {
    "duration": 131,
    "start_time": "2024-08-04T06:43:12.277Z"
   },
   {
    "duration": 9,
    "start_time": "2024-08-04T06:43:14.320Z"
   },
   {
    "duration": 9,
    "start_time": "2024-08-04T06:43:17.102Z"
   },
   {
    "duration": 4,
    "start_time": "2024-08-04T06:43:33.115Z"
   },
   {
    "duration": 4,
    "start_time": "2024-08-04T06:44:02.047Z"
   },
   {
    "duration": 7,
    "start_time": "2024-08-04T06:44:41.479Z"
   },
   {
    "duration": 5,
    "start_time": "2024-08-04T06:44:48.882Z"
   },
   {
    "duration": 6,
    "start_time": "2024-08-04T06:44:55.484Z"
   },
   {
    "duration": 12,
    "start_time": "2024-08-04T06:45:45.270Z"
   },
   {
    "duration": 4,
    "start_time": "2024-08-04T06:45:49.907Z"
   },
   {
    "duration": 978,
    "start_time": "2024-08-04T06:45:52.010Z"
   },
   {
    "duration": 4,
    "start_time": "2024-08-04T06:46:00.288Z"
   },
   {
    "duration": 3,
    "start_time": "2024-08-04T06:49:39.038Z"
   },
   {
    "duration": 991,
    "start_time": "2024-08-04T06:49:39.657Z"
   },
   {
    "duration": 4,
    "start_time": "2024-08-04T06:49:40.650Z"
   },
   {
    "duration": 4,
    "start_time": "2024-08-04T06:49:54.321Z"
   },
   {
    "duration": 978,
    "start_time": "2024-08-04T06:49:54.705Z"
   },
   {
    "duration": 4,
    "start_time": "2024-08-04T06:49:55.685Z"
   },
   {
    "duration": 47144,
    "start_time": "2024-08-04T06:50:21.207Z"
   },
   {
    "duration": 3,
    "start_time": "2024-08-04T06:51:08.353Z"
   },
   {
    "duration": 13,
    "start_time": "2024-08-04T06:51:08.357Z"
   },
   {
    "duration": 7,
    "start_time": "2024-08-04T06:51:08.372Z"
   },
   {
    "duration": 10,
    "start_time": "2024-08-04T06:51:08.381Z"
   },
   {
    "duration": 10,
    "start_time": "2024-08-04T06:56:16.183Z"
   },
   {
    "duration": 4,
    "start_time": "2024-08-04T06:56:46.711Z"
   },
   {
    "duration": 11,
    "start_time": "2024-08-04T06:57:10.652Z"
   },
   {
    "duration": 13,
    "start_time": "2024-08-04T06:57:44.128Z"
   },
   {
    "duration": 604,
    "start_time": "2024-08-04T07:01:58.435Z"
   },
   {
    "duration": 521,
    "start_time": "2024-08-04T07:02:27.318Z"
   },
   {
    "duration": 520,
    "start_time": "2024-08-04T07:02:31.934Z"
   },
   {
    "duration": 65,
    "start_time": "2024-08-04T07:04:59.404Z"
   },
   {
    "duration": 79,
    "start_time": "2024-08-04T07:05:28.927Z"
   },
   {
    "duration": 9967,
    "start_time": "2024-08-05T08:31:04.294Z"
   },
   {
    "duration": 1569,
    "start_time": "2024-08-05T08:31:14.263Z"
   },
   {
    "duration": 1221,
    "start_time": "2024-08-05T08:31:15.834Z"
   },
   {
    "duration": 17,
    "start_time": "2024-08-05T08:31:17.057Z"
   },
   {
    "duration": 159,
    "start_time": "2024-08-05T08:31:17.076Z"
   },
   {
    "duration": 490,
    "start_time": "2024-08-05T08:31:17.236Z"
   },
   {
    "duration": 935,
    "start_time": "2024-08-05T08:31:17.728Z"
   },
   {
    "duration": 152,
    "start_time": "2024-08-05T08:31:18.665Z"
   },
   {
    "duration": 4,
    "start_time": "2024-08-05T08:31:18.819Z"
   },
   {
    "duration": 620,
    "start_time": "2024-08-05T08:31:18.825Z"
   },
   {
    "duration": 63,
    "start_time": "2024-08-05T08:31:19.447Z"
   },
   {
    "duration": 219,
    "start_time": "2024-08-05T08:31:19.512Z"
   },
   {
    "duration": 26,
    "start_time": "2024-08-05T08:31:19.732Z"
   },
   {
    "duration": 1206,
    "start_time": "2024-08-05T08:31:19.759Z"
   },
   {
    "duration": 120,
    "start_time": "2024-08-05T08:31:20.967Z"
   },
   {
    "duration": 148,
    "start_time": "2024-08-05T08:31:21.088Z"
   },
   {
    "duration": 13558,
    "start_time": "2024-08-05T08:31:21.238Z"
   },
   {
    "duration": 26,
    "start_time": "2024-08-05T08:31:34.797Z"
   },
   {
    "duration": 3492,
    "start_time": "2024-08-05T08:31:34.825Z"
   },
   {
    "duration": 27,
    "start_time": "2024-08-05T08:31:38.319Z"
   },
   {
    "duration": 769,
    "start_time": "2024-08-05T08:31:38.347Z"
   },
   {
    "duration": 14,
    "start_time": "2024-08-05T08:31:39.118Z"
   },
   {
    "duration": 452,
    "start_time": "2024-08-05T08:31:39.134Z"
   },
   {
    "duration": 268,
    "start_time": "2024-08-05T08:31:39.587Z"
   },
   {
    "duration": 279,
    "start_time": "2024-08-05T08:31:39.856Z"
   },
   {
    "duration": 28,
    "start_time": "2024-08-05T08:31:40.137Z"
   },
   {
    "duration": 154,
    "start_time": "2024-08-05T08:31:40.167Z"
   },
   {
    "duration": 68,
    "start_time": "2024-08-05T08:31:40.324Z"
   },
   {
    "duration": 4721,
    "start_time": "2024-08-05T08:31:40.393Z"
   },
   {
    "duration": 1300,
    "start_time": "2024-08-05T08:31:45.116Z"
   },
   {
    "duration": 14,
    "start_time": "2024-08-05T08:31:46.418Z"
   },
   {
    "duration": 63,
    "start_time": "2024-08-05T08:31:46.434Z"
   },
   {
    "duration": 4,
    "start_time": "2024-08-05T08:31:46.498Z"
   },
   {
    "duration": 4,
    "start_time": "2024-08-05T08:31:46.507Z"
   },
   {
    "duration": 7,
    "start_time": "2024-08-05T08:31:46.512Z"
   },
   {
    "duration": 5,
    "start_time": "2024-08-05T08:31:46.521Z"
   },
   {
    "duration": 21,
    "start_time": "2024-08-05T08:31:46.527Z"
   },
   {
    "duration": 17785,
    "start_time": "2024-08-05T08:31:46.549Z"
   },
   {
    "duration": 49044,
    "start_time": "2024-08-05T08:32:04.336Z"
   },
   {
    "duration": 42411,
    "start_time": "2024-08-05T08:32:53.382Z"
   },
   {
    "duration": 1597439,
    "start_time": "2024-08-05T08:33:35.795Z"
   },
   {
    "duration": 5,
    "start_time": "2024-08-05T09:00:13.235Z"
   },
   {
    "duration": 17367,
    "start_time": "2024-08-05T09:00:13.241Z"
   },
   {
    "duration": 4,
    "start_time": "2024-08-05T09:00:30.610Z"
   },
   {
    "duration": 80,
    "start_time": "2024-08-05T09:00:30.615Z"
   },
   {
    "duration": 32,
    "start_time": "2024-08-05T09:00:30.697Z"
   },
   {
    "duration": 68,
    "start_time": "2024-08-05T09:00:30.730Z"
   },
   {
    "duration": 66,
    "start_time": "2024-08-05T09:00:30.800Z"
   },
   {
    "duration": 172,
    "start_time": "2024-08-05T09:00:30.868Z"
   },
   {
    "duration": 4,
    "start_time": "2024-08-05T09:01:00.553Z"
   },
   {
    "duration": 17025,
    "start_time": "2024-08-05T09:01:01.101Z"
   },
   {
    "duration": 4,
    "start_time": "2024-08-05T09:01:18.128Z"
   },
   {
    "duration": 74,
    "start_time": "2024-08-05T09:01:18.133Z"
   },
   {
    "duration": 4,
    "start_time": "2024-08-05T09:01:18.209Z"
   },
   {
    "duration": 6,
    "start_time": "2024-08-05T09:01:18.214Z"
   },
   {
    "duration": 5,
    "start_time": "2024-08-05T09:01:50.499Z"
   },
   {
    "duration": 17362,
    "start_time": "2024-08-05T09:01:50.758Z"
   },
   {
    "duration": 4,
    "start_time": "2024-08-05T09:02:08.122Z"
   },
   {
    "duration": 20,
    "start_time": "2024-08-05T09:02:08.128Z"
   },
   {
    "duration": 9,
    "start_time": "2024-08-05T09:02:08.150Z"
   },
   {
    "duration": 47,
    "start_time": "2024-08-05T09:02:08.161Z"
   },
   {
    "duration": 10,
    "start_time": "2024-08-05T09:02:35.517Z"
   },
   {
    "duration": 564,
    "start_time": "2024-08-05T09:16:05.153Z"
   }
  ],
  "kernelspec": {
   "display_name": "Python 3 (ipykernel)",
   "language": "python",
   "name": "python3"
  },
  "language_info": {
   "codemirror_mode": {
    "name": "ipython",
    "version": 3
   },
   "file_extension": ".py",
   "mimetype": "text/x-python",
   "name": "python",
   "nbconvert_exporter": "python",
   "pygments_lexer": "ipython3",
   "version": "3.11.3"
  },
  "toc": {
   "base_numbering": 1,
   "nav_menu": {},
   "number_sections": true,
   "sideBar": true,
   "skip_h1_title": true,
   "title_cell": "Table of Contents",
   "title_sidebar": "Contents",
   "toc_cell": false,
   "toc_position": {},
   "toc_section_display": true,
   "toc_window_display": false
  }
 },
 "nbformat": 4,
 "nbformat_minor": 2
}
