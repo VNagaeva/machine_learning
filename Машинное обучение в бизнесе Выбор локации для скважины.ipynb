{
 "cells": [
  {
   "cell_type": "markdown",
   "metadata": {},
   "source": [
    "# Выбор локации для скважины"
   ]
  },
  {
   "cell_type": "markdown",
   "metadata": {},
   "source": [
    "Допустим, вы работаете в добывающей компании «ГлавРосГосНефть». Нужно решить, где бурить новую скважину.\n",
    "\n",
    "Вам предоставлены пробы нефти в трёх регионах: в каждом 10 000 месторождений, где измерили качество нефти и объём её запасов. Постройте модель машинного обучения, которая поможет определить регион, где добыча принесёт наибольшую прибыль. Проанализируйте возможную прибыль и риски техникой *Bootstrap.*\n",
    "\n",
    "Шаги для выбора локации:\n",
    "\n",
    "- В избранном регионе ищут месторождения, для каждого определяют значения признаков;\n",
    "- Строят модель и оценивают объём запасов;\n",
    "- Выбирают месторождения с самым высокими оценками значений. Количество месторождений зависит от бюджета компании и стоимости разработки одной скважины;\n",
    "- Прибыль равна суммарной прибыли отобранных месторождений."
   ]
  },
  {
   "cell_type": "markdown",
   "metadata": {},
   "source": [
    "Условия задачи:\n",
    "- Для обучения модели подходит только линейная регрессия (остальные — недостаточно предсказуемые).\n",
    "- При разведке региона исследуют 500 точек, из которых с помощью машинного обучения выбирают 200 лучших для разработки.\n",
    "- Бюджет на разработку скважин в регионе — 10 млрд рублей.\n",
    "- При нынешних ценах один баррель сырья приносит 450 рублей дохода. Доход с каждой единицы продукта составляет 450 тыс. рублей, поскольку объём указан в тысячах баррелей.\n",
    "- После оценки рисков нужно оставить лишь те регионы, в которых вероятность убытков меньше 2.5%. Среди них выбирают регион с наибольшей средней прибылью.\n",
    "- Данные синтетические: детали контрактов и характеристики месторождений не разглашаются."
   ]
  },
  {
   "cell_type": "markdown",
   "metadata": {},
   "source": [
    "## Содержание\n",
    "<a href='#section1'> 2. Загрузка и подготовка данных </a> <br>\n",
    "<a href='#section2'> 3. Обучение и проверка модели </a> <br>\n",
    "<a href='#section3'> 4. Подготовка к расчёту прибыли </a> <br>\n",
    "<a href='#section4'> 5. Расчёт прибыли и рисков </a> <br>\n",
    "<a href='#section5'> 6. Общий вывод </a> <br>"
   ]
  },
  {
   "cell_type": "code",
   "execution_count": 1,
   "metadata": {},
   "outputs": [],
   "source": [
    "!pip install phik -q\n",
    "!pip install -Uq scikit-learn"
   ]
  },
  {
   "cell_type": "code",
   "execution_count": 2,
   "metadata": {},
   "outputs": [],
   "source": [
    "import pandas as pd\n",
    "import numpy as np\n",
    "import seaborn as sns\n",
    "import matplotlib.pyplot as plt\n",
    "from scipy.stats import kstest\n",
    "from phik.report import plot_correlation_matrix\n",
    "from phik import report\n",
    "\n",
    "from sklearn.model_selection import train_test_split\n",
    "from sklearn.linear_model import LinearRegression\n",
    "from sklearn.metrics import mean_squared_error"
   ]
  },
  {
   "cell_type": "markdown",
   "metadata": {},
   "source": [
    "<a id='section1'></a>\n",
    "## Загрузка и подготовка данных"
   ]
  },
  {
   "cell_type": "markdown",
   "metadata": {},
   "source": [
    "Данные геологоразведки трёх регионов находятся в файлах: <br>\n",
    "/datasets/geo_data_0.csv. <br>\n",
    "/datasets/geo_data_1.csv. <br>\n",
    "/datasets/geo_data_2.csv. <br>\n",
    "id — уникальный идентификатор скважины; <br>\n",
    "f0, f1, f2 — три признака точек (неважно, что они означают, но сами признаки значимы); <br> \n",
    "product — объём запасов в скважине (тыс. баррелей)."
   ]
  },
  {
   "cell_type": "code",
   "execution_count": 3,
   "metadata": {},
   "outputs": [],
   "source": [
    "geo_data_0 = pd.read_csv('/datasets/geo_data_0.csv')\n",
    "geo_data_1 = pd.read_csv('/datasets/geo_data_1.csv')\n",
    "geo_data_2 = pd.read_csv('/datasets/geo_data_2.csv')"
   ]
  },
  {
   "cell_type": "markdown",
   "metadata": {},
   "source": [
    "### geo_data_0"
   ]
  },
  {
   "cell_type": "code",
   "execution_count": 4,
   "metadata": {},
   "outputs": [
    {
     "name": "stdout",
     "output_type": "stream",
     "text": [
      "<class 'pandas.core.frame.DataFrame'>\n",
      "RangeIndex: 100000 entries, 0 to 99999\n",
      "Data columns (total 5 columns):\n",
      " #   Column   Non-Null Count   Dtype  \n",
      "---  ------   --------------   -----  \n",
      " 0   id       100000 non-null  object \n",
      " 1   f0       100000 non-null  float64\n",
      " 2   f1       100000 non-null  float64\n",
      " 3   f2       100000 non-null  float64\n",
      " 4   product  100000 non-null  float64\n",
      "dtypes: float64(4), object(1)\n",
      "memory usage: 3.8+ MB\n"
     ]
    },
    {
     "data": {
      "text/html": [
       "<div>\n",
       "<style scoped>\n",
       "    .dataframe tbody tr th:only-of-type {\n",
       "        vertical-align: middle;\n",
       "    }\n",
       "\n",
       "    .dataframe tbody tr th {\n",
       "        vertical-align: top;\n",
       "    }\n",
       "\n",
       "    .dataframe thead th {\n",
       "        text-align: right;\n",
       "    }\n",
       "</style>\n",
       "<table border=\"1\" class=\"dataframe\">\n",
       "  <thead>\n",
       "    <tr style=\"text-align: right;\">\n",
       "      <th></th>\n",
       "      <th>id</th>\n",
       "      <th>f0</th>\n",
       "      <th>f1</th>\n",
       "      <th>f2</th>\n",
       "      <th>product</th>\n",
       "    </tr>\n",
       "  </thead>\n",
       "  <tbody>\n",
       "    <tr>\n",
       "      <th>0</th>\n",
       "      <td>txEyH</td>\n",
       "      <td>0.705745</td>\n",
       "      <td>-0.497823</td>\n",
       "      <td>1.221170</td>\n",
       "      <td>105.280062</td>\n",
       "    </tr>\n",
       "    <tr>\n",
       "      <th>1</th>\n",
       "      <td>2acmU</td>\n",
       "      <td>1.334711</td>\n",
       "      <td>-0.340164</td>\n",
       "      <td>4.365080</td>\n",
       "      <td>73.037750</td>\n",
       "    </tr>\n",
       "    <tr>\n",
       "      <th>2</th>\n",
       "      <td>409Wp</td>\n",
       "      <td>1.022732</td>\n",
       "      <td>0.151990</td>\n",
       "      <td>1.419926</td>\n",
       "      <td>85.265647</td>\n",
       "    </tr>\n",
       "    <tr>\n",
       "      <th>3</th>\n",
       "      <td>iJLyR</td>\n",
       "      <td>-0.032172</td>\n",
       "      <td>0.139033</td>\n",
       "      <td>2.978566</td>\n",
       "      <td>168.620776</td>\n",
       "    </tr>\n",
       "    <tr>\n",
       "      <th>4</th>\n",
       "      <td>Xdl7t</td>\n",
       "      <td>1.988431</td>\n",
       "      <td>0.155413</td>\n",
       "      <td>4.751769</td>\n",
       "      <td>154.036647</td>\n",
       "    </tr>\n",
       "  </tbody>\n",
       "</table>\n",
       "</div>"
      ],
      "text/plain": [
       "      id        f0        f1        f2     product\n",
       "0  txEyH  0.705745 -0.497823  1.221170  105.280062\n",
       "1  2acmU  1.334711 -0.340164  4.365080   73.037750\n",
       "2  409Wp  1.022732  0.151990  1.419926   85.265647\n",
       "3  iJLyR -0.032172  0.139033  2.978566  168.620776\n",
       "4  Xdl7t  1.988431  0.155413  4.751769  154.036647"
      ]
     },
     "execution_count": 4,
     "metadata": {},
     "output_type": "execute_result"
    }
   ],
   "source": [
    "geo_data_0.info()\n",
    "geo_data_0.head()"
   ]
  },
  {
   "cell_type": "code",
   "execution_count": 5,
   "metadata": {},
   "outputs": [
    {
     "data": {
      "text/plain": [
       "id         0\n",
       "f0         0\n",
       "f1         0\n",
       "f2         0\n",
       "product    0\n",
       "dtype: int64"
      ]
     },
     "execution_count": 5,
     "metadata": {},
     "output_type": "execute_result"
    }
   ],
   "source": [
    "geo_data_0.isna().sum()"
   ]
  },
  {
   "cell_type": "code",
   "execution_count": 6,
   "metadata": {},
   "outputs": [
    {
     "name": "stdout",
     "output_type": "stream",
     "text": [
      "0 0\n"
     ]
    }
   ],
   "source": [
    "print(geo_data_0.duplicated().sum(), geo_data_0.drop('id', axis=1).duplicated().sum())"
   ]
  },
  {
   "cell_type": "code",
   "execution_count": 7,
   "metadata": {},
   "outputs": [],
   "source": [
    "def plot_col(df, column):\n",
    "    plt.figure(figsize=(15, 3))\n",
    "    plt.subplot(1, 2, 1)\n",
    "    plt.ylabel('Частота')\n",
    "    plt.title(f'{column}')\n",
    "    sns.histplot(df[column])\n",
    "    plt.subplot(1, 2, 2)\n",
    "    plt.title(f'{column}')\n",
    "    sns.boxplot(x=df[column])"
   ]
  },
  {
   "cell_type": "code",
   "execution_count": 8,
   "metadata": {},
   "outputs": [
    {
     "data": {
      "image/png": "[encoded data removed]",
      "text/plain": [
       "<Figure size 1080x216 with 2 Axes>"
      ]
     },
     "metadata": {
      "needs_background": "light"
     },
     "output_type": "display_data"
    },
    {
     "data": {
      "image/png": "[encoded data removed]",
      "text/plain": [
       "<Figure size 1080x216 with 2 Axes>"
      ]
     },
     "metadata": {
      "needs_background": "light"
     },
     "output_type": "display_data"
    },
    {
     "data": {
      "image/png": "[encoded data removed]",
      "text/plain": [
       "<Figure size 1080x216 with 2 Axes>"
      ]
     },
     "metadata": {
      "needs_background": "light"
     },
     "output_type": "display_data"
    },
    {
     "data": {
      "image/png": "[encoded data removed]",
      "text/plain": [
       "<Figure size 1080x216 with 2 Axes>"
      ]
     },
     "metadata": {
      "needs_background": "light"
     },
     "output_type": "display_data"
    }
   ],
   "source": [
    "col_features = ['f0', 'f1', 'f2', 'product']\n",
    "for col in col_features:\n",
    "    plot_col(geo_data_0, col)"
   ]
  },
  {
   "cell_type": "code",
   "execution_count": 9,
   "metadata": {},
   "outputs": [
    {
     "name": "stdout",
     "output_type": "stream",
     "text": [
      "Распределение f0 не нормальное\n",
      "Распределение f1 не нормальное\n",
      "Распределение f2 не нормальное\n",
      "Распределение product не нормальное\n"
     ]
    }
   ],
   "source": [
    "for i in col_features:\n",
    "    stat, p_val = kstest(geo_data_0[i], \"norm\")\n",
    "    if p_val < 0.05: \n",
    "        print(f'Распределение {i} не нормальное')\n",
    "    else: \n",
    "        print(f'Распределение {i} нормальное')"
   ]
  },
  {
   "cell_type": "code",
   "execution_count": 10,
   "metadata": {},
   "outputs": [
    {
     "data": {
      "image/png": "[encoded data removed]",
      "text/plain": [
       "<Figure size 1080x576 with 2 Axes>"
      ]
     },
     "metadata": {
      "needs_background": "light"
     },
     "output_type": "display_data"
    }
   ],
   "source": [
    "phik_overview = geo_data_0.drop('id', axis=1).phik_matrix(interval_cols=['f0', 'f1', 'f2', 'product'])\n",
    "\n",
    "plot_correlation_matrix(\n",
    "    phik_overview.values,\n",
    "    x_labels=phik_overview.columns,\n",
    "    y_labels=phik_overview.index,\n",
    "    title=r\"correlation $\\phi_K$\",\n",
    "    fontsize_factor=1.5,\n",
    "    figsize=(15, 8)\n",
    ")"
   ]
  },
  {
   "cell_type": "markdown",
   "metadata": {},
   "source": [
    "### geo_data_1"
   ]
  },
  {
   "cell_type": "code",
   "execution_count": 11,
   "metadata": {},
   "outputs": [
    {
     "name": "stdout",
     "output_type": "stream",
     "text": [
      "<class 'pandas.core.frame.DataFrame'>\n",
      "RangeIndex: 100000 entries, 0 to 99999\n",
      "Data columns (total 5 columns):\n",
      " #   Column   Non-Null Count   Dtype  \n",
      "---  ------   --------------   -----  \n",
      " 0   id       100000 non-null  object \n",
      " 1   f0       100000 non-null  float64\n",
      " 2   f1       100000 non-null  float64\n",
      " 3   f2       100000 non-null  float64\n",
      " 4   product  100000 non-null  float64\n",
      "dtypes: float64(4), object(1)\n",
      "memory usage: 3.8+ MB\n"
     ]
    },
    {
     "data": {
      "text/html": [
       "<div>\n",
       "<style scoped>\n",
       "    .dataframe tbody tr th:only-of-type {\n",
       "        vertical-align: middle;\n",
       "    }\n",
       "\n",
       "    .dataframe tbody tr th {\n",
       "        vertical-align: top;\n",
       "    }\n",
       "\n",
       "    .dataframe thead th {\n",
       "        text-align: right;\n",
       "    }\n",
       "</style>\n",
       "<table border=\"1\" class=\"dataframe\">\n",
       "  <thead>\n",
       "    <tr style=\"text-align: right;\">\n",
       "      <th></th>\n",
       "      <th>id</th>\n",
       "      <th>f0</th>\n",
       "      <th>f1</th>\n",
       "      <th>f2</th>\n",
       "      <th>product</th>\n",
       "    </tr>\n",
       "  </thead>\n",
       "  <tbody>\n",
       "    <tr>\n",
       "      <th>0</th>\n",
       "      <td>kBEdx</td>\n",
       "      <td>-15.001348</td>\n",
       "      <td>-8.276000</td>\n",
       "      <td>-0.005876</td>\n",
       "      <td>3.179103</td>\n",
       "    </tr>\n",
       "    <tr>\n",
       "      <th>1</th>\n",
       "      <td>62mP7</td>\n",
       "      <td>14.272088</td>\n",
       "      <td>-3.475083</td>\n",
       "      <td>0.999183</td>\n",
       "      <td>26.953261</td>\n",
       "    </tr>\n",
       "    <tr>\n",
       "      <th>2</th>\n",
       "      <td>vyE1P</td>\n",
       "      <td>6.263187</td>\n",
       "      <td>-5.948386</td>\n",
       "      <td>5.001160</td>\n",
       "      <td>134.766305</td>\n",
       "    </tr>\n",
       "    <tr>\n",
       "      <th>3</th>\n",
       "      <td>KcrkZ</td>\n",
       "      <td>-13.081196</td>\n",
       "      <td>-11.506057</td>\n",
       "      <td>4.999415</td>\n",
       "      <td>137.945408</td>\n",
       "    </tr>\n",
       "    <tr>\n",
       "      <th>4</th>\n",
       "      <td>AHL4O</td>\n",
       "      <td>12.702195</td>\n",
       "      <td>-8.147433</td>\n",
       "      <td>5.004363</td>\n",
       "      <td>134.766305</td>\n",
       "    </tr>\n",
       "  </tbody>\n",
       "</table>\n",
       "</div>"
      ],
      "text/plain": [
       "      id         f0         f1        f2     product\n",
       "0  kBEdx -15.001348  -8.276000 -0.005876    3.179103\n",
       "1  62mP7  14.272088  -3.475083  0.999183   26.953261\n",
       "2  vyE1P   6.263187  -5.948386  5.001160  134.766305\n",
       "3  KcrkZ -13.081196 -11.506057  4.999415  137.945408\n",
       "4  AHL4O  12.702195  -8.147433  5.004363  134.766305"
      ]
     },
     "execution_count": 11,
     "metadata": {},
     "output_type": "execute_result"
    }
   ],
   "source": [
    "geo_data_1.info()\n",
    "geo_data_1.head()"
   ]
  },
  {
   "cell_type": "code",
   "execution_count": 12,
   "metadata": {},
   "outputs": [
    {
     "data": {
      "text/plain": [
       "id         0\n",
       "f0         0\n",
       "f1         0\n",
       "f2         0\n",
       "product    0\n",
       "dtype: int64"
      ]
     },
     "execution_count": 12,
     "metadata": {},
     "output_type": "execute_result"
    }
   ],
   "source": [
    "geo_data_1.isna().sum()"
   ]
  },
  {
   "cell_type": "code",
   "execution_count": 13,
   "metadata": {},
   "outputs": [
    {
     "name": "stdout",
     "output_type": "stream",
     "text": [
      "0 0\n"
     ]
    }
   ],
   "source": [
    "print(geo_data_1.duplicated().sum(), geo_data_1.drop('id', axis=1).duplicated().sum())"
   ]
  },
  {
   "cell_type": "code",
   "execution_count": 14,
   "metadata": {},
   "outputs": [
    {
     "data": {
      "image/png": "[encoded data removed]",
      "text/plain": [
       "<Figure size 1080x216 with 2 Axes>"
      ]
     },
     "metadata": {
      "needs_background": "light"
     },
     "output_type": "display_data"
    },
    {
     "data": {
      "image/png": "[encoded data removed]",
      "text/plain": [
       "<Figure size 1080x216 with 2 Axes>"
      ]
     },
     "metadata": {
      "needs_background": "light"
     },
     "output_type": "display_data"
    },
    {
     "data": {
      "image/png": "[encoded data removed]",
      "text/plain": [
       "<Figure size 1080x216 with 2 Axes>"
      ]
     },
     "metadata": {
      "needs_background": "light"
     },
     "output_type": "display_data"
    },
    {
     "data": {
      "image/png": "[encoded data removed]",
      "text/plain": [
       "<Figure size 1080x216 with 2 Axes>"
      ]
     },
     "metadata": {
      "needs_background": "light"
     },
     "output_type": "display_data"
    }
   ],
   "source": [
    "for col in col_features:\n",
    "    plot_col(geo_data_1, col)"
   ]
  },
  {
   "cell_type": "code",
   "execution_count": 15,
   "metadata": {},
   "outputs": [
    {
     "name": "stdout",
     "output_type": "stream",
     "text": [
      "Распределение f0 не нормальное\n",
      "Распределение f1 не нормальное\n",
      "Распределение f2 не нормальное\n",
      "Распределение product не нормальное\n"
     ]
    }
   ],
   "source": [
    "for i in col_features:\n",
    "    stat, p_val = kstest(geo_data_1[i], \"norm\")\n",
    "    if p_val < 0.05: \n",
    "        print(f'Распределение {i} не нормальное')\n",
    "    else: \n",
    "        print(f'Распределение {i} нормальное')"
   ]
  },
  {
   "cell_type": "code",
   "execution_count": 16,
   "metadata": {},
   "outputs": [
    {
     "data": {
      "image/png": "[encoded data removed]",
      "text/plain": [
       "<Figure size 1080x576 with 2 Axes>"
      ]
     },
     "metadata": {
      "needs_background": "light"
     },
     "output_type": "display_data"
    }
   ],
   "source": [
    "phik_overview = geo_data_1.drop('id', axis=1).phik_matrix(interval_cols=['f0', 'f1', 'f2', 'product'])\n",
    "\n",
    "plot_correlation_matrix(\n",
    "    phik_overview.values,\n",
    "    x_labels=phik_overview.columns,\n",
    "    y_labels=phik_overview.index,\n",
    "    title=r\"correlation $\\phi_K$\",\n",
    "    fontsize_factor=1.5,\n",
    "    figsize=(15, 8)\n",
    ")"
   ]
  },
  {
   "cell_type": "markdown",
   "metadata": {},
   "source": [
    "### geo_data_2"
   ]
  },
  {
   "cell_type": "code",
   "execution_count": 17,
   "metadata": {},
   "outputs": [
    {
     "name": "stdout",
     "output_type": "stream",
     "text": [
      "<class 'pandas.core.frame.DataFrame'>\n",
      "RangeIndex: 100000 entries, 0 to 99999\n",
      "Data columns (total 5 columns):\n",
      " #   Column   Non-Null Count   Dtype  \n",
      "---  ------   --------------   -----  \n",
      " 0   id       100000 non-null  object \n",
      " 1   f0       100000 non-null  float64\n",
      " 2   f1       100000 non-null  float64\n",
      " 3   f2       100000 non-null  float64\n",
      " 4   product  100000 non-null  float64\n",
      "dtypes: float64(4), object(1)\n",
      "memory usage: 3.8+ MB\n"
     ]
    },
    {
     "data": {
      "text/html": [
       "<div>\n",
       "<style scoped>\n",
       "    .dataframe tbody tr th:only-of-type {\n",
       "        vertical-align: middle;\n",
       "    }\n",
       "\n",
       "    .dataframe tbody tr th {\n",
       "        vertical-align: top;\n",
       "    }\n",
       "\n",
       "    .dataframe thead th {\n",
       "        text-align: right;\n",
       "    }\n",
       "</style>\n",
       "<table border=\"1\" class=\"dataframe\">\n",
       "  <thead>\n",
       "    <tr style=\"text-align: right;\">\n",
       "      <th></th>\n",
       "      <th>id</th>\n",
       "      <th>f0</th>\n",
       "      <th>f1</th>\n",
       "      <th>f2</th>\n",
       "      <th>product</th>\n",
       "    </tr>\n",
       "  </thead>\n",
       "  <tbody>\n",
       "    <tr>\n",
       "      <th>0</th>\n",
       "      <td>fwXo0</td>\n",
       "      <td>-1.146987</td>\n",
       "      <td>0.963328</td>\n",
       "      <td>-0.828965</td>\n",
       "      <td>27.758673</td>\n",
       "    </tr>\n",
       "    <tr>\n",
       "      <th>1</th>\n",
       "      <td>WJtFt</td>\n",
       "      <td>0.262778</td>\n",
       "      <td>0.269839</td>\n",
       "      <td>-2.530187</td>\n",
       "      <td>56.069697</td>\n",
       "    </tr>\n",
       "    <tr>\n",
       "      <th>2</th>\n",
       "      <td>ovLUW</td>\n",
       "      <td>0.194587</td>\n",
       "      <td>0.289035</td>\n",
       "      <td>-5.586433</td>\n",
       "      <td>62.871910</td>\n",
       "    </tr>\n",
       "    <tr>\n",
       "      <th>3</th>\n",
       "      <td>q6cA6</td>\n",
       "      <td>2.236060</td>\n",
       "      <td>-0.553760</td>\n",
       "      <td>0.930038</td>\n",
       "      <td>114.572842</td>\n",
       "    </tr>\n",
       "    <tr>\n",
       "      <th>4</th>\n",
       "      <td>WPMUX</td>\n",
       "      <td>-0.515993</td>\n",
       "      <td>1.716266</td>\n",
       "      <td>5.899011</td>\n",
       "      <td>149.600746</td>\n",
       "    </tr>\n",
       "  </tbody>\n",
       "</table>\n",
       "</div>"
      ],
      "text/plain": [
       "      id        f0        f1        f2     product\n",
       "0  fwXo0 -1.146987  0.963328 -0.828965   27.758673\n",
       "1  WJtFt  0.262778  0.269839 -2.530187   56.069697\n",
       "2  ovLUW  0.194587  0.289035 -5.586433   62.871910\n",
       "3  q6cA6  2.236060 -0.553760  0.930038  114.572842\n",
       "4  WPMUX -0.515993  1.716266  5.899011  149.600746"
      ]
     },
     "execution_count": 17,
     "metadata": {},
     "output_type": "execute_result"
    }
   ],
   "source": [
    "geo_data_2.info()\n",
    "geo_data_2.head()"
   ]
  },
  {
   "cell_type": "code",
   "execution_count": 18,
   "metadata": {},
   "outputs": [
    {
     "data": {
      "text/plain": [
       "id         0\n",
       "f0         0\n",
       "f1         0\n",
       "f2         0\n",
       "product    0\n",
       "dtype: int64"
      ]
     },
     "execution_count": 18,
     "metadata": {},
     "output_type": "execute_result"
    }
   ],
   "source": [
    "geo_data_2.isna().sum()"
   ]
  },
  {
   "cell_type": "code",
   "execution_count": 19,
   "metadata": {},
   "outputs": [
    {
     "name": "stdout",
     "output_type": "stream",
     "text": [
      "0 0\n"
     ]
    }
   ],
   "source": [
    "print(geo_data_2.duplicated().sum(), geo_data_2.drop('id', axis=1).duplicated().sum())"
   ]
  },
  {
   "cell_type": "code",
   "execution_count": 20,
   "metadata": {},
   "outputs": [
    {
     "data": {
      "image/png": "[encoded data removed]",
      "text/plain": [
       "<Figure size 1080x216 with 2 Axes>"
      ]
     },
     "metadata": {
      "needs_background": "light"
     },
     "output_type": "display_data"
    },
    {
     "data": {
      "image/png": "[encoded data removed]",
      "text/plain": [
       "<Figure size 1080x216 with 2 Axes>"
      ]
     },
     "metadata": {
      "needs_background": "light"
     },
     "output_type": "display_data"
    },
    {
     "data": {
      "image/png": "[encoded data removed]",
      "text/plain": [
       "<Figure size 1080x216 with 2 Axes>"
      ]
     },
     "metadata": {
      "needs_background": "light"
     },
     "output_type": "display_data"
    },
    {
     "data": {
      "image/png": "[encoded data removed]",
      "text/plain": [
       "<Figure size 1080x216 with 2 Axes>"
      ]
     },
     "metadata": {
      "needs_background": "light"
     },
     "output_type": "display_data"
    }
   ],
   "source": [
    "for col in col_features:\n",
    "    plot_col(geo_data_2, col)"
   ]
  },
  {
   "cell_type": "code",
   "execution_count": 21,
   "metadata": {},
   "outputs": [
    {
     "name": "stdout",
     "output_type": "stream",
     "text": [
      "Распределение f0 не нормальное\n",
      "Распределение f1 не нормальное\n",
      "Распределение f2 не нормальное\n",
      "Распределение product не нормальное\n"
     ]
    }
   ],
   "source": [
    "for i in col_features:\n",
    "    stat, p_val = kstest(geo_data_2[i], \"norm\")\n",
    "    if p_val < 0.05: \n",
    "        print(f'Распределение {i} не нормальное')\n",
    "    else: \n",
    "        print(f'Распределение {i} нормальное')"
   ]
  },
  {
   "cell_type": "code",
   "execution_count": 22,
   "metadata": {},
   "outputs": [
    {
     "data": {
      "image/png": "[encoded data removed]",
      "text/plain": [
       "<Figure size 1080x576 with 2 Axes>"
      ]
     },
     "metadata": {
      "needs_background": "light"
     },
     "output_type": "display_data"
    }
   ],
   "source": [
    "phik_overview = geo_data_2.drop('id', axis=1).phik_matrix(interval_cols=['f0', 'f1', 'f2', 'product'])\n",
    "\n",
    "plot_correlation_matrix(\n",
    "    phik_overview.values,\n",
    "    x_labels=phik_overview.columns,\n",
    "    y_labels=phik_overview.index,\n",
    "    title=r\"correlation $\\phi_K$\",\n",
    "    fontsize_factor=1.5,\n",
    "    figsize=(15, 8)\n",
    ")"
   ]
  },
  {
   "cell_type": "markdown",
   "metadata": {},
   "source": [
    "### Итог\n",
    "- Данные загружены и проверены на соответствие типов\n",
    "- Дубликаты отсутствуют\n",
    "- Пропуски отсутствуют\n",
    "- Явные выбросы отсутствуют\n",
    "- Признаки проверены на нормальность тестом Колмагорова-Смирнова. Распределение признаков не соответствует нормальному\n",
    "- Сильная взаимосвязь присутствует в данных 2 региона между f2 и product - 0.98. В остальных данных мультиколлинеарность отсутствует"
   ]
  },
  {
   "cell_type": "markdown",
   "metadata": {},
   "source": [
    "<a id='section2'></a>\n",
    "## Обучение и проверка модели"
   ]
  },
  {
   "cell_type": "code",
   "execution_count": 23,
   "metadata": {},
   "outputs": [],
   "source": [
    "def model_learning(df):\n",
    "    X = df.drop(['id', 'product'], axis=1)\n",
    "    y = df['product']\n",
    "    X_train, X_valid, y_train, y_valid = train_test_split(X, y, random_state=42, test_size=0.25)\n",
    "    \n",
    "    model = LinearRegression()\n",
    "    model.fit(X_train, y_train)\n",
    "    y_pred = model.predict(X_valid)\n",
    "    rmse = np.sqrt(mean_squared_error(y_valid, y_pred))\n",
    "    \n",
    "    return rmse, y_valid, y_pred"
   ]
  },
  {
   "cell_type": "code",
   "execution_count": 24,
   "metadata": {},
   "outputs": [],
   "source": [
    "rmse_0, product_valid_0, product_pred_0 = model_learning(geo_data_0)\n",
    "rmse_1, product_valid_1, product_pred_1 = model_learning(geo_data_1)\n",
    "rmse_2, product_valid_2, product_pred_2 = model_learning(geo_data_2)"
   ]
  },
  {
   "cell_type": "code",
   "execution_count": 25,
   "metadata": {},
   "outputs": [
    {
     "data": {
      "text/html": [
       "<div>\n",
       "<style scoped>\n",
       "    .dataframe tbody tr th:only-of-type {\n",
       "        vertical-align: middle;\n",
       "    }\n",
       "\n",
       "    .dataframe tbody tr th {\n",
       "        vertical-align: top;\n",
       "    }\n",
       "\n",
       "    .dataframe thead th {\n",
       "        text-align: right;\n",
       "    }\n",
       "</style>\n",
       "<table border=\"1\" class=\"dataframe\">\n",
       "  <thead>\n",
       "    <tr style=\"text-align: right;\">\n",
       "      <th></th>\n",
       "      <th>1 регион</th>\n",
       "      <th>2 регион</th>\n",
       "      <th>3 регион</th>\n",
       "    </tr>\n",
       "  </thead>\n",
       "  <tbody>\n",
       "    <tr>\n",
       "      <th>Средний запас валидационного сырья</th>\n",
       "      <td>92.325956</td>\n",
       "      <td>68.725381</td>\n",
       "      <td>95.150999</td>\n",
       "    </tr>\n",
       "    <tr>\n",
       "      <th>Средний запас предсказанного сырья</th>\n",
       "      <td>92.398800</td>\n",
       "      <td>68.712878</td>\n",
       "      <td>94.771024</td>\n",
       "    </tr>\n",
       "    <tr>\n",
       "      <th>RMSE</th>\n",
       "      <td>37.756600</td>\n",
       "      <td>0.890280</td>\n",
       "      <td>40.145872</td>\n",
       "    </tr>\n",
       "  </tbody>\n",
       "</table>\n",
       "</div>"
      ],
      "text/plain": [
       "                                     1 регион   2 регион   3 регион\n",
       "Средний запас валидационного сырья  92.325956  68.725381  95.150999\n",
       "Средний запас предсказанного сырья  92.398800  68.712878  94.771024\n",
       "RMSE                                37.756600   0.890280  40.145872"
      ]
     },
     "execution_count": 25,
     "metadata": {},
     "output_type": "execute_result"
    }
   ],
   "source": [
    "result = pd.DataFrame(index=['Средний запас валидационного сырья', 'Средний запас предсказанного сырья', 'RMSE'], \n",
    "                      columns=['1 регион', '2 регион', '3 регион'])\n",
    "\n",
    "result['1 регион'] = [np.mean(product_valid_0), np.mean(product_pred_0), rmse_0]\n",
    "result['2 регион'] = [np.mean(product_valid_1), np.mean(product_pred_1), rmse_1]\n",
    "result['3 регион'] = [np.mean(product_valid_2), np.mean(product_pred_2), rmse_2]\n",
    "result"
   ]
  },
  {
   "cell_type": "markdown",
   "metadata": {},
   "source": [
    "### Итог\n",
    "- Целевой признак предсказан с помощью Линейной регрессии\n",
    "- Качество моделей оценивалось с помощью RMSE\n",
    "- Лучший результат пренадлежит модели построенной по 2 региону - модель в среднем ошибалась лишь на 0.89\n",
    "- Значения метрик для 1 и 3 регионов примерно одинаковые - 37.8 и 40.1 соответственно\n",
    "- Средние по истинным и предсказанным значениям примерно одинаковые\n",
    "- По предсказанным данным в 3 регионе среднедобываемый объем нефти наивысший - 94.7 тыс.баррелей. В 1 регионе показатели немного отстают - 92.4 тыс.баррелей. Во 2 регионе средний запас сырья сильно ниже - 68.7 тыс.баррелей."
   ]
  },
  {
   "cell_type": "markdown",
   "metadata": {},
   "source": [
    "<a id='section3'></a>\n",
    "## Подготовка к расчёту прибыли"
   ]
  },
  {
   "cell_type": "markdown",
   "metadata": {},
   "source": [
    "При разведке региона исследуют 500 точек, из которых с помощью машинного обучения выбирают 200 лучших для разработки. <br>\n",
    "Бюджет на разработку скважин в регионе — 10 млрд рублей. <br>\n",
    "При нынешних ценах один баррель сырья приносит 450 рублей дохода. Доход с каждой единицы продукта составляет 450 тыс. рублей, поскольку объём указан в тысячах баррелей. <br>\n",
    "После оценки рисков нужно оставить лишь те регионы, в которых вероятность убытков меньше 2.5%. Среди них выбирают регион с наибольшей средней прибылью."
   ]
  },
  {
   "cell_type": "code",
   "execution_count": 26,
   "metadata": {},
   "outputs": [],
   "source": [
    "TOTAL_PLACES = 500 # штук\n",
    "BEST_PLACES = 200  # штук\n",
    "BUDGET = 1e+7 # Тысяч рублей\n",
    "INCOME_PER_ONE = 450 # Тысяч рублей\n",
    "LOSS_PROB = 0.025 # Доля"
   ]
  },
  {
   "cell_type": "code",
   "execution_count": 27,
   "metadata": {},
   "outputs": [
    {
     "name": "stdout",
     "output_type": "stream",
     "text": [
      "Минимальный бюджет 1 месторождения: 50000.0 тыс. руб.\n",
      "Минимальный объем нефти 1 месторождения: 111.1 тыс. баррелей\n"
     ]
    }
   ],
   "source": [
    "avg_budget = BUDGET / BEST_PLACES\n",
    "print(f'Минимальный бюджет 1 месторождения: {avg_budget} тыс. руб.')\n",
    "\n",
    "avg_oil = avg_budget / INCOME_PER_ONE\n",
    "print(f'Минимальный объем нефти 1 месторождения: {round(avg_oil, 1)} тыс. баррелей')"
   ]
  },
  {
   "cell_type": "code",
   "execution_count": 28,
   "metadata": {},
   "outputs": [],
   "source": [
    "def oil_profit_calculation(target, probabilities, count):\n",
    "    probs_sorted = probabilities.sort_values(ascending=False)\n",
    "    selected = target[probs_sorted.index][:count]\n",
    "    return INCOME_PER_ONE * selected.sum() - BUDGET"
   ]
  },
  {
   "cell_type": "code",
   "execution_count": 29,
   "metadata": {},
   "outputs": [
    {
     "data": {
      "image/png": "[encoded data removed]",
      "text/plain": [
       "<Figure size 1080x216 with 2 Axes>"
      ]
     },
     "metadata": {
      "needs_background": "light"
     },
     "output_type": "display_data"
    },
    {
     "data": {
      "image/png": "[encoded data removed]",
      "text/plain": [
       "<Figure size 1080x216 with 2 Axes>"
      ]
     },
     "metadata": {
      "needs_background": "light"
     },
     "output_type": "display_data"
    },
    {
     "data": {
      "image/png": "[encoded data removed]",
      "text/plain": [
       "<Figure size 1080x216 with 2 Axes>"
      ]
     },
     "metadata": {
      "needs_background": "light"
     },
     "output_type": "display_data"
    }
   ],
   "source": [
    "plot_col(geo_data_0, 'product')\n",
    "plot_col(geo_data_1, 'product')\n",
    "plot_col(geo_data_2, 'product')"
   ]
  },
  {
   "cell_type": "code",
   "execution_count": 33,
   "metadata": {},
   "outputs": [
    {
     "data": {
      "text/html": [
       "<div>\n",
       "<style scoped>\n",
       "    .dataframe tbody tr th:only-of-type {\n",
       "        vertical-align: middle;\n",
       "    }\n",
       "\n",
       "    .dataframe tbody tr th {\n",
       "        vertical-align: top;\n",
       "    }\n",
       "\n",
       "    .dataframe thead th {\n",
       "        text-align: right;\n",
       "    }\n",
       "</style>\n",
       "<table border=\"1\" class=\"dataframe\">\n",
       "  <thead>\n",
       "    <tr style=\"text-align: right;\">\n",
       "      <th></th>\n",
       "      <th>Средний объём добываемой нефти, тыс.баррелей</th>\n",
       "    </tr>\n",
       "  </thead>\n",
       "  <tbody>\n",
       "    <tr>\n",
       "      <th>1 регион</th>\n",
       "      <td>92.500</td>\n",
       "    </tr>\n",
       "    <tr>\n",
       "      <th>2 регион</th>\n",
       "      <td>68.825</td>\n",
       "    </tr>\n",
       "    <tr>\n",
       "      <th>3 регион</th>\n",
       "      <td>95.000</td>\n",
       "    </tr>\n",
       "  </tbody>\n",
       "</table>\n",
       "</div>"
      ],
      "text/plain": [
       "          Средний объём добываемой нефти, тыс.баррелей\n",
       "1 регион                                        92.500\n",
       "2 регион                                        68.825\n",
       "3 регион                                        95.000"
      ]
     },
     "execution_count": 33,
     "metadata": {},
     "output_type": "execute_result"
    }
   ],
   "source": [
    "data = {'Средний объём добываемой нефти, тыс.баррелей': \\\n",
    "        [geo_data_0['product'].mean(), geo_data_1['product'].mean(), geo_data_2['product'].mean()]}\n",
    "pd.DataFrame(data, index=['1 регион', '2 регион', '3 регион'], columns=['Средний объём добываемой нефти, тыс.баррелей'])"
   ]
  },
  {
   "cell_type": "markdown",
   "metadata": {},
   "source": [
    "### Итог\n",
    "- Построена оценка на минимальный бюджет 1 месторождения - 50000 тыс.руб.\n",
    "- Постороена оценка на минимальный объем нефти, добываемой на 1 месторождении - 111.1 тыс. баррелей\n",
    "- В 1 и 3 регионах выше среднее значение добываеомого объема нефти по регионы, следовательно, вероятность покрыть расходы выше\n",
    "- Важно отметить, что средний объем добываемой нефти в регионах составляет 92.5, 68.8, 95.0 тыс.баррелей соответственно, в то время как минимальный среднедобываемый объем для безубыточной торговли должен быть 111.1 тыс.баррелей "
   ]
  },
  {
   "cell_type": "markdown",
   "metadata": {},
   "source": [
    "<a id='section4'></a>\n",
    "## Расчёт прибыли и рисков "
   ]
  },
  {
   "cell_type": "code",
   "execution_count": 31,
   "metadata": {},
   "outputs": [],
   "source": [
    "state = np.random.RandomState(12345)\n",
    "\n",
    "def bootstrap_1000(target, probs):\n",
    "    values=[]\n",
    "    lost = 0\n",
    "    for i in range(1000):\n",
    "        target_sample = target.sample(replace=True, random_state=state, n=TOTAL_PLACES)\n",
    "        probs_sample = probs[target_sample.index]\n",
    "        profit = oil_profit_calculation(target, probs_sample, BEST_PLACES)\n",
    "        if profit < 0:\n",
    "            lost +=1\n",
    "        values.append(profit)\n",
    "    \n",
    "    values = pd.Series(values)\n",
    "    lower = values.quantile(0.025)\n",
    "    upper = values.quantile(0.975)\n",
    "    average = values.mean()\n",
    "    risk = lost / 1000 * 100\n",
    "    \n",
    "    return average, lower, upper, risk"
   ]
  },
  {
   "cell_type": "code",
   "execution_count": 32,
   "metadata": {
    "scrolled": true
   },
   "outputs": [
    {
     "data": {
      "text/html": [
       "<div>\n",
       "<style scoped>\n",
       "    .dataframe tbody tr th:only-of-type {\n",
       "        vertical-align: middle;\n",
       "    }\n",
       "\n",
       "    .dataframe tbody tr th {\n",
       "        vertical-align: top;\n",
       "    }\n",
       "\n",
       "    .dataframe thead th {\n",
       "        text-align: right;\n",
       "    }\n",
       "</style>\n",
       "<table border=\"1\" class=\"dataframe\">\n",
       "  <thead>\n",
       "    <tr style=\"text-align: right;\">\n",
       "      <th></th>\n",
       "      <th>Средняя прибыль по региону, тыс.руб.</th>\n",
       "      <th>Риск, %</th>\n",
       "      <th>95% доверительный интервал</th>\n",
       "    </tr>\n",
       "  </thead>\n",
       "  <tbody>\n",
       "    <tr>\n",
       "      <th>1 регион</th>\n",
       "      <td>406278.78</td>\n",
       "      <td>6.7</td>\n",
       "      <td>(-117742.14, 911737.05)</td>\n",
       "    </tr>\n",
       "    <tr>\n",
       "      <th>2 регион</th>\n",
       "      <td>441504.28</td>\n",
       "      <td>1.6</td>\n",
       "      <td>(35728.49, 828006.64)</td>\n",
       "    </tr>\n",
       "    <tr>\n",
       "      <th>3 регион</th>\n",
       "      <td>385213.20</td>\n",
       "      <td>7.8</td>\n",
       "      <td>(-164785.17, 888206.23)</td>\n",
       "    </tr>\n",
       "  </tbody>\n",
       "</table>\n",
       "</div>"
      ],
      "text/plain": [
       "          Средняя прибыль по региону, тыс.руб.  Риск, %  \\\n",
       "1 регион                             406278.78      6.7   \n",
       "2 регион                             441504.28      1.6   \n",
       "3 регион                             385213.20      7.8   \n",
       "\n",
       "         95% доверительный интервал  \n",
       "1 регион    (-117742.14, 911737.05)  \n",
       "2 регион      (35728.49, 828006.64)  \n",
       "3 регион    (-164785.17, 888206.23)  "
      ]
     },
     "execution_count": 32,
     "metadata": {},
     "output_type": "execute_result"
    }
   ],
   "source": [
    "data = {'product' : product_valid_0, 'pred_product' : product_pred_0}\n",
    "res_0 = pd.DataFrame(data, columns = ['product', 'pred_product'])\n",
    "average_0, lower_0, upper_0, risk_0 = bootstrap_1000(res_0['product'], res_0['pred_product'])\n",
    "\n",
    "data = {'product' : product_valid_1, 'pred_product' : product_pred_1}\n",
    "res_1 = pd.DataFrame(data, columns = ['product', 'pred_product'])\n",
    "average_1, lower_1, upper_1, risk_1 = bootstrap_1000(res_1['product'], res_1['pred_product'])\n",
    "\n",
    "data = {'product' : product_valid_2, 'pred_product' : product_pred_2}\n",
    "res_2 = pd.DataFrame(data, columns = ['product', 'pred_product'])\n",
    "average_2, lower_2, upper_2, risk_2 = bootstrap_1000(res_2['product'], res_2['pred_product'])\n",
    "\n",
    "data = {'Средняя прибыль по региону, тыс.руб.': [round(average_0, 2), round(average_1, 2), round(average_2, 2)], \n",
    "        'Риск, %': [risk_0, risk_1, risk_2],\n",
    "        '95% доверительный интервал': [(round(lower_0, 2), round(upper_0, 2)), \n",
    "                                      (round(lower_1, 2), round(upper_1, 2)), \n",
    "                                      (round(lower_2, 2), round(upper_2, 2))]}\n",
    "pd.DataFrame(data, index=['1 регион', '2 регион', '3 регион'],\n",
    "             columns=['Средняя прибыль по региону, тыс.руб.', 'Риск, %', '95% доверительный интервал'])"
   ]
  },
  {
   "cell_type": "markdown",
   "metadata": {},
   "source": [
    "### Итог:\n",
    "- С помощью бутстрап были построены оценки для средней прибыли по региону, расчитаны риски и найдены 95% доверительные интервалы\n",
    "- 2 регион является лидером по результатам, так как:\n",
    "    - Имеет наименьший процент рисков\n",
    "    - Весь доверительный интервал находится в положительной части возможных значений, что увеличивает вероятность принятия положительного значения для средней прибыли по региону\n",
    "    - Оценка среднего значения прибыли по 2 региону является максимальной из трёх"
   ]
  },
  {
   "cell_type": "markdown",
   "metadata": {},
   "source": [
    "<a id='section5'></a>\n",
    "## Общий вывод\n",
    "- Загрузка и подготовка данных:\n",
    "    - Данные загружены и проверены на соответствие типов\n",
    "    - Дубликаты отсутствуют\n",
    "    - Пропуски отсутствуют\n",
    "    - Явные выбросы отсутствуют\n",
    "    - Признаки проверены на нормальность тестом Колмагорова-Смирнова. Распределение признаков не соответствует нормальному\n",
    "    - Мультиколлинеарность отсутствует\n",
    "- Обучение и проверка модели:\n",
    "    - Целевой признак предсказан с помощью Линейной регрессии\n",
    "    - Качество моделей оценивалось с помощью RMSE\n",
    "    - Лучший результат пренадлежит модели построенной по 2 региону - модель в среднем ошибалась лишь на 0.89\n",
    "    - Значения метрик для 1 и 3 регионов примерно одинаковые - 37.8 и 40.1 соответственно\n",
    "    - Средние по истинным и предсказанным значениям примерно одинаковые\n",
    "- Подготовка к расчету прибыли:\n",
    "    - Построена оценка на минимальный бюджет 1 месторождения - 50000 тыс.руб.\n",
    "    - Постороена оценка на минимальный объем нефти, добываемой на 1 месторождении - 111.1 тыс. баррелей\n",
    "    - В 1 и 3 регионах выше среднее значение добываеомого объема нефти по регионы, следовательно, вероятность покрыть расходы выше\n",
    "- Расчет прибыли и рисков:\n",
    "    - С помощью бутстрап были построены оценки для средней прибыли по региону, расчитаны риски и найдены 95% доверительные интервалы\n",
    "    - 2 регион является лидером по результатам, так как:\n",
    "        - Имеет наименьший процент рисков\n",
    "        - Весь доверительный интервал находится в положительной части возможных значений, что увеличивает вероятность принятия положительного значения для средней прибыли по региону\n",
    "        - Оценка среднего значения прибыли по 2 региону является максимальной из трёх"
   ]
  }
 ],
 "metadata": {
  "ExecuteTimeLog": [
   {
    "duration": 475,
    "start_time": "2024-06-14T07:33:13.398Z"
   },
   {
    "duration": 1620,
    "start_time": "2024-06-14T07:33:22.133Z"
   },
   {
    "duration": 38,
    "start_time": "2024-06-14T07:34:00.486Z"
   },
   {
    "duration": 22,
    "start_time": "2024-06-14T07:34:02.548Z"
   },
   {
    "duration": 23,
    "start_time": "2024-06-14T07:34:04.058Z"
   },
   {
    "duration": 12,
    "start_time": "2024-06-14T07:35:08.941Z"
   },
   {
    "duration": 59,
    "start_time": "2024-06-14T07:35:49.766Z"
   },
   {
    "duration": 38,
    "start_time": "2024-06-14T07:36:32.340Z"
   },
   {
    "duration": 86,
    "start_time": "2024-06-14T07:37:03.082Z"
   },
   {
    "duration": 82,
    "start_time": "2024-06-14T07:37:11.371Z"
   },
   {
    "duration": 83,
    "start_time": "2024-06-14T07:37:32.460Z"
   },
   {
    "duration": 12,
    "start_time": "2024-06-14T07:37:57.967Z"
   },
   {
    "duration": 72,
    "start_time": "2024-06-14T07:38:11.555Z"
   },
   {
    "duration": 12,
    "start_time": "2024-06-14T07:38:20.631Z"
   },
   {
    "duration": 13,
    "start_time": "2024-06-14T07:38:33.729Z"
   },
   {
    "duration": 93,
    "start_time": "2024-06-14T07:38:34.259Z"
   },
   {
    "duration": 4,
    "start_time": "2024-06-14T07:42:19.059Z"
   },
   {
    "duration": 70,
    "start_time": "2024-06-14T07:43:01.416Z"
   },
   {
    "duration": 13,
    "start_time": "2024-06-14T07:43:18.179Z"
   },
   {
    "duration": 1031,
    "start_time": "2024-06-14T07:43:54.153Z"
   },
   {
    "duration": 1211,
    "start_time": "2024-06-14T07:44:28.471Z"
   },
   {
    "duration": 494,
    "start_time": "2024-06-14T07:44:29.684Z"
   },
   {
    "duration": 31,
    "start_time": "2024-06-14T07:44:30.179Z"
   },
   {
    "duration": 108,
    "start_time": "2024-06-14T07:44:30.212Z"
   },
   {
    "duration": 166,
    "start_time": "2024-06-14T07:44:30.323Z"
   },
   {
    "duration": 146,
    "start_time": "2024-06-14T07:44:30.490Z"
   },
   {
    "duration": 1346,
    "start_time": "2024-06-14T07:46:01.091Z"
   },
   {
    "duration": 443,
    "start_time": "2024-06-14T07:46:02.440Z"
   },
   {
    "duration": 30,
    "start_time": "2024-06-14T07:46:02.885Z"
   },
   {
    "duration": 12,
    "start_time": "2024-06-14T07:46:02.916Z"
   },
   {
    "duration": 108,
    "start_time": "2024-06-14T07:46:02.931Z"
   },
   {
    "duration": 5,
    "start_time": "2024-06-14T07:46:03.040Z"
   },
   {
    "duration": 1693,
    "start_time": "2024-06-14T07:46:03.047Z"
   },
   {
    "duration": 24,
    "start_time": "2024-06-14T07:46:04.741Z"
   },
   {
    "duration": 28,
    "start_time": "2024-06-14T07:46:04.767Z"
   },
   {
    "duration": 78,
    "start_time": "2024-06-14T07:46:04.797Z"
   },
   {
    "duration": 37,
    "start_time": "2024-06-14T07:46:04.877Z"
   },
   {
    "duration": 12,
    "start_time": "2024-06-14T07:46:04.917Z"
   },
   {
    "duration": 121,
    "start_time": "2024-06-14T07:46:04.931Z"
   },
   {
    "duration": 1596,
    "start_time": "2024-06-14T07:47:10.377Z"
   },
   {
    "duration": 1860,
    "start_time": "2024-06-14T07:47:26.487Z"
   },
   {
    "duration": 4,
    "start_time": "2024-06-14T07:48:39.958Z"
   },
   {
    "duration": 1183,
    "start_time": "2024-06-14T07:50:05.374Z"
   },
   {
    "duration": 424,
    "start_time": "2024-06-14T07:50:06.559Z"
   },
   {
    "duration": 27,
    "start_time": "2024-06-14T07:50:06.985Z"
   },
   {
    "duration": 11,
    "start_time": "2024-06-14T07:50:07.013Z"
   },
   {
    "duration": 100,
    "start_time": "2024-06-14T07:50:07.026Z"
   },
   {
    "duration": 4,
    "start_time": "2024-06-14T07:50:07.129Z"
   },
   {
    "duration": 1539,
    "start_time": "2024-06-14T07:50:07.135Z"
   },
   {
    "duration": 55,
    "start_time": "2024-06-14T07:50:08.676Z"
   },
   {
    "duration": 22,
    "start_time": "2024-06-14T07:50:08.733Z"
   },
   {
    "duration": 10,
    "start_time": "2024-06-14T07:50:08.757Z"
   },
   {
    "duration": 90,
    "start_time": "2024-06-14T07:50:08.769Z"
   },
   {
    "duration": 1617,
    "start_time": "2024-06-14T07:50:08.861Z"
   },
   {
    "duration": 48,
    "start_time": "2024-06-14T07:50:10.480Z"
   },
   {
    "duration": 23,
    "start_time": "2024-06-14T07:50:10.531Z"
   },
   {
    "duration": 12,
    "start_time": "2024-06-14T07:50:10.556Z"
   },
   {
    "duration": 86,
    "start_time": "2024-06-14T07:50:10.592Z"
   },
   {
    "duration": 1892,
    "start_time": "2024-06-14T07:50:10.680Z"
   },
   {
    "duration": 60,
    "start_time": "2024-06-14T07:50:12.574Z"
   },
   {
    "duration": 3,
    "start_time": "2024-06-14T07:52:21.031Z"
   },
   {
    "duration": 62,
    "start_time": "2024-06-14T07:52:45.608Z"
   },
   {
    "duration": 58,
    "start_time": "2024-06-14T07:52:56.219Z"
   },
   {
    "duration": 61,
    "start_time": "2024-06-14T07:53:03.416Z"
   },
   {
    "duration": 71,
    "start_time": "2024-06-14T07:53:15.450Z"
   },
   {
    "duration": 57,
    "start_time": "2024-06-14T07:53:21.834Z"
   },
   {
    "duration": 59,
    "start_time": "2024-06-14T07:53:29.154Z"
   },
   {
    "duration": 116,
    "start_time": "2024-06-14T07:54:43.730Z"
   },
   {
    "duration": 10264,
    "start_time": "2024-06-14T07:55:18.683Z"
   },
   {
    "duration": 73,
    "start_time": "2024-06-14T07:55:40.097Z"
   },
   {
    "duration": 892,
    "start_time": "2024-06-14T07:55:45.183Z"
   },
   {
    "duration": 690,
    "start_time": "2024-06-14T07:56:10.225Z"
   },
   {
    "duration": 691,
    "start_time": "2024-06-14T07:56:15.827Z"
   },
   {
    "duration": 694,
    "start_time": "2024-06-14T07:56:23.592Z"
   },
   {
    "duration": 711,
    "start_time": "2024-06-14T07:56:30.317Z"
   },
   {
    "duration": 670,
    "start_time": "2024-06-14T07:56:37.183Z"
   },
   {
    "duration": 5669,
    "start_time": "2024-06-14T07:57:01.144Z"
   },
   {
    "duration": 1231,
    "start_time": "2024-06-14T07:57:06.816Z"
   },
   {
    "duration": 425,
    "start_time": "2024-06-14T07:57:08.049Z"
   },
   {
    "duration": 32,
    "start_time": "2024-06-14T07:57:08.476Z"
   },
   {
    "duration": 11,
    "start_time": "2024-06-14T07:57:08.510Z"
   },
   {
    "duration": 97,
    "start_time": "2024-06-14T07:57:08.523Z"
   },
   {
    "duration": 4,
    "start_time": "2024-06-14T07:57:08.621Z"
   },
   {
    "duration": 1521,
    "start_time": "2024-06-14T07:57:08.626Z"
   },
   {
    "duration": 71,
    "start_time": "2024-06-14T07:57:10.148Z"
   },
   {
    "duration": 903,
    "start_time": "2024-06-14T07:57:10.220Z"
   },
   {
    "duration": 27,
    "start_time": "2024-06-14T07:57:11.125Z"
   },
   {
    "duration": 11,
    "start_time": "2024-06-14T07:57:11.154Z"
   },
   {
    "duration": 89,
    "start_time": "2024-06-14T07:57:11.167Z"
   },
   {
    "duration": 1450,
    "start_time": "2024-06-14T07:57:11.259Z"
   },
   {
    "duration": 57,
    "start_time": "2024-06-14T07:57:12.710Z"
   },
   {
    "duration": 659,
    "start_time": "2024-06-14T07:57:12.769Z"
   },
   {
    "duration": 22,
    "start_time": "2024-06-14T07:57:13.430Z"
   },
   {
    "duration": 12,
    "start_time": "2024-06-14T07:57:13.453Z"
   },
   {
    "duration": 97,
    "start_time": "2024-06-14T07:57:13.466Z"
   },
   {
    "duration": 1806,
    "start_time": "2024-06-14T07:57:13.564Z"
   },
   {
    "duration": 74,
    "start_time": "2024-06-14T07:57:15.372Z"
   },
   {
    "duration": 726,
    "start_time": "2024-06-14T07:57:15.448Z"
   },
   {
    "duration": 3,
    "start_time": "2024-06-14T07:58:34.966Z"
   },
   {
    "duration": 9885,
    "start_time": "2024-06-15T14:16:45.724Z"
   },
   {
    "duration": 1504,
    "start_time": "2024-06-15T14:16:55.612Z"
   },
   {
    "duration": 688,
    "start_time": "2024-06-15T14:16:57.118Z"
   },
   {
    "duration": 30,
    "start_time": "2024-06-15T14:16:57.808Z"
   },
   {
    "duration": 17,
    "start_time": "2024-06-15T14:16:57.845Z"
   },
   {
    "duration": 105,
    "start_time": "2024-06-15T14:16:57.864Z"
   },
   {
    "duration": 4,
    "start_time": "2024-06-15T14:16:57.970Z"
   },
   {
    "duration": 1479,
    "start_time": "2024-06-15T14:16:57.976Z"
   },
   {
    "duration": 61,
    "start_time": "2024-06-15T14:16:59.456Z"
   },
   {
    "duration": 997,
    "start_time": "2024-06-15T14:16:59.519Z"
   },
   {
    "duration": 33,
    "start_time": "2024-06-15T14:17:00.518Z"
   },
   {
    "duration": 33,
    "start_time": "2024-06-15T14:17:00.553Z"
   },
   {
    "duration": 173,
    "start_time": "2024-06-15T14:17:00.588Z"
   },
   {
    "duration": 1473,
    "start_time": "2024-06-15T14:17:00.764Z"
   },
   {
    "duration": 61,
    "start_time": "2024-06-15T14:17:02.239Z"
   },
   {
    "duration": 1727,
    "start_time": "2024-06-15T14:17:02.301Z"
   },
   {
    "duration": 28,
    "start_time": "2024-06-15T14:17:04.030Z"
   },
   {
    "duration": 11,
    "start_time": "2024-06-15T14:17:04.059Z"
   },
   {
    "duration": 91,
    "start_time": "2024-06-15T14:17:04.071Z"
   },
   {
    "duration": 1742,
    "start_time": "2024-06-15T14:17:04.164Z"
   },
   {
    "duration": 70,
    "start_time": "2024-06-15T14:17:05.908Z"
   },
   {
    "duration": 699,
    "start_time": "2024-06-15T14:17:05.980Z"
   },
   {
    "duration": 9864,
    "start_time": "2024-06-16T12:18:53.236Z"
   },
   {
    "duration": 1392,
    "start_time": "2024-06-16T12:19:03.103Z"
   },
   {
    "duration": 1738,
    "start_time": "2024-06-16T12:19:04.497Z"
   },
   {
    "duration": 26,
    "start_time": "2024-06-16T12:19:06.236Z"
   },
   {
    "duration": 11,
    "start_time": "2024-06-16T12:19:06.263Z"
   },
   {
    "duration": 77,
    "start_time": "2024-06-16T12:19:06.275Z"
   },
   {
    "duration": 3,
    "start_time": "2024-06-16T12:19:06.354Z"
   },
   {
    "duration": 1450,
    "start_time": "2024-06-16T12:19:06.359Z"
   },
   {
    "duration": 58,
    "start_time": "2024-06-16T12:19:07.810Z"
   },
   {
    "duration": 900,
    "start_time": "2024-06-16T12:19:07.870Z"
   },
   {
    "duration": 22,
    "start_time": "2024-06-16T12:19:08.772Z"
   },
   {
    "duration": 10,
    "start_time": "2024-06-16T12:19:08.800Z"
   },
   {
    "duration": 76,
    "start_time": "2024-06-16T12:19:08.811Z"
   },
   {
    "duration": 1419,
    "start_time": "2024-06-16T12:19:08.889Z"
   },
   {
    "duration": 60,
    "start_time": "2024-06-16T12:19:10.311Z"
   },
   {
    "duration": 658,
    "start_time": "2024-06-16T12:19:10.373Z"
   },
   {
    "duration": 20,
    "start_time": "2024-06-16T12:19:11.033Z"
   },
   {
    "duration": 10,
    "start_time": "2024-06-16T12:19:11.054Z"
   },
   {
    "duration": 94,
    "start_time": "2024-06-16T12:19:11.065Z"
   },
   {
    "duration": 1813,
    "start_time": "2024-06-16T12:19:11.160Z"
   },
   {
    "duration": 66,
    "start_time": "2024-06-16T12:19:12.975Z"
   },
   {
    "duration": 681,
    "start_time": "2024-06-16T12:19:13.042Z"
   },
   {
    "duration": 9,
    "start_time": "2024-06-16T12:19:13.725Z"
   },
   {
    "duration": 145,
    "start_time": "2024-06-16T12:21:43.631Z"
   },
   {
    "duration": 34,
    "start_time": "2024-06-16T12:21:49.349Z"
   },
   {
    "duration": 28,
    "start_time": "2024-06-16T12:23:09.046Z"
   },
   {
    "duration": 12,
    "start_time": "2024-06-16T12:23:15.540Z"
   },
   {
    "duration": 7,
    "start_time": "2024-06-16T12:23:20.545Z"
   },
   {
    "duration": 27,
    "start_time": "2024-06-16T12:24:20.548Z"
   },
   {
    "duration": 1513,
    "start_time": "2024-06-17T06:33:57.575Z"
   },
   {
    "duration": 10273,
    "start_time": "2024-06-17T06:34:06.506Z"
   },
   {
    "duration": 1345,
    "start_time": "2024-06-17T06:34:16.782Z"
   },
   {
    "duration": 1705,
    "start_time": "2024-06-17T06:34:18.129Z"
   },
   {
    "duration": 29,
    "start_time": "2024-06-17T06:34:19.835Z"
   },
   {
    "duration": 11,
    "start_time": "2024-06-17T06:34:19.866Z"
   },
   {
    "duration": 95,
    "start_time": "2024-06-17T06:34:19.879Z"
   },
   {
    "duration": 4,
    "start_time": "2024-06-17T06:34:19.976Z"
   },
   {
    "duration": 1629,
    "start_time": "2024-06-17T06:34:19.982Z"
   },
   {
    "duration": 75,
    "start_time": "2024-06-17T06:34:21.613Z"
   },
   {
    "duration": 837,
    "start_time": "2024-06-17T06:34:21.690Z"
   },
   {
    "duration": 30,
    "start_time": "2024-06-17T06:34:22.528Z"
   },
   {
    "duration": 10,
    "start_time": "2024-06-17T06:34:22.559Z"
   },
   {
    "duration": 85,
    "start_time": "2024-06-17T06:34:22.571Z"
   },
   {
    "duration": 1607,
    "start_time": "2024-06-17T06:34:22.659Z"
   },
   {
    "duration": 57,
    "start_time": "2024-06-17T06:34:24.268Z"
   },
   {
    "duration": 784,
    "start_time": "2024-06-17T06:34:24.327Z"
   },
   {
    "duration": 22,
    "start_time": "2024-06-17T06:34:25.113Z"
   },
   {
    "duration": 26,
    "start_time": "2024-06-17T06:34:25.137Z"
   },
   {
    "duration": 75,
    "start_time": "2024-06-17T06:34:25.164Z"
   },
   {
    "duration": 1915,
    "start_time": "2024-06-17T06:34:25.241Z"
   },
   {
    "duration": 62,
    "start_time": "2024-06-17T06:34:27.158Z"
   },
   {
    "duration": 697,
    "start_time": "2024-06-17T06:34:27.222Z"
   },
   {
    "duration": 7,
    "start_time": "2024-06-17T06:34:27.921Z"
   },
   {
    "duration": 51,
    "start_time": "2024-06-17T06:34:27.930Z"
   },
   {
    "duration": 7,
    "start_time": "2024-06-17T06:38:53.554Z"
   },
   {
    "duration": 125,
    "start_time": "2024-06-17T06:39:11.010Z"
   },
   {
    "duration": 64,
    "start_time": "2024-06-17T06:39:18.996Z"
   },
   {
    "duration": 8,
    "start_time": "2024-06-17T06:39:35.732Z"
   },
   {
    "duration": 33,
    "start_time": "2024-06-17T06:39:36.863Z"
   },
   {
    "duration": 4,
    "start_time": "2024-06-17T06:41:33.127Z"
   },
   {
    "duration": 122,
    "start_time": "2024-06-17T06:41:33.936Z"
   },
   {
    "duration": 3,
    "start_time": "2024-06-17T06:41:52.991Z"
   },
   {
    "duration": 6,
    "start_time": "2024-06-17T06:41:59.898Z"
   },
   {
    "duration": 35,
    "start_time": "2024-06-17T06:41:59.906Z"
   },
   {
    "duration": 368,
    "start_time": "2024-06-17T06:43:21.121Z"
   },
   {
    "duration": 452,
    "start_time": "2024-06-17T06:47:40.218Z"
   },
   {
    "duration": 845,
    "start_time": "2024-06-17T06:51:03.467Z"
   },
   {
    "duration": 4,
    "start_time": "2024-06-17T06:51:56.663Z"
   },
   {
    "duration": 12,
    "start_time": "2024-06-17T06:51:57.421Z"
   },
   {
    "duration": 813,
    "start_time": "2024-06-17T06:51:58.063Z"
   },
   {
    "duration": 4,
    "start_time": "2024-06-17T06:52:06.389Z"
   },
   {
    "duration": 189,
    "start_time": "2024-06-17T06:52:06.769Z"
   },
   {
    "duration": 812,
    "start_time": "2024-06-17T06:52:07.263Z"
   },
   {
    "duration": 5967,
    "start_time": "2024-06-17T06:53:39.564Z"
   },
   {
    "duration": 1519,
    "start_time": "2024-06-17T06:53:45.534Z"
   },
   {
    "duration": 438,
    "start_time": "2024-06-17T06:53:47.056Z"
   },
   {
    "duration": 30,
    "start_time": "2024-06-17T06:53:47.495Z"
   },
   {
    "duration": 12,
    "start_time": "2024-06-17T06:53:47.528Z"
   },
   {
    "duration": 105,
    "start_time": "2024-06-17T06:53:47.566Z"
   },
   {
    "duration": 4,
    "start_time": "2024-06-17T06:53:47.674Z"
   },
   {
    "duration": 1794,
    "start_time": "2024-06-17T06:53:47.679Z"
   },
   {
    "duration": 59,
    "start_time": "2024-06-17T06:53:49.475Z"
   },
   {
    "duration": 959,
    "start_time": "2024-06-17T06:53:49.536Z"
   },
   {
    "duration": 21,
    "start_time": "2024-06-17T06:53:50.497Z"
   },
   {
    "duration": 16,
    "start_time": "2024-06-17T06:53:50.520Z"
   },
   {
    "duration": 101,
    "start_time": "2024-06-17T06:53:50.537Z"
   },
   {
    "duration": 1583,
    "start_time": "2024-06-17T06:53:50.640Z"
   },
   {
    "duration": 69,
    "start_time": "2024-06-17T06:53:52.224Z"
   },
   {
    "duration": 719,
    "start_time": "2024-06-17T06:53:52.296Z"
   },
   {
    "duration": 23,
    "start_time": "2024-06-17T06:53:53.016Z"
   },
   {
    "duration": 32,
    "start_time": "2024-06-17T06:53:53.040Z"
   },
   {
    "duration": 102,
    "start_time": "2024-06-17T06:53:53.074Z"
   },
   {
    "duration": 1949,
    "start_time": "2024-06-17T06:53:53.178Z"
   },
   {
    "duration": 71,
    "start_time": "2024-06-17T06:53:55.129Z"
   },
   {
    "duration": 678,
    "start_time": "2024-06-17T06:53:55.202Z"
   },
   {
    "duration": 4,
    "start_time": "2024-06-17T06:53:55.882Z"
   },
   {
    "duration": 392,
    "start_time": "2024-06-17T06:53:55.887Z"
   },
   {
    "duration": 0,
    "start_time": "2024-06-17T06:53:56.282Z"
   },
   {
    "duration": 380,
    "start_time": "2024-06-17T06:55:25.582Z"
   },
   {
    "duration": 10,
    "start_time": "2024-06-17T06:55:45.931Z"
   },
   {
    "duration": 15,
    "start_time": "2024-06-17T06:56:03.721Z"
   },
   {
    "duration": 13,
    "start_time": "2024-06-17T06:56:07.895Z"
   },
   {
    "duration": 5,
    "start_time": "2024-06-17T06:58:53.725Z"
   },
   {
    "duration": 266,
    "start_time": "2024-06-17T06:58:54.012Z"
   },
   {
    "duration": 22,
    "start_time": "2024-06-17T06:58:54.463Z"
   },
   {
    "duration": 4,
    "start_time": "2024-06-17T07:03:41.917Z"
   },
   {
    "duration": 455,
    "start_time": "2024-06-17T07:03:42.319Z"
   },
   {
    "duration": 193,
    "start_time": "2024-06-17T07:03:42.777Z"
   },
   {
    "duration": 14,
    "start_time": "2024-06-17T07:04:01.299Z"
   },
   {
    "duration": 5,
    "start_time": "2024-06-17T09:54:12.653Z"
   },
   {
    "duration": 19,
    "start_time": "2024-06-17T09:56:04.433Z"
   },
   {
    "duration": 14,
    "start_time": "2024-06-17T09:56:33.302Z"
   },
   {
    "duration": 16,
    "start_time": "2024-06-17T10:04:07.161Z"
   },
   {
    "duration": 3,
    "start_time": "2024-06-17T10:04:09.493Z"
   },
   {
    "duration": 3,
    "start_time": "2024-06-17T10:04:09.892Z"
   },
   {
    "duration": 4,
    "start_time": "2024-06-17T10:06:47.056Z"
   },
   {
    "duration": 4,
    "start_time": "2024-06-17T10:07:00.339Z"
   },
   {
    "duration": 4,
    "start_time": "2024-06-17T10:07:18.553Z"
   },
   {
    "duration": 5,
    "start_time": "2024-06-17T10:09:28.983Z"
   },
   {
    "duration": 5,
    "start_time": "2024-06-17T10:10:04.779Z"
   },
   {
    "duration": 4,
    "start_time": "2024-06-17T10:10:52.086Z"
   },
   {
    "duration": 7,
    "start_time": "2024-06-17T10:17:52.268Z"
   },
   {
    "duration": 7,
    "start_time": "2024-06-17T10:18:11.854Z"
   },
   {
    "duration": 57,
    "start_time": "2024-06-17T10:19:26.196Z"
   },
   {
    "duration": 7,
    "start_time": "2024-06-17T10:20:13.960Z"
   },
   {
    "duration": 12,
    "start_time": "2024-06-17T11:13:03.327Z"
   },
   {
    "duration": 21,
    "start_time": "2024-06-17T11:13:10.253Z"
   },
   {
    "duration": 10,
    "start_time": "2024-06-17T11:24:31.269Z"
   },
   {
    "duration": 16,
    "start_time": "2024-06-17T11:24:39.178Z"
   },
   {
    "duration": 4,
    "start_time": "2024-06-17T11:35:47.733Z"
   },
   {
    "duration": 198,
    "start_time": "2024-06-17T11:36:14.998Z"
   },
   {
    "duration": 162,
    "start_time": "2024-06-17T11:36:23.571Z"
   },
   {
    "duration": 261,
    "start_time": "2024-06-17T11:36:27.717Z"
   },
   {
    "duration": 396,
    "start_time": "2024-06-17T11:36:35.015Z"
   },
   {
    "duration": 17,
    "start_time": "2024-06-17T11:37:19.509Z"
   },
   {
    "duration": 10,
    "start_time": "2024-06-17T11:37:23.708Z"
   },
   {
    "duration": 11,
    "start_time": "2024-06-17T11:37:34.842Z"
   },
   {
    "duration": 10,
    "start_time": "2024-06-17T11:38:06.737Z"
   },
   {
    "duration": 517,
    "start_time": "2024-06-17T11:38:13.499Z"
   },
   {
    "duration": 364,
    "start_time": "2024-06-17T11:38:30.743Z"
   },
   {
    "duration": 997,
    "start_time": "2024-06-17T11:38:37.605Z"
   },
   {
    "duration": 3,
    "start_time": "2024-06-17T11:40:25.409Z"
   },
   {
    "duration": 4,
    "start_time": "2024-06-17T11:43:17.549Z"
   },
   {
    "duration": 7,
    "start_time": "2024-06-17T12:21:51.975Z"
   },
   {
    "duration": 20,
    "start_time": "2024-06-17T12:22:53.059Z"
   },
   {
    "duration": 6,
    "start_time": "2024-06-17T12:24:42.848Z"
   },
   {
    "duration": 30,
    "start_time": "2024-06-17T12:24:48.997Z"
   },
   {
    "duration": 6,
    "start_time": "2024-06-17T12:25:34.093Z"
   },
   {
    "duration": 990,
    "start_time": "2024-06-17T12:25:34.667Z"
   },
   {
    "duration": 14,
    "start_time": "2024-06-17T12:28:25.752Z"
   },
   {
    "duration": 5943,
    "start_time": "2024-06-17T12:28:44.528Z"
   },
   {
    "duration": 1461,
    "start_time": "2024-06-17T12:28:50.473Z"
   },
   {
    "duration": 452,
    "start_time": "2024-06-17T12:28:51.936Z"
   },
   {
    "duration": 28,
    "start_time": "2024-06-17T12:28:52.390Z"
   },
   {
    "duration": 11,
    "start_time": "2024-06-17T12:28:52.421Z"
   },
   {
    "duration": 104,
    "start_time": "2024-06-17T12:28:52.433Z"
   },
   {
    "duration": 3,
    "start_time": "2024-06-17T12:28:52.539Z"
   },
   {
    "duration": 1680,
    "start_time": "2024-06-17T12:28:52.556Z"
   },
   {
    "duration": 65,
    "start_time": "2024-06-17T12:28:54.238Z"
   },
   {
    "duration": 913,
    "start_time": "2024-06-17T12:28:54.305Z"
   },
   {
    "duration": 35,
    "start_time": "2024-06-17T12:28:55.220Z"
   },
   {
    "duration": 11,
    "start_time": "2024-06-17T12:28:55.257Z"
   },
   {
    "duration": 85,
    "start_time": "2024-06-17T12:28:55.270Z"
   },
   {
    "duration": 1765,
    "start_time": "2024-06-17T12:28:55.359Z"
   },
   {
    "duration": 68,
    "start_time": "2024-06-17T12:28:57.126Z"
   },
   {
    "duration": 737,
    "start_time": "2024-06-17T12:28:57.196Z"
   },
   {
    "duration": 30,
    "start_time": "2024-06-17T12:28:57.935Z"
   },
   {
    "duration": 24,
    "start_time": "2024-06-17T12:28:57.967Z"
   },
   {
    "duration": 106,
    "start_time": "2024-06-17T12:28:57.993Z"
   },
   {
    "duration": 1899,
    "start_time": "2024-06-17T12:28:58.101Z"
   },
   {
    "duration": 71,
    "start_time": "2024-06-17T12:29:00.002Z"
   },
   {
    "duration": 742,
    "start_time": "2024-06-17T12:29:00.075Z"
   },
   {
    "duration": 5,
    "start_time": "2024-06-17T12:29:00.819Z"
   },
   {
    "duration": 544,
    "start_time": "2024-06-17T12:29:00.826Z"
   },
   {
    "duration": 187,
    "start_time": "2024-06-17T12:29:01.372Z"
   },
   {
    "duration": 49,
    "start_time": "2024-06-17T12:29:01.561Z"
   },
   {
    "duration": 43,
    "start_time": "2024-06-17T12:29:01.612Z"
   },
   {
    "duration": 78,
    "start_time": "2024-06-17T12:29:01.657Z"
   },
   {
    "duration": 1098,
    "start_time": "2024-06-17T12:29:01.737Z"
   },
   {
    "duration": 7,
    "start_time": "2024-06-17T12:29:02.837Z"
   },
   {
    "duration": 1021,
    "start_time": "2024-06-17T12:29:02.846Z"
   },
   {
    "duration": 11,
    "start_time": "2024-06-17T12:29:03.869Z"
   },
   {
    "duration": 5736,
    "start_time": "2024-06-17T12:31:13.562Z"
   },
   {
    "duration": 1358,
    "start_time": "2024-06-17T12:31:19.300Z"
   },
   {
    "duration": 474,
    "start_time": "2024-06-17T12:31:20.660Z"
   },
   {
    "duration": 29,
    "start_time": "2024-06-17T12:31:21.136Z"
   },
   {
    "duration": 11,
    "start_time": "2024-06-17T12:31:21.167Z"
   },
   {
    "duration": 107,
    "start_time": "2024-06-17T12:31:21.180Z"
   },
   {
    "duration": 4,
    "start_time": "2024-06-17T12:31:21.289Z"
   },
   {
    "duration": 1668,
    "start_time": "2024-06-17T12:31:21.294Z"
   },
   {
    "duration": 69,
    "start_time": "2024-06-17T12:31:22.964Z"
   },
   {
    "duration": 900,
    "start_time": "2024-06-17T12:31:23.036Z"
   },
   {
    "duration": 32,
    "start_time": "2024-06-17T12:31:23.938Z"
   },
   {
    "duration": 10,
    "start_time": "2024-06-17T12:31:23.972Z"
   },
   {
    "duration": 100,
    "start_time": "2024-06-17T12:31:23.984Z"
   },
   {
    "duration": 1626,
    "start_time": "2024-06-17T12:31:24.085Z"
   },
   {
    "duration": 72,
    "start_time": "2024-06-17T12:31:25.713Z"
   },
   {
    "duration": 733,
    "start_time": "2024-06-17T12:31:25.787Z"
   },
   {
    "duration": 22,
    "start_time": "2024-06-17T12:31:26.522Z"
   },
   {
    "duration": 49,
    "start_time": "2024-06-17T12:31:26.546Z"
   },
   {
    "duration": 105,
    "start_time": "2024-06-17T12:31:26.597Z"
   },
   {
    "duration": 1901,
    "start_time": "2024-06-17T12:31:26.704Z"
   },
   {
    "duration": 70,
    "start_time": "2024-06-17T12:31:28.607Z"
   },
   {
    "duration": 726,
    "start_time": "2024-06-17T12:31:28.679Z"
   },
   {
    "duration": 4,
    "start_time": "2024-06-17T12:31:29.407Z"
   },
   {
    "duration": 347,
    "start_time": "2024-06-17T12:31:29.413Z"
   },
   {
    "duration": 193,
    "start_time": "2024-06-17T12:31:29.763Z"
   },
   {
    "duration": 3,
    "start_time": "2024-06-17T12:31:29.958Z"
   },
   {
    "duration": 24,
    "start_time": "2024-06-17T12:31:29.963Z"
   },
   {
    "duration": 13,
    "start_time": "2024-06-17T12:31:29.990Z"
   },
   {
    "duration": 1093,
    "start_time": "2024-06-17T12:31:30.006Z"
   },
   {
    "duration": 7,
    "start_time": "2024-06-17T12:31:31.101Z"
   },
   {
    "duration": 1004,
    "start_time": "2024-06-17T12:31:31.110Z"
   },
   {
    "duration": 10,
    "start_time": "2024-06-17T12:31:32.116Z"
   },
   {
    "duration": 5,
    "start_time": "2024-06-17T12:31:52.093Z"
   },
   {
    "duration": 6,
    "start_time": "2024-06-17T12:32:02.438Z"
   },
   {
    "duration": 963,
    "start_time": "2024-06-17T12:32:31.656Z"
   },
   {
    "duration": 966,
    "start_time": "2024-06-17T12:34:19.481Z"
   },
   {
    "duration": 10,
    "start_time": "2024-06-17T12:34:36.704Z"
   },
   {
    "duration": 966,
    "start_time": "2024-06-17T12:35:19.308Z"
   },
   {
    "duration": 2889,
    "start_time": "2024-06-17T12:42:30.503Z"
   },
   {
    "duration": 5,
    "start_time": "2024-06-17T12:43:52.131Z"
   },
   {
    "duration": 2932,
    "start_time": "2024-06-17T12:43:52.631Z"
   },
   {
    "duration": 2946,
    "start_time": "2024-06-17T12:44:10.721Z"
   },
   {
    "duration": 2880,
    "start_time": "2024-06-17T12:45:19.113Z"
   },
   {
    "duration": 2914,
    "start_time": "2024-06-17T12:46:14.610Z"
   },
   {
    "duration": 5806,
    "start_time": "2024-06-17T12:57:26.424Z"
   },
   {
    "duration": 1423,
    "start_time": "2024-06-17T12:57:32.232Z"
   },
   {
    "duration": 474,
    "start_time": "2024-06-17T12:57:33.656Z"
   },
   {
    "duration": 34,
    "start_time": "2024-06-17T12:57:34.131Z"
   },
   {
    "duration": 12,
    "start_time": "2024-06-17T12:57:34.167Z"
   },
   {
    "duration": 101,
    "start_time": "2024-06-17T12:57:34.181Z"
   },
   {
    "duration": 4,
    "start_time": "2024-06-17T12:57:34.284Z"
   },
   {
    "duration": 1626,
    "start_time": "2024-06-17T12:57:34.289Z"
   },
   {
    "duration": 75,
    "start_time": "2024-06-17T12:57:35.917Z"
   },
   {
    "duration": 927,
    "start_time": "2024-06-17T12:57:35.993Z"
   },
   {
    "duration": 35,
    "start_time": "2024-06-17T12:57:36.922Z"
   },
   {
    "duration": 15,
    "start_time": "2024-06-17T12:57:36.958Z"
   },
   {
    "duration": 100,
    "start_time": "2024-06-17T12:57:36.975Z"
   },
   {
    "duration": 1609,
    "start_time": "2024-06-17T12:57:37.078Z"
   },
   {
    "duration": 66,
    "start_time": "2024-06-17T12:57:38.689Z"
   },
   {
    "duration": 689,
    "start_time": "2024-06-17T12:57:38.757Z"
   },
   {
    "duration": 27,
    "start_time": "2024-06-17T12:57:39.448Z"
   },
   {
    "duration": 11,
    "start_time": "2024-06-17T12:57:39.476Z"
   },
   {
    "duration": 93,
    "start_time": "2024-06-17T12:57:39.489Z"
   },
   {
    "duration": 1894,
    "start_time": "2024-06-17T12:57:39.584Z"
   },
   {
    "duration": 62,
    "start_time": "2024-06-17T12:57:41.480Z"
   },
   {
    "duration": 734,
    "start_time": "2024-06-17T12:57:41.555Z"
   },
   {
    "duration": 4,
    "start_time": "2024-06-17T12:57:42.292Z"
   },
   {
    "duration": 358,
    "start_time": "2024-06-17T12:57:42.298Z"
   },
   {
    "duration": 102,
    "start_time": "2024-06-17T12:57:42.657Z"
   },
   {
    "duration": 3,
    "start_time": "2024-06-17T12:57:42.761Z"
   },
   {
    "duration": 9,
    "start_time": "2024-06-17T12:57:42.765Z"
   },
   {
    "duration": 12,
    "start_time": "2024-06-17T12:57:42.776Z"
   },
   {
    "duration": 1030,
    "start_time": "2024-06-17T12:57:42.790Z"
   },
   {
    "duration": 5,
    "start_time": "2024-06-17T12:57:43.822Z"
   },
   {
    "duration": 2855,
    "start_time": "2024-06-17T12:57:43.829Z"
   },
   {
    "duration": 9786,
    "start_time": "2024-06-17T13:31:12.103Z"
   },
   {
    "duration": 1491,
    "start_time": "2024-06-17T13:31:21.891Z"
   },
   {
    "duration": 595,
    "start_time": "2024-06-17T13:31:23.383Z"
   },
   {
    "duration": 26,
    "start_time": "2024-06-17T13:31:23.980Z"
   },
   {
    "duration": 8,
    "start_time": "2024-06-17T13:31:24.008Z"
   },
   {
    "duration": 76,
    "start_time": "2024-06-17T13:31:24.017Z"
   },
   {
    "duration": 4,
    "start_time": "2024-06-17T13:31:24.095Z"
   },
   {
    "duration": 1388,
    "start_time": "2024-06-17T13:31:24.101Z"
   },
   {
    "duration": 51,
    "start_time": "2024-06-17T13:31:25.490Z"
   },
   {
    "duration": 783,
    "start_time": "2024-06-17T13:31:25.542Z"
   },
   {
    "duration": 20,
    "start_time": "2024-06-17T13:31:26.326Z"
   },
   {
    "duration": 23,
    "start_time": "2024-06-17T13:31:26.347Z"
   },
   {
    "duration": 67,
    "start_time": "2024-06-17T13:31:26.371Z"
   },
   {
    "duration": 1365,
    "start_time": "2024-06-17T13:31:26.441Z"
   },
   {
    "duration": 65,
    "start_time": "2024-06-17T13:31:27.808Z"
   },
   {
    "duration": 593,
    "start_time": "2024-06-17T13:31:27.875Z"
   },
   {
    "duration": 20,
    "start_time": "2024-06-17T13:31:28.470Z"
   },
   {
    "duration": 10,
    "start_time": "2024-06-17T13:31:28.492Z"
   },
   {
    "duration": 88,
    "start_time": "2024-06-17T13:31:28.503Z"
   },
   {
    "duration": 1660,
    "start_time": "2024-06-17T13:31:28.592Z"
   },
   {
    "duration": 57,
    "start_time": "2024-06-17T13:31:30.253Z"
   },
   {
    "duration": 656,
    "start_time": "2024-06-17T13:31:30.311Z"
   },
   {
    "duration": 5,
    "start_time": "2024-06-17T13:31:30.969Z"
   },
   {
    "duration": 493,
    "start_time": "2024-06-17T13:31:30.975Z"
   },
   {
    "duration": 197,
    "start_time": "2024-06-17T13:31:31.470Z"
   },
   {
    "duration": 37,
    "start_time": "2024-06-17T13:31:31.669Z"
   },
   {
    "duration": 20,
    "start_time": "2024-06-17T13:31:31.708Z"
   },
   {
    "duration": 23,
    "start_time": "2024-06-17T13:31:31.730Z"
   },
   {
    "duration": 872,
    "start_time": "2024-06-17T13:31:31.754Z"
   },
   {
    "duration": 6,
    "start_time": "2024-06-17T13:31:32.628Z"
   },
   {
    "duration": 2572,
    "start_time": "2024-06-17T13:31:32.635Z"
   },
   {
    "duration": 5,
    "start_time": "2024-06-17T13:39:08.272Z"
   },
   {
    "duration": 3387,
    "start_time": "2024-06-17T13:39:10.374Z"
   },
   {
    "duration": 5,
    "start_time": "2024-06-17T13:39:25.506Z"
   },
   {
    "duration": 2513,
    "start_time": "2024-06-17T13:39:26.166Z"
   },
   {
    "duration": 55,
    "start_time": "2024-06-18T06:19:17.707Z"
   },
   {
    "duration": 10668,
    "start_time": "2024-06-18T06:19:25.482Z"
   },
   {
    "duration": 1731,
    "start_time": "2024-06-18T06:19:36.154Z"
   },
   {
    "duration": 679,
    "start_time": "2024-06-18T06:19:37.888Z"
   },
   {
    "duration": 28,
    "start_time": "2024-06-18T06:19:38.570Z"
   },
   {
    "duration": 10,
    "start_time": "2024-06-18T06:19:38.599Z"
   },
   {
    "duration": 109,
    "start_time": "2024-06-18T06:19:38.611Z"
   },
   {
    "duration": 4,
    "start_time": "2024-06-18T06:19:38.722Z"
   },
   {
    "duration": 1664,
    "start_time": "2024-06-18T06:19:38.728Z"
   },
   {
    "duration": 72,
    "start_time": "2024-06-18T06:19:40.394Z"
   },
   {
    "duration": 901,
    "start_time": "2024-06-18T06:19:40.469Z"
   },
   {
    "duration": 24,
    "start_time": "2024-06-18T06:19:41.371Z"
   },
   {
    "duration": 12,
    "start_time": "2024-06-18T06:19:41.396Z"
   },
   {
    "duration": 149,
    "start_time": "2024-06-18T06:19:41.410Z"
   },
   {
    "duration": 1631,
    "start_time": "2024-06-18T06:19:41.560Z"
   },
   {
    "duration": 68,
    "start_time": "2024-06-18T06:19:43.193Z"
   },
   {
    "duration": 686,
    "start_time": "2024-06-18T06:19:43.262Z"
   },
   {
    "duration": 32,
    "start_time": "2024-06-18T06:19:43.949Z"
   },
   {
    "duration": 12,
    "start_time": "2024-06-18T06:19:43.983Z"
   },
   {
    "duration": 94,
    "start_time": "2024-06-18T06:19:43.997Z"
   },
   {
    "duration": 1921,
    "start_time": "2024-06-18T06:19:44.093Z"
   },
   {
    "duration": 80,
    "start_time": "2024-06-18T06:19:46.016Z"
   },
   {
    "duration": 722,
    "start_time": "2024-06-18T06:19:46.097Z"
   },
   {
    "duration": 5,
    "start_time": "2024-06-18T06:19:46.821Z"
   },
   {
    "duration": 448,
    "start_time": "2024-06-18T06:19:46.828Z"
   },
   {
    "duration": 89,
    "start_time": "2024-06-18T06:19:47.279Z"
   },
   {
    "duration": 97,
    "start_time": "2024-06-18T06:19:47.371Z"
   },
   {
    "duration": 7,
    "start_time": "2024-06-18T06:19:47.470Z"
   },
   {
    "duration": 6,
    "start_time": "2024-06-18T06:19:47.480Z"
   },
   {
    "duration": 1054,
    "start_time": "2024-06-18T06:19:47.487Z"
   },
   {
    "duration": 18,
    "start_time": "2024-06-18T06:19:48.543Z"
   },
   {
    "duration": 5,
    "start_time": "2024-06-18T06:19:48.563Z"
   },
   {
    "duration": 2858,
    "start_time": "2024-06-18T06:19:48.569Z"
   },
   {
    "duration": 15,
    "start_time": "2024-06-18T06:20:56.769Z"
   },
   {
    "duration": 78,
    "start_time": "2024-06-18T06:43:26.577Z"
   }
  ],
  "kernelspec": {
   "display_name": "Python 3 (ipykernel)",
   "language": "python",
   "name": "python3"
  },
  "language_info": {
   "codemirror_mode": {
    "name": "ipython",
    "version": 3
   },
   "file_extension": ".py",
   "mimetype": "text/x-python",
   "name": "python",
   "nbconvert_exporter": "python",
   "pygments_lexer": "ipython3",
   "version": "3.11.3"
  },
  "toc": {
   "base_numbering": 1,
   "nav_menu": {},
   "number_sections": true,
   "sideBar": true,
   "skip_h1_title": true,
   "title_cell": "Table of Contents",
   "title_sidebar": "Contents",
   "toc_cell": false,
   "toc_position": {
    "height": "calc(100% - 180px)",
    "left": "10px",
    "top": "150px",
    "width": "307px"
   },
   "toc_section_display": true,
   "toc_window_display": true
  }
 },
 "nbformat": 4,
 "nbformat_minor": 2
}
