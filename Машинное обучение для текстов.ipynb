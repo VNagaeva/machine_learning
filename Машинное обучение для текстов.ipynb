{
 "cells": [
  {
   "cell_type": "markdown",
   "metadata": {},
   "source": [
    "# Проект для «Викишоп»"
   ]
  },
  {
   "cell_type": "markdown",
   "metadata": {},
   "source": [
    "Интернет-магазин «Викишоп» запускает новый сервис. Теперь пользователи могут редактировать и дополнять описания товаров, как в вики-сообществах. То есть клиенты предлагают свои правки и комментируют изменения других. Магазину нужен инструмент, который будет искать токсичные комментарии и отправлять их на модерацию. \n",
    "\n",
    "Обучите модель классифицировать комментарии на позитивные и негативные. В вашем распоряжении набор данных с разметкой о токсичности правок.\n",
    "\n",
    "Постройте модель со значением метрики качества *F1* не меньше 0.75. \n",
    "\n",
    "**Инструкция по выполнению проекта**\n",
    "\n",
    "1. Загрузите и подготовьте данные.\n",
    "2. Обучите разные модели. \n",
    "3. Сделайте выводы.\n",
    "\n",
    "Для выполнения проекта применять *BERT* необязательно, но вы можете попробовать.\n",
    "\n",
    "**Описание данных**\n",
    "\n",
    "Данные находятся в файле `toxic_comments.csv`. Столбец *text* в нём содержит текст комментария, а *toxic* — целевой признак."
   ]
  },
  {
   "cell_type": "markdown",
   "metadata": {},
   "source": [
    "<h1>Содержание<span class=\"tocSkip\"></span></h1>\n",
    "<div class=\"toc\"><ul class=\"toc-item\"><li><span><a href=\"#Подготовка\" data-toc-modified-id=\"Подготовка-1\"><span class=\"toc-item-num\">1&nbsp;&nbsp;</span>Подготовка</a></span></li><li><span><a href=\"#Обучение\" data-toc-modified-id=\"Обучение-2\"><span class=\"toc-item-num\">2&nbsp;&nbsp;</span>Обучение</a></span><ul class=\"toc-item\"><li><span><a href=\"#DummyClassifier\" data-toc-modified-id=\"DummyClassifier-2.1\"><span class=\"toc-item-num\">2.1&nbsp;&nbsp;</span>DummyClassifier</a></span></li><li><span><a href=\"#LogisticRegression\" data-toc-modified-id=\"LogisticRegression-2.2\"><span class=\"toc-item-num\">2.2&nbsp;&nbsp;</span>LogisticRegression</a></span></li><li><span><a href=\"#DecisionTreeClassifier\" data-toc-modified-id=\"DecisionTreeClassifier-2.3\"><span class=\"toc-item-num\">2.3&nbsp;&nbsp;</span>DecisionTreeClassifier</a></span></li><li><span><a href=\"#Выбор-модели\" data-toc-modified-id=\"Выбор-модели-2.4\"><span class=\"toc-item-num\">2.4&nbsp;&nbsp;</span>Выбор модели</a></span></li></ul></li><li><span><a href=\"#Выводы\" data-toc-modified-id=\"Выводы-3\"><span class=\"toc-item-num\">3&nbsp;&nbsp;</span>Выводы</a></span></li><li><span><a href=\"#Чек-лист-проверки\" data-toc-modified-id=\"Чек-лист-проверки-4\"><span class=\"toc-item-num\">4&nbsp;&nbsp;</span>Чек-лист проверки</a></span></li></ul></div>"
   ]
  },
  {
   "cell_type": "code",
   "execution_count": 1,
   "metadata": {},
   "outputs": [
    {
     "name": "stderr",
     "output_type": "stream",
     "text": [
      "[nltk_data] Downloading package punkt_tab to /home/jovyan/nltk_data...\n",
      "[nltk_data]   Unzipping tokenizers/punkt_tab.zip.\n",
      "[nltk_data] Downloading package stopwords to /home/jovyan/nltk_data...\n",
      "[nltk_data]   Package stopwords is already up-to-date!\n",
      "[nltk_data] Downloading package wordnet to /home/jovyan/nltk_data...\n",
      "[nltk_data]   Package wordnet is already up-to-date!\n"
     ]
    }
   ],
   "source": [
    "import pandas as pd\n",
    "import numpy as np\n",
    "import re\n",
    "\n",
    "import spacy\n",
    "nlp = spacy.load(\"en_core_web_sm\")\n",
    "\n",
    "from pymystem3 import Mystem\n",
    "\n",
    "import nltk\n",
    "nltk.download('punkt_tab')\n",
    "\n",
    "nltk.download('stopwords')\n",
    "from nltk.corpus import stopwords\n",
    "stoplist = stopwords.words('english')\n",
    "nltk.download('wordnet')\n",
    "from nltk.stem import WordNetLemmatizer \n",
    "from sklearn.feature_extraction.text import TfidfVectorizer \n",
    "from sklearn.pipeline import Pipeline\n",
    "\n",
    "from sklearn.model_selection import train_test_split\n",
    "from sklearn.model_selection import cross_validate\n",
    "from sklearn.model_selection import RandomizedSearchCV\n",
    "from sklearn.linear_model import LogisticRegression\n",
    "from sklearn.dummy import DummyClassifier\n",
    "from sklearn.tree import DecisionTreeClassifier\n",
    "from catboost import Pool, CatBoostClassifier, cv\n",
    "from sklearn.metrics import f1_score \n",
    "from sklearn.metrics import roc_auc_score\n",
    "\n",
    "import torch\n",
    "import transformers\n",
    "from tqdm import notebook"
   ]
  },
  {
   "cell_type": "markdown",
   "metadata": {},
   "source": [
    "## Подготовка"
   ]
  },
  {
   "cell_type": "code",
   "execution_count": 2,
   "metadata": {},
   "outputs": [],
   "source": [
    "df = pd.read_csv('/datasets/toxic_comments.csv', index_col=0)"
   ]
  },
  {
   "cell_type": "code",
   "execution_count": 3,
   "metadata": {},
   "outputs": [
    {
     "name": "stdout",
     "output_type": "stream",
     "text": [
      "<class 'pandas.core.frame.DataFrame'>\n",
      "Int64Index: 159292 entries, 0 to 159450\n",
      "Data columns (total 2 columns):\n",
      " #   Column  Non-Null Count   Dtype \n",
      "---  ------  --------------   ----- \n",
      " 0   text    159292 non-null  object\n",
      " 1   toxic   159292 non-null  int64 \n",
      "dtypes: int64(1), object(1)\n",
      "memory usage: 3.6+ MB\n"
     ]
    }
   ],
   "source": [
    "df.info()"
   ]
  },
  {
   "cell_type": "code",
   "execution_count": 4,
   "metadata": {},
   "outputs": [
    {
     "data": {
      "text/html": [
       "<div>\n",
       "<style scoped>\n",
       "    .dataframe tbody tr th:only-of-type {\n",
       "        vertical-align: middle;\n",
       "    }\n",
       "\n",
       "    .dataframe tbody tr th {\n",
       "        vertical-align: top;\n",
       "    }\n",
       "\n",
       "    .dataframe thead th {\n",
       "        text-align: right;\n",
       "    }\n",
       "</style>\n",
       "<table border=\"1\" class=\"dataframe\">\n",
       "  <thead>\n",
       "    <tr style=\"text-align: right;\">\n",
       "      <th></th>\n",
       "      <th>text</th>\n",
       "      <th>toxic</th>\n",
       "    </tr>\n",
       "  </thead>\n",
       "  <tbody>\n",
       "    <tr>\n",
       "      <th>0</th>\n",
       "      <td>Explanation\\nWhy the edits made under my usern...</td>\n",
       "      <td>0</td>\n",
       "    </tr>\n",
       "    <tr>\n",
       "      <th>1</th>\n",
       "      <td>D'aww! He matches this background colour I'm s...</td>\n",
       "      <td>0</td>\n",
       "    </tr>\n",
       "    <tr>\n",
       "      <th>2</th>\n",
       "      <td>Hey man, I'm really not trying to edit war. It...</td>\n",
       "      <td>0</td>\n",
       "    </tr>\n",
       "    <tr>\n",
       "      <th>3</th>\n",
       "      <td>\"\\nMore\\nI can't make any real suggestions on ...</td>\n",
       "      <td>0</td>\n",
       "    </tr>\n",
       "    <tr>\n",
       "      <th>4</th>\n",
       "      <td>You, sir, are my hero. Any chance you remember...</td>\n",
       "      <td>0</td>\n",
       "    </tr>\n",
       "  </tbody>\n",
       "</table>\n",
       "</div>"
      ],
      "text/plain": [
       "                                                text  toxic\n",
       "0  Explanation\\nWhy the edits made under my usern...      0\n",
       "1  D'aww! He matches this background colour I'm s...      0\n",
       "2  Hey man, I'm really not trying to edit war. It...      0\n",
       "3  \"\\nMore\\nI can't make any real suggestions on ...      0\n",
       "4  You, sir, are my hero. Any chance you remember...      0"
      ]
     },
     "execution_count": 4,
     "metadata": {},
     "output_type": "execute_result"
    }
   ],
   "source": [
    "df.head()"
   ]
  },
  {
   "cell_type": "code",
   "execution_count": 5,
   "metadata": {},
   "outputs": [
    {
     "data": {
      "text/plain": [
       "text     0\n",
       "toxic    0\n",
       "dtype: int64"
      ]
     },
     "execution_count": 5,
     "metadata": {},
     "output_type": "execute_result"
    }
   ],
   "source": [
    "df.isnull().sum()"
   ]
  },
  {
   "cell_type": "code",
   "execution_count": 6,
   "metadata": {},
   "outputs": [
    {
     "data": {
      "text/plain": [
       "0"
      ]
     },
     "execution_count": 6,
     "metadata": {},
     "output_type": "execute_result"
    }
   ],
   "source": [
    "df.duplicated().sum()"
   ]
  },
  {
   "cell_type": "code",
   "execution_count": 7,
   "metadata": {},
   "outputs": [
    {
     "data": {
      "text/plain": [
       "'\\nlemmatizer = WordNetLemmatizer()\\ndef clear_text(text):\\n    clean_text = \" \".join(re.sub(r\\'[^a-zA-Z]\\', \\' \\', text).lower().split())\\n    word_list = nltk.word_tokenize(clean_text, language=\"english\")\\n    lemmatized_output = \\' \\'.join([lemmatizer.lemmatize(w) for w in word_list])\\n    return lemmatized_output\\n\\ndf[\\'lemmatized\\'] = df[\\'text\\'].apply(clear_text)\\n'"
      ]
     },
     "execution_count": 7,
     "metadata": {},
     "output_type": "execute_result"
    }
   ],
   "source": [
    "'''\n",
    "lemmatizer = WordNetLemmatizer()\n",
    "def clear_text(text):\n",
    "    clean_text = \" \".join(re.sub(r'[^a-zA-Z]', ' ', text).lower().split())\n",
    "    word_list = nltk.word_tokenize(clean_text, language=\"english\")\n",
    "    lemmatized_output = ' '.join([lemmatizer.lemmatize(w) for w in word_list])\n",
    "    return lemmatized_output\n",
    "\n",
    "df['lemmatized'] = df['text'].apply(clear_text)\n",
    "'''"
   ]
  },
  {
   "cell_type": "code",
   "execution_count": 9,
   "metadata": {},
   "outputs": [
    {
     "data": {
      "application/vnd.jupyter.widget-view+json": {
       "model_id": "9b13fb2cd69c42ddb58b8a4b1ab7c100",
       "version_major": 2,
       "version_minor": 0
      },
      "text/plain": [
       "  0%|          | 0/159292 [00:00<?, ?it/s]"
      ]
     },
     "metadata": {},
     "output_type": "display_data"
    }
   ],
   "source": [
    "from tqdm.notebook import tqdm\n",
    "tqdm.pandas()\n",
    "\n",
    "def clean_text(text):\n",
    "    clean = nlp(\" \".join(re.sub(r'[^a-zA-z]', ' ', text).split()), disable = ['ner', 'parser'])\n",
    "    lemmatized_output = ' '.join([w.lemma_ for w in clean])\n",
    "    return lemmatized_output\n",
    "\n",
    "df['spacy_lemmatize'] = df['text'].progress_apply(clean_text)"
   ]
  },
  {
   "cell_type": "code",
   "execution_count": 10,
   "metadata": {},
   "outputs": [
    {
     "data": {
      "image/png": "[encoded data removed]",
      "text/plain": [
       "<Figure size 432x288 with 1 Axes>"
      ]
     },
     "metadata": {
      "needs_background": "light"
     },
     "output_type": "display_data"
    }
   ],
   "source": [
    "df['toxic'].value_counts(normalize=(0,1)).plot(kind='bar', title='Распределение целевого признака');"
   ]
  },
  {
   "cell_type": "markdown",
   "metadata": {},
   "source": [
    "Видим дисбаланс классов: количество объектов нулевого класса превышает практически в 9 раз."
   ]
  },
  {
   "cell_type": "code",
   "execution_count": 11,
   "metadata": {},
   "outputs": [
    {
     "name": "stdout",
     "output_type": "stream",
     "text": [
      "(143362, 2)\n",
      "(15930, 2)\n"
     ]
    }
   ],
   "source": [
    "X = df.drop(['toxic'], axis=1)\n",
    "y = df['toxic']\n",
    "\n",
    "X_train, X_test, y_train, y_test = train_test_split(X, y, test_size=0.1, random_state=42, stratify=y)\n",
    "\n",
    "print(X_train.shape)\n",
    "print(X_test.shape)"
   ]
  },
  {
   "cell_type": "code",
   "execution_count": 12,
   "metadata": {},
   "outputs": [
    {
     "data": {
      "text/html": [
       "<div>\n",
       "<style scoped>\n",
       "    .dataframe tbody tr th:only-of-type {\n",
       "        vertical-align: middle;\n",
       "    }\n",
       "\n",
       "    .dataframe tbody tr th {\n",
       "        vertical-align: top;\n",
       "    }\n",
       "\n",
       "    .dataframe thead th {\n",
       "        text-align: right;\n",
       "    }\n",
       "</style>\n",
       "<table border=\"1\" class=\"dataframe\">\n",
       "  <thead>\n",
       "    <tr style=\"text-align: right;\">\n",
       "      <th></th>\n",
       "      <th>text</th>\n",
       "      <th>spacy_lemmatize</th>\n",
       "    </tr>\n",
       "  </thead>\n",
       "  <tbody>\n",
       "    <tr>\n",
       "      <th>22605</th>\n",
       "      <td>\"\\n\\nPlease stop. If you continue to vandalize...</td>\n",
       "      <td>please stop if you continue to vandalize page ...</td>\n",
       "    </tr>\n",
       "    <tr>\n",
       "      <th>150502</th>\n",
       "      <td>\"\\n\\n Your Chanology \"\"nonviolence\"\" comment \\...</td>\n",
       "      <td>your Chanology nonviolence comment you say tha...</td>\n",
       "    </tr>\n",
       "    <tr>\n",
       "      <th>17008</th>\n",
       "      <td>, All the changes in which the Species Abbrevi...</td>\n",
       "      <td>all the change in which the Species Abbreviati...</td>\n",
       "    </tr>\n",
       "    <tr>\n",
       "      <th>51716</th>\n",
       "      <td>\"::: \"\"Red-headed boys blonde girls tease teas...</td>\n",
       "      <td>red head boy blonde girl tease tease brunette ...</td>\n",
       "    </tr>\n",
       "    <tr>\n",
       "      <th>51973</th>\n",
       "      <td>Britain in need \\nHelp stop islam in Britain v...</td>\n",
       "      <td>Britain in need Help stop islam in Britain vot...</td>\n",
       "    </tr>\n",
       "    <tr>\n",
       "      <th>...</th>\n",
       "      <td>...</td>\n",
       "      <td>...</td>\n",
       "    </tr>\n",
       "    <tr>\n",
       "      <th>104782</th>\n",
       "      <td>I identified myself and gave reasoning, which ...</td>\n",
       "      <td>I identify myself and give reasoning which be ...</td>\n",
       "    </tr>\n",
       "    <tr>\n",
       "      <th>94439</th>\n",
       "      <td>That's pretty disingenuous.  Erik's clever eno...</td>\n",
       "      <td>that s pretty disingenuous Erik s clever enoug...</td>\n",
       "    </tr>\n",
       "    <tr>\n",
       "      <th>107783</th>\n",
       "      <td>\"\\n \"\"She attended the Wellesley in Washington...</td>\n",
       "      <td>she attend the Wellesley in Washington program...</td>\n",
       "    </tr>\n",
       "    <tr>\n",
       "      <th>94548</th>\n",
       "      <td>Abraham de Vries (minister) \\n\\nHi Jane,\\n\\nTh...</td>\n",
       "      <td>Abraham de Vries minister hi Jane thank a lot ...</td>\n",
       "    </tr>\n",
       "    <tr>\n",
       "      <th>85871</th>\n",
       "      <td>Question\\nIt seems that IP 98.179.149.193 has ...</td>\n",
       "      <td>question it seem that IP have be cause trouble...</td>\n",
       "    </tr>\n",
       "  </tbody>\n",
       "</table>\n",
       "<p>143362 rows × 2 columns</p>\n",
       "</div>"
      ],
      "text/plain": [
       "                                                     text  \\\n",
       "22605   \"\\n\\nPlease stop. If you continue to vandalize...   \n",
       "150502  \"\\n\\n Your Chanology \"\"nonviolence\"\" comment \\...   \n",
       "17008   , All the changes in which the Species Abbrevi...   \n",
       "51716   \"::: \"\"Red-headed boys blonde girls tease teas...   \n",
       "51973   Britain in need \\nHelp stop islam in Britain v...   \n",
       "...                                                   ...   \n",
       "104782  I identified myself and gave reasoning, which ...   \n",
       "94439   That's pretty disingenuous.  Erik's clever eno...   \n",
       "107783  \"\\n \"\"She attended the Wellesley in Washington...   \n",
       "94548   Abraham de Vries (minister) \\n\\nHi Jane,\\n\\nTh...   \n",
       "85871   Question\\nIt seems that IP 98.179.149.193 has ...   \n",
       "\n",
       "                                          spacy_lemmatize  \n",
       "22605   please stop if you continue to vandalize page ...  \n",
       "150502  your Chanology nonviolence comment you say tha...  \n",
       "17008   all the change in which the Species Abbreviati...  \n",
       "51716   red head boy blonde girl tease tease brunette ...  \n",
       "51973   Britain in need Help stop islam in Britain vot...  \n",
       "...                                                   ...  \n",
       "104782  I identify myself and give reasoning which be ...  \n",
       "94439   that s pretty disingenuous Erik s clever enoug...  \n",
       "107783  she attend the Wellesley in Washington program...  \n",
       "94548   Abraham de Vries minister hi Jane thank a lot ...  \n",
       "85871   question it seem that IP have be cause trouble...  \n",
       "\n",
       "[143362 rows x 2 columns]"
      ]
     },
     "execution_count": 12,
     "metadata": {},
     "output_type": "execute_result"
    }
   ],
   "source": [
    "X_train"
   ]
  },
  {
   "cell_type": "code",
   "execution_count": 13,
   "metadata": {},
   "outputs": [
    {
     "name": "stdout",
     "output_type": "stream",
     "text": [
      "(143362, 150494)\n",
      "(15930, 150494)\n"
     ]
    }
   ],
   "source": [
    "corpus_train = X_train['spacy_lemmatize'].values\n",
    "corpus_test = X_test['spacy_lemmatize'].values\n",
    "\n",
    "count_tf_idf = TfidfVectorizer(stop_words=stoplist)\n",
    "\n",
    "tf_idf_train = count_tf_idf.fit_transform(corpus_train)\n",
    "tf_idf_test = count_tf_idf.transform(corpus_test)\n",
    "\n",
    "print(tf_idf_train.shape)\n",
    "print(tf_idf_test.shape)"
   ]
  },
  {
   "cell_type": "markdown",
   "metadata": {},
   "source": [
    "## Обучение"
   ]
  },
  {
   "cell_type": "code",
   "execution_count": 19,
   "metadata": {},
   "outputs": [],
   "source": [
    "scoring = {\"F1\": \"f1\", \"AUC\": \"roc_auc\"}"
   ]
  },
  {
   "cell_type": "markdown",
   "metadata": {},
   "source": [
    "### DummyClassifier"
   ]
  },
  {
   "cell_type": "code",
   "execution_count": 20,
   "metadata": {},
   "outputs": [],
   "source": [
    "cv_results = cross_validate(DummyClassifier(strategy='stratified'), tf_idf_train, y_train, cv=5, scoring=scoring)\n",
    "info_DC = [cv_results['test_F1'].mean(), cv_results['test_AUC'].mean()]"
   ]
  },
  {
   "cell_type": "markdown",
   "metadata": {},
   "source": [
    "### LogisticRegression"
   ]
  },
  {
   "cell_type": "code",
   "execution_count": 21,
   "metadata": {},
   "outputs": [],
   "source": [
    "pipeline_LR = Pipeline(\n",
    "[\n",
    "        (\"vect\", TfidfVectorizer(stop_words=stoplist)),\n",
    "        (\"clf\", LogisticRegression(class_weight='balanced', solver='lbfgs', max_iter=100)),\n",
    "    ]\n",
    ")"
   ]
  },
  {
   "cell_type": "code",
   "execution_count": 22,
   "metadata": {},
   "outputs": [],
   "source": [
    "grid_values_LR = {\n",
    "    \"vect__norm\": (\"l1\", \"l2\"),\n",
    "    \"clf__C\": [0.001, 0.01, 0.1, 1, 5, 10],\n",
    "}"
   ]
  },
  {
   "cell_type": "code",
   "execution_count": 23,
   "metadata": {
    "scrolled": true
   },
   "outputs": [
    {
     "name": "stderr",
     "output_type": "stream",
     "text": [
      "/opt/conda/lib/python3.9/site-packages/sklearn/linear_model/_logistic.py:763: ConvergenceWarning: lbfgs failed to converge (status=1):\n",
      "STOP: TOTAL NO. of ITERATIONS REACHED LIMIT.\n",
      "\n",
      "Increase the number of iterations (max_iter) or scale the data as shown in:\n",
      "    https://scikit-learn.org/stable/modules/preprocessing.html\n",
      "Please also refer to the documentation for alternative solver options:\n",
      "    https://scikit-learn.org/stable/modules/linear_model.html#logistic-regression\n",
      "  n_iter_i = _check_optimize_result(\n",
      "/opt/conda/lib/python3.9/site-packages/sklearn/linear_model/_logistic.py:763: ConvergenceWarning: lbfgs failed to converge (status=1):\n",
      "STOP: TOTAL NO. of ITERATIONS REACHED LIMIT.\n",
      "\n",
      "Increase the number of iterations (max_iter) or scale the data as shown in:\n",
      "    https://scikit-learn.org/stable/modules/preprocessing.html\n",
      "Please also refer to the documentation for alternative solver options:\n",
      "    https://scikit-learn.org/stable/modules/linear_model.html#logistic-regression\n",
      "  n_iter_i = _check_optimize_result(\n",
      "/opt/conda/lib/python3.9/site-packages/sklearn/linear_model/_logistic.py:763: ConvergenceWarning: lbfgs failed to converge (status=1):\n",
      "STOP: TOTAL NO. of ITERATIONS REACHED LIMIT.\n",
      "\n",
      "Increase the number of iterations (max_iter) or scale the data as shown in:\n",
      "    https://scikit-learn.org/stable/modules/preprocessing.html\n",
      "Please also refer to the documentation for alternative solver options:\n",
      "    https://scikit-learn.org/stable/modules/linear_model.html#logistic-regression\n",
      "  n_iter_i = _check_optimize_result(\n",
      "/opt/conda/lib/python3.9/site-packages/sklearn/linear_model/_logistic.py:763: ConvergenceWarning: lbfgs failed to converge (status=1):\n",
      "STOP: TOTAL NO. of ITERATIONS REACHED LIMIT.\n",
      "\n",
      "Increase the number of iterations (max_iter) or scale the data as shown in:\n",
      "    https://scikit-learn.org/stable/modules/preprocessing.html\n",
      "Please also refer to the documentation for alternative solver options:\n",
      "    https://scikit-learn.org/stable/modules/linear_model.html#logistic-regression\n",
      "  n_iter_i = _check_optimize_result(\n",
      "/opt/conda/lib/python3.9/site-packages/sklearn/linear_model/_logistic.py:763: ConvergenceWarning: lbfgs failed to converge (status=1):\n",
      "STOP: TOTAL NO. of ITERATIONS REACHED LIMIT.\n",
      "\n",
      "Increase the number of iterations (max_iter) or scale the data as shown in:\n",
      "    https://scikit-learn.org/stable/modules/preprocessing.html\n",
      "Please also refer to the documentation for alternative solver options:\n",
      "    https://scikit-learn.org/stable/modules/linear_model.html#logistic-regression\n",
      "  n_iter_i = _check_optimize_result(\n",
      "/opt/conda/lib/python3.9/site-packages/sklearn/linear_model/_logistic.py:763: ConvergenceWarning: lbfgs failed to converge (status=1):\n",
      "STOP: TOTAL NO. of ITERATIONS REACHED LIMIT.\n",
      "\n",
      "Increase the number of iterations (max_iter) or scale the data as shown in:\n",
      "    https://scikit-learn.org/stable/modules/preprocessing.html\n",
      "Please also refer to the documentation for alternative solver options:\n",
      "    https://scikit-learn.org/stable/modules/linear_model.html#logistic-regression\n",
      "  n_iter_i = _check_optimize_result(\n",
      "/opt/conda/lib/python3.9/site-packages/sklearn/linear_model/_logistic.py:763: ConvergenceWarning: lbfgs failed to converge (status=1):\n",
      "STOP: TOTAL NO. of ITERATIONS REACHED LIMIT.\n",
      "\n",
      "Increase the number of iterations (max_iter) or scale the data as shown in:\n",
      "    https://scikit-learn.org/stable/modules/preprocessing.html\n",
      "Please also refer to the documentation for alternative solver options:\n",
      "    https://scikit-learn.org/stable/modules/linear_model.html#logistic-regression\n",
      "  n_iter_i = _check_optimize_result(\n",
      "/opt/conda/lib/python3.9/site-packages/sklearn/linear_model/_logistic.py:763: ConvergenceWarning: lbfgs failed to converge (status=1):\n",
      "STOP: TOTAL NO. of ITERATIONS REACHED LIMIT.\n",
      "\n",
      "Increase the number of iterations (max_iter) or scale the data as shown in:\n",
      "    https://scikit-learn.org/stable/modules/preprocessing.html\n",
      "Please also refer to the documentation for alternative solver options:\n",
      "    https://scikit-learn.org/stable/modules/linear_model.html#logistic-regression\n",
      "  n_iter_i = _check_optimize_result(\n",
      "/opt/conda/lib/python3.9/site-packages/sklearn/linear_model/_logistic.py:763: ConvergenceWarning: lbfgs failed to converge (status=1):\n",
      "STOP: TOTAL NO. of ITERATIONS REACHED LIMIT.\n",
      "\n",
      "Increase the number of iterations (max_iter) or scale the data as shown in:\n",
      "    https://scikit-learn.org/stable/modules/preprocessing.html\n",
      "Please also refer to the documentation for alternative solver options:\n",
      "    https://scikit-learn.org/stable/modules/linear_model.html#logistic-regression\n",
      "  n_iter_i = _check_optimize_result(\n",
      "/opt/conda/lib/python3.9/site-packages/sklearn/linear_model/_logistic.py:763: ConvergenceWarning: lbfgs failed to converge (status=1):\n",
      "STOP: TOTAL NO. of ITERATIONS REACHED LIMIT.\n",
      "\n",
      "Increase the number of iterations (max_iter) or scale the data as shown in:\n",
      "    https://scikit-learn.org/stable/modules/preprocessing.html\n",
      "Please also refer to the documentation for alternative solver options:\n",
      "    https://scikit-learn.org/stable/modules/linear_model.html#logistic-regression\n",
      "  n_iter_i = _check_optimize_result(\n",
      "/opt/conda/lib/python3.9/site-packages/sklearn/linear_model/_logistic.py:763: ConvergenceWarning: lbfgs failed to converge (status=1):\n",
      "STOP: TOTAL NO. of ITERATIONS REACHED LIMIT.\n",
      "\n",
      "Increase the number of iterations (max_iter) or scale the data as shown in:\n",
      "    https://scikit-learn.org/stable/modules/preprocessing.html\n",
      "Please also refer to the documentation for alternative solver options:\n",
      "    https://scikit-learn.org/stable/modules/linear_model.html#logistic-regression\n",
      "  n_iter_i = _check_optimize_result(\n",
      "/opt/conda/lib/python3.9/site-packages/sklearn/linear_model/_logistic.py:763: ConvergenceWarning: lbfgs failed to converge (status=1):\n",
      "STOP: TOTAL NO. of ITERATIONS REACHED LIMIT.\n",
      "\n",
      "Increase the number of iterations (max_iter) or scale the data as shown in:\n",
      "    https://scikit-learn.org/stable/modules/preprocessing.html\n",
      "Please also refer to the documentation for alternative solver options:\n",
      "    https://scikit-learn.org/stable/modules/linear_model.html#logistic-regression\n",
      "  n_iter_i = _check_optimize_result(\n",
      "/opt/conda/lib/python3.9/site-packages/sklearn/linear_model/_logistic.py:763: ConvergenceWarning: lbfgs failed to converge (status=1):\n",
      "STOP: TOTAL NO. of ITERATIONS REACHED LIMIT.\n",
      "\n",
      "Increase the number of iterations (max_iter) or scale the data as shown in:\n",
      "    https://scikit-learn.org/stable/modules/preprocessing.html\n",
      "Please also refer to the documentation for alternative solver options:\n",
      "    https://scikit-learn.org/stable/modules/linear_model.html#logistic-regression\n",
      "  n_iter_i = _check_optimize_result(\n",
      "/opt/conda/lib/python3.9/site-packages/sklearn/linear_model/_logistic.py:763: ConvergenceWarning: lbfgs failed to converge (status=1):\n",
      "STOP: TOTAL NO. of ITERATIONS REACHED LIMIT.\n",
      "\n",
      "Increase the number of iterations (max_iter) or scale the data as shown in:\n",
      "    https://scikit-learn.org/stable/modules/preprocessing.html\n",
      "Please also refer to the documentation for alternative solver options:\n",
      "    https://scikit-learn.org/stable/modules/linear_model.html#logistic-regression\n",
      "  n_iter_i = _check_optimize_result(\n"
     ]
    },
    {
     "data": {
      "text/plain": [
       "RandomizedSearchCV(cv=5,\n",
       "                   estimator=Pipeline(steps=[('vect',\n",
       "                                              TfidfVectorizer(stop_words=['i',\n",
       "                                                                          'me',\n",
       "                                                                          'my',\n",
       "                                                                          'myself',\n",
       "                                                                          'we',\n",
       "                                                                          'our',\n",
       "                                                                          'ours',\n",
       "                                                                          'ourselves',\n",
       "                                                                          'you',\n",
       "                                                                          \"you're\",\n",
       "                                                                          \"you've\",\n",
       "                                                                          \"you'll\",\n",
       "                                                                          \"you'd\",\n",
       "                                                                          'your',\n",
       "                                                                          'yours',\n",
       "                                                                          'yourself',\n",
       "                                                                          'yourselves',\n",
       "                                                                          'he',\n",
       "                                                                          'him',\n",
       "                                                                          'his',\n",
       "                                                                          'himself',\n",
       "                                                                          'she',\n",
       "                                                                          \"she's\",\n",
       "                                                                          'her',\n",
       "                                                                          'hers',\n",
       "                                                                          'herself',\n",
       "                                                                          'it',\n",
       "                                                                          \"it's\",\n",
       "                                                                          'its',\n",
       "                                                                          'itself', ...])),\n",
       "                                             ('clf',\n",
       "                                              LogisticRegression(class_weight='balanced'))]),\n",
       "                   param_distributions={'clf__C': [0.001, 0.01, 0.1, 1, 5, 10],\n",
       "                                        'vect__norm': ('l1', 'l2')},\n",
       "                   refit='F1', return_train_score=True,\n",
       "                   scoring={'AUC': 'roc_auc', 'F1': 'f1'})"
      ]
     },
     "execution_count": 23,
     "metadata": {},
     "output_type": "execute_result"
    }
   ],
   "source": [
    "model_LR = RandomizedSearchCV(\n",
    "    estimator=pipeline_LR, \n",
    "    cv=5,\n",
    "    scoring=scoring, \n",
    "    param_distributions=grid_values_LR,\n",
    "    return_train_score=True,\n",
    "    refit=\"F1\")\n",
    "\n",
    "model_LR.fit(corpus_train, y_train)"
   ]
  },
  {
   "cell_type": "code",
   "execution_count": 24,
   "metadata": {},
   "outputs": [],
   "source": [
    "info_LR = [model_LR.cv_results_['mean_train_F1'].mean(), model_LR.cv_results_['mean_train_AUC'].mean()]"
   ]
  },
  {
   "cell_type": "markdown",
   "metadata": {},
   "source": [
    "### DecisionTreeClassifier"
   ]
  },
  {
   "cell_type": "code",
   "execution_count": 25,
   "metadata": {},
   "outputs": [],
   "source": [
    "pipeline_DT = Pipeline(\n",
    "[\n",
    "        (\"vect\", TfidfVectorizer(stop_words=stoplist)),\n",
    "        (\"clf\", DecisionTreeClassifier(random_state=42)),\n",
    "    ]\n",
    ")"
   ]
  },
  {
   "cell_type": "code",
   "execution_count": 26,
   "metadata": {},
   "outputs": [],
   "source": [
    "grid_values_DT = {\n",
    "    \"vect__norm\": (\"l1\", \"l2\"),\n",
    "    \"clf__max_depth\": range(5, 10), \n",
    "    \"clf__max_features\": range(5, 10)\n",
    "}"
   ]
  },
  {
   "cell_type": "code",
   "execution_count": 27,
   "metadata": {},
   "outputs": [
    {
     "data": {
      "text/plain": [
       "RandomizedSearchCV(cv=5,\n",
       "                   estimator=Pipeline(steps=[('vect',\n",
       "                                              TfidfVectorizer(stop_words=['i',\n",
       "                                                                          'me',\n",
       "                                                                          'my',\n",
       "                                                                          'myself',\n",
       "                                                                          'we',\n",
       "                                                                          'our',\n",
       "                                                                          'ours',\n",
       "                                                                          'ourselves',\n",
       "                                                                          'you',\n",
       "                                                                          \"you're\",\n",
       "                                                                          \"you've\",\n",
       "                                                                          \"you'll\",\n",
       "                                                                          \"you'd\",\n",
       "                                                                          'your',\n",
       "                                                                          'yours',\n",
       "                                                                          'yourself',\n",
       "                                                                          'yourselves',\n",
       "                                                                          'he',\n",
       "                                                                          'him',\n",
       "                                                                          'his',\n",
       "                                                                          'himself',\n",
       "                                                                          'she',\n",
       "                                                                          \"she's\",\n",
       "                                                                          'her',\n",
       "                                                                          'hers',\n",
       "                                                                          'herself',\n",
       "                                                                          'it',\n",
       "                                                                          \"it's\",\n",
       "                                                                          'its',\n",
       "                                                                          'itself', ...])),\n",
       "                                             ('clf',\n",
       "                                              DecisionTreeClassifier(random_state=42))]),\n",
       "                   n_iter=12,\n",
       "                   param_distributions={'clf__max_depth': range(5, 10),\n",
       "                                        'clf__max_features': range(5, 10),\n",
       "                                        'vect__norm': ('l1', 'l2')},\n",
       "                   refit='F1', return_train_score=True,\n",
       "                   scoring={'AUC': 'roc_auc', 'F1': 'f1'})"
      ]
     },
     "execution_count": 27,
     "metadata": {},
     "output_type": "execute_result"
    }
   ],
   "source": [
    "model_DT = RandomizedSearchCV(\n",
    "    estimator=pipeline_DT, \n",
    "    cv=5,\n",
    "    n_iter=12,\n",
    "    scoring=scoring, \n",
    "    param_distributions=grid_values_DT,\n",
    "    return_train_score=True,\n",
    "    refit=\"F1\")\n",
    "\n",
    "model_DT.fit(corpus_train, y_train)"
   ]
  },
  {
   "cell_type": "code",
   "execution_count": 28,
   "metadata": {},
   "outputs": [],
   "source": [
    "info_DT = [model_DT.cv_results_['mean_train_F1'].mean(), model_DT.cv_results_['mean_train_AUC'].mean()]"
   ]
  },
  {
   "cell_type": "markdown",
   "metadata": {},
   "source": [
    "### Выбор модели"
   ]
  },
  {
   "cell_type": "code",
   "execution_count": 29,
   "metadata": {},
   "outputs": [
    {
     "data": {
      "text/html": [
       "<div>\n",
       "<style scoped>\n",
       "    .dataframe tbody tr th:only-of-type {\n",
       "        vertical-align: middle;\n",
       "    }\n",
       "\n",
       "    .dataframe tbody tr th {\n",
       "        vertical-align: top;\n",
       "    }\n",
       "\n",
       "    .dataframe thead th {\n",
       "        text-align: right;\n",
       "    }\n",
       "</style>\n",
       "<table border=\"1\" class=\"dataframe\">\n",
       "  <thead>\n",
       "    <tr style=\"text-align: right;\">\n",
       "      <th></th>\n",
       "      <th>f1_score</th>\n",
       "      <th>ROC-AUC</th>\n",
       "    </tr>\n",
       "  </thead>\n",
       "  <tbody>\n",
       "    <tr>\n",
       "      <th>LogisticRegression</th>\n",
       "      <td>0.754754</td>\n",
       "      <td>0.964491</td>\n",
       "    </tr>\n",
       "    <tr>\n",
       "      <th>DummyClassifier</th>\n",
       "      <td>0.099211</td>\n",
       "      <td>0.501708</td>\n",
       "    </tr>\n",
       "    <tr>\n",
       "      <th>DecisionTreeClassifier</th>\n",
       "      <td>0.002251</td>\n",
       "      <td>0.501292</td>\n",
       "    </tr>\n",
       "  </tbody>\n",
       "</table>\n",
       "</div>"
      ],
      "text/plain": [
       "                        f1_score   ROC-AUC\n",
       "LogisticRegression      0.754754  0.964491\n",
       "DummyClassifier         0.099211  0.501708\n",
       "DecisionTreeClassifier  0.002251  0.501292"
      ]
     },
     "execution_count": 29,
     "metadata": {},
     "output_type": "execute_result"
    }
   ],
   "source": [
    "result = pd.DataFrame(data=[info_DC, info_LR, info_DT], \n",
    "                      index=[\"DummyClassifier\", \"LogisticRegression\", \"DecisionTreeClassifier\"], \n",
    "                      columns=[\"f1_score\", \"ROC-AUC\"])\n",
    "result.sort_values('f1_score', ascending=False)"
   ]
  },
  {
   "cell_type": "code",
   "execution_count": 30,
   "metadata": {
    "scrolled": false
   },
   "outputs": [
    {
     "data": {
      "text/plain": [
       "Pipeline(steps=[('vect',\n",
       "                 TfidfVectorizer(stop_words=['i', 'me', 'my', 'myself', 'we',\n",
       "                                             'our', 'ours', 'ourselves', 'you',\n",
       "                                             \"you're\", \"you've\", \"you'll\",\n",
       "                                             \"you'd\", 'your', 'yours',\n",
       "                                             'yourself', 'yourselves', 'he',\n",
       "                                             'him', 'his', 'himself', 'she',\n",
       "                                             \"she's\", 'her', 'hers', 'herself',\n",
       "                                             'it', \"it's\", 'its', 'itself', ...])),\n",
       "                ('clf', LogisticRegression(C=10, class_weight='balanced'))])"
      ]
     },
     "execution_count": 30,
     "metadata": {},
     "output_type": "execute_result"
    }
   ],
   "source": [
    "model_LR.best_estimator_"
   ]
  },
  {
   "cell_type": "markdown",
   "metadata": {},
   "source": [
    "## Выводы"
   ]
  },
  {
   "cell_type": "code",
   "execution_count": 39,
   "metadata": {},
   "outputs": [
    {
     "name": "stdout",
     "output_type": "stream",
     "text": [
      "F1:  0.77\n",
      "ROC-AUC:  0.9\n"
     ]
    }
   ],
   "source": [
    "y_pred = model_LR.predict(corpus_test)\n",
    "print(\"F1: \", round(f1_score(y_test, y_pred), 2))\n",
    "print(\"ROC-AUC: \", round(roc_auc_score(y_test, y_pred), 2))"
   ]
  },
  {
   "cell_type": "markdown",
   "metadata": {},
   "source": [
    "- Подобрана лучшая модель: **LogisticRegression(C=10, class_weight='balanced')**\n",
    "- На тестовой выборке результат: f1 = 0.77; ROC-AUC = 0.9\n",
    "- На кросс-валидации лучший результат: f1 = 0.75; ROC-AUC = 0.96\n",
    "- Рассматривались три модели: DummyClassifier, LogisticRegression, DecisionTreeClassifier\n",
    "- Подбор параметров производился с помощью RandomizedSearchCV\n",
    "- Предварительно была проведена предобработка данных:\n",
    "    - Проверка на дубликаты\n",
    "    - Проверка на пропуски\n",
    "    - Проверка на соответствие типам данных\n",
    "- Изначальный текст был подготовлен к обучению моделей:\n",
    "    - Текст переведен в нижний регистр\n",
    "    - Удалены лишние символы\n",
    "    - Проведена лемматизация и токкенизация с помощью spacy\n",
    "    - Выявлен дисбаланс классов"
   ]
  }
 ],
 "metadata": {
  "ExecuteTimeLog": [
   {
    "duration": 2063,
    "start_time": "2024-09-05T07:32:38.302Z"
   },
   {
    "duration": 162,
    "start_time": "2024-09-05T07:33:29.956Z"
   },
   {
    "duration": 4012,
    "start_time": "2024-09-05T07:33:49.418Z"
   },
   {
    "duration": 34,
    "start_time": "2024-09-05T07:34:03.534Z"
   },
   {
    "duration": 240,
    "start_time": "2024-09-05T07:34:14.146Z"
   },
   {
    "duration": 9,
    "start_time": "2024-09-05T07:34:44.104Z"
   },
   {
    "duration": 908,
    "start_time": "2024-09-05T07:34:50.264Z"
   },
   {
    "duration": 7,
    "start_time": "2024-09-05T07:34:51.173Z"
   },
   {
    "duration": 33,
    "start_time": "2024-09-05T07:34:53.143Z"
   },
   {
    "duration": 232,
    "start_time": "2024-09-05T07:34:53.494Z"
   },
   {
    "duration": 4,
    "start_time": "2024-09-05T07:34:55.150Z"
   },
   {
    "duration": 1461,
    "start_time": "2024-09-05T07:34:56.590Z"
   },
   {
    "duration": 15,
    "start_time": "2024-09-05T07:35:20.487Z"
   },
   {
    "duration": 4,
    "start_time": "2024-09-05T07:35:24.533Z"
   },
   {
    "duration": 272,
    "start_time": "2024-09-05T07:35:24.691Z"
   },
   {
    "duration": 4,
    "start_time": "2024-09-05T07:35:48.910Z"
   },
   {
    "duration": 5,
    "start_time": "2024-09-05T07:36:04.493Z"
   },
   {
    "duration": 187405,
    "start_time": "2024-09-05T07:36:05.728Z"
   },
   {
    "duration": 3311,
    "start_time": "2024-09-07T13:05:49.625Z"
   },
   {
    "duration": 207,
    "start_time": "2024-09-07T13:05:57.886Z"
   },
   {
    "duration": 4049,
    "start_time": "2024-09-07T13:06:05.465Z"
   },
   {
    "duration": 2816,
    "start_time": "2024-09-07T13:07:58.828Z"
   },
   {
    "duration": 1032,
    "start_time": "2024-09-07T13:08:01.646Z"
   },
   {
    "duration": 14,
    "start_time": "2024-09-07T13:08:02.680Z"
   },
   {
    "duration": 37,
    "start_time": "2024-09-07T13:08:02.708Z"
   },
   {
    "duration": 244,
    "start_time": "2024-09-07T13:08:02.746Z"
   },
   {
    "duration": 4,
    "start_time": "2024-09-07T13:08:02.992Z"
   },
   {
    "duration": 104970,
    "start_time": "2024-09-07T13:08:02.997Z"
   },
   {
    "duration": 535,
    "start_time": "2024-09-07T13:09:47.968Z"
   },
   {
    "duration": 195,
    "start_time": "2024-09-07T13:09:48.507Z"
   },
   {
    "duration": 14150,
    "start_time": "2024-09-07T13:09:48.712Z"
   },
   {
    "duration": 821486,
    "start_time": "2024-09-07T13:10:02.863Z"
   },
   {
    "duration": 0,
    "start_time": "2024-09-07T13:23:44.351Z"
   },
   {
    "duration": 0,
    "start_time": "2024-09-07T13:23:44.353Z"
   },
   {
    "duration": 0,
    "start_time": "2024-09-07T13:23:44.353Z"
   },
   {
    "duration": 887047,
    "start_time": "2024-09-07T13:23:53.695Z"
   },
   {
    "duration": 0,
    "start_time": "2024-09-07T13:38:40.744Z"
   },
   {
    "duration": 0,
    "start_time": "2024-09-07T13:38:40.745Z"
   },
   {
    "duration": 0,
    "start_time": "2024-09-07T13:38:40.746Z"
   },
   {
    "duration": 1026803,
    "start_time": "2024-09-07T13:38:52.107Z"
   },
   {
    "duration": 3725,
    "start_time": "2024-09-09T11:41:47.273Z"
   },
   {
    "duration": 1632,
    "start_time": "2024-09-09T11:41:51.001Z"
   },
   {
    "duration": 16,
    "start_time": "2024-09-09T11:41:52.635Z"
   },
   {
    "duration": 44,
    "start_time": "2024-09-09T11:41:52.652Z"
   },
   {
    "duration": 327,
    "start_time": "2024-09-09T11:41:52.700Z"
   },
   {
    "duration": 5,
    "start_time": "2024-09-09T11:41:53.030Z"
   },
   {
    "duration": 107625,
    "start_time": "2024-09-09T11:41:53.043Z"
   },
   {
    "duration": 583,
    "start_time": "2024-09-09T11:43:40.670Z"
   },
   {
    "duration": 200,
    "start_time": "2024-09-09T11:43:41.256Z"
   },
   {
    "duration": 13795,
    "start_time": "2024-09-09T11:43:41.458Z"
   },
   {
    "duration": 136379,
    "start_time": "2024-09-09T11:43:55.265Z"
   },
   {
    "duration": 0,
    "start_time": "2024-09-09T11:46:11.652Z"
   },
   {
    "duration": 0,
    "start_time": "2024-09-09T11:46:11.653Z"
   },
   {
    "duration": 0,
    "start_time": "2024-09-09T11:46:11.653Z"
   },
   {
    "duration": 239339,
    "start_time": "2024-09-09T11:46:15.663Z"
   },
   {
    "duration": 0,
    "start_time": "2024-09-09T11:50:15.004Z"
   },
   {
    "duration": 0,
    "start_time": "2024-09-09T11:50:15.045Z"
   },
   {
    "duration": 13,
    "start_time": "2024-09-09T11:50:27.285Z"
   },
   {
    "duration": 846595,
    "start_time": "2024-09-09T11:50:47.254Z"
   },
   {
    "duration": 4,
    "start_time": "2024-09-09T12:04:53.851Z"
   },
   {
    "duration": 32,
    "start_time": "2024-09-09T12:05:06.846Z"
   },
   {
    "duration": 12,
    "start_time": "2024-09-09T12:06:09.122Z"
   },
   {
    "duration": 31,
    "start_time": "2024-09-09T12:06:43.681Z"
   },
   {
    "duration": 14,
    "start_time": "2024-09-09T12:06:49.765Z"
   },
   {
    "duration": 18,
    "start_time": "2024-09-09T12:06:57.167Z"
   },
   {
    "duration": 4,
    "start_time": "2024-09-09T12:08:12.882Z"
   },
   {
    "duration": 6,
    "start_time": "2024-09-09T12:08:19.321Z"
   },
   {
    "duration": 3,
    "start_time": "2024-09-09T12:08:25.507Z"
   },
   {
    "duration": 12,
    "start_time": "2024-09-09T12:08:56.748Z"
   },
   {
    "duration": 12,
    "start_time": "2024-09-09T12:09:12.194Z"
   },
   {
    "duration": 19,
    "start_time": "2024-09-09T12:09:22.402Z"
   },
   {
    "duration": 21,
    "start_time": "2024-09-09T12:09:46.969Z"
   },
   {
    "duration": 20,
    "start_time": "2024-09-09T12:10:10.557Z"
   },
   {
    "duration": 35,
    "start_time": "2024-09-09T12:10:32.956Z"
   },
   {
    "duration": 33,
    "start_time": "2024-09-09T12:10:57.160Z"
   },
   {
    "duration": 30,
    "start_time": "2024-09-09T12:12:07.675Z"
   },
   {
    "duration": 2204,
    "start_time": "2024-09-09T12:13:44.051Z"
   },
   {
    "duration": 39,
    "start_time": "2024-09-09T12:13:48.556Z"
   },
   {
    "duration": 14,
    "start_time": "2024-09-09T12:18:05.202Z"
   },
   {
    "duration": 27,
    "start_time": "2024-09-09T12:18:36.247Z"
   },
   {
    "duration": 14,
    "start_time": "2024-09-09T12:18:40.794Z"
   },
   {
    "duration": 6,
    "start_time": "2024-09-09T12:18:53.010Z"
   },
   {
    "duration": 72,
    "start_time": "2024-09-09T12:22:15.035Z"
   },
   {
    "duration": 2953,
    "start_time": "2024-09-09T12:22:22.195Z"
   },
   {
    "duration": 127,
    "start_time": "2024-09-09T12:22:28.674Z"
   },
   {
    "duration": 2859,
    "start_time": "2024-09-09T12:27:51.724Z"
   },
   {
    "duration": 1340,
    "start_time": "2024-09-09T12:27:54.585Z"
   },
   {
    "duration": 13,
    "start_time": "2024-09-09T12:27:55.926Z"
   },
   {
    "duration": 28,
    "start_time": "2024-09-09T12:27:55.941Z"
   },
   {
    "duration": 236,
    "start_time": "2024-09-09T12:27:55.971Z"
   },
   {
    "duration": 3,
    "start_time": "2024-09-09T12:27:56.209Z"
   },
   {
    "duration": 100094,
    "start_time": "2024-09-09T12:27:56.214Z"
   },
   {
    "duration": 323,
    "start_time": "2024-09-09T12:29:36.309Z"
   },
   {
    "duration": 145,
    "start_time": "2024-09-09T12:29:36.633Z"
   },
   {
    "duration": 12740,
    "start_time": "2024-09-09T12:29:36.781Z"
   },
   {
    "duration": 35,
    "start_time": "2024-09-09T12:29:49.523Z"
   },
   {
    "duration": 808217,
    "start_time": "2024-09-09T12:29:49.562Z"
   },
   {
    "duration": 117,
    "start_time": "2024-09-09T12:43:17.856Z"
   },
   {
    "duration": 2431,
    "start_time": "2024-09-09T12:43:17.976Z"
   },
   {
    "duration": 50,
    "start_time": "2024-09-09T12:43:20.408Z"
   },
   {
    "duration": 9,
    "start_time": "2024-09-09T12:43:20.466Z"
   },
   {
    "duration": 69,
    "start_time": "2024-09-09T12:43:20.480Z"
   },
   {
    "duration": 14,
    "start_time": "2024-09-09T12:43:20.551Z"
   },
   {
    "duration": 15,
    "start_time": "2024-09-09T13:15:41.323Z"
   },
   {
    "duration": 6,
    "start_time": "2024-09-09T13:15:43.843Z"
   },
   {
    "duration": 63,
    "start_time": "2024-09-09T13:15:44.186Z"
   },
   {
    "duration": 9,
    "start_time": "2024-09-09T13:15:44.522Z"
   },
   {
    "duration": 3,
    "start_time": "2024-09-09T13:15:57.602Z"
   },
   {
    "duration": 79,
    "start_time": "2024-09-09T13:15:57.867Z"
   },
   {
    "duration": 9,
    "start_time": "2024-09-09T13:15:58.124Z"
   },
   {
    "duration": 15143,
    "start_time": "2024-09-09T13:16:26.987Z"
   },
   {
    "duration": 37,
    "start_time": "2024-09-09T13:16:42.132Z"
   },
   {
    "duration": 4,
    "start_time": "2024-09-09T13:16:42.171Z"
   },
   {
    "duration": 70,
    "start_time": "2024-09-09T13:16:42.177Z"
   },
   {
    "duration": 12,
    "start_time": "2024-09-09T13:16:42.249Z"
   },
   {
    "duration": 11,
    "start_time": "2024-09-09T13:17:02.637Z"
   },
   {
    "duration": 13,
    "start_time": "2024-09-09T13:17:17.128Z"
   },
   {
    "duration": 3027,
    "start_time": "2024-09-10T06:56:11.284Z"
   },
   {
    "duration": 5872,
    "start_time": "2024-09-10T06:56:18.799Z"
   },
   {
    "duration": 582,
    "start_time": "2024-09-10T06:57:14.899Z"
   },
   {
    "duration": 336,
    "start_time": "2024-09-10T06:58:30.904Z"
   },
   {
    "duration": 565,
    "start_time": "2024-09-10T06:58:37.220Z"
   },
   {
    "duration": 1361,
    "start_time": "2024-09-10T06:58:37.790Z"
   },
   {
    "duration": 17,
    "start_time": "2024-09-10T06:58:39.153Z"
   },
   {
    "duration": 31,
    "start_time": "2024-09-10T06:58:39.172Z"
   },
   {
    "duration": 262,
    "start_time": "2024-09-10T06:58:39.206Z"
   },
   {
    "duration": 4,
    "start_time": "2024-09-10T06:58:39.470Z"
   },
   {
    "duration": 544239,
    "start_time": "2024-09-10T06:58:39.475Z"
   },
   {
    "duration": 0,
    "start_time": "2024-09-10T07:07:43.717Z"
   },
   {
    "duration": 20,
    "start_time": "2024-09-10T07:07:47.139Z"
   },
   {
    "duration": 5587,
    "start_time": "2024-09-10T07:08:31.945Z"
   },
   {
    "duration": 985,
    "start_time": "2024-09-10T07:08:37.534Z"
   },
   {
    "duration": 15,
    "start_time": "2024-09-10T07:08:38.521Z"
   },
   {
    "duration": 39,
    "start_time": "2024-09-10T07:08:38.537Z"
   },
   {
    "duration": 242,
    "start_time": "2024-09-10T07:08:38.579Z"
   },
   {
    "duration": 4,
    "start_time": "2024-09-10T07:08:38.823Z"
   },
   {
    "duration": 1219830,
    "start_time": "2024-09-10T07:08:38.828Z"
   },
   {
    "duration": 0,
    "start_time": "2024-09-10T07:28:58.661Z"
   },
   {
    "duration": 0,
    "start_time": "2024-09-10T07:28:58.662Z"
   },
   {
    "duration": 0,
    "start_time": "2024-09-10T07:28:58.663Z"
   },
   {
    "duration": 0,
    "start_time": "2024-09-10T07:28:58.664Z"
   },
   {
    "duration": 1,
    "start_time": "2024-09-10T07:28:58.665Z"
   },
   {
    "duration": 0,
    "start_time": "2024-09-10T07:28:58.667Z"
   },
   {
    "duration": 0,
    "start_time": "2024-09-10T07:28:58.668Z"
   },
   {
    "duration": 0,
    "start_time": "2024-09-10T07:28:58.669Z"
   },
   {
    "duration": 0,
    "start_time": "2024-09-10T07:28:58.669Z"
   },
   {
    "duration": 0,
    "start_time": "2024-09-10T07:28:58.671Z"
   },
   {
    "duration": 0,
    "start_time": "2024-09-10T07:28:58.672Z"
   },
   {
    "duration": 0,
    "start_time": "2024-09-10T07:28:58.673Z"
   },
   {
    "duration": 5457,
    "start_time": "2024-09-10T07:31:19.108Z"
   },
   {
    "duration": 944,
    "start_time": "2024-09-10T07:31:24.567Z"
   },
   {
    "duration": 17,
    "start_time": "2024-09-10T07:31:25.513Z"
   },
   {
    "duration": 71,
    "start_time": "2024-09-10T07:31:25.532Z"
   },
   {
    "duration": 226,
    "start_time": "2024-09-10T07:31:25.605Z"
   },
   {
    "duration": 4,
    "start_time": "2024-09-10T07:31:25.832Z"
   },
   {
    "duration": 2336637,
    "start_time": "2024-09-10T07:31:25.837Z"
   },
   {
    "duration": 565,
    "start_time": "2024-09-10T08:10:22.476Z"
   },
   {
    "duration": 158,
    "start_time": "2024-09-10T08:10:23.043Z"
   },
   {
    "duration": 7,
    "start_time": "2024-09-10T08:10:23.203Z"
   },
   {
    "duration": 403,
    "start_time": "2024-09-10T08:10:23.211Z"
   },
   {
    "duration": 0,
    "start_time": "2024-09-10T08:10:23.616Z"
   },
   {
    "duration": 0,
    "start_time": "2024-09-10T08:10:23.617Z"
   },
   {
    "duration": 0,
    "start_time": "2024-09-10T08:10:23.620Z"
   },
   {
    "duration": 0,
    "start_time": "2024-09-10T08:10:23.621Z"
   },
   {
    "duration": 0,
    "start_time": "2024-09-10T08:10:23.622Z"
   },
   {
    "duration": 0,
    "start_time": "2024-09-10T08:10:23.624Z"
   },
   {
    "duration": 0,
    "start_time": "2024-09-10T08:10:23.625Z"
   },
   {
    "duration": 0,
    "start_time": "2024-09-10T08:10:23.626Z"
   },
   {
    "duration": 0,
    "start_time": "2024-09-10T08:10:23.627Z"
   },
   {
    "duration": 0,
    "start_time": "2024-09-10T08:10:23.628Z"
   },
   {
    "duration": 20,
    "start_time": "2024-09-10T08:13:21.252Z"
   },
   {
    "duration": 19,
    "start_time": "2024-09-10T08:13:42.831Z"
   },
   {
    "duration": 101,
    "start_time": "2024-09-10T08:16:45.631Z"
   },
   {
    "duration": 7,
    "start_time": "2024-09-10T08:16:48.951Z"
   },
   {
    "duration": 7,
    "start_time": "2024-09-10T08:17:35.941Z"
   },
   {
    "duration": 10,
    "start_time": "2024-09-10T08:17:47.111Z"
   },
   {
    "duration": 6,
    "start_time": "2024-09-10T08:17:56.712Z"
   },
   {
    "duration": 12,
    "start_time": "2024-09-10T08:18:01.712Z"
   },
   {
    "duration": 7,
    "start_time": "2024-09-10T08:18:14.499Z"
   },
   {
    "duration": 1837,
    "start_time": "2024-09-10T08:19:22.130Z"
   },
   {
    "duration": 13205,
    "start_time": "2024-09-10T08:19:31.419Z"
   },
   {
    "duration": 123,
    "start_time": "2024-09-10T08:21:01.112Z"
   },
   {
    "duration": 139,
    "start_time": "2024-09-10T08:21:31.508Z"
   },
   {
    "duration": 58,
    "start_time": "2024-09-10T08:21:57.450Z"
   },
   {
    "duration": 21,
    "start_time": "2024-09-10T08:22:38.431Z"
   },
   {
    "duration": 19,
    "start_time": "2024-09-10T08:22:45.392Z"
   },
   {
    "duration": 24,
    "start_time": "2024-09-10T08:23:03.738Z"
   },
   {
    "duration": 56,
    "start_time": "2024-09-10T08:23:11.231Z"
   },
   {
    "duration": 90,
    "start_time": "2024-09-10T08:24:23.971Z"
   },
   {
    "duration": 4,
    "start_time": "2024-09-10T08:24:59.919Z"
   },
   {
    "duration": 3,
    "start_time": "2024-09-10T08:25:00.612Z"
   },
   {
    "duration": 21,
    "start_time": "2024-09-10T08:25:01.331Z"
   },
   {
    "duration": 22,
    "start_time": "2024-09-10T08:25:32.227Z"
   },
   {
    "duration": 4873,
    "start_time": "2024-09-10T08:25:57.371Z"
   },
   {
    "duration": 23,
    "start_time": "2024-09-10T08:26:18.051Z"
   },
   {
    "duration": 5020,
    "start_time": "2024-09-10T08:26:40.853Z"
   },
   {
    "duration": 23,
    "start_time": "2024-09-10T08:27:01.779Z"
   },
   {
    "duration": 19,
    "start_time": "2024-09-10T08:27:40.200Z"
   },
   {
    "duration": 15,
    "start_time": "2024-09-10T08:28:21.019Z"
   },
   {
    "duration": 19,
    "start_time": "2024-09-10T08:29:09.292Z"
   },
   {
    "duration": 17,
    "start_time": "2024-09-10T08:29:12.591Z"
   },
   {
    "duration": 19,
    "start_time": "2024-09-10T08:29:22.731Z"
   },
   {
    "duration": 19,
    "start_time": "2024-09-10T08:30:01.431Z"
   },
   {
    "duration": 14,
    "start_time": "2024-09-10T08:30:05.519Z"
   },
   {
    "duration": 4,
    "start_time": "2024-09-10T08:32:51.251Z"
   },
   {
    "duration": 4,
    "start_time": "2024-09-10T08:33:02.651Z"
   },
   {
    "duration": 26,
    "start_time": "2024-09-10T08:33:58.632Z"
   },
   {
    "duration": 5040,
    "start_time": "2024-09-10T08:34:48.931Z"
   },
   {
    "duration": 18,
    "start_time": "2024-09-10T08:35:28.952Z"
   },
   {
    "duration": 20,
    "start_time": "2024-09-10T08:38:15.032Z"
   },
   {
    "duration": 20,
    "start_time": "2024-09-10T08:38:19.019Z"
   },
   {
    "duration": 25,
    "start_time": "2024-09-10T08:38:24.227Z"
   },
   {
    "duration": 27,
    "start_time": "2024-09-10T08:40:13.180Z"
   },
   {
    "duration": 19,
    "start_time": "2024-09-10T08:41:18.931Z"
   },
   {
    "duration": 21,
    "start_time": "2024-09-10T08:41:33.651Z"
   },
   {
    "duration": 4969,
    "start_time": "2024-09-10T08:43:10.079Z"
   },
   {
    "duration": 31,
    "start_time": "2024-09-10T08:43:31.931Z"
   },
   {
    "duration": 4,
    "start_time": "2024-09-10T08:44:09.571Z"
   },
   {
    "duration": 3019,
    "start_time": "2024-09-10T08:44:10.031Z"
   },
   {
    "duration": 23,
    "start_time": "2024-09-10T08:44:58.180Z"
   },
   {
    "duration": 3,
    "start_time": "2024-09-10T08:45:07.121Z"
   },
   {
    "duration": 3043,
    "start_time": "2024-09-10T08:45:07.651Z"
   },
   {
    "duration": 20,
    "start_time": "2024-09-10T08:45:12.580Z"
   },
   {
    "duration": 3117,
    "start_time": "2024-09-10T08:46:17.779Z"
   },
   {
    "duration": 1788,
    "start_time": "2024-09-10T08:46:29.019Z"
   },
   {
    "duration": 3152,
    "start_time": "2024-09-10T08:46:40.172Z"
   },
   {
    "duration": 7182,
    "start_time": "2024-09-10T09:33:31.722Z"
   },
   {
    "duration": 80,
    "start_time": "2024-09-10T09:33:55.549Z"
   },
   {
    "duration": 17116,
    "start_time": "2024-09-10T09:33:59.577Z"
   },
   {
    "duration": 973,
    "start_time": "2024-09-10T09:34:16.695Z"
   },
   {
    "duration": 11,
    "start_time": "2024-09-10T09:34:17.678Z"
   },
   {
    "duration": 51,
    "start_time": "2024-09-10T09:34:17.697Z"
   },
   {
    "duration": 236,
    "start_time": "2024-09-10T09:34:17.749Z"
   },
   {
    "duration": 4,
    "start_time": "2024-09-10T09:34:17.987Z"
   },
   {
    "duration": 2275572,
    "start_time": "2024-09-10T09:34:17.993Z"
   },
   {
    "duration": 303,
    "start_time": "2024-09-10T10:12:13.566Z"
   },
   {
    "duration": 97,
    "start_time": "2024-09-10T10:12:13.870Z"
   },
   {
    "duration": 10,
    "start_time": "2024-09-10T10:12:13.970Z"
   },
   {
    "duration": 4,
    "start_time": "2024-09-10T10:12:13.997Z"
   },
   {
    "duration": 7397,
    "start_time": "2024-09-10T10:28:47.608Z"
   },
   {
    "duration": 7515,
    "start_time": "2024-09-10T10:28:58.666Z"
   },
   {
    "duration": 3,
    "start_time": "2024-09-10T10:34:38.825Z"
   },
   {
    "duration": 4,
    "start_time": "2024-09-10T10:34:39.630Z"
   },
   {
    "duration": 452541,
    "start_time": "2024-09-10T10:34:51.759Z"
   },
   {
    "duration": 6630,
    "start_time": "2024-09-10T12:44:22.614Z"
   },
   {
    "duration": 1283,
    "start_time": "2024-09-10T12:44:29.245Z"
   },
   {
    "duration": 15,
    "start_time": "2024-09-10T12:44:30.529Z"
   },
   {
    "duration": 42,
    "start_time": "2024-09-10T12:44:30.545Z"
   },
   {
    "duration": 263,
    "start_time": "2024-09-10T12:44:30.589Z"
   },
   {
    "duration": 5,
    "start_time": "2024-09-10T12:44:30.853Z"
   },
   {
    "duration": 21366,
    "start_time": "2024-09-10T12:44:30.860Z"
   },
   {
    "duration": 0,
    "start_time": "2024-09-10T12:44:52.228Z"
   },
   {
    "duration": 0,
    "start_time": "2024-09-10T12:44:52.229Z"
   },
   {
    "duration": 0,
    "start_time": "2024-09-10T12:44:52.230Z"
   },
   {
    "duration": 0,
    "start_time": "2024-09-10T12:44:52.231Z"
   },
   {
    "duration": 0,
    "start_time": "2024-09-10T12:44:52.232Z"
   },
   {
    "duration": 0,
    "start_time": "2024-09-10T12:44:52.233Z"
   },
   {
    "duration": 0,
    "start_time": "2024-09-10T12:44:52.234Z"
   },
   {
    "duration": 0,
    "start_time": "2024-09-10T12:44:52.235Z"
   },
   {
    "duration": 2420967,
    "start_time": "2024-09-10T12:45:26.715Z"
   },
   {
    "duration": 579,
    "start_time": "2024-09-10T13:25:47.684Z"
   },
   {
    "duration": 161,
    "start_time": "2024-09-10T13:25:48.265Z"
   },
   {
    "duration": 9,
    "start_time": "2024-09-10T13:25:48.429Z"
   },
   {
    "duration": 7374,
    "start_time": "2024-09-10T13:25:48.440Z"
   },
   {
    "duration": 87,
    "start_time": "2024-09-10T13:25:55.816Z"
   },
   {
    "duration": 3,
    "start_time": "2024-09-10T13:25:55.905Z"
   },
   {
    "duration": 14,
    "start_time": "2024-09-10T13:25:55.909Z"
   },
   {
    "duration": 2685906,
    "start_time": "2024-09-10T13:25:55.924Z"
   },
   {
    "duration": 5,
    "start_time": "2024-09-10T15:31:15.077Z"
   },
   {
    "duration": 3,
    "start_time": "2024-09-10T15:31:15.930Z"
   },
   {
    "duration": 38,
    "start_time": "2024-09-10T15:31:16.435Z"
   },
   {
    "duration": 61,
    "start_time": "2024-09-10T15:31:47.056Z"
   },
   {
    "duration": 2,
    "start_time": "2024-09-10T15:32:51.813Z"
   },
   {
    "duration": 3855,
    "start_time": "2024-09-10T15:32:52.806Z"
   },
   {
    "duration": 3,
    "start_time": "2024-09-10T15:33:59.092Z"
   },
   {
    "duration": 6036,
    "start_time": "2024-09-10T15:33:59.986Z"
   },
   {
    "duration": 12,
    "start_time": "2024-09-10T15:34:40.107Z"
   },
   {
    "duration": 4,
    "start_time": "2024-09-10T15:34:58.551Z"
   },
   {
    "duration": 4,
    "start_time": "2024-09-10T15:35:17.325Z"
   },
   {
    "duration": 46,
    "start_time": "2024-09-10T17:35:51.098Z"
   },
   {
    "duration": 5551,
    "start_time": "2024-09-10T17:35:58.196Z"
   },
   {
    "duration": 3893,
    "start_time": "2024-09-10T17:36:03.749Z"
   },
   {
    "duration": 34,
    "start_time": "2024-09-10T17:36:07.644Z"
   },
   {
    "duration": 32,
    "start_time": "2024-09-10T17:36:07.679Z"
   },
   {
    "duration": 27,
    "start_time": "2024-09-10T17:36:07.713Z"
   },
   {
    "duration": 223,
    "start_time": "2024-09-10T17:36:07.742Z"
   },
   {
    "duration": 4,
    "start_time": "2024-09-10T17:36:07.967Z"
   },
   {
    "duration": 2197844,
    "start_time": "2024-09-10T17:36:07.972Z"
   },
   {
    "duration": 511,
    "start_time": "2024-09-10T18:12:45.818Z"
   },
   {
    "duration": 150,
    "start_time": "2024-09-10T18:12:46.331Z"
   },
   {
    "duration": 9,
    "start_time": "2024-09-10T18:12:46.483Z"
   },
   {
    "duration": 7317,
    "start_time": "2024-09-10T18:12:46.494Z"
   },
   {
    "duration": 94,
    "start_time": "2024-09-10T18:12:53.813Z"
   },
   {
    "duration": 3,
    "start_time": "2024-09-10T18:12:53.910Z"
   },
   {
    "duration": 13,
    "start_time": "2024-09-10T18:12:53.914Z"
   },
   {
    "duration": 1935,
    "start_time": "2024-09-10T18:12:53.929Z"
   },
   {
    "duration": 0,
    "start_time": "2024-09-10T18:12:55.865Z"
   },
   {
    "duration": 0,
    "start_time": "2024-09-10T18:12:55.867Z"
   },
   {
    "duration": 0,
    "start_time": "2024-09-10T18:12:55.868Z"
   },
   {
    "duration": 0,
    "start_time": "2024-09-10T18:12:55.869Z"
   },
   {
    "duration": 0,
    "start_time": "2024-09-10T18:12:55.871Z"
   },
   {
    "duration": 0,
    "start_time": "2024-09-10T18:12:55.872Z"
   },
   {
    "duration": 0,
    "start_time": "2024-09-10T18:12:55.873Z"
   },
   {
    "duration": 15198,
    "start_time": "2024-09-10T18:14:33.247Z"
   },
   {
    "duration": 736869,
    "start_time": "2024-09-10T18:14:53.529Z"
   },
   {
    "duration": 0,
    "start_time": "2024-09-10T18:27:10.400Z"
   },
   {
    "duration": 0,
    "start_time": "2024-09-10T18:27:10.401Z"
   },
   {
    "duration": 0,
    "start_time": "2024-09-10T18:27:10.402Z"
   },
   {
    "duration": 0,
    "start_time": "2024-09-10T18:27:10.403Z"
   },
   {
    "duration": 0,
    "start_time": "2024-09-10T18:27:10.404Z"
   },
   {
    "duration": 29151,
    "start_time": "2024-09-10T18:27:15.933Z"
   },
   {
    "duration": 2236859,
    "start_time": "2024-09-10T18:27:50.874Z"
   },
   {
    "duration": 5,
    "start_time": "2024-09-10T19:35:18.345Z"
   },
   {
    "duration": 4,
    "start_time": "2024-09-10T19:35:18.793Z"
   },
   {
    "duration": 3,
    "start_time": "2024-09-10T19:35:51.129Z"
   },
   {
    "duration": 3,
    "start_time": "2024-09-10T19:36:03.550Z"
   },
   {
    "duration": 3,
    "start_time": "2024-09-10T19:36:03.815Z"
   },
   {
    "duration": 1013418,
    "start_time": "2024-09-10T19:36:04.831Z"
   },
   {
    "duration": 744,
    "start_time": "2024-09-10T19:52:58.251Z"
   },
   {
    "duration": 3,
    "start_time": "2024-09-10T20:05:44.319Z"
   },
   {
    "duration": 112,
    "start_time": "2024-09-10T20:05:51.169Z"
   },
   {
    "duration": 179,
    "start_time": "2024-09-10T20:06:12.297Z"
   },
   {
    "duration": 176,
    "start_time": "2024-09-10T20:06:41.310Z"
   },
   {
    "duration": 25,
    "start_time": "2024-09-10T20:06:50.046Z"
   },
   {
    "duration": 184,
    "start_time": "2024-09-10T20:07:00.113Z"
   },
   {
    "duration": 3,
    "start_time": "2024-09-10T20:07:05.851Z"
   },
   {
    "duration": 3,
    "start_time": "2024-09-10T20:07:09.882Z"
   },
   {
    "duration": 10,
    "start_time": "2024-09-10T20:07:11.493Z"
   },
   {
    "duration": 3,
    "start_time": "2024-09-10T20:07:44.186Z"
   },
   {
    "duration": 8,
    "start_time": "2024-09-10T20:07:56.855Z"
   },
   {
    "duration": 30,
    "start_time": "2024-09-10T20:09:13.220Z"
   },
   {
    "duration": 30242,
    "start_time": "2024-09-10T20:09:42.611Z"
   },
   {
    "duration": 65,
    "start_time": "2024-09-10T20:10:50.298Z"
   },
   {
    "duration": 6019,
    "start_time": "2024-09-11T05:17:39.718Z"
   },
   {
    "duration": 3879,
    "start_time": "2024-09-11T05:17:45.739Z"
   },
   {
    "duration": 33,
    "start_time": "2024-09-11T05:17:49.620Z"
   },
   {
    "duration": 33,
    "start_time": "2024-09-11T05:17:49.655Z"
   },
   {
    "duration": 38,
    "start_time": "2024-09-11T05:17:49.691Z"
   },
   {
    "duration": 245,
    "start_time": "2024-09-11T05:17:49.730Z"
   },
   {
    "duration": 3,
    "start_time": "2024-09-11T05:17:49.977Z"
   },
   {
    "duration": 459434,
    "start_time": "2024-09-11T05:17:49.982Z"
   },
   {
    "duration": 0,
    "start_time": "2024-09-11T05:25:29.419Z"
   },
   {
    "duration": 0,
    "start_time": "2024-09-11T05:25:29.421Z"
   },
   {
    "duration": 0,
    "start_time": "2024-09-11T05:25:29.422Z"
   },
   {
    "duration": 0,
    "start_time": "2024-09-11T05:25:29.423Z"
   },
   {
    "duration": 0,
    "start_time": "2024-09-11T05:25:29.424Z"
   },
   {
    "duration": 0,
    "start_time": "2024-09-11T05:25:29.425Z"
   },
   {
    "duration": 0,
    "start_time": "2024-09-11T05:25:29.426Z"
   },
   {
    "duration": 0,
    "start_time": "2024-09-11T05:25:29.427Z"
   },
   {
    "duration": 0,
    "start_time": "2024-09-11T05:25:29.428Z"
   },
   {
    "duration": 0,
    "start_time": "2024-09-11T05:25:29.429Z"
   },
   {
    "duration": 0,
    "start_time": "2024-09-11T05:25:29.430Z"
   },
   {
    "duration": 0,
    "start_time": "2024-09-11T05:25:29.431Z"
   },
   {
    "duration": 0,
    "start_time": "2024-09-11T05:25:29.432Z"
   },
   {
    "duration": 0,
    "start_time": "2024-09-11T05:25:29.433Z"
   },
   {
    "duration": 0,
    "start_time": "2024-09-11T05:25:29.434Z"
   },
   {
    "duration": 0,
    "start_time": "2024-09-11T05:25:29.435Z"
   },
   {
    "duration": 1088747,
    "start_time": "2024-09-11T05:25:45.537Z"
   },
   {
    "duration": 529,
    "start_time": "2024-09-11T07:40:44.330Z"
   },
   {
    "duration": 209,
    "start_time": "2024-09-11T07:40:45.316Z"
   },
   {
    "duration": 10,
    "start_time": "2024-09-11T07:40:45.756Z"
   },
   {
    "duration": 7164,
    "start_time": "2024-09-11T07:40:49.606Z"
   },
   {
    "duration": 47,
    "start_time": "2024-09-11T07:40:56.772Z"
   },
   {
    "duration": 1,
    "start_time": "2024-09-11T07:40:56.820Z"
   },
   {
    "duration": 0,
    "start_time": "2024-09-11T07:40:56.822Z"
   },
   {
    "duration": 0,
    "start_time": "2024-09-11T07:40:56.823Z"
   },
   {
    "duration": 0,
    "start_time": "2024-09-11T07:40:56.824Z"
   },
   {
    "duration": 3,
    "start_time": "2024-09-11T07:40:57.864Z"
   },
   {
    "duration": 3,
    "start_time": "2024-09-11T07:40:58.122Z"
   },
   {
    "duration": 21,
    "start_time": "2024-09-11T07:40:58.370Z"
   },
   {
    "duration": 18,
    "start_time": "2024-09-11T07:40:58.586Z"
   },
   {
    "duration": 4,
    "start_time": "2024-09-11T07:41:25.941Z"
   },
   {
    "duration": 179,
    "start_time": "2024-09-11T07:41:27.144Z"
   },
   {
    "duration": 4,
    "start_time": "2024-09-11T07:41:29.317Z"
   },
   {
    "duration": 2,
    "start_time": "2024-09-11T07:41:29.506Z"
   },
   {
    "duration": 2028185,
    "start_time": "2024-09-11T07:41:30.336Z"
   },
   {
    "duration": 3,
    "start_time": "2024-09-11T08:15:18.523Z"
   },
   {
    "duration": 6,
    "start_time": "2024-09-11T08:15:18.528Z"
   },
   {
    "duration": 8,
    "start_time": "2024-09-11T08:15:18.536Z"
   },
   {
    "duration": 1073338,
    "start_time": "2024-09-11T08:15:18.546Z"
   },
   {
    "duration": 3,
    "start_time": "2024-09-11T08:33:11.886Z"
   },
   {
    "duration": 22,
    "start_time": "2024-09-11T08:33:11.891Z"
   },
   {
    "duration": 21,
    "start_time": "2024-09-11T08:33:11.914Z"
   },
   {
    "duration": 19,
    "start_time": "2024-09-11T08:33:11.937Z"
   },
   {
    "duration": 10,
    "start_time": "2024-09-11T09:34:39.913Z"
   },
   {
    "duration": 4,
    "start_time": "2024-09-11T09:34:44.617Z"
   },
   {
    "duration": 34,
    "start_time": "2024-09-11T09:37:20.164Z"
   },
   {
    "duration": 23,
    "start_time": "2024-09-11T09:37:33.140Z"
   },
   {
    "duration": 781,
    "start_time": "2024-09-11T09:38:11.405Z"
   },
   {
    "duration": 751,
    "start_time": "2024-09-11T09:38:16.155Z"
   },
   {
    "duration": 708,
    "start_time": "2024-09-11T09:38:56.844Z"
   },
   {
    "duration": 725,
    "start_time": "2024-09-11T09:39:41.304Z"
   },
   {
    "duration": 64,
    "start_time": "2024-09-11T09:40:45.946Z"
   }
  ],
  "kernelspec": {
   "display_name": "Python 3 (ipykernel)",
   "language": "python",
   "name": "python3"
  },
  "language_info": {
   "codemirror_mode": {
    "name": "ipython",
    "version": 3
   },
   "file_extension": ".py",
   "mimetype": "text/x-python",
   "name": "python",
   "nbconvert_exporter": "python",
   "pygments_lexer": "ipython3",
   "version": "3.11.3"
  },
  "toc": {
   "base_numbering": 1,
   "nav_menu": {},
   "number_sections": true,
   "sideBar": true,
   "skip_h1_title": true,
   "title_cell": "Содержание",
   "title_sidebar": "Contents",
   "toc_cell": true,
   "toc_position": {
    "height": "calc(100% - 180px)",
    "left": "10px",
    "top": "150px",
    "width": "302.391px"
   },
   "toc_section_display": true,
   "toc_window_display": false
  }
 },
 "nbformat": 4,
 "nbformat_minor": 2
}
